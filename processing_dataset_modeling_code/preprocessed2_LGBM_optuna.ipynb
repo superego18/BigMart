{
 "cells": [
  {
   "cell_type": "markdown",
   "metadata": {
    "id": "_-uTKCY8Fxy9"
   },
   "source": [
    "## Preprocessed 2 Data (로그 변환 O, PCA X)"
   ]
  },
  {
   "cell_type": "code",
   "execution_count": null,
   "metadata": {
    "id": "Hp0tznz8CfX9"
   },
   "outputs": [],
   "source": [
    "import pandas as pd\n",
    "import numpy as np\n",
    "import seaborn as sns\n",
    "import matplotlib.pyplot as plt\n",
    "import warnings\n",
    "%matplotlib inline\n",
    "warnings.filterwarnings('ignore')"
   ]
  },
  {
   "cell_type": "code",
   "execution_count": null,
   "metadata": {
    "id": "lnTCRI8JCz5N"
   },
   "outputs": [],
   "source": [
    "pd.set_option('display.max_colwidth', 1000, 'display.max_rows', None, 'display.max_columns', None)"
   ]
  },
  {
   "cell_type": "markdown",
   "metadata": {
    "id": "VQKeHO97F7wf"
   },
   "source": [
    "## 데이터 불러오기"
   ]
  },
  {
   "cell_type": "code",
   "execution_count": null,
   "metadata": {
    "colab": {
     "base_uri": "https://localhost:8080/"
    },
    "executionInfo": {
     "elapsed": 42068,
     "status": "ok",
     "timestamp": 1680056780447,
     "user": {
      "displayName": "황선경",
      "userId": "17888974404389374352"
     },
     "user_tz": -540
    },
    "id": "fx3EvknQLvlo",
    "outputId": "ada0be09-1ac3-453a-cf89-6d1335a946ca"
   },
   "outputs": [
    {
     "name": "stdout",
     "output_type": "stream",
     "text": [
      "Mounted at /content/drive\n"
     ]
    }
   ],
   "source": [
    "from google.colab import drive\n",
    "drive.mount('/content/drive')"
   ]
  },
  {
   "cell_type": "code",
   "execution_count": null,
   "metadata": {
    "colab": {
     "base_uri": "https://localhost:8080/"
    },
    "executionInfo": {
     "elapsed": 845,
     "status": "ok",
     "timestamp": 1680056813927,
     "user": {
      "displayName": "황선경",
      "userId": "17888974404389374352"
     },
     "user_tz": -540
    },
    "id": "CM4u7VaeC49l",
    "outputId": "50debe04-1f79-40e6-d262-50bb8e6a8222"
   },
   "outputs": [
    {
     "data": {
      "text/plain": [
       "Index(['Item_Weight', 'Item_Outlet_Sales', 'Item_Fat_Content_0',\n",
       "       'Item_Fat_Content_1', 'Outlet_Size_0', 'Outlet_Size_1',\n",
       "       'Outlet_Location_Type_0', 'Outlet_Location_Type_1', 'Outlet_Type_0',\n",
       "       'Outlet_Type_1', 'Outlet_Type_2', 'New_Item_Type_0', 'New_Item_Type_1',\n",
       "       'Outlet_0', 'Outlet_1', 'Outlet_2', 'Outlet_3', 'Outlet_4', 'Outlet_5',\n",
       "       'Outlet_6', 'Outlet_7', 'Outlet_8', 'Item_Type_0', 'Item_Type_1',\n",
       "       'Item_Type_2', 'Item_Type_3', 'Item_Type_4', 'Item_Type_5',\n",
       "       'Item_Type_6', 'Item_Type_7', 'Item_Type_8', 'Item_Type_9',\n",
       "       'Item_Type_10', 'Item_Type_11', 'Item_Type_12', 'Item_Type_13',\n",
       "       'Item_Type_14', 'log_Item_Visibility', 'Type1_Tear1', 'Type1_Tear2',\n",
       "       'log_Item_MRP', 'log_Outlet_Years'],\n",
       "      dtype='object')"
      ]
     },
     "execution_count": 3,
     "metadata": {},
     "output_type": "execute_result"
    }
   ],
   "source": [
    "df = pd.read_csv('drive/MyDrive/BigMart/Train_preprocessed10.csv')\n",
    "df.drop(['Unnamed: 0'],axis = 1,inplace = True)\n",
    "df.columns"
   ]
  },
  {
   "cell_type": "code",
   "execution_count": null,
   "metadata": {
    "id": "KPvd678FC7Gp"
   },
   "outputs": [],
   "source": [
    "X =df.drop(columns=['Item_Outlet_Sales'], axis=1)\n",
    "y =df['Item_Outlet_Sales']"
   ]
  },
  {
   "cell_type": "markdown",
   "metadata": {
    "id": "jEPP3rBiF-6g"
   },
   "source": [
    "## StandardScaler 표준화 시켜주기"
   ]
  },
  {
   "cell_type": "code",
   "execution_count": null,
   "metadata": {
    "colab": {
     "base_uri": "https://localhost:8080/",
     "height": 297
    },
    "executionInfo": {
     "elapsed": 412,
     "status": "ok",
     "timestamp": 1680056824777,
     "user": {
      "displayName": "황선경",
      "userId": "17888974404389374352"
     },
     "user_tz": -540
    },
    "id": "fU2f5zCnC9gt",
    "outputId": "4a7f171a-cf14-4e7c-8870-2815ede91f0f"
   },
   "outputs": [
    {
     "data": {
      "text/html": [
       "\n",
       "  <div id=\"df-db57c11b-6967-4096-8a1a-2a4269f91046\">\n",
       "    <div class=\"colab-df-container\">\n",
       "      <div>\n",
       "<style scoped>\n",
       "    .dataframe tbody tr th:only-of-type {\n",
       "        vertical-align: middle;\n",
       "    }\n",
       "\n",
       "    .dataframe tbody tr th {\n",
       "        vertical-align: top;\n",
       "    }\n",
       "\n",
       "    .dataframe thead th {\n",
       "        text-align: right;\n",
       "    }\n",
       "</style>\n",
       "<table border=\"1\" class=\"dataframe\">\n",
       "  <thead>\n",
       "    <tr style=\"text-align: right;\">\n",
       "      <th></th>\n",
       "      <th>Item_Weight</th>\n",
       "      <th>log_Item_Visibility</th>\n",
       "      <th>log_Item_MRP</th>\n",
       "      <th>log_Outlet_Years</th>\n",
       "      <th>Item_Fat_Content_0</th>\n",
       "      <th>Item_Fat_Content_1</th>\n",
       "      <th>Outlet_Size_0</th>\n",
       "      <th>Outlet_Size_1</th>\n",
       "      <th>Outlet_Location_Type_0</th>\n",
       "      <th>Outlet_Location_Type_1</th>\n",
       "      <th>...</th>\n",
       "      <th>Item_Type_7</th>\n",
       "      <th>Item_Type_8</th>\n",
       "      <th>Item_Type_9</th>\n",
       "      <th>Item_Type_10</th>\n",
       "      <th>Item_Type_11</th>\n",
       "      <th>Item_Type_12</th>\n",
       "      <th>Item_Type_13</th>\n",
       "      <th>Item_Type_14</th>\n",
       "      <th>Type1_Tear1</th>\n",
       "      <th>Type1_Tear2</th>\n",
       "    </tr>\n",
       "  </thead>\n",
       "  <tbody>\n",
       "    <tr>\n",
       "      <th>0</th>\n",
       "      <td>-0.769779</td>\n",
       "      <td>-1.147747</td>\n",
       "      <td>1.320465</td>\n",
       "      <td>0.132463</td>\n",
       "      <td>1</td>\n",
       "      <td>0</td>\n",
       "      <td>0</td>\n",
       "      <td>1</td>\n",
       "      <td>1</td>\n",
       "      <td>0</td>\n",
       "      <td>...</td>\n",
       "      <td>0</td>\n",
       "      <td>0</td>\n",
       "      <td>0</td>\n",
       "      <td>0</td>\n",
       "      <td>0</td>\n",
       "      <td>0</td>\n",
       "      <td>0</td>\n",
       "      <td>0</td>\n",
       "      <td>1</td>\n",
       "      <td>0</td>\n",
       "    </tr>\n",
       "    <tr>\n",
       "      <th>1</th>\n",
       "      <td>-1.497484</td>\n",
       "      <td>-1.076209</td>\n",
       "      <td>-1.806429</td>\n",
       "      <td>-1.790133</td>\n",
       "      <td>0</td>\n",
       "      <td>0</td>\n",
       "      <td>0</td>\n",
       "      <td>1</td>\n",
       "      <td>0</td>\n",
       "      <td>0</td>\n",
       "      <td>...</td>\n",
       "      <td>0</td>\n",
       "      <td>0</td>\n",
       "      <td>0</td>\n",
       "      <td>0</td>\n",
       "      <td>0</td>\n",
       "      <td>0</td>\n",
       "      <td>0</td>\n",
       "      <td>1</td>\n",
       "      <td>0</td>\n",
       "      <td>0</td>\n",
       "    </tr>\n",
       "    <tr>\n",
       "      <th>2</th>\n",
       "      <td>0.995661</td>\n",
       "      <td>-1.131945</td>\n",
       "      <td>0.235784</td>\n",
       "      <td>0.132463</td>\n",
       "      <td>1</td>\n",
       "      <td>0</td>\n",
       "      <td>0</td>\n",
       "      <td>1</td>\n",
       "      <td>1</td>\n",
       "      <td>0</td>\n",
       "      <td>...</td>\n",
       "      <td>0</td>\n",
       "      <td>0</td>\n",
       "      <td>0</td>\n",
       "      <td>1</td>\n",
       "      <td>0</td>\n",
       "      <td>0</td>\n",
       "      <td>0</td>\n",
       "      <td>0</td>\n",
       "      <td>1</td>\n",
       "      <td>0</td>\n",
       "    </tr>\n",
       "    <tr>\n",
       "      <th>3</th>\n",
       "      <td>1.361667</td>\n",
       "      <td>-0.063529</td>\n",
       "      <td>0.715820</td>\n",
       "      <td>0.245406</td>\n",
       "      <td>0</td>\n",
       "      <td>0</td>\n",
       "      <td>1</td>\n",
       "      <td>0</td>\n",
       "      <td>0</td>\n",
       "      <td>0</td>\n",
       "      <td>...</td>\n",
       "      <td>0</td>\n",
       "      <td>0</td>\n",
       "      <td>0</td>\n",
       "      <td>0</td>\n",
       "      <td>0</td>\n",
       "      <td>0</td>\n",
       "      <td>0</td>\n",
       "      <td>0</td>\n",
       "      <td>0</td>\n",
       "      <td>0</td>\n",
       "    </tr>\n",
       "    <tr>\n",
       "      <th>4</th>\n",
       "      <td>-0.849439</td>\n",
       "      <td>-0.063529</td>\n",
       "      <td>-1.599856</td>\n",
       "      <td>1.161102</td>\n",
       "      <td>0</td>\n",
       "      <td>1</td>\n",
       "      <td>1</td>\n",
       "      <td>0</td>\n",
       "      <td>0</td>\n",
       "      <td>0</td>\n",
       "      <td>...</td>\n",
       "      <td>0</td>\n",
       "      <td>0</td>\n",
       "      <td>1</td>\n",
       "      <td>0</td>\n",
       "      <td>0</td>\n",
       "      <td>0</td>\n",
       "      <td>0</td>\n",
       "      <td>0</td>\n",
       "      <td>0</td>\n",
       "      <td>0</td>\n",
       "    </tr>\n",
       "  </tbody>\n",
       "</table>\n",
       "<p>5 rows × 41 columns</p>\n",
       "</div>\n",
       "      <button class=\"colab-df-convert\" onclick=\"convertToInteractive('df-db57c11b-6967-4096-8a1a-2a4269f91046')\"\n",
       "              title=\"Convert this dataframe to an interactive table.\"\n",
       "              style=\"display:none;\">\n",
       "        \n",
       "  <svg xmlns=\"http://www.w3.org/2000/svg\" height=\"24px\"viewBox=\"0 0 24 24\"\n",
       "       width=\"24px\">\n",
       "    <path d=\"M0 0h24v24H0V0z\" fill=\"none\"/>\n",
       "    <path d=\"M18.56 5.44l.94 2.06.94-2.06 2.06-.94-2.06-.94-.94-2.06-.94 2.06-2.06.94zm-11 1L8.5 8.5l.94-2.06 2.06-.94-2.06-.94L8.5 2.5l-.94 2.06-2.06.94zm10 10l.94 2.06.94-2.06 2.06-.94-2.06-.94-.94-2.06-.94 2.06-2.06.94z\"/><path d=\"M17.41 7.96l-1.37-1.37c-.4-.4-.92-.59-1.43-.59-.52 0-1.04.2-1.43.59L10.3 9.45l-7.72 7.72c-.78.78-.78 2.05 0 2.83L4 21.41c.39.39.9.59 1.41.59.51 0 1.02-.2 1.41-.59l7.78-7.78 2.81-2.81c.8-.78.8-2.07 0-2.86zM5.41 20L4 18.59l7.72-7.72 1.47 1.35L5.41 20z\"/>\n",
       "  </svg>\n",
       "      </button>\n",
       "      \n",
       "  <style>\n",
       "    .colab-df-container {\n",
       "      display:flex;\n",
       "      flex-wrap:wrap;\n",
       "      gap: 12px;\n",
       "    }\n",
       "\n",
       "    .colab-df-convert {\n",
       "      background-color: #E8F0FE;\n",
       "      border: none;\n",
       "      border-radius: 50%;\n",
       "      cursor: pointer;\n",
       "      display: none;\n",
       "      fill: #1967D2;\n",
       "      height: 32px;\n",
       "      padding: 0 0 0 0;\n",
       "      width: 32px;\n",
       "    }\n",
       "\n",
       "    .colab-df-convert:hover {\n",
       "      background-color: #E2EBFA;\n",
       "      box-shadow: 0px 1px 2px rgba(60, 64, 67, 0.3), 0px 1px 3px 1px rgba(60, 64, 67, 0.15);\n",
       "      fill: #174EA6;\n",
       "    }\n",
       "\n",
       "    [theme=dark] .colab-df-convert {\n",
       "      background-color: #3B4455;\n",
       "      fill: #D2E3FC;\n",
       "    }\n",
       "\n",
       "    [theme=dark] .colab-df-convert:hover {\n",
       "      background-color: #434B5C;\n",
       "      box-shadow: 0px 1px 3px 1px rgba(0, 0, 0, 0.15);\n",
       "      filter: drop-shadow(0px 1px 2px rgba(0, 0, 0, 0.3));\n",
       "      fill: #FFFFFF;\n",
       "    }\n",
       "  </style>\n",
       "\n",
       "      <script>\n",
       "        const buttonEl =\n",
       "          document.querySelector('#df-db57c11b-6967-4096-8a1a-2a4269f91046 button.colab-df-convert');\n",
       "        buttonEl.style.display =\n",
       "          google.colab.kernel.accessAllowed ? 'block' : 'none';\n",
       "\n",
       "        async function convertToInteractive(key) {\n",
       "          const element = document.querySelector('#df-db57c11b-6967-4096-8a1a-2a4269f91046');\n",
       "          const dataTable =\n",
       "            await google.colab.kernel.invokeFunction('convertToInteractive',\n",
       "                                                     [key], {});\n",
       "          if (!dataTable) return;\n",
       "\n",
       "          const docLinkHtml = 'Like what you see? Visit the ' +\n",
       "            '<a target=\"_blank\" href=https://colab.research.google.com/notebooks/data_table.ipynb>data table notebook</a>'\n",
       "            + ' to learn more about interactive tables.';\n",
       "          element.innerHTML = '';\n",
       "          dataTable['output_type'] = 'display_data';\n",
       "          await google.colab.output.renderOutput(dataTable, element);\n",
       "          const docLink = document.createElement('div');\n",
       "          docLink.innerHTML = docLinkHtml;\n",
       "          element.appendChild(docLink);\n",
       "        }\n",
       "      </script>\n",
       "    </div>\n",
       "  </div>\n",
       "  "
      ],
      "text/plain": [
       "   Item_Weight  log_Item_Visibility  log_Item_MRP  log_Outlet_Years  \\\n",
       "0    -0.769779            -1.147747      1.320465          0.132463   \n",
       "1    -1.497484            -1.076209     -1.806429         -1.790133   \n",
       "2     0.995661            -1.131945      0.235784          0.132463   \n",
       "3     1.361667            -0.063529      0.715820          0.245406   \n",
       "4    -0.849439            -0.063529     -1.599856          1.161102   \n",
       "\n",
       "   Item_Fat_Content_0  Item_Fat_Content_1  Outlet_Size_0  Outlet_Size_1  \\\n",
       "0                   1                   0              0              1   \n",
       "1                   0                   0              0              1   \n",
       "2                   1                   0              0              1   \n",
       "3                   0                   0              1              0   \n",
       "4                   0                   1              1              0   \n",
       "\n",
       "   Outlet_Location_Type_0  Outlet_Location_Type_1  ...  Item_Type_7  \\\n",
       "0                       1                       0  ...            0   \n",
       "1                       0                       0  ...            0   \n",
       "2                       1                       0  ...            0   \n",
       "3                       0                       0  ...            0   \n",
       "4                       0                       0  ...            0   \n",
       "\n",
       "   Item_Type_8  Item_Type_9  Item_Type_10  Item_Type_11  Item_Type_12  \\\n",
       "0            0            0             0             0             0   \n",
       "1            0            0             0             0             0   \n",
       "2            0            0             1             0             0   \n",
       "3            0            0             0             0             0   \n",
       "4            0            1             0             0             0   \n",
       "\n",
       "   Item_Type_13  Item_Type_14  Type1_Tear1  Type1_Tear2  \n",
       "0             0             0            1            0  \n",
       "1             0             1            0            0  \n",
       "2             0             0            1            0  \n",
       "3             0             0            0            0  \n",
       "4             0             0            0            0  \n",
       "\n",
       "[5 rows x 41 columns]"
      ]
     },
     "execution_count": 5,
     "metadata": {},
     "output_type": "execute_result"
    }
   ],
   "source": [
    "from sklearn.preprocessing import StandardScaler\n",
    "\n",
    "cont_vars = ['Item_Weight', 'log_Item_Visibility', 'log_Item_MRP', 'log_Outlet_Years']\n",
    "cat_vars = ['Item_Fat_Content_0',\n",
    "       'Item_Fat_Content_1', 'Outlet_Size_0', 'Outlet_Size_1',\n",
    "       'Outlet_Location_Type_0', 'Outlet_Location_Type_1', 'Outlet_Type_0',\n",
    "       'Outlet_Type_1', 'Outlet_Type_2', 'New_Item_Type_0', 'New_Item_Type_1',\n",
    "       'Outlet_0', 'Outlet_1', 'Outlet_2', 'Outlet_3', 'Outlet_4', 'Outlet_5',\n",
    "       'Outlet_6', 'Outlet_7', 'Outlet_8','Item_Type_0', 'Item_Type_1',\n",
    "       'Item_Type_2', 'Item_Type_3', 'Item_Type_4', 'Item_Type_5',\n",
    "       'Item_Type_6', 'Item_Type_7', 'Item_Type_8', 'Item_Type_9',\n",
    "       'Item_Type_10', 'Item_Type_11', 'Item_Type_12', 'Item_Type_13',\n",
    "       'Item_Type_14', 'Type1_Tear1',\n",
    "       'Type1_Tear2']\n",
    "scaler = StandardScaler()\n",
    "df_cont = pd.DataFrame(scaler.fit_transform(X[cont_vars]), columns = cont_vars)\n",
    "X_norm = pd.concat([df_cont, X[cat_vars]], axis=1)\n",
    "\n",
    "X_norm.head()"
   ]
  },
  {
   "cell_type": "markdown",
   "metadata": {
    "id": "P42IXNK7MasA"
   },
   "source": [
    "LightGBM - Optuna"
   ]
  },
  {
   "cell_type": "code",
   "execution_count": null,
   "metadata": {
    "colab": {
     "base_uri": "https://localhost:8080/"
    },
    "executionInfo": {
     "elapsed": 8819,
     "status": "ok",
     "timestamp": 1680056934457,
     "user": {
      "displayName": "황선경",
      "userId": "17888974404389374352"
     },
     "user_tz": -540
    },
    "id": "Mx3MBmYsMe0i",
    "outputId": "fe7db009-d061-4601-f14e-943e2d79a869"
   },
   "outputs": [
    {
     "name": "stdout",
     "output_type": "stream",
     "text": [
      "Looking in indexes: https://pypi.org/simple, https://us-python.pkg.dev/colab-wheels/public/simple/\n",
      "Collecting optuna\n",
      "  Downloading optuna-3.1.0-py3-none-any.whl (365 kB)\n",
      "\u001b[2K     \u001b[90m━━━━━━━━━━━━━━━━━━━━━━━━━━━━━━━━━━━━━━━\u001b[0m \u001b[32m365.3/365.3 KB\u001b[0m \u001b[31m6.0 MB/s\u001b[0m eta \u001b[36m0:00:00\u001b[0m\n",
      "\u001b[?25hRequirement already satisfied: numpy in /usr/local/lib/python3.9/dist-packages (from optuna) (1.22.4)\n",
      "Requirement already satisfied: sqlalchemy>=1.3.0 in /usr/local/lib/python3.9/dist-packages (from optuna) (1.4.47)\n",
      "Collecting cmaes>=0.9.1\n",
      "  Downloading cmaes-0.9.1-py3-none-any.whl (21 kB)\n",
      "Requirement already satisfied: tqdm in /usr/local/lib/python3.9/dist-packages (from optuna) (4.65.0)\n",
      "Collecting alembic>=1.5.0\n",
      "  Downloading alembic-1.10.2-py3-none-any.whl (212 kB)\n",
      "\u001b[2K     \u001b[90m━━━━━━━━━━━━━━━━━━━━━━━━━━━━━━━━━━━━━━\u001b[0m \u001b[32m212.2/212.2 KB\u001b[0m \u001b[31m14.1 MB/s\u001b[0m eta \u001b[36m0:00:00\u001b[0m\n",
      "\u001b[?25hRequirement already satisfied: PyYAML in /usr/local/lib/python3.9/dist-packages (from optuna) (6.0)\n",
      "Collecting colorlog\n",
      "  Downloading colorlog-6.7.0-py2.py3-none-any.whl (11 kB)\n",
      "Requirement already satisfied: packaging>=20.0 in /usr/local/lib/python3.9/dist-packages (from optuna) (23.0)\n",
      "Collecting Mako\n",
      "  Downloading Mako-1.2.4-py3-none-any.whl (78 kB)\n",
      "\u001b[2K     \u001b[90m━━━━━━━━━━━━━━━━━━━━━━━━━━━━━━━━━━━━━━━━\u001b[0m \u001b[32m78.7/78.7 KB\u001b[0m \u001b[31m7.3 MB/s\u001b[0m eta \u001b[36m0:00:00\u001b[0m\n",
      "\u001b[?25hRequirement already satisfied: typing-extensions>=4 in /usr/local/lib/python3.9/dist-packages (from alembic>=1.5.0->optuna) (4.5.0)\n",
      "Requirement already satisfied: greenlet!=0.4.17 in /usr/local/lib/python3.9/dist-packages (from sqlalchemy>=1.3.0->optuna) (2.0.2)\n",
      "Requirement already satisfied: MarkupSafe>=0.9.2 in /usr/local/lib/python3.9/dist-packages (from Mako->alembic>=1.5.0->optuna) (2.1.2)\n",
      "Installing collected packages: Mako, colorlog, cmaes, alembic, optuna\n",
      "Successfully installed Mako-1.2.4 alembic-1.10.2 cmaes-0.9.1 colorlog-6.7.0 optuna-3.1.0\n"
     ]
    }
   ],
   "source": [
    "!pip install optuna"
   ]
  },
  {
   "cell_type": "code",
   "execution_count": null,
   "metadata": {
    "id": "Fx3B4n5WMlc5"
   },
   "outputs": [],
   "source": [
    "import optuna\n",
    "from optuna import Trial\n",
    "from optuna.samplers import TPESampler\n",
    "from lightgbm import LGBMRegressor\n",
    "\n",
    "def objective(trial: Trial) -> float:\n",
    "    params = {\n",
    "        \"objective\": \"regression\",\n",
    "        \"metric\": \"rmse\",\n",
    "        \"verbosity\": -1,\n",
    "        \"boosting_type\": \"gbdt\",\n",
    "        \"lambda_l1\": trial.suggest_loguniform(\"lambda_l1\", 1e-8, 10.0),\n",
    "        \"lambda_l2\": trial.suggest_loguniform(\"lambda_l2\", 1e-8, 10.0),\n",
    "        \"num_leaves\": trial.suggest_int(\"num_leaves\", 2, 256),\n",
    "        \"max_depth\": trial.suggest_int(\"max_depth\", 1, 30),\n",
    "        \"learning_rate\": trial.suggest_loguniform(\"learning_rate\", 0.005, 0.5),\n",
    "        \"feature_fraction\": trial.suggest_uniform(\"feature_fraction\", 0.4, 1.0),\n",
    "        \"bagging_fraction\": trial.suggest_uniform(\"bagging_fraction\", 0.4, 1.0),\n",
    "        \"bagging_freq\": trial.suggest_int(\"bagging_freq\", 1, 7),\n",
    "        \"min_child_samples\": trial.suggest_int(\"min_child_samples\", 5, 100),\n",
    "    }    \n",
    "  \n",
    "    model = LGBMRegressor(**params)\n",
    "    # train the model\n",
    "    model.fit(X, y)\n",
    "    \n",
    "    # predict the training set\n",
    "    pred = model.predict(X)\n",
    "    \n",
    "    # perform cross-validation\n",
    "    cv_score = cross_val_score(model, X, y, scoring='neg_mean_squared_error', cv=5)\n",
    "    cv_score = np.abs(np.mean(cv_score))\n",
    "    rmse = np.mean(np.sqrt(np.abs(cv_score)))\n",
    "    \n",
    "    return cv_score"
   ]
  },
  {
   "cell_type": "code",
   "execution_count": null,
   "metadata": {
    "colab": {
     "base_uri": "https://localhost:8080/"
    },
    "executionInfo": {
     "elapsed": 174493,
     "status": "ok",
     "timestamp": 1680058450307,
     "user": {
      "displayName": "황선경",
      "userId": "17888974404389374352"
     },
     "user_tz": -540
    },
    "id": "yb205e3VRkHq",
    "outputId": "0e77c78a-7e24-4a60-bacc-14640bbd35a5"
   },
   "outputs": [
    {
     "name": "stderr",
     "output_type": "stream",
     "text": [
      "\u001b[32m[I 2023-03-29 02:51:15,667]\u001b[0m A new study created in memory with name: no-name-bdd62c46-f94b-4e4d-b61e-37c1c86e1433\u001b[0m\n"
     ]
    },
    {
     "name": "stdout",
     "output_type": "stream",
     "text": [
      "[LightGBM] [Warning] bagging_fraction is set=0.6886508962861735, subsample=1.0 will be ignored. Current value: bagging_fraction=0.6886508962861735\n",
      "[LightGBM] [Warning] lambda_l2 is set=9.637369383576097, reg_lambda=0.0 will be ignored. Current value: lambda_l2=9.637369383576097\n",
      "[LightGBM] [Warning] lambda_l1 is set=6.593112711484684e-08, reg_alpha=0.0 will be ignored. Current value: lambda_l1=6.593112711484684e-08\n",
      "[LightGBM] [Warning] bagging_freq is set=5, subsample_freq=0 will be ignored. Current value: bagging_freq=5\n",
      "[LightGBM] [Warning] feature_fraction is set=0.4861302464190776, colsample_bytree=1.0 will be ignored. Current value: feature_fraction=0.4861302464190776\n",
      "[LightGBM] [Warning] bagging_fraction is set=0.6886508962861735, subsample=1.0 will be ignored. Current value: bagging_fraction=0.6886508962861735\n",
      "[LightGBM] [Warning] lambda_l2 is set=9.637369383576097, reg_lambda=0.0 will be ignored. Current value: lambda_l2=9.637369383576097\n",
      "[LightGBM] [Warning] lambda_l1 is set=6.593112711484684e-08, reg_alpha=0.0 will be ignored. Current value: lambda_l1=6.593112711484684e-08\n",
      "[LightGBM] [Warning] bagging_freq is set=5, subsample_freq=0 will be ignored. Current value: bagging_freq=5\n",
      "[LightGBM] [Warning] feature_fraction is set=0.4861302464190776, colsample_bytree=1.0 will be ignored. Current value: feature_fraction=0.4861302464190776\n",
      "[LightGBM] [Warning] bagging_fraction is set=0.6886508962861735, subsample=1.0 will be ignored. Current value: bagging_fraction=0.6886508962861735\n",
      "[LightGBM] [Warning] lambda_l2 is set=9.637369383576097, reg_lambda=0.0 will be ignored. Current value: lambda_l2=9.637369383576097\n",
      "[LightGBM] [Warning] lambda_l1 is set=6.593112711484684e-08, reg_alpha=0.0 will be ignored. Current value: lambda_l1=6.593112711484684e-08\n",
      "[LightGBM] [Warning] bagging_freq is set=5, subsample_freq=0 will be ignored. Current value: bagging_freq=5\n",
      "[LightGBM] [Warning] feature_fraction is set=0.4861302464190776, colsample_bytree=1.0 will be ignored. Current value: feature_fraction=0.4861302464190776\n",
      "[LightGBM] [Warning] bagging_fraction is set=0.6886508962861735, subsample=1.0 will be ignored. Current value: bagging_fraction=0.6886508962861735\n",
      "[LightGBM] [Warning] lambda_l2 is set=9.637369383576097, reg_lambda=0.0 will be ignored. Current value: lambda_l2=9.637369383576097\n",
      "[LightGBM] [Warning] lambda_l1 is set=6.593112711484684e-08, reg_alpha=0.0 will be ignored. Current value: lambda_l1=6.593112711484684e-08\n",
      "[LightGBM] [Warning] bagging_freq is set=5, subsample_freq=0 will be ignored. Current value: bagging_freq=5\n",
      "[LightGBM] [Warning] feature_fraction is set=0.4861302464190776, colsample_bytree=1.0 will be ignored. Current value: feature_fraction=0.4861302464190776\n",
      "[LightGBM] [Warning] bagging_fraction is set=0.6886508962861735, subsample=1.0 will be ignored. Current value: bagging_fraction=0.6886508962861735\n",
      "[LightGBM] [Warning] lambda_l2 is set=9.637369383576097, reg_lambda=0.0 will be ignored. Current value: lambda_l2=9.637369383576097\n",
      "[LightGBM] [Warning] lambda_l1 is set=6.593112711484684e-08, reg_alpha=0.0 will be ignored. Current value: lambda_l1=6.593112711484684e-08\n",
      "[LightGBM] [Warning] bagging_freq is set=5, subsample_freq=0 will be ignored. Current value: bagging_freq=5\n",
      "[LightGBM] [Warning] feature_fraction is set=0.4861302464190776, colsample_bytree=1.0 will be ignored. Current value: feature_fraction=0.4861302464190776\n",
      "[LightGBM] [Warning] bagging_fraction is set=0.6886508962861735, subsample=1.0 will be ignored. Current value: bagging_fraction=0.6886508962861735\n",
      "[LightGBM] [Warning] lambda_l2 is set=9.637369383576097, reg_lambda=0.0 will be ignored. Current value: lambda_l2=9.637369383576097\n",
      "[LightGBM] [Warning] lambda_l1 is set=6.593112711484684e-08, reg_alpha=0.0 will be ignored. Current value: lambda_l1=6.593112711484684e-08\n",
      "[LightGBM] [Warning] bagging_freq is set=5, subsample_freq=0 will be ignored. Current value: bagging_freq=5\n",
      "[LightGBM] [Warning] feature_fraction is set=0.4861302464190776, colsample_bytree=1.0 will be ignored. Current value: feature_fraction=0.4861302464190776\n"
     ]
    },
    {
     "name": "stderr",
     "output_type": "stream",
     "text": [
      "\u001b[32m[I 2023-03-29 02:51:19,421]\u001b[0m Trial 0 finished with value: 0.28193788760897553 and parameters: {'lambda_l1': 6.593112711484684e-08, 'lambda_l2': 9.637369383576097, 'num_leaves': 193, 'max_depth': 25, 'learning_rate': 0.04107964541975103, 'feature_fraction': 0.4861302464190776, 'bagging_fraction': 0.6886508962861735, 'bagging_freq': 5, 'min_child_samples': 31}. Best is trial 0 with value: 0.28193788760897553.\u001b[0m\n"
     ]
    },
    {
     "name": "stdout",
     "output_type": "stream",
     "text": [
      "[LightGBM] [Warning] bagging_fraction is set=0.985164794600375, subsample=1.0 will be ignored. Current value: bagging_fraction=0.985164794600375\n",
      "[LightGBM] [Warning] lambda_l2 is set=9.54710052039037, reg_lambda=0.0 will be ignored. Current value: lambda_l2=9.54710052039037\n",
      "[LightGBM] [Warning] lambda_l1 is set=0.862204231847481, reg_alpha=0.0 will be ignored. Current value: lambda_l1=0.862204231847481\n",
      "[LightGBM] [Warning] bagging_freq is set=6, subsample_freq=0 will be ignored. Current value: bagging_freq=6\n",
      "[LightGBM] [Warning] feature_fraction is set=0.8892472478644944, colsample_bytree=1.0 will be ignored. Current value: feature_fraction=0.8892472478644944\n",
      "[LightGBM] [Warning] bagging_fraction is set=0.985164794600375, subsample=1.0 will be ignored. Current value: bagging_fraction=0.985164794600375\n",
      "[LightGBM] [Warning] lambda_l2 is set=9.54710052039037, reg_lambda=0.0 will be ignored. Current value: lambda_l2=9.54710052039037\n",
      "[LightGBM] [Warning] lambda_l1 is set=0.862204231847481, reg_alpha=0.0 will be ignored. Current value: lambda_l1=0.862204231847481\n",
      "[LightGBM] [Warning] bagging_freq is set=6, subsample_freq=0 will be ignored. Current value: bagging_freq=6\n",
      "[LightGBM] [Warning] feature_fraction is set=0.8892472478644944, colsample_bytree=1.0 will be ignored. Current value: feature_fraction=0.8892472478644944\n",
      "[LightGBM] [Warning] bagging_fraction is set=0.985164794600375, subsample=1.0 will be ignored. Current value: bagging_fraction=0.985164794600375\n",
      "[LightGBM] [Warning] lambda_l2 is set=9.54710052039037, reg_lambda=0.0 will be ignored. Current value: lambda_l2=9.54710052039037\n",
      "[LightGBM] [Warning] lambda_l1 is set=0.862204231847481, reg_alpha=0.0 will be ignored. Current value: lambda_l1=0.862204231847481\n",
      "[LightGBM] [Warning] bagging_freq is set=6, subsample_freq=0 will be ignored. Current value: bagging_freq=6\n",
      "[LightGBM] [Warning] feature_fraction is set=0.8892472478644944, colsample_bytree=1.0 will be ignored. Current value: feature_fraction=0.8892472478644944\n",
      "[LightGBM] [Warning] bagging_fraction is set=0.985164794600375, subsample=1.0 will be ignored. Current value: bagging_fraction=0.985164794600375\n",
      "[LightGBM] [Warning] lambda_l2 is set=9.54710052039037, reg_lambda=0.0 will be ignored. Current value: lambda_l2=9.54710052039037\n",
      "[LightGBM] [Warning] lambda_l1 is set=0.862204231847481, reg_alpha=0.0 will be ignored. Current value: lambda_l1=0.862204231847481\n",
      "[LightGBM] [Warning] bagging_freq is set=6, subsample_freq=0 will be ignored. Current value: bagging_freq=6\n",
      "[LightGBM] [Warning] feature_fraction is set=0.8892472478644944, colsample_bytree=1.0 will be ignored. Current value: feature_fraction=0.8892472478644944\n",
      "[LightGBM] [Warning] bagging_fraction is set=0.985164794600375, subsample=1.0 will be ignored. Current value: bagging_fraction=0.985164794600375\n",
      "[LightGBM] [Warning] lambda_l2 is set=9.54710052039037, reg_lambda=0.0 will be ignored. Current value: lambda_l2=9.54710052039037\n",
      "[LightGBM] [Warning] lambda_l1 is set=0.862204231847481, reg_alpha=0.0 will be ignored. Current value: lambda_l1=0.862204231847481\n",
      "[LightGBM] [Warning] bagging_freq is set=6, subsample_freq=0 will be ignored. Current value: bagging_freq=6\n",
      "[LightGBM] [Warning] feature_fraction is set=0.8892472478644944, colsample_bytree=1.0 will be ignored. Current value: feature_fraction=0.8892472478644944\n",
      "[LightGBM] [Warning] bagging_fraction is set=0.985164794600375, subsample=1.0 will be ignored. Current value: bagging_fraction=0.985164794600375\n",
      "[LightGBM] [Warning] lambda_l2 is set=9.54710052039037, reg_lambda=0.0 will be ignored. Current value: lambda_l2=9.54710052039037\n",
      "[LightGBM] [Warning] lambda_l1 is set=0.862204231847481, reg_alpha=0.0 will be ignored. Current value: lambda_l1=0.862204231847481\n",
      "[LightGBM] [Warning] bagging_freq is set=6, subsample_freq=0 will be ignored. Current value: bagging_freq=6\n",
      "[LightGBM] [Warning] feature_fraction is set=0.8892472478644944, colsample_bytree=1.0 will be ignored. Current value: feature_fraction=0.8892472478644944\n"
     ]
    },
    {
     "name": "stderr",
     "output_type": "stream",
     "text": [
      "\u001b[32m[I 2023-03-29 02:51:23,266]\u001b[0m Trial 1 finished with value: 0.2821644464958751 and parameters: {'lambda_l1': 0.862204231847481, 'lambda_l2': 9.54710052039037, 'num_leaves': 177, 'max_depth': 22, 'learning_rate': 0.0420630023359271, 'feature_fraction': 0.8892472478644944, 'bagging_fraction': 0.985164794600375, 'bagging_freq': 6, 'min_child_samples': 12}. Best is trial 0 with value: 0.28193788760897553.\u001b[0m\n"
     ]
    },
    {
     "name": "stdout",
     "output_type": "stream",
     "text": [
      "[LightGBM] [Warning] bagging_fraction is set=0.912630773278692, subsample=1.0 will be ignored. Current value: bagging_fraction=0.912630773278692\n",
      "[LightGBM] [Warning] lambda_l2 is set=8.84557031949973e-07, reg_lambda=0.0 will be ignored. Current value: lambda_l2=8.84557031949973e-07\n",
      "[LightGBM] [Warning] lambda_l1 is set=0.8779377259651604, reg_alpha=0.0 will be ignored. Current value: lambda_l1=0.8779377259651604\n",
      "[LightGBM] [Warning] bagging_freq is set=4, subsample_freq=0 will be ignored. Current value: bagging_freq=4\n",
      "[LightGBM] [Warning] feature_fraction is set=0.7708181929895535, colsample_bytree=1.0 will be ignored. Current value: feature_fraction=0.7708181929895535\n",
      "[LightGBM] [Warning] bagging_fraction is set=0.912630773278692, subsample=1.0 will be ignored. Current value: bagging_fraction=0.912630773278692\n",
      "[LightGBM] [Warning] lambda_l2 is set=8.84557031949973e-07, reg_lambda=0.0 will be ignored. Current value: lambda_l2=8.84557031949973e-07\n",
      "[LightGBM] [Warning] lambda_l1 is set=0.8779377259651604, reg_alpha=0.0 will be ignored. Current value: lambda_l1=0.8779377259651604\n",
      "[LightGBM] [Warning] bagging_freq is set=4, subsample_freq=0 will be ignored. Current value: bagging_freq=4\n",
      "[LightGBM] [Warning] feature_fraction is set=0.7708181929895535, colsample_bytree=1.0 will be ignored. Current value: feature_fraction=0.7708181929895535\n",
      "[LightGBM] [Warning] bagging_fraction is set=0.912630773278692, subsample=1.0 will be ignored. Current value: bagging_fraction=0.912630773278692\n",
      "[LightGBM] [Warning] lambda_l2 is set=8.84557031949973e-07, reg_lambda=0.0 will be ignored. Current value: lambda_l2=8.84557031949973e-07\n",
      "[LightGBM] [Warning] lambda_l1 is set=0.8779377259651604, reg_alpha=0.0 will be ignored. Current value: lambda_l1=0.8779377259651604\n",
      "[LightGBM] [Warning] bagging_freq is set=4, subsample_freq=0 will be ignored. Current value: bagging_freq=4\n",
      "[LightGBM] [Warning] feature_fraction is set=0.7708181929895535, colsample_bytree=1.0 will be ignored. Current value: feature_fraction=0.7708181929895535\n",
      "[LightGBM] [Warning] bagging_fraction is set=0.912630773278692, subsample=1.0 will be ignored. Current value: bagging_fraction=0.912630773278692\n",
      "[LightGBM] [Warning] lambda_l2 is set=8.84557031949973e-07, reg_lambda=0.0 will be ignored. Current value: lambda_l2=8.84557031949973e-07\n",
      "[LightGBM] [Warning] lambda_l1 is set=0.8779377259651604, reg_alpha=0.0 will be ignored. Current value: lambda_l1=0.8779377259651604\n",
      "[LightGBM] [Warning] bagging_freq is set=4, subsample_freq=0 will be ignored. Current value: bagging_freq=4\n",
      "[LightGBM] [Warning] feature_fraction is set=0.7708181929895535, colsample_bytree=1.0 will be ignored. Current value: feature_fraction=0.7708181929895535\n",
      "[LightGBM] [Warning] bagging_fraction is set=0.912630773278692, subsample=1.0 will be ignored. Current value: bagging_fraction=0.912630773278692\n",
      "[LightGBM] [Warning] lambda_l2 is set=8.84557031949973e-07, reg_lambda=0.0 will be ignored. Current value: lambda_l2=8.84557031949973e-07\n",
      "[LightGBM] [Warning] lambda_l1 is set=0.8779377259651604, reg_alpha=0.0 will be ignored. Current value: lambda_l1=0.8779377259651604\n",
      "[LightGBM] [Warning] bagging_freq is set=4, subsample_freq=0 will be ignored. Current value: bagging_freq=4\n",
      "[LightGBM] [Warning] feature_fraction is set=0.7708181929895535, colsample_bytree=1.0 will be ignored. Current value: feature_fraction=0.7708181929895535\n",
      "[LightGBM] [Warning] bagging_fraction is set=0.912630773278692, subsample=1.0 will be ignored. Current value: bagging_fraction=0.912630773278692\n",
      "[LightGBM] [Warning] lambda_l2 is set=8.84557031949973e-07, reg_lambda=0.0 will be ignored. Current value: lambda_l2=8.84557031949973e-07\n",
      "[LightGBM] [Warning] lambda_l1 is set=0.8779377259651604, reg_alpha=0.0 will be ignored. Current value: lambda_l1=0.8779377259651604\n",
      "[LightGBM] [Warning] bagging_freq is set=4, subsample_freq=0 will be ignored. Current value: bagging_freq=4\n",
      "[LightGBM] [Warning] feature_fraction is set=0.7708181929895535, colsample_bytree=1.0 will be ignored. Current value: feature_fraction=0.7708181929895535\n"
     ]
    },
    {
     "name": "stderr",
     "output_type": "stream",
     "text": [
      "\u001b[32m[I 2023-03-29 02:51:23,791]\u001b[0m Trial 2 finished with value: 0.6461984620598602 and parameters: {'lambda_l1': 0.8779377259651604, 'lambda_l2': 8.84557031949973e-07, 'num_leaves': 222, 'max_depth': 1, 'learning_rate': 0.00854284144304458, 'feature_fraction': 0.7708181929895535, 'bagging_fraction': 0.912630773278692, 'bagging_freq': 4, 'min_child_samples': 64}. Best is trial 0 with value: 0.28193788760897553.\u001b[0m\n"
     ]
    },
    {
     "name": "stdout",
     "output_type": "stream",
     "text": [
      "[LightGBM] [Warning] bagging_fraction is set=0.43348642579994057, subsample=1.0 will be ignored. Current value: bagging_fraction=0.43348642579994057\n",
      "[LightGBM] [Warning] lambda_l2 is set=4.289921633986795e-06, reg_lambda=0.0 will be ignored. Current value: lambda_l2=4.289921633986795e-06\n",
      "[LightGBM] [Warning] lambda_l1 is set=0.00029080347375272906, reg_alpha=0.0 will be ignored. Current value: lambda_l1=0.00029080347375272906\n",
      "[LightGBM] [Warning] bagging_freq is set=4, subsample_freq=0 will be ignored. Current value: bagging_freq=4\n",
      "[LightGBM] [Warning] feature_fraction is set=0.9683903672285559, colsample_bytree=1.0 will be ignored. Current value: feature_fraction=0.9683903672285559\n",
      "[LightGBM] [Warning] bagging_fraction is set=0.43348642579994057, subsample=1.0 will be ignored. Current value: bagging_fraction=0.43348642579994057\n",
      "[LightGBM] [Warning] lambda_l2 is set=4.289921633986795e-06, reg_lambda=0.0 will be ignored. Current value: lambda_l2=4.289921633986795e-06\n",
      "[LightGBM] [Warning] lambda_l1 is set=0.00029080347375272906, reg_alpha=0.0 will be ignored. Current value: lambda_l1=0.00029080347375272906\n",
      "[LightGBM] [Warning] bagging_freq is set=4, subsample_freq=0 will be ignored. Current value: bagging_freq=4\n",
      "[LightGBM] [Warning] feature_fraction is set=0.9683903672285559, colsample_bytree=1.0 will be ignored. Current value: feature_fraction=0.9683903672285559\n",
      "[LightGBM] [Warning] bagging_fraction is set=0.43348642579994057, subsample=1.0 will be ignored. Current value: bagging_fraction=0.43348642579994057\n",
      "[LightGBM] [Warning] lambda_l2 is set=4.289921633986795e-06, reg_lambda=0.0 will be ignored. Current value: lambda_l2=4.289921633986795e-06\n",
      "[LightGBM] [Warning] lambda_l1 is set=0.00029080347375272906, reg_alpha=0.0 will be ignored. Current value: lambda_l1=0.00029080347375272906\n",
      "[LightGBM] [Warning] bagging_freq is set=4, subsample_freq=0 will be ignored. Current value: bagging_freq=4\n",
      "[LightGBM] [Warning] feature_fraction is set=0.9683903672285559, colsample_bytree=1.0 will be ignored. Current value: feature_fraction=0.9683903672285559\n",
      "[LightGBM] [Warning] bagging_fraction is set=0.43348642579994057, subsample=1.0 will be ignored. Current value: bagging_fraction=0.43348642579994057\n",
      "[LightGBM] [Warning] lambda_l2 is set=4.289921633986795e-06, reg_lambda=0.0 will be ignored. Current value: lambda_l2=4.289921633986795e-06\n",
      "[LightGBM] [Warning] lambda_l1 is set=0.00029080347375272906, reg_alpha=0.0 will be ignored. Current value: lambda_l1=0.00029080347375272906\n",
      "[LightGBM] [Warning] bagging_freq is set=4, subsample_freq=0 will be ignored. Current value: bagging_freq=4\n",
      "[LightGBM] [Warning] feature_fraction is set=0.9683903672285559, colsample_bytree=1.0 will be ignored. Current value: feature_fraction=0.9683903672285559\n",
      "[LightGBM] [Warning] bagging_fraction is set=0.43348642579994057, subsample=1.0 will be ignored. Current value: bagging_fraction=0.43348642579994057\n",
      "[LightGBM] [Warning] lambda_l2 is set=4.289921633986795e-06, reg_lambda=0.0 will be ignored. Current value: lambda_l2=4.289921633986795e-06\n",
      "[LightGBM] [Warning] lambda_l1 is set=0.00029080347375272906, reg_alpha=0.0 will be ignored. Current value: lambda_l1=0.00029080347375272906\n",
      "[LightGBM] [Warning] bagging_freq is set=4, subsample_freq=0 will be ignored. Current value: bagging_freq=4\n",
      "[LightGBM] [Warning] feature_fraction is set=0.9683903672285559, colsample_bytree=1.0 will be ignored. Current value: feature_fraction=0.9683903672285559\n",
      "[LightGBM] [Warning] bagging_fraction is set=0.43348642579994057, subsample=1.0 will be ignored. Current value: bagging_fraction=0.43348642579994057\n",
      "[LightGBM] [Warning] lambda_l2 is set=4.289921633986795e-06, reg_lambda=0.0 will be ignored. Current value: lambda_l2=4.289921633986795e-06\n",
      "[LightGBM] [Warning] lambda_l1 is set=0.00029080347375272906, reg_alpha=0.0 will be ignored. Current value: lambda_l1=0.00029080347375272906\n",
      "[LightGBM] [Warning] bagging_freq is set=4, subsample_freq=0 will be ignored. Current value: bagging_freq=4\n",
      "[LightGBM] [Warning] feature_fraction is set=0.9683903672285559, colsample_bytree=1.0 will be ignored. Current value: feature_fraction=0.9683903672285559\n"
     ]
    },
    {
     "name": "stderr",
     "output_type": "stream",
     "text": [
      "\u001b[32m[I 2023-03-29 02:51:32,961]\u001b[0m Trial 3 finished with value: 0.282410497809643 and parameters: {'lambda_l1': 0.00029080347375272906, 'lambda_l2': 4.289921633986795e-06, 'num_leaves': 139, 'max_depth': 13, 'learning_rate': 0.03265539519997357, 'feature_fraction': 0.9683903672285559, 'bagging_fraction': 0.43348642579994057, 'bagging_freq': 4, 'min_child_samples': 25}. Best is trial 0 with value: 0.28193788760897553.\u001b[0m\n"
     ]
    },
    {
     "name": "stdout",
     "output_type": "stream",
     "text": [
      "[LightGBM] [Warning] bagging_fraction is set=0.6635339511656195, subsample=1.0 will be ignored. Current value: bagging_fraction=0.6635339511656195\n",
      "[LightGBM] [Warning] lambda_l2 is set=6.098833965830057e-05, reg_lambda=0.0 will be ignored. Current value: lambda_l2=6.098833965830057e-05\n",
      "[LightGBM] [Warning] lambda_l1 is set=3.563202941118272, reg_alpha=0.0 will be ignored. Current value: lambda_l1=3.563202941118272\n",
      "[LightGBM] [Warning] bagging_freq is set=7, subsample_freq=0 will be ignored. Current value: bagging_freq=7\n",
      "[LightGBM] [Warning] feature_fraction is set=0.8797143978447564, colsample_bytree=1.0 will be ignored. Current value: feature_fraction=0.8797143978447564\n",
      "[LightGBM] [Warning] bagging_fraction is set=0.6635339511656195, subsample=1.0 will be ignored. Current value: bagging_fraction=0.6635339511656195\n",
      "[LightGBM] [Warning] lambda_l2 is set=6.098833965830057e-05, reg_lambda=0.0 will be ignored. Current value: lambda_l2=6.098833965830057e-05\n",
      "[LightGBM] [Warning] lambda_l1 is set=3.563202941118272, reg_alpha=0.0 will be ignored. Current value: lambda_l1=3.563202941118272\n",
      "[LightGBM] [Warning] bagging_freq is set=7, subsample_freq=0 will be ignored. Current value: bagging_freq=7\n",
      "[LightGBM] [Warning] feature_fraction is set=0.8797143978447564, colsample_bytree=1.0 will be ignored. Current value: feature_fraction=0.8797143978447564\n",
      "[LightGBM] [Warning] bagging_fraction is set=0.6635339511656195, subsample=1.0 will be ignored. Current value: bagging_fraction=0.6635339511656195\n",
      "[LightGBM] [Warning] lambda_l2 is set=6.098833965830057e-05, reg_lambda=0.0 will be ignored. Current value: lambda_l2=6.098833965830057e-05\n",
      "[LightGBM] [Warning] lambda_l1 is set=3.563202941118272, reg_alpha=0.0 will be ignored. Current value: lambda_l1=3.563202941118272\n",
      "[LightGBM] [Warning] bagging_freq is set=7, subsample_freq=0 will be ignored. Current value: bagging_freq=7\n",
      "[LightGBM] [Warning] feature_fraction is set=0.8797143978447564, colsample_bytree=1.0 will be ignored. Current value: feature_fraction=0.8797143978447564\n",
      "[LightGBM] [Warning] bagging_fraction is set=0.6635339511656195, subsample=1.0 will be ignored. Current value: bagging_fraction=0.6635339511656195\n",
      "[LightGBM] [Warning] lambda_l2 is set=6.098833965830057e-05, reg_lambda=0.0 will be ignored. Current value: lambda_l2=6.098833965830057e-05\n",
      "[LightGBM] [Warning] lambda_l1 is set=3.563202941118272, reg_alpha=0.0 will be ignored. Current value: lambda_l1=3.563202941118272\n",
      "[LightGBM] [Warning] bagging_freq is set=7, subsample_freq=0 will be ignored. Current value: bagging_freq=7\n",
      "[LightGBM] [Warning] feature_fraction is set=0.8797143978447564, colsample_bytree=1.0 will be ignored. Current value: feature_fraction=0.8797143978447564\n",
      "[LightGBM] [Warning] bagging_fraction is set=0.6635339511656195, subsample=1.0 will be ignored. Current value: bagging_fraction=0.6635339511656195\n",
      "[LightGBM] [Warning] lambda_l2 is set=6.098833965830057e-05, reg_lambda=0.0 will be ignored. Current value: lambda_l2=6.098833965830057e-05\n",
      "[LightGBM] [Warning] lambda_l1 is set=3.563202941118272, reg_alpha=0.0 will be ignored. Current value: lambda_l1=3.563202941118272\n",
      "[LightGBM] [Warning] bagging_freq is set=7, subsample_freq=0 will be ignored. Current value: bagging_freq=7\n",
      "[LightGBM] [Warning] feature_fraction is set=0.8797143978447564, colsample_bytree=1.0 will be ignored. Current value: feature_fraction=0.8797143978447564\n"
     ]
    },
    {
     "name": "stderr",
     "output_type": "stream",
     "text": [
      "\u001b[32m[I 2023-03-29 02:51:34,236]\u001b[0m Trial 4 finished with value: 0.5308968586888817 and parameters: {'lambda_l1': 3.563202941118272, 'lambda_l2': 6.098833965830057e-05, 'num_leaves': 58, 'max_depth': 8, 'learning_rate': 0.005797831281866194, 'feature_fraction': 0.8797143978447564, 'bagging_fraction': 0.6635339511656195, 'bagging_freq': 7, 'min_child_samples': 22}. Best is trial 0 with value: 0.28193788760897553.\u001b[0m\n"
     ]
    },
    {
     "name": "stdout",
     "output_type": "stream",
     "text": [
      "[LightGBM] [Warning] bagging_fraction is set=0.6635339511656195, subsample=1.0 will be ignored. Current value: bagging_fraction=0.6635339511656195\n",
      "[LightGBM] [Warning] lambda_l2 is set=6.098833965830057e-05, reg_lambda=0.0 will be ignored. Current value: lambda_l2=6.098833965830057e-05\n",
      "[LightGBM] [Warning] lambda_l1 is set=3.563202941118272, reg_alpha=0.0 will be ignored. Current value: lambda_l1=3.563202941118272\n",
      "[LightGBM] [Warning] bagging_freq is set=7, subsample_freq=0 will be ignored. Current value: bagging_freq=7\n",
      "[LightGBM] [Warning] feature_fraction is set=0.8797143978447564, colsample_bytree=1.0 will be ignored. Current value: feature_fraction=0.8797143978447564\n",
      "[LightGBM] [Warning] bagging_fraction is set=0.44629639251327957, subsample=1.0 will be ignored. Current value: bagging_fraction=0.44629639251327957\n",
      "[LightGBM] [Warning] lambda_l2 is set=0.0014520269472435854, reg_lambda=0.0 will be ignored. Current value: lambda_l2=0.0014520269472435854\n",
      "[LightGBM] [Warning] lambda_l1 is set=7.321420385832721e-05, reg_alpha=0.0 will be ignored. Current value: lambda_l1=7.321420385832721e-05\n",
      "[LightGBM] [Warning] bagging_freq is set=4, subsample_freq=0 will be ignored. Current value: bagging_freq=4\n",
      "[LightGBM] [Warning] feature_fraction is set=0.8474014601871265, colsample_bytree=1.0 will be ignored. Current value: feature_fraction=0.8474014601871265\n",
      "[LightGBM] [Warning] bagging_fraction is set=0.44629639251327957, subsample=1.0 will be ignored. Current value: bagging_fraction=0.44629639251327957\n",
      "[LightGBM] [Warning] lambda_l2 is set=0.0014520269472435854, reg_lambda=0.0 will be ignored. Current value: lambda_l2=0.0014520269472435854\n",
      "[LightGBM] [Warning] lambda_l1 is set=7.321420385832721e-05, reg_alpha=0.0 will be ignored. Current value: lambda_l1=7.321420385832721e-05\n",
      "[LightGBM] [Warning] bagging_freq is set=4, subsample_freq=0 will be ignored. Current value: bagging_freq=4\n",
      "[LightGBM] [Warning] feature_fraction is set=0.8474014601871265, colsample_bytree=1.0 will be ignored. Current value: feature_fraction=0.8474014601871265\n",
      "[LightGBM] [Warning] bagging_fraction is set=0.44629639251327957, subsample=1.0 will be ignored. Current value: bagging_fraction=0.44629639251327957\n",
      "[LightGBM] [Warning] lambda_l2 is set=0.0014520269472435854, reg_lambda=0.0 will be ignored. Current value: lambda_l2=0.0014520269472435854\n",
      "[LightGBM] [Warning] lambda_l1 is set=7.321420385832721e-05, reg_alpha=0.0 will be ignored. Current value: lambda_l1=7.321420385832721e-05\n",
      "[LightGBM] [Warning] bagging_freq is set=4, subsample_freq=0 will be ignored. Current value: bagging_freq=4\n",
      "[LightGBM] [Warning] feature_fraction is set=0.8474014601871265, colsample_bytree=1.0 will be ignored. Current value: feature_fraction=0.8474014601871265\n",
      "[LightGBM] [Warning] bagging_fraction is set=0.44629639251327957, subsample=1.0 will be ignored. Current value: bagging_fraction=0.44629639251327957\n",
      "[LightGBM] [Warning] lambda_l2 is set=0.0014520269472435854, reg_lambda=0.0 will be ignored. Current value: lambda_l2=0.0014520269472435854\n",
      "[LightGBM] [Warning] lambda_l1 is set=7.321420385832721e-05, reg_alpha=0.0 will be ignored. Current value: lambda_l1=7.321420385832721e-05\n",
      "[LightGBM] [Warning] bagging_freq is set=4, subsample_freq=0 will be ignored. Current value: bagging_freq=4\n",
      "[LightGBM] [Warning] feature_fraction is set=0.8474014601871265, colsample_bytree=1.0 will be ignored. Current value: feature_fraction=0.8474014601871265\n",
      "[LightGBM] [Warning] bagging_fraction is set=0.44629639251327957, subsample=1.0 will be ignored. Current value: bagging_fraction=0.44629639251327957\n",
      "[LightGBM] [Warning] lambda_l2 is set=0.0014520269472435854, reg_lambda=0.0 will be ignored. Current value: lambda_l2=0.0014520269472435854\n",
      "[LightGBM] [Warning] lambda_l1 is set=7.321420385832721e-05, reg_alpha=0.0 will be ignored. Current value: lambda_l1=7.321420385832721e-05\n",
      "[LightGBM] [Warning] bagging_freq is set=4, subsample_freq=0 will be ignored. Current value: bagging_freq=4\n",
      "[LightGBM] [Warning] feature_fraction is set=0.8474014601871265, colsample_bytree=1.0 will be ignored. Current value: feature_fraction=0.8474014601871265\n",
      "[LightGBM] [Warning] bagging_fraction is set=0.44629639251327957, subsample=1.0 will be ignored. Current value: bagging_fraction=0.44629639251327957\n",
      "[LightGBM] [Warning] lambda_l2 is set=0.0014520269472435854, reg_lambda=0.0 will be ignored. Current value: lambda_l2=0.0014520269472435854\n",
      "[LightGBM] [Warning] lambda_l1 is set=7.321420385832721e-05, reg_alpha=0.0 will be ignored. Current value: lambda_l1=7.321420385832721e-05\n",
      "[LightGBM] [Warning] bagging_freq is set=4, subsample_freq=0 will be ignored. Current value: bagging_freq=4\n",
      "[LightGBM] [Warning] feature_fraction is set=0.8474014601871265, colsample_bytree=1.0 will be ignored. Current value: feature_fraction=0.8474014601871265\n"
     ]
    },
    {
     "name": "stderr",
     "output_type": "stream",
     "text": [
      "\u001b[32m[I 2023-03-29 02:51:35,467]\u001b[0m Trial 5 finished with value: 0.5597947697231753 and parameters: {'lambda_l1': 7.321420385832721e-05, 'lambda_l2': 0.0014520269472435854, 'num_leaves': 20, 'max_depth': 11, 'learning_rate': 0.00520777892868115, 'feature_fraction': 0.8474014601871265, 'bagging_fraction': 0.44629639251327957, 'bagging_freq': 4, 'min_child_samples': 6}. Best is trial 0 with value: 0.28193788760897553.\u001b[0m\n"
     ]
    },
    {
     "name": "stdout",
     "output_type": "stream",
     "text": [
      "[LightGBM] [Warning] bagging_fraction is set=0.6299169723536037, subsample=1.0 will be ignored. Current value: bagging_fraction=0.6299169723536037\n",
      "[LightGBM] [Warning] lambda_l2 is set=0.0005365134205407634, reg_lambda=0.0 will be ignored. Current value: lambda_l2=0.0005365134205407634\n",
      "[LightGBM] [Warning] lambda_l1 is set=0.05675782022120257, reg_alpha=0.0 will be ignored. Current value: lambda_l1=0.05675782022120257\n",
      "[LightGBM] [Warning] bagging_freq is set=7, subsample_freq=0 will be ignored. Current value: bagging_freq=7\n",
      "[LightGBM] [Warning] feature_fraction is set=0.42506299320164864, colsample_bytree=1.0 will be ignored. Current value: feature_fraction=0.42506299320164864\n",
      "[LightGBM] [Warning] bagging_fraction is set=0.6299169723536037, subsample=1.0 will be ignored. Current value: bagging_fraction=0.6299169723536037\n",
      "[LightGBM] [Warning] lambda_l2 is set=0.0005365134205407634, reg_lambda=0.0 will be ignored. Current value: lambda_l2=0.0005365134205407634\n",
      "[LightGBM] [Warning] lambda_l1 is set=0.05675782022120257, reg_alpha=0.0 will be ignored. Current value: lambda_l1=0.05675782022120257\n",
      "[LightGBM] [Warning] bagging_freq is set=7, subsample_freq=0 will be ignored. Current value: bagging_freq=7\n",
      "[LightGBM] [Warning] feature_fraction is set=0.42506299320164864, colsample_bytree=1.0 will be ignored. Current value: feature_fraction=0.42506299320164864\n",
      "[LightGBM] [Warning] bagging_fraction is set=0.6299169723536037, subsample=1.0 will be ignored. Current value: bagging_fraction=0.6299169723536037\n",
      "[LightGBM] [Warning] lambda_l2 is set=0.0005365134205407634, reg_lambda=0.0 will be ignored. Current value: lambda_l2=0.0005365134205407634\n",
      "[LightGBM] [Warning] lambda_l1 is set=0.05675782022120257, reg_alpha=0.0 will be ignored. Current value: lambda_l1=0.05675782022120257\n",
      "[LightGBM] [Warning] bagging_freq is set=7, subsample_freq=0 will be ignored. Current value: bagging_freq=7\n",
      "[LightGBM] [Warning] feature_fraction is set=0.42506299320164864, colsample_bytree=1.0 will be ignored. Current value: feature_fraction=0.42506299320164864\n",
      "[LightGBM] [Warning] bagging_fraction is set=0.6299169723536037, subsample=1.0 will be ignored. Current value: bagging_fraction=0.6299169723536037\n",
      "[LightGBM] [Warning] lambda_l2 is set=0.0005365134205407634, reg_lambda=0.0 will be ignored. Current value: lambda_l2=0.0005365134205407634\n",
      "[LightGBM] [Warning] lambda_l1 is set=0.05675782022120257, reg_alpha=0.0 will be ignored. Current value: lambda_l1=0.05675782022120257\n",
      "[LightGBM] [Warning] bagging_freq is set=7, subsample_freq=0 will be ignored. Current value: bagging_freq=7\n",
      "[LightGBM] [Warning] feature_fraction is set=0.42506299320164864, colsample_bytree=1.0 will be ignored. Current value: feature_fraction=0.42506299320164864\n",
      "[LightGBM] [Warning] bagging_fraction is set=0.6299169723536037, subsample=1.0 will be ignored. Current value: bagging_fraction=0.6299169723536037\n",
      "[LightGBM] [Warning] lambda_l2 is set=0.0005365134205407634, reg_lambda=0.0 will be ignored. Current value: lambda_l2=0.0005365134205407634\n",
      "[LightGBM] [Warning] lambda_l1 is set=0.05675782022120257, reg_alpha=0.0 will be ignored. Current value: lambda_l1=0.05675782022120257\n",
      "[LightGBM] [Warning] bagging_freq is set=7, subsample_freq=0 will be ignored. Current value: bagging_freq=7\n",
      "[LightGBM] [Warning] feature_fraction is set=0.42506299320164864, colsample_bytree=1.0 will be ignored. Current value: feature_fraction=0.42506299320164864\n",
      "[LightGBM] [Warning] bagging_fraction is set=0.6299169723536037, subsample=1.0 will be ignored. Current value: bagging_fraction=0.6299169723536037\n",
      "[LightGBM] [Warning] lambda_l2 is set=0.0005365134205407634, reg_lambda=0.0 will be ignored. Current value: lambda_l2=0.0005365134205407634\n",
      "[LightGBM] [Warning] lambda_l1 is set=0.05675782022120257, reg_alpha=0.0 will be ignored. Current value: lambda_l1=0.05675782022120257\n",
      "[LightGBM] [Warning] bagging_freq is set=7, subsample_freq=0 will be ignored. Current value: bagging_freq=7\n",
      "[LightGBM] [Warning] feature_fraction is set=0.42506299320164864, colsample_bytree=1.0 will be ignored. Current value: feature_fraction=0.42506299320164864\n"
     ]
    },
    {
     "name": "stderr",
     "output_type": "stream",
     "text": [
      "\u001b[32m[I 2023-03-29 02:51:36,228]\u001b[0m Trial 6 finished with value: 0.43302584758573925 and parameters: {'lambda_l1': 0.05675782022120257, 'lambda_l2': 0.0005365134205407634, 'num_leaves': 252, 'max_depth': 3, 'learning_rate': 0.013829498658546876, 'feature_fraction': 0.42506299320164864, 'bagging_fraction': 0.6299169723536037, 'bagging_freq': 7, 'min_child_samples': 81}. Best is trial 0 with value: 0.28193788760897553.\u001b[0m\n"
     ]
    },
    {
     "name": "stdout",
     "output_type": "stream",
     "text": [
      "[LightGBM] [Warning] bagging_fraction is set=0.6903020441864025, subsample=1.0 will be ignored. Current value: bagging_fraction=0.6903020441864025\n",
      "[LightGBM] [Warning] lambda_l2 is set=4.896513469675403e-06, reg_lambda=0.0 will be ignored. Current value: lambda_l2=4.896513469675403e-06\n",
      "[LightGBM] [Warning] lambda_l1 is set=2.210830879759589e-05, reg_alpha=0.0 will be ignored. Current value: lambda_l1=2.210830879759589e-05\n",
      "[LightGBM] [Warning] bagging_freq is set=7, subsample_freq=0 will be ignored. Current value: bagging_freq=7\n",
      "[LightGBM] [Warning] feature_fraction is set=0.860691414235061, colsample_bytree=1.0 will be ignored. Current value: feature_fraction=0.860691414235061\n",
      "[LightGBM] [Warning] bagging_fraction is set=0.6903020441864025, subsample=1.0 will be ignored. Current value: bagging_fraction=0.6903020441864025\n",
      "[LightGBM] [Warning] lambda_l2 is set=4.896513469675403e-06, reg_lambda=0.0 will be ignored. Current value: lambda_l2=4.896513469675403e-06\n",
      "[LightGBM] [Warning] lambda_l1 is set=2.210830879759589e-05, reg_alpha=0.0 will be ignored. Current value: lambda_l1=2.210830879759589e-05\n",
      "[LightGBM] [Warning] bagging_freq is set=7, subsample_freq=0 will be ignored. Current value: bagging_freq=7\n",
      "[LightGBM] [Warning] feature_fraction is set=0.860691414235061, colsample_bytree=1.0 will be ignored. Current value: feature_fraction=0.860691414235061\n",
      "[LightGBM] [Warning] bagging_fraction is set=0.6903020441864025, subsample=1.0 will be ignored. Current value: bagging_fraction=0.6903020441864025\n",
      "[LightGBM] [Warning] lambda_l2 is set=4.896513469675403e-06, reg_lambda=0.0 will be ignored. Current value: lambda_l2=4.896513469675403e-06\n",
      "[LightGBM] [Warning] lambda_l1 is set=2.210830879759589e-05, reg_alpha=0.0 will be ignored. Current value: lambda_l1=2.210830879759589e-05\n",
      "[LightGBM] [Warning] bagging_freq is set=7, subsample_freq=0 will be ignored. Current value: bagging_freq=7\n",
      "[LightGBM] [Warning] feature_fraction is set=0.860691414235061, colsample_bytree=1.0 will be ignored. Current value: feature_fraction=0.860691414235061\n",
      "[LightGBM] [Warning] bagging_fraction is set=0.6903020441864025, subsample=1.0 will be ignored. Current value: bagging_fraction=0.6903020441864025\n",
      "[LightGBM] [Warning] lambda_l2 is set=4.896513469675403e-06, reg_lambda=0.0 will be ignored. Current value: lambda_l2=4.896513469675403e-06\n",
      "[LightGBM] [Warning] lambda_l1 is set=2.210830879759589e-05, reg_alpha=0.0 will be ignored. Current value: lambda_l1=2.210830879759589e-05\n",
      "[LightGBM] [Warning] bagging_freq is set=7, subsample_freq=0 will be ignored. Current value: bagging_freq=7\n",
      "[LightGBM] [Warning] feature_fraction is set=0.860691414235061, colsample_bytree=1.0 will be ignored. Current value: feature_fraction=0.860691414235061\n",
      "[LightGBM] [Warning] bagging_fraction is set=0.6903020441864025, subsample=1.0 will be ignored. Current value: bagging_fraction=0.6903020441864025\n",
      "[LightGBM] [Warning] lambda_l2 is set=4.896513469675403e-06, reg_lambda=0.0 will be ignored. Current value: lambda_l2=4.896513469675403e-06\n",
      "[LightGBM] [Warning] lambda_l1 is set=2.210830879759589e-05, reg_alpha=0.0 will be ignored. Current value: lambda_l1=2.210830879759589e-05\n",
      "[LightGBM] [Warning] bagging_freq is set=7, subsample_freq=0 will be ignored. Current value: bagging_freq=7\n",
      "[LightGBM] [Warning] feature_fraction is set=0.860691414235061, colsample_bytree=1.0 will be ignored. Current value: feature_fraction=0.860691414235061\n",
      "[LightGBM] [Warning] bagging_fraction is set=0.6903020441864025, subsample=1.0 will be ignored. Current value: bagging_fraction=0.6903020441864025\n",
      "[LightGBM] [Warning] lambda_l2 is set=4.896513469675403e-06, reg_lambda=0.0 will be ignored. Current value: lambda_l2=4.896513469675403e-06\n",
      "[LightGBM] [Warning] lambda_l1 is set=2.210830879759589e-05, reg_alpha=0.0 will be ignored. Current value: lambda_l1=2.210830879759589e-05\n",
      "[LightGBM] [Warning] bagging_freq is set=7, subsample_freq=0 will be ignored. Current value: bagging_freq=7\n",
      "[LightGBM] [Warning] feature_fraction is set=0.860691414235061, colsample_bytree=1.0 will be ignored. Current value: feature_fraction=0.860691414235061\n"
     ]
    },
    {
     "name": "stderr",
     "output_type": "stream",
     "text": [
      "\u001b[32m[I 2023-03-29 02:51:38,205]\u001b[0m Trial 7 finished with value: 0.3784600588962586 and parameters: {'lambda_l1': 2.210830879759589e-05, 'lambda_l2': 4.896513469675403e-06, 'num_leaves': 231, 'max_depth': 20, 'learning_rate': 0.010604577857962073, 'feature_fraction': 0.860691414235061, 'bagging_fraction': 0.6903020441864025, 'bagging_freq': 7, 'min_child_samples': 68}. Best is trial 0 with value: 0.28193788760897553.\u001b[0m\n"
     ]
    },
    {
     "name": "stdout",
     "output_type": "stream",
     "text": [
      "[LightGBM] [Warning] bagging_fraction is set=0.9318019493921967, subsample=1.0 will be ignored. Current value: bagging_fraction=0.9318019493921967\n",
      "[LightGBM] [Warning] lambda_l2 is set=3.324595090460979e-08, reg_lambda=0.0 will be ignored. Current value: lambda_l2=3.324595090460979e-08\n",
      "[LightGBM] [Warning] lambda_l1 is set=0.003105748430616563, reg_alpha=0.0 will be ignored. Current value: lambda_l1=0.003105748430616563\n",
      "[LightGBM] [Warning] bagging_freq is set=2, subsample_freq=0 will be ignored. Current value: bagging_freq=2\n",
      "[LightGBM] [Warning] feature_fraction is set=0.9162501758525269, colsample_bytree=1.0 will be ignored. Current value: feature_fraction=0.9162501758525269\n",
      "[LightGBM] [Warning] bagging_fraction is set=0.9318019493921967, subsample=1.0 will be ignored. Current value: bagging_fraction=0.9318019493921967\n",
      "[LightGBM] [Warning] lambda_l2 is set=3.324595090460979e-08, reg_lambda=0.0 will be ignored. Current value: lambda_l2=3.324595090460979e-08\n",
      "[LightGBM] [Warning] lambda_l1 is set=0.003105748430616563, reg_alpha=0.0 will be ignored. Current value: lambda_l1=0.003105748430616563\n",
      "[LightGBM] [Warning] bagging_freq is set=2, subsample_freq=0 will be ignored. Current value: bagging_freq=2\n",
      "[LightGBM] [Warning] feature_fraction is set=0.9162501758525269, colsample_bytree=1.0 will be ignored. Current value: feature_fraction=0.9162501758525269\n",
      "[LightGBM] [Warning] bagging_fraction is set=0.9318019493921967, subsample=1.0 will be ignored. Current value: bagging_fraction=0.9318019493921967\n",
      "[LightGBM] [Warning] lambda_l2 is set=3.324595090460979e-08, reg_lambda=0.0 will be ignored. Current value: lambda_l2=3.324595090460979e-08\n",
      "[LightGBM] [Warning] lambda_l1 is set=0.003105748430616563, reg_alpha=0.0 will be ignored. Current value: lambda_l1=0.003105748430616563\n",
      "[LightGBM] [Warning] bagging_freq is set=2, subsample_freq=0 will be ignored. Current value: bagging_freq=2\n",
      "[LightGBM] [Warning] feature_fraction is set=0.9162501758525269, colsample_bytree=1.0 will be ignored. Current value: feature_fraction=0.9162501758525269\n",
      "[LightGBM] [Warning] bagging_fraction is set=0.9318019493921967, subsample=1.0 will be ignored. Current value: bagging_fraction=0.9318019493921967\n",
      "[LightGBM] [Warning] lambda_l2 is set=3.324595090460979e-08, reg_lambda=0.0 will be ignored. Current value: lambda_l2=3.324595090460979e-08\n",
      "[LightGBM] [Warning] lambda_l1 is set=0.003105748430616563, reg_alpha=0.0 will be ignored. Current value: lambda_l1=0.003105748430616563\n",
      "[LightGBM] [Warning] bagging_freq is set=2, subsample_freq=0 will be ignored. Current value: bagging_freq=2\n",
      "[LightGBM] [Warning] feature_fraction is set=0.9162501758525269, colsample_bytree=1.0 will be ignored. Current value: feature_fraction=0.9162501758525269\n",
      "[LightGBM] [Warning] bagging_fraction is set=0.9318019493921967, subsample=1.0 will be ignored. Current value: bagging_fraction=0.9318019493921967\n",
      "[LightGBM] [Warning] lambda_l2 is set=3.324595090460979e-08, reg_lambda=0.0 will be ignored. Current value: lambda_l2=3.324595090460979e-08\n",
      "[LightGBM] [Warning] lambda_l1 is set=0.003105748430616563, reg_alpha=0.0 will be ignored. Current value: lambda_l1=0.003105748430616563\n",
      "[LightGBM] [Warning] bagging_freq is set=2, subsample_freq=0 will be ignored. Current value: bagging_freq=2\n",
      "[LightGBM] [Warning] feature_fraction is set=0.9162501758525269, colsample_bytree=1.0 will be ignored. Current value: feature_fraction=0.9162501758525269\n",
      "[LightGBM] [Warning] bagging_fraction is set=0.9318019493921967, subsample=1.0 will be ignored. Current value: bagging_fraction=0.9318019493921967\n",
      "[LightGBM] [Warning] lambda_l2 is set=3.324595090460979e-08, reg_lambda=0.0 will be ignored. Current value: lambda_l2=3.324595090460979e-08\n",
      "[LightGBM] [Warning] lambda_l1 is set=0.003105748430616563, reg_alpha=0.0 will be ignored. Current value: lambda_l1=0.003105748430616563\n",
      "[LightGBM] [Warning] bagging_freq is set=2, subsample_freq=0 will be ignored. Current value: bagging_freq=2\n",
      "[LightGBM] [Warning] feature_fraction is set=0.9162501758525269, colsample_bytree=1.0 will be ignored. Current value: feature_fraction=0.9162501758525269\n"
     ]
    },
    {
     "name": "stderr",
     "output_type": "stream",
     "text": [
      "\u001b[32m[I 2023-03-29 02:51:44,242]\u001b[0m Trial 8 finished with value: 0.2946043819638992 and parameters: {'lambda_l1': 0.003105748430616563, 'lambda_l2': 3.324595090460979e-08, 'num_leaves': 77, 'max_depth': 9, 'learning_rate': 0.018918584997372544, 'feature_fraction': 0.9162501758525269, 'bagging_fraction': 0.9318019493921967, 'bagging_freq': 2, 'min_child_samples': 26}. Best is trial 0 with value: 0.28193788760897553.\u001b[0m\n"
     ]
    },
    {
     "name": "stdout",
     "output_type": "stream",
     "text": [
      "[LightGBM] [Warning] bagging_fraction is set=0.8050524512578225, subsample=1.0 will be ignored. Current value: bagging_fraction=0.8050524512578225\n",
      "[LightGBM] [Warning] lambda_l2 is set=1.9014621973479826e-07, reg_lambda=0.0 will be ignored. Current value: lambda_l2=1.9014621973479826e-07\n",
      "[LightGBM] [Warning] lambda_l1 is set=0.002383727516725863, reg_alpha=0.0 will be ignored. Current value: lambda_l1=0.002383727516725863\n",
      "[LightGBM] [Warning] bagging_freq is set=5, subsample_freq=0 will be ignored. Current value: bagging_freq=5\n",
      "[LightGBM] [Warning] feature_fraction is set=0.8435965370939726, colsample_bytree=1.0 will be ignored. Current value: feature_fraction=0.8435965370939726\n",
      "[LightGBM] [Warning] bagging_fraction is set=0.8050524512578225, subsample=1.0 will be ignored. Current value: bagging_fraction=0.8050524512578225\n",
      "[LightGBM] [Warning] lambda_l2 is set=1.9014621973479826e-07, reg_lambda=0.0 will be ignored. Current value: lambda_l2=1.9014621973479826e-07\n",
      "[LightGBM] [Warning] lambda_l1 is set=0.002383727516725863, reg_alpha=0.0 will be ignored. Current value: lambda_l1=0.002383727516725863\n",
      "[LightGBM] [Warning] bagging_freq is set=5, subsample_freq=0 will be ignored. Current value: bagging_freq=5\n",
      "[LightGBM] [Warning] feature_fraction is set=0.8435965370939726, colsample_bytree=1.0 will be ignored. Current value: feature_fraction=0.8435965370939726\n",
      "[LightGBM] [Warning] bagging_fraction is set=0.8050524512578225, subsample=1.0 will be ignored. Current value: bagging_fraction=0.8050524512578225\n",
      "[LightGBM] [Warning] lambda_l2 is set=1.9014621973479826e-07, reg_lambda=0.0 will be ignored. Current value: lambda_l2=1.9014621973479826e-07\n",
      "[LightGBM] [Warning] lambda_l1 is set=0.002383727516725863, reg_alpha=0.0 will be ignored. Current value: lambda_l1=0.002383727516725863\n",
      "[LightGBM] [Warning] bagging_freq is set=5, subsample_freq=0 will be ignored. Current value: bagging_freq=5\n",
      "[LightGBM] [Warning] feature_fraction is set=0.8435965370939726, colsample_bytree=1.0 will be ignored. Current value: feature_fraction=0.8435965370939726\n",
      "[LightGBM] [Warning] bagging_fraction is set=0.8050524512578225, subsample=1.0 will be ignored. Current value: bagging_fraction=0.8050524512578225\n",
      "[LightGBM] [Warning] lambda_l2 is set=1.9014621973479826e-07, reg_lambda=0.0 will be ignored. Current value: lambda_l2=1.9014621973479826e-07\n",
      "[LightGBM] [Warning] lambda_l1 is set=0.002383727516725863, reg_alpha=0.0 will be ignored. Current value: lambda_l1=0.002383727516725863\n",
      "[LightGBM] [Warning] bagging_freq is set=5, subsample_freq=0 will be ignored. Current value: bagging_freq=5\n",
      "[LightGBM] [Warning] feature_fraction is set=0.8435965370939726, colsample_bytree=1.0 will be ignored. Current value: feature_fraction=0.8435965370939726\n",
      "[LightGBM] [Warning] bagging_fraction is set=0.8050524512578225, subsample=1.0 will be ignored. Current value: bagging_fraction=0.8050524512578225\n",
      "[LightGBM] [Warning] lambda_l2 is set=1.9014621973479826e-07, reg_lambda=0.0 will be ignored. Current value: lambda_l2=1.9014621973479826e-07\n",
      "[LightGBM] [Warning] lambda_l1 is set=0.002383727516725863, reg_alpha=0.0 will be ignored. Current value: lambda_l1=0.002383727516725863\n",
      "[LightGBM] [Warning] bagging_freq is set=5, subsample_freq=0 will be ignored. Current value: bagging_freq=5\n",
      "[LightGBM] [Warning] feature_fraction is set=0.8435965370939726, colsample_bytree=1.0 will be ignored. Current value: feature_fraction=0.8435965370939726\n",
      "[LightGBM] [Warning] bagging_fraction is set=0.8050524512578225, subsample=1.0 will be ignored. Current value: bagging_fraction=0.8050524512578225\n",
      "[LightGBM] [Warning] lambda_l2 is set=1.9014621973479826e-07, reg_lambda=0.0 will be ignored. Current value: lambda_l2=1.9014621973479826e-07\n",
      "[LightGBM] [Warning] lambda_l1 is set=0.002383727516725863, reg_alpha=0.0 will be ignored. Current value: lambda_l1=0.002383727516725863\n",
      "[LightGBM] [Warning] bagging_freq is set=5, subsample_freq=0 will be ignored. Current value: bagging_freq=5\n",
      "[LightGBM] [Warning] feature_fraction is set=0.8435965370939726, colsample_bytree=1.0 will be ignored. Current value: feature_fraction=0.8435965370939726\n"
     ]
    },
    {
     "name": "stderr",
     "output_type": "stream",
     "text": [
      "\u001b[32m[I 2023-03-29 02:51:46,582]\u001b[0m Trial 9 finished with value: 0.3144014893551814 and parameters: {'lambda_l1': 0.002383727516725863, 'lambda_l2': 1.9014621973479826e-07, 'num_leaves': 148, 'max_depth': 26, 'learning_rate': 0.2150769398243538, 'feature_fraction': 0.8435965370939726, 'bagging_fraction': 0.8050524512578225, 'bagging_freq': 5, 'min_child_samples': 58}. Best is trial 0 with value: 0.28193788760897553.\u001b[0m\n"
     ]
    },
    {
     "name": "stdout",
     "output_type": "stream",
     "text": [
      "[LightGBM] [Warning] bagging_fraction is set=0.563116193168711, subsample=1.0 will be ignored. Current value: bagging_fraction=0.563116193168711\n",
      "[LightGBM] [Warning] lambda_l2 is set=1.4169684932443791, reg_lambda=0.0 will be ignored. Current value: lambda_l2=1.4169684932443791\n",
      "[LightGBM] [Warning] lambda_l1 is set=1.2156466137103545e-08, reg_alpha=0.0 will be ignored. Current value: lambda_l1=1.2156466137103545e-08\n",
      "[LightGBM] [Warning] bagging_freq is set=2, subsample_freq=0 will be ignored. Current value: bagging_freq=2\n",
      "[LightGBM] [Warning] feature_fraction is set=0.5693630761965044, colsample_bytree=1.0 will be ignored. Current value: feature_fraction=0.5693630761965044\n",
      "[LightGBM] [Warning] bagging_fraction is set=0.563116193168711, subsample=1.0 will be ignored. Current value: bagging_fraction=0.563116193168711\n",
      "[LightGBM] [Warning] lambda_l2 is set=1.4169684932443791, reg_lambda=0.0 will be ignored. Current value: lambda_l2=1.4169684932443791\n",
      "[LightGBM] [Warning] lambda_l1 is set=1.2156466137103545e-08, reg_alpha=0.0 will be ignored. Current value: lambda_l1=1.2156466137103545e-08\n",
      "[LightGBM] [Warning] bagging_freq is set=2, subsample_freq=0 will be ignored. Current value: bagging_freq=2\n",
      "[LightGBM] [Warning] feature_fraction is set=0.5693630761965044, colsample_bytree=1.0 will be ignored. Current value: feature_fraction=0.5693630761965044\n",
      "[LightGBM] [Warning] bagging_fraction is set=0.563116193168711, subsample=1.0 will be ignored. Current value: bagging_fraction=0.563116193168711\n",
      "[LightGBM] [Warning] lambda_l2 is set=1.4169684932443791, reg_lambda=0.0 will be ignored. Current value: lambda_l2=1.4169684932443791\n",
      "[LightGBM] [Warning] lambda_l1 is set=1.2156466137103545e-08, reg_alpha=0.0 will be ignored. Current value: lambda_l1=1.2156466137103545e-08\n",
      "[LightGBM] [Warning] bagging_freq is set=2, subsample_freq=0 will be ignored. Current value: bagging_freq=2\n",
      "[LightGBM] [Warning] feature_fraction is set=0.5693630761965044, colsample_bytree=1.0 will be ignored. Current value: feature_fraction=0.5693630761965044\n",
      "[LightGBM] [Warning] bagging_fraction is set=0.563116193168711, subsample=1.0 will be ignored. Current value: bagging_fraction=0.563116193168711\n",
      "[LightGBM] [Warning] lambda_l2 is set=1.4169684932443791, reg_lambda=0.0 will be ignored. Current value: lambda_l2=1.4169684932443791\n",
      "[LightGBM] [Warning] lambda_l1 is set=1.2156466137103545e-08, reg_alpha=0.0 will be ignored. Current value: lambda_l1=1.2156466137103545e-08\n",
      "[LightGBM] [Warning] bagging_freq is set=2, subsample_freq=0 will be ignored. Current value: bagging_freq=2\n",
      "[LightGBM] [Warning] feature_fraction is set=0.5693630761965044, colsample_bytree=1.0 will be ignored. Current value: feature_fraction=0.5693630761965044\n",
      "[LightGBM] [Warning] bagging_fraction is set=0.563116193168711, subsample=1.0 will be ignored. Current value: bagging_fraction=0.563116193168711\n",
      "[LightGBM] [Warning] lambda_l2 is set=1.4169684932443791, reg_lambda=0.0 will be ignored. Current value: lambda_l2=1.4169684932443791\n",
      "[LightGBM] [Warning] lambda_l1 is set=1.2156466137103545e-08, reg_alpha=0.0 will be ignored. Current value: lambda_l1=1.2156466137103545e-08\n",
      "[LightGBM] [Warning] bagging_freq is set=2, subsample_freq=0 will be ignored. Current value: bagging_freq=2\n",
      "[LightGBM] [Warning] feature_fraction is set=0.5693630761965044, colsample_bytree=1.0 will be ignored. Current value: feature_fraction=0.5693630761965044\n"
     ]
    },
    {
     "name": "stderr",
     "output_type": "stream",
     "text": [
      "\u001b[32m[I 2023-03-29 02:51:47,974]\u001b[0m Trial 10 finished with value: 0.2782725322403391 and parameters: {'lambda_l1': 1.2156466137103545e-08, 'lambda_l2': 1.4169684932443791, 'num_leaves': 191, 'max_depth': 30, 'learning_rate': 0.09394856732454662, 'feature_fraction': 0.5693630761965044, 'bagging_fraction': 0.563116193168711, 'bagging_freq': 2, 'min_child_samples': 100}. Best is trial 10 with value: 0.2782725322403391.\u001b[0m\n"
     ]
    },
    {
     "name": "stdout",
     "output_type": "stream",
     "text": [
      "[LightGBM] [Warning] bagging_fraction is set=0.563116193168711, subsample=1.0 will be ignored. Current value: bagging_fraction=0.563116193168711\n",
      "[LightGBM] [Warning] lambda_l2 is set=1.4169684932443791, reg_lambda=0.0 will be ignored. Current value: lambda_l2=1.4169684932443791\n",
      "[LightGBM] [Warning] lambda_l1 is set=1.2156466137103545e-08, reg_alpha=0.0 will be ignored. Current value: lambda_l1=1.2156466137103545e-08\n",
      "[LightGBM] [Warning] bagging_freq is set=2, subsample_freq=0 will be ignored. Current value: bagging_freq=2\n",
      "[LightGBM] [Warning] feature_fraction is set=0.5693630761965044, colsample_bytree=1.0 will be ignored. Current value: feature_fraction=0.5693630761965044\n",
      "[LightGBM] [Warning] bagging_fraction is set=0.5706981474879839, subsample=1.0 will be ignored. Current value: bagging_fraction=0.5706981474879839\n",
      "[LightGBM] [Warning] lambda_l2 is set=8.15656436451563, reg_lambda=0.0 will be ignored. Current value: lambda_l2=8.15656436451563\n",
      "[LightGBM] [Warning] lambda_l1 is set=1.3958640085069652e-08, reg_alpha=0.0 will be ignored. Current value: lambda_l1=1.3958640085069652e-08\n",
      "[LightGBM] [Warning] bagging_freq is set=1, subsample_freq=0 will be ignored. Current value: bagging_freq=1\n",
      "[LightGBM] [Warning] feature_fraction is set=0.5459542830907008, colsample_bytree=1.0 will be ignored. Current value: feature_fraction=0.5459542830907008\n",
      "[LightGBM] [Warning] bagging_fraction is set=0.5706981474879839, subsample=1.0 will be ignored. Current value: bagging_fraction=0.5706981474879839\n",
      "[LightGBM] [Warning] lambda_l2 is set=8.15656436451563, reg_lambda=0.0 will be ignored. Current value: lambda_l2=8.15656436451563\n",
      "[LightGBM] [Warning] lambda_l1 is set=1.3958640085069652e-08, reg_alpha=0.0 will be ignored. Current value: lambda_l1=1.3958640085069652e-08\n",
      "[LightGBM] [Warning] bagging_freq is set=1, subsample_freq=0 will be ignored. Current value: bagging_freq=1\n",
      "[LightGBM] [Warning] feature_fraction is set=0.5459542830907008, colsample_bytree=1.0 will be ignored. Current value: feature_fraction=0.5459542830907008\n",
      "[LightGBM] [Warning] bagging_fraction is set=0.5706981474879839, subsample=1.0 will be ignored. Current value: bagging_fraction=0.5706981474879839\n",
      "[LightGBM] [Warning] lambda_l2 is set=8.15656436451563, reg_lambda=0.0 will be ignored. Current value: lambda_l2=8.15656436451563\n",
      "[LightGBM] [Warning] lambda_l1 is set=1.3958640085069652e-08, reg_alpha=0.0 will be ignored. Current value: lambda_l1=1.3958640085069652e-08\n",
      "[LightGBM] [Warning] bagging_freq is set=1, subsample_freq=0 will be ignored. Current value: bagging_freq=1\n",
      "[LightGBM] [Warning] feature_fraction is set=0.5459542830907008, colsample_bytree=1.0 will be ignored. Current value: feature_fraction=0.5459542830907008\n",
      "[LightGBM] [Warning] bagging_fraction is set=0.5706981474879839, subsample=1.0 will be ignored. Current value: bagging_fraction=0.5706981474879839\n",
      "[LightGBM] [Warning] lambda_l2 is set=8.15656436451563, reg_lambda=0.0 will be ignored. Current value: lambda_l2=8.15656436451563\n",
      "[LightGBM] [Warning] lambda_l1 is set=1.3958640085069652e-08, reg_alpha=0.0 will be ignored. Current value: lambda_l1=1.3958640085069652e-08\n",
      "[LightGBM] [Warning] bagging_freq is set=1, subsample_freq=0 will be ignored. Current value: bagging_freq=1\n",
      "[LightGBM] [Warning] feature_fraction is set=0.5459542830907008, colsample_bytree=1.0 will be ignored. Current value: feature_fraction=0.5459542830907008\n",
      "[LightGBM] [Warning] bagging_fraction is set=0.5706981474879839, subsample=1.0 will be ignored. Current value: bagging_fraction=0.5706981474879839\n",
      "[LightGBM] [Warning] lambda_l2 is set=8.15656436451563, reg_lambda=0.0 will be ignored. Current value: lambda_l2=8.15656436451563\n",
      "[LightGBM] [Warning] lambda_l1 is set=1.3958640085069652e-08, reg_alpha=0.0 will be ignored. Current value: lambda_l1=1.3958640085069652e-08\n",
      "[LightGBM] [Warning] bagging_freq is set=1, subsample_freq=0 will be ignored. Current value: bagging_freq=1\n",
      "[LightGBM] [Warning] feature_fraction is set=0.5459542830907008, colsample_bytree=1.0 will be ignored. Current value: feature_fraction=0.5459542830907008\n",
      "[LightGBM] [Warning] bagging_fraction is set=0.5706981474879839, subsample=1.0 will be ignored. Current value: bagging_fraction=0.5706981474879839\n",
      "[LightGBM] [Warning] lambda_l2 is set=8.15656436451563, reg_lambda=0.0 will be ignored. Current value: lambda_l2=8.15656436451563\n",
      "[LightGBM] [Warning] lambda_l1 is set=1.3958640085069652e-08, reg_alpha=0.0 will be ignored. Current value: lambda_l1=1.3958640085069652e-08\n",
      "[LightGBM] [Warning] bagging_freq is set=1, subsample_freq=0 will be ignored. Current value: bagging_freq=1\n",
      "[LightGBM] [Warning] feature_fraction is set=0.5459542830907008, colsample_bytree=1.0 will be ignored. Current value: feature_fraction=0.5459542830907008\n"
     ]
    },
    {
     "name": "stderr",
     "output_type": "stream",
     "text": [
      "\u001b[32m[I 2023-03-29 02:51:49,281]\u001b[0m Trial 11 finished with value: 0.2758774239398164 and parameters: {'lambda_l1': 1.3958640085069652e-08, 'lambda_l2': 8.15656436451563, 'num_leaves': 191, 'max_depth': 30, 'learning_rate': 0.09794867332385071, 'feature_fraction': 0.5459542830907008, 'bagging_fraction': 0.5706981474879839, 'bagging_freq': 1, 'min_child_samples': 100}. Best is trial 11 with value: 0.2758774239398164.\u001b[0m\n"
     ]
    },
    {
     "name": "stdout",
     "output_type": "stream",
     "text": [
      "[LightGBM] [Warning] bagging_fraction is set=0.5429075402384197, subsample=1.0 will be ignored. Current value: bagging_fraction=0.5429075402384197\n",
      "[LightGBM] [Warning] lambda_l2 is set=0.1721347257616432, reg_lambda=0.0 will be ignored. Current value: lambda_l2=0.1721347257616432\n",
      "[LightGBM] [Warning] lambda_l1 is set=1.0820532391511269e-08, reg_alpha=0.0 will be ignored. Current value: lambda_l1=1.0820532391511269e-08\n",
      "[LightGBM] [Warning] bagging_freq is set=1, subsample_freq=0 will be ignored. Current value: bagging_freq=1\n",
      "[LightGBM] [Warning] feature_fraction is set=0.5913432176136763, colsample_bytree=1.0 will be ignored. Current value: feature_fraction=0.5913432176136763\n",
      "[LightGBM] [Warning] bagging_fraction is set=0.5429075402384197, subsample=1.0 will be ignored. Current value: bagging_fraction=0.5429075402384197\n",
      "[LightGBM] [Warning] lambda_l2 is set=0.1721347257616432, reg_lambda=0.0 will be ignored. Current value: lambda_l2=0.1721347257616432\n",
      "[LightGBM] [Warning] lambda_l1 is set=1.0820532391511269e-08, reg_alpha=0.0 will be ignored. Current value: lambda_l1=1.0820532391511269e-08\n",
      "[LightGBM] [Warning] bagging_freq is set=1, subsample_freq=0 will be ignored. Current value: bagging_freq=1\n",
      "[LightGBM] [Warning] feature_fraction is set=0.5913432176136763, colsample_bytree=1.0 will be ignored. Current value: feature_fraction=0.5913432176136763\n",
      "[LightGBM] [Warning] bagging_fraction is set=0.5429075402384197, subsample=1.0 will be ignored. Current value: bagging_fraction=0.5429075402384197\n",
      "[LightGBM] [Warning] lambda_l2 is set=0.1721347257616432, reg_lambda=0.0 will be ignored. Current value: lambda_l2=0.1721347257616432\n",
      "[LightGBM] [Warning] lambda_l1 is set=1.0820532391511269e-08, reg_alpha=0.0 will be ignored. Current value: lambda_l1=1.0820532391511269e-08\n",
      "[LightGBM] [Warning] bagging_freq is set=1, subsample_freq=0 will be ignored. Current value: bagging_freq=1\n",
      "[LightGBM] [Warning] feature_fraction is set=0.5913432176136763, colsample_bytree=1.0 will be ignored. Current value: feature_fraction=0.5913432176136763\n",
      "[LightGBM] [Warning] bagging_fraction is set=0.5429075402384197, subsample=1.0 will be ignored. Current value: bagging_fraction=0.5429075402384197\n",
      "[LightGBM] [Warning] lambda_l2 is set=0.1721347257616432, reg_lambda=0.0 will be ignored. Current value: lambda_l2=0.1721347257616432\n",
      "[LightGBM] [Warning] lambda_l1 is set=1.0820532391511269e-08, reg_alpha=0.0 will be ignored. Current value: lambda_l1=1.0820532391511269e-08\n",
      "[LightGBM] [Warning] bagging_freq is set=1, subsample_freq=0 will be ignored. Current value: bagging_freq=1\n",
      "[LightGBM] [Warning] feature_fraction is set=0.5913432176136763, colsample_bytree=1.0 will be ignored. Current value: feature_fraction=0.5913432176136763\n",
      "[LightGBM] [Warning] bagging_fraction is set=0.5429075402384197, subsample=1.0 will be ignored. Current value: bagging_fraction=0.5429075402384197\n",
      "[LightGBM] [Warning] lambda_l2 is set=0.1721347257616432, reg_lambda=0.0 will be ignored. Current value: lambda_l2=0.1721347257616432\n",
      "[LightGBM] [Warning] lambda_l1 is set=1.0820532391511269e-08, reg_alpha=0.0 will be ignored. Current value: lambda_l1=1.0820532391511269e-08\n",
      "[LightGBM] [Warning] bagging_freq is set=1, subsample_freq=0 will be ignored. Current value: bagging_freq=1\n",
      "[LightGBM] [Warning] feature_fraction is set=0.5913432176136763, colsample_bytree=1.0 will be ignored. Current value: feature_fraction=0.5913432176136763\n",
      "[LightGBM] [Warning] bagging_fraction is set=0.5429075402384197, subsample=1.0 will be ignored. Current value: bagging_fraction=0.5429075402384197\n",
      "[LightGBM] [Warning] lambda_l2 is set=0.1721347257616432, reg_lambda=0.0 will be ignored. Current value: lambda_l2=0.1721347257616432\n",
      "[LightGBM] [Warning] lambda_l1 is set=1.0820532391511269e-08, reg_alpha=0.0 will be ignored. Current value: lambda_l1=1.0820532391511269e-08\n",
      "[LightGBM] [Warning] bagging_freq is set=1, subsample_freq=0 will be ignored. Current value: bagging_freq=1\n",
      "[LightGBM] [Warning] feature_fraction is set=0.5913432176136763, colsample_bytree=1.0 will be ignored. Current value: feature_fraction=0.5913432176136763\n"
     ]
    },
    {
     "name": "stderr",
     "output_type": "stream",
     "text": [
      "\u001b[32m[I 2023-03-29 02:51:50,615]\u001b[0m Trial 12 finished with value: 0.28207387080991203 and parameters: {'lambda_l1': 1.0820532391511269e-08, 'lambda_l2': 0.1721347257616432, 'num_leaves': 185, 'max_depth': 30, 'learning_rate': 0.13906024765756925, 'feature_fraction': 0.5913432176136763, 'bagging_fraction': 0.5429075402384197, 'bagging_freq': 1, 'min_child_samples': 100}. Best is trial 11 with value: 0.2758774239398164.\u001b[0m\n"
     ]
    },
    {
     "name": "stdout",
     "output_type": "stream",
     "text": [
      "[LightGBM] [Warning] bagging_fraction is set=0.5777421018637192, subsample=1.0 will be ignored. Current value: bagging_fraction=0.5777421018637192\n",
      "[LightGBM] [Warning] lambda_l2 is set=0.15849664298822422, reg_lambda=0.0 will be ignored. Current value: lambda_l2=0.15849664298822422\n",
      "[LightGBM] [Warning] lambda_l1 is set=3.43097987006926e-07, reg_alpha=0.0 will be ignored. Current value: lambda_l1=3.43097987006926e-07\n",
      "[LightGBM] [Warning] bagging_freq is set=2, subsample_freq=0 will be ignored. Current value: bagging_freq=2\n",
      "[LightGBM] [Warning] feature_fraction is set=0.6200224879520615, colsample_bytree=1.0 will be ignored. Current value: feature_fraction=0.6200224879520615\n",
      "[LightGBM] [Warning] bagging_fraction is set=0.5777421018637192, subsample=1.0 will be ignored. Current value: bagging_fraction=0.5777421018637192\n",
      "[LightGBM] [Warning] lambda_l2 is set=0.15849664298822422, reg_lambda=0.0 will be ignored. Current value: lambda_l2=0.15849664298822422\n",
      "[LightGBM] [Warning] lambda_l1 is set=3.43097987006926e-07, reg_alpha=0.0 will be ignored. Current value: lambda_l1=3.43097987006926e-07\n",
      "[LightGBM] [Warning] bagging_freq is set=2, subsample_freq=0 will be ignored. Current value: bagging_freq=2\n",
      "[LightGBM] [Warning] feature_fraction is set=0.6200224879520615, colsample_bytree=1.0 will be ignored. Current value: feature_fraction=0.6200224879520615\n",
      "[LightGBM] [Warning] bagging_fraction is set=0.5777421018637192, subsample=1.0 will be ignored. Current value: bagging_fraction=0.5777421018637192\n",
      "[LightGBM] [Warning] lambda_l2 is set=0.15849664298822422, reg_lambda=0.0 will be ignored. Current value: lambda_l2=0.15849664298822422\n",
      "[LightGBM] [Warning] lambda_l1 is set=3.43097987006926e-07, reg_alpha=0.0 will be ignored. Current value: lambda_l1=3.43097987006926e-07\n",
      "[LightGBM] [Warning] bagging_freq is set=2, subsample_freq=0 will be ignored. Current value: bagging_freq=2\n",
      "[LightGBM] [Warning] feature_fraction is set=0.6200224879520615, colsample_bytree=1.0 will be ignored. Current value: feature_fraction=0.6200224879520615\n",
      "[LightGBM] [Warning] bagging_fraction is set=0.5777421018637192, subsample=1.0 will be ignored. Current value: bagging_fraction=0.5777421018637192\n",
      "[LightGBM] [Warning] lambda_l2 is set=0.15849664298822422, reg_lambda=0.0 will be ignored. Current value: lambda_l2=0.15849664298822422\n",
      "[LightGBM] [Warning] lambda_l1 is set=3.43097987006926e-07, reg_alpha=0.0 will be ignored. Current value: lambda_l1=3.43097987006926e-07\n",
      "[LightGBM] [Warning] bagging_freq is set=2, subsample_freq=0 will be ignored. Current value: bagging_freq=2\n",
      "[LightGBM] [Warning] feature_fraction is set=0.6200224879520615, colsample_bytree=1.0 will be ignored. Current value: feature_fraction=0.6200224879520615\n",
      "[LightGBM] [Warning] bagging_fraction is set=0.5777421018637192, subsample=1.0 will be ignored. Current value: bagging_fraction=0.5777421018637192\n",
      "[LightGBM] [Warning] lambda_l2 is set=0.15849664298822422, reg_lambda=0.0 will be ignored. Current value: lambda_l2=0.15849664298822422\n",
      "[LightGBM] [Warning] lambda_l1 is set=3.43097987006926e-07, reg_alpha=0.0 will be ignored. Current value: lambda_l1=3.43097987006926e-07\n",
      "[LightGBM] [Warning] bagging_freq is set=2, subsample_freq=0 will be ignored. Current value: bagging_freq=2\n",
      "[LightGBM] [Warning] feature_fraction is set=0.6200224879520615, colsample_bytree=1.0 will be ignored. Current value: feature_fraction=0.6200224879520615\n",
      "[LightGBM] [Warning] bagging_fraction is set=0.5777421018637192, subsample=1.0 will be ignored. Current value: bagging_fraction=0.5777421018637192\n",
      "[LightGBM] [Warning] lambda_l2 is set=0.15849664298822422, reg_lambda=0.0 will be ignored. Current value: lambda_l2=0.15849664298822422\n",
      "[LightGBM] [Warning] lambda_l1 is set=3.43097987006926e-07, reg_alpha=0.0 will be ignored. Current value: lambda_l1=3.43097987006926e-07\n",
      "[LightGBM] [Warning] bagging_freq is set=2, subsample_freq=0 will be ignored. Current value: bagging_freq=2\n",
      "[LightGBM] [Warning] feature_fraction is set=0.6200224879520615, colsample_bytree=1.0 will be ignored. Current value: feature_fraction=0.6200224879520615\n"
     ]
    },
    {
     "name": "stderr",
     "output_type": "stream",
     "text": [
      "\u001b[32m[I 2023-03-29 02:51:52,120]\u001b[0m Trial 13 finished with value: 0.27874704330019096 and parameters: {'lambda_l1': 3.43097987006926e-07, 'lambda_l2': 0.15849664298822422, 'num_leaves': 97, 'max_depth': 30, 'learning_rate': 0.09681012773997368, 'feature_fraction': 0.6200224879520615, 'bagging_fraction': 0.5777421018637192, 'bagging_freq': 2, 'min_child_samples': 99}. Best is trial 11 with value: 0.2758774239398164.\u001b[0m\n"
     ]
    },
    {
     "name": "stdout",
     "output_type": "stream",
     "text": [
      "[LightGBM] [Warning] bagging_fraction is set=0.535384893451322, subsample=1.0 will be ignored. Current value: bagging_fraction=0.535384893451322\n",
      "[LightGBM] [Warning] lambda_l2 is set=0.3220026806115129, reg_lambda=0.0 will be ignored. Current value: lambda_l2=0.3220026806115129\n",
      "[LightGBM] [Warning] lambda_l1 is set=9.833043346408145e-07, reg_alpha=0.0 will be ignored. Current value: lambda_l1=9.833043346408145e-07\n",
      "[LightGBM] [Warning] bagging_freq is set=1, subsample_freq=0 will be ignored. Current value: bagging_freq=1\n",
      "[LightGBM] [Warning] feature_fraction is set=0.5635631351576955, colsample_bytree=1.0 will be ignored. Current value: feature_fraction=0.5635631351576955\n",
      "[LightGBM] [Warning] bagging_fraction is set=0.535384893451322, subsample=1.0 will be ignored. Current value: bagging_fraction=0.535384893451322\n",
      "[LightGBM] [Warning] lambda_l2 is set=0.3220026806115129, reg_lambda=0.0 will be ignored. Current value: lambda_l2=0.3220026806115129\n",
      "[LightGBM] [Warning] lambda_l1 is set=9.833043346408145e-07, reg_alpha=0.0 will be ignored. Current value: lambda_l1=9.833043346408145e-07\n",
      "[LightGBM] [Warning] bagging_freq is set=1, subsample_freq=0 will be ignored. Current value: bagging_freq=1\n",
      "[LightGBM] [Warning] feature_fraction is set=0.5635631351576955, colsample_bytree=1.0 will be ignored. Current value: feature_fraction=0.5635631351576955\n",
      "[LightGBM] [Warning] bagging_fraction is set=0.535384893451322, subsample=1.0 will be ignored. Current value: bagging_fraction=0.535384893451322\n",
      "[LightGBM] [Warning] lambda_l2 is set=0.3220026806115129, reg_lambda=0.0 will be ignored. Current value: lambda_l2=0.3220026806115129\n",
      "[LightGBM] [Warning] lambda_l1 is set=9.833043346408145e-07, reg_alpha=0.0 will be ignored. Current value: lambda_l1=9.833043346408145e-07\n",
      "[LightGBM] [Warning] bagging_freq is set=1, subsample_freq=0 will be ignored. Current value: bagging_freq=1\n",
      "[LightGBM] [Warning] feature_fraction is set=0.5635631351576955, colsample_bytree=1.0 will be ignored. Current value: feature_fraction=0.5635631351576955\n",
      "[LightGBM] [Warning] bagging_fraction is set=0.535384893451322, subsample=1.0 will be ignored. Current value: bagging_fraction=0.535384893451322\n",
      "[LightGBM] [Warning] lambda_l2 is set=0.3220026806115129, reg_lambda=0.0 will be ignored. Current value: lambda_l2=0.3220026806115129\n",
      "[LightGBM] [Warning] lambda_l1 is set=9.833043346408145e-07, reg_alpha=0.0 will be ignored. Current value: lambda_l1=9.833043346408145e-07\n",
      "[LightGBM] [Warning] bagging_freq is set=1, subsample_freq=0 will be ignored. Current value: bagging_freq=1\n",
      "[LightGBM] [Warning] feature_fraction is set=0.5635631351576955, colsample_bytree=1.0 will be ignored. Current value: feature_fraction=0.5635631351576955\n",
      "[LightGBM] [Warning] bagging_fraction is set=0.535384893451322, subsample=1.0 will be ignored. Current value: bagging_fraction=0.535384893451322\n",
      "[LightGBM] [Warning] lambda_l2 is set=0.3220026806115129, reg_lambda=0.0 will be ignored. Current value: lambda_l2=0.3220026806115129\n",
      "[LightGBM] [Warning] lambda_l1 is set=9.833043346408145e-07, reg_alpha=0.0 will be ignored. Current value: lambda_l1=9.833043346408145e-07\n",
      "[LightGBM] [Warning] bagging_freq is set=1, subsample_freq=0 will be ignored. Current value: bagging_freq=1\n",
      "[LightGBM] [Warning] feature_fraction is set=0.5635631351576955, colsample_bytree=1.0 will be ignored. Current value: feature_fraction=0.5635631351576955\n",
      "[LightGBM] [Warning] bagging_fraction is set=0.535384893451322, subsample=1.0 will be ignored. Current value: bagging_fraction=0.535384893451322\n",
      "[LightGBM] [Warning] lambda_l2 is set=0.3220026806115129, reg_lambda=0.0 will be ignored. Current value: lambda_l2=0.3220026806115129\n",
      "[LightGBM] [Warning] lambda_l1 is set=9.833043346408145e-07, reg_alpha=0.0 will be ignored. Current value: lambda_l1=9.833043346408145e-07\n",
      "[LightGBM] [Warning] bagging_freq is set=1, subsample_freq=0 will be ignored. Current value: bagging_freq=1\n",
      "[LightGBM] [Warning] feature_fraction is set=0.5635631351576955, colsample_bytree=1.0 will be ignored. Current value: feature_fraction=0.5635631351576955\n"
     ]
    },
    {
     "name": "stderr",
     "output_type": "stream",
     "text": [
      "\u001b[32m[I 2023-03-29 02:51:53,605]\u001b[0m Trial 14 finished with value: 0.32328038699245126 and parameters: {'lambda_l1': 9.833043346408145e-07, 'lambda_l2': 0.3220026806115129, 'num_leaves': 161, 'max_depth': 19, 'learning_rate': 0.4567475210161702, 'feature_fraction': 0.5635631351576955, 'bagging_fraction': 0.535384893451322, 'bagging_freq': 1, 'min_child_samples': 83}. Best is trial 11 with value: 0.2758774239398164.\u001b[0m\n"
     ]
    },
    {
     "name": "stdout",
     "output_type": "stream",
     "text": [
      "[LightGBM] [Warning] bagging_fraction is set=0.7635662304053259, subsample=1.0 will be ignored. Current value: bagging_fraction=0.7635662304053259\n",
      "[LightGBM] [Warning] lambda_l2 is set=0.015071772583771594, reg_lambda=0.0 will be ignored. Current value: lambda_l2=0.015071772583771594\n",
      "[LightGBM] [Warning] lambda_l1 is set=1.4176439118602822e-08, reg_alpha=0.0 will be ignored. Current value: lambda_l1=1.4176439118602822e-08\n",
      "[LightGBM] [Warning] bagging_freq is set=2, subsample_freq=0 will be ignored. Current value: bagging_freq=2\n",
      "[LightGBM] [Warning] feature_fraction is set=0.6875486227620415, colsample_bytree=1.0 will be ignored. Current value: feature_fraction=0.6875486227620415\n",
      "[LightGBM] [Warning] bagging_fraction is set=0.7635662304053259, subsample=1.0 will be ignored. Current value: bagging_fraction=0.7635662304053259\n",
      "[LightGBM] [Warning] lambda_l2 is set=0.015071772583771594, reg_lambda=0.0 will be ignored. Current value: lambda_l2=0.015071772583771594\n",
      "[LightGBM] [Warning] lambda_l1 is set=1.4176439118602822e-08, reg_alpha=0.0 will be ignored. Current value: lambda_l1=1.4176439118602822e-08\n",
      "[LightGBM] [Warning] bagging_freq is set=2, subsample_freq=0 will be ignored. Current value: bagging_freq=2\n",
      "[LightGBM] [Warning] feature_fraction is set=0.6875486227620415, colsample_bytree=1.0 will be ignored. Current value: feature_fraction=0.6875486227620415\n",
      "[LightGBM] [Warning] bagging_fraction is set=0.7635662304053259, subsample=1.0 will be ignored. Current value: bagging_fraction=0.7635662304053259\n",
      "[LightGBM] [Warning] lambda_l2 is set=0.015071772583771594, reg_lambda=0.0 will be ignored. Current value: lambda_l2=0.015071772583771594\n",
      "[LightGBM] [Warning] lambda_l1 is set=1.4176439118602822e-08, reg_alpha=0.0 will be ignored. Current value: lambda_l1=1.4176439118602822e-08\n",
      "[LightGBM] [Warning] bagging_freq is set=2, subsample_freq=0 will be ignored. Current value: bagging_freq=2\n",
      "[LightGBM] [Warning] feature_fraction is set=0.6875486227620415, colsample_bytree=1.0 will be ignored. Current value: feature_fraction=0.6875486227620415\n",
      "[LightGBM] [Warning] bagging_fraction is set=0.7635662304053259, subsample=1.0 will be ignored. Current value: bagging_fraction=0.7635662304053259\n",
      "[LightGBM] [Warning] lambda_l2 is set=0.015071772583771594, reg_lambda=0.0 will be ignored. Current value: lambda_l2=0.015071772583771594\n",
      "[LightGBM] [Warning] lambda_l1 is set=1.4176439118602822e-08, reg_alpha=0.0 will be ignored. Current value: lambda_l1=1.4176439118602822e-08\n",
      "[LightGBM] [Warning] bagging_freq is set=2, subsample_freq=0 will be ignored. Current value: bagging_freq=2\n",
      "[LightGBM] [Warning] feature_fraction is set=0.6875486227620415, colsample_bytree=1.0 will be ignored. Current value: feature_fraction=0.6875486227620415\n",
      "[LightGBM] [Warning] bagging_fraction is set=0.7635662304053259, subsample=1.0 will be ignored. Current value: bagging_fraction=0.7635662304053259\n",
      "[LightGBM] [Warning] lambda_l2 is set=0.015071772583771594, reg_lambda=0.0 will be ignored. Current value: lambda_l2=0.015071772583771594\n",
      "[LightGBM] [Warning] lambda_l1 is set=1.4176439118602822e-08, reg_alpha=0.0 will be ignored. Current value: lambda_l1=1.4176439118602822e-08\n",
      "[LightGBM] [Warning] bagging_freq is set=2, subsample_freq=0 will be ignored. Current value: bagging_freq=2\n",
      "[LightGBM] [Warning] feature_fraction is set=0.6875486227620415, colsample_bytree=1.0 will be ignored. Current value: feature_fraction=0.6875486227620415\n",
      "[LightGBM] [Warning] bagging_fraction is set=0.7635662304053259, subsample=1.0 will be ignored. Current value: bagging_fraction=0.7635662304053259\n",
      "[LightGBM] [Warning] lambda_l2 is set=0.015071772583771594, reg_lambda=0.0 will be ignored. Current value: lambda_l2=0.015071772583771594\n",
      "[LightGBM] [Warning] lambda_l1 is set=1.4176439118602822e-08, reg_alpha=0.0 will be ignored. Current value: lambda_l1=1.4176439118602822e-08\n",
      "[LightGBM] [Warning] bagging_freq is set=2, subsample_freq=0 will be ignored. Current value: bagging_freq=2\n",
      "[LightGBM] [Warning] feature_fraction is set=0.6875486227620415, colsample_bytree=1.0 will be ignored. Current value: feature_fraction=0.6875486227620415\n"
     ]
    },
    {
     "name": "stderr",
     "output_type": "stream",
     "text": [
      "\u001b[32m[I 2023-03-29 02:51:59,592]\u001b[0m Trial 15 finished with value: 0.291475644566873 and parameters: {'lambda_l1': 1.4176439118602822e-08, 'lambda_l2': 0.015071772583771594, 'num_leaves': 117, 'max_depth': 26, 'learning_rate': 0.08636089702228737, 'feature_fraction': 0.6875486227620415, 'bagging_fraction': 0.7635662304053259, 'bagging_freq': 2, 'min_child_samples': 43}. Best is trial 11 with value: 0.2758774239398164.\u001b[0m\n"
     ]
    },
    {
     "name": "stdout",
     "output_type": "stream",
     "text": [
      "[LightGBM] [Warning] bagging_fraction is set=0.4975422221456247, subsample=1.0 will be ignored. Current value: bagging_fraction=0.4975422221456247\n",
      "[LightGBM] [Warning] lambda_l2 is set=1.7594964197091256, reg_lambda=0.0 will be ignored. Current value: lambda_l2=1.7594964197091256\n",
      "[LightGBM] [Warning] lambda_l1 is set=3.5108111715130808e-06, reg_alpha=0.0 will be ignored. Current value: lambda_l1=3.5108111715130808e-06\n",
      "[LightGBM] [Warning] bagging_freq is set=3, subsample_freq=0 will be ignored. Current value: bagging_freq=3\n",
      "[LightGBM] [Warning] feature_fraction is set=0.5004759605743911, colsample_bytree=1.0 will be ignored. Current value: feature_fraction=0.5004759605743911\n",
      "[LightGBM] [Warning] bagging_fraction is set=0.4975422221456247, subsample=1.0 will be ignored. Current value: bagging_fraction=0.4975422221456247\n",
      "[LightGBM] [Warning] lambda_l2 is set=1.7594964197091256, reg_lambda=0.0 will be ignored. Current value: lambda_l2=1.7594964197091256\n",
      "[LightGBM] [Warning] lambda_l1 is set=3.5108111715130808e-06, reg_alpha=0.0 will be ignored. Current value: lambda_l1=3.5108111715130808e-06\n",
      "[LightGBM] [Warning] bagging_freq is set=3, subsample_freq=0 will be ignored. Current value: bagging_freq=3\n",
      "[LightGBM] [Warning] feature_fraction is set=0.5004759605743911, colsample_bytree=1.0 will be ignored. Current value: feature_fraction=0.5004759605743911\n",
      "[LightGBM] [Warning] bagging_fraction is set=0.4975422221456247, subsample=1.0 will be ignored. Current value: bagging_fraction=0.4975422221456247\n",
      "[LightGBM] [Warning] lambda_l2 is set=1.7594964197091256, reg_lambda=0.0 will be ignored. Current value: lambda_l2=1.7594964197091256\n",
      "[LightGBM] [Warning] lambda_l1 is set=3.5108111715130808e-06, reg_alpha=0.0 will be ignored. Current value: lambda_l1=3.5108111715130808e-06\n",
      "[LightGBM] [Warning] bagging_freq is set=3, subsample_freq=0 will be ignored. Current value: bagging_freq=3\n",
      "[LightGBM] [Warning] feature_fraction is set=0.5004759605743911, colsample_bytree=1.0 will be ignored. Current value: feature_fraction=0.5004759605743911\n",
      "[LightGBM] [Warning] bagging_fraction is set=0.4975422221456247, subsample=1.0 will be ignored. Current value: bagging_fraction=0.4975422221456247\n",
      "[LightGBM] [Warning] lambda_l2 is set=1.7594964197091256, reg_lambda=0.0 will be ignored. Current value: lambda_l2=1.7594964197091256\n",
      "[LightGBM] [Warning] lambda_l1 is set=3.5108111715130808e-06, reg_alpha=0.0 will be ignored. Current value: lambda_l1=3.5108111715130808e-06\n",
      "[LightGBM] [Warning] bagging_freq is set=3, subsample_freq=0 will be ignored. Current value: bagging_freq=3\n",
      "[LightGBM] [Warning] feature_fraction is set=0.5004759605743911, colsample_bytree=1.0 will be ignored. Current value: feature_fraction=0.5004759605743911\n",
      "[LightGBM] [Warning] bagging_fraction is set=0.4975422221456247, subsample=1.0 will be ignored. Current value: bagging_fraction=0.4975422221456247\n",
      "[LightGBM] [Warning] lambda_l2 is set=1.7594964197091256, reg_lambda=0.0 will be ignored. Current value: lambda_l2=1.7594964197091256\n",
      "[LightGBM] [Warning] lambda_l1 is set=3.5108111715130808e-06, reg_alpha=0.0 will be ignored. Current value: lambda_l1=3.5108111715130808e-06\n",
      "[LightGBM] [Warning] bagging_freq is set=3, subsample_freq=0 will be ignored. Current value: bagging_freq=3\n",
      "[LightGBM] [Warning] feature_fraction is set=0.5004759605743911, colsample_bytree=1.0 will be ignored. Current value: feature_fraction=0.5004759605743911\n"
     ]
    },
    {
     "name": "stderr",
     "output_type": "stream",
     "text": [
      "\u001b[32m[I 2023-03-29 02:52:00,897]\u001b[0m Trial 16 finished with value: 0.2759158340482471 and parameters: {'lambda_l1': 3.5108111715130808e-06, 'lambda_l2': 1.7594964197091256, 'num_leaves': 212, 'max_depth': 16, 'learning_rate': 0.07460929652747603, 'feature_fraction': 0.5004759605743911, 'bagging_fraction': 0.4975422221456247, 'bagging_freq': 3, 'min_child_samples': 85}. Best is trial 11 with value: 0.2758774239398164.\u001b[0m\n"
     ]
    },
    {
     "name": "stdout",
     "output_type": "stream",
     "text": [
      "[LightGBM] [Warning] bagging_fraction is set=0.4975422221456247, subsample=1.0 will be ignored. Current value: bagging_fraction=0.4975422221456247\n",
      "[LightGBM] [Warning] lambda_l2 is set=1.7594964197091256, reg_lambda=0.0 will be ignored. Current value: lambda_l2=1.7594964197091256\n",
      "[LightGBM] [Warning] lambda_l1 is set=3.5108111715130808e-06, reg_alpha=0.0 will be ignored. Current value: lambda_l1=3.5108111715130808e-06\n",
      "[LightGBM] [Warning] bagging_freq is set=3, subsample_freq=0 will be ignored. Current value: bagging_freq=3\n",
      "[LightGBM] [Warning] feature_fraction is set=0.5004759605743911, colsample_bytree=1.0 will be ignored. Current value: feature_fraction=0.5004759605743911\n",
      "[LightGBM] [Warning] bagging_fraction is set=0.4978261016837228, subsample=1.0 will be ignored. Current value: bagging_fraction=0.4978261016837228\n",
      "[LightGBM] [Warning] lambda_l2 is set=0.025300343272355513, reg_lambda=0.0 will be ignored. Current value: lambda_l2=0.025300343272355513\n",
      "[LightGBM] [Warning] lambda_l1 is set=2.987803514395388e-06, reg_alpha=0.0 will be ignored. Current value: lambda_l1=2.987803514395388e-06\n",
      "[LightGBM] [Warning] bagging_freq is set=3, subsample_freq=0 will be ignored. Current value: bagging_freq=3\n",
      "[LightGBM] [Warning] feature_fraction is set=0.4037019195580582, colsample_bytree=1.0 will be ignored. Current value: feature_fraction=0.4037019195580582\n",
      "[LightGBM] [Warning] bagging_fraction is set=0.4978261016837228, subsample=1.0 will be ignored. Current value: bagging_fraction=0.4978261016837228\n",
      "[LightGBM] [Warning] lambda_l2 is set=0.025300343272355513, reg_lambda=0.0 will be ignored. Current value: lambda_l2=0.025300343272355513\n",
      "[LightGBM] [Warning] lambda_l1 is set=2.987803514395388e-06, reg_alpha=0.0 will be ignored. Current value: lambda_l1=2.987803514395388e-06\n",
      "[LightGBM] [Warning] bagging_freq is set=3, subsample_freq=0 will be ignored. Current value: bagging_freq=3\n",
      "[LightGBM] [Warning] feature_fraction is set=0.4037019195580582, colsample_bytree=1.0 will be ignored. Current value: feature_fraction=0.4037019195580582\n",
      "[LightGBM] [Warning] bagging_fraction is set=0.4978261016837228, subsample=1.0 will be ignored. Current value: bagging_fraction=0.4978261016837228\n",
      "[LightGBM] [Warning] lambda_l2 is set=0.025300343272355513, reg_lambda=0.0 will be ignored. Current value: lambda_l2=0.025300343272355513\n",
      "[LightGBM] [Warning] lambda_l1 is set=2.987803514395388e-06, reg_alpha=0.0 will be ignored. Current value: lambda_l1=2.987803514395388e-06\n",
      "[LightGBM] [Warning] bagging_freq is set=3, subsample_freq=0 will be ignored. Current value: bagging_freq=3\n",
      "[LightGBM] [Warning] feature_fraction is set=0.4037019195580582, colsample_bytree=1.0 will be ignored. Current value: feature_fraction=0.4037019195580582\n",
      "[LightGBM] [Warning] bagging_fraction is set=0.4978261016837228, subsample=1.0 will be ignored. Current value: bagging_fraction=0.4978261016837228\n",
      "[LightGBM] [Warning] lambda_l2 is set=0.025300343272355513, reg_lambda=0.0 will be ignored. Current value: lambda_l2=0.025300343272355513\n",
      "[LightGBM] [Warning] lambda_l1 is set=2.987803514395388e-06, reg_alpha=0.0 will be ignored. Current value: lambda_l1=2.987803514395388e-06\n",
      "[LightGBM] [Warning] bagging_freq is set=3, subsample_freq=0 will be ignored. Current value: bagging_freq=3\n",
      "[LightGBM] [Warning] feature_fraction is set=0.4037019195580582, colsample_bytree=1.0 will be ignored. Current value: feature_fraction=0.4037019195580582\n",
      "[LightGBM] [Warning] bagging_fraction is set=0.4978261016837228, subsample=1.0 will be ignored. Current value: bagging_fraction=0.4978261016837228\n",
      "[LightGBM] [Warning] lambda_l2 is set=0.025300343272355513, reg_lambda=0.0 will be ignored. Current value: lambda_l2=0.025300343272355513\n",
      "[LightGBM] [Warning] lambda_l1 is set=2.987803514395388e-06, reg_alpha=0.0 will be ignored. Current value: lambda_l1=2.987803514395388e-06\n",
      "[LightGBM] [Warning] bagging_freq is set=3, subsample_freq=0 will be ignored. Current value: bagging_freq=3\n",
      "[LightGBM] [Warning] feature_fraction is set=0.4037019195580582, colsample_bytree=1.0 will be ignored. Current value: feature_fraction=0.4037019195580582\n"
     ]
    },
    {
     "name": "stderr",
     "output_type": "stream",
     "text": [
      "\u001b[32m[I 2023-03-29 02:52:02,271]\u001b[0m Trial 17 finished with value: 0.27685534751814683 and parameters: {'lambda_l1': 2.987803514395388e-06, 'lambda_l2': 0.025300343272355513, 'num_leaves': 215, 'max_depth': 16, 'learning_rate': 0.06040744714617614, 'feature_fraction': 0.4037019195580582, 'bagging_fraction': 0.4978261016837228, 'bagging_freq': 3, 'min_child_samples': 83}. Best is trial 11 with value: 0.2758774239398164.\u001b[0m\n"
     ]
    },
    {
     "name": "stdout",
     "output_type": "stream",
     "text": [
      "[LightGBM] [Warning] bagging_fraction is set=0.4978261016837228, subsample=1.0 will be ignored. Current value: bagging_fraction=0.4978261016837228\n",
      "[LightGBM] [Warning] lambda_l2 is set=0.025300343272355513, reg_lambda=0.0 will be ignored. Current value: lambda_l2=0.025300343272355513\n",
      "[LightGBM] [Warning] lambda_l1 is set=2.987803514395388e-06, reg_alpha=0.0 will be ignored. Current value: lambda_l1=2.987803514395388e-06\n",
      "[LightGBM] [Warning] bagging_freq is set=3, subsample_freq=0 will be ignored. Current value: bagging_freq=3\n",
      "[LightGBM] [Warning] feature_fraction is set=0.4037019195580582, colsample_bytree=1.0 will be ignored. Current value: feature_fraction=0.4037019195580582\n",
      "[LightGBM] [Warning] bagging_fraction is set=0.4045374904554977, subsample=1.0 will be ignored. Current value: bagging_fraction=0.4045374904554977\n",
      "[LightGBM] [Warning] lambda_l2 is set=1.5489673532909178, reg_lambda=0.0 will be ignored. Current value: lambda_l2=1.5489673532909178\n",
      "[LightGBM] [Warning] lambda_l1 is set=5.789573662605616e-06, reg_alpha=0.0 will be ignored. Current value: lambda_l1=5.789573662605616e-06\n",
      "[LightGBM] [Warning] bagging_freq is set=3, subsample_freq=0 will be ignored. Current value: bagging_freq=3\n",
      "[LightGBM] [Warning] feature_fraction is set=0.5003300090419234, colsample_bytree=1.0 will be ignored. Current value: feature_fraction=0.5003300090419234\n",
      "[LightGBM] [Warning] bagging_fraction is set=0.4045374904554977, subsample=1.0 will be ignored. Current value: bagging_fraction=0.4045374904554977\n",
      "[LightGBM] [Warning] lambda_l2 is set=1.5489673532909178, reg_lambda=0.0 will be ignored. Current value: lambda_l2=1.5489673532909178\n",
      "[LightGBM] [Warning] lambda_l1 is set=5.789573662605616e-06, reg_alpha=0.0 will be ignored. Current value: lambda_l1=5.789573662605616e-06\n",
      "[LightGBM] [Warning] bagging_freq is set=3, subsample_freq=0 will be ignored. Current value: bagging_freq=3\n",
      "[LightGBM] [Warning] feature_fraction is set=0.5003300090419234, colsample_bytree=1.0 will be ignored. Current value: feature_fraction=0.5003300090419234\n",
      "[LightGBM] [Warning] bagging_fraction is set=0.4045374904554977, subsample=1.0 will be ignored. Current value: bagging_fraction=0.4045374904554977\n",
      "[LightGBM] [Warning] lambda_l2 is set=1.5489673532909178, reg_lambda=0.0 will be ignored. Current value: lambda_l2=1.5489673532909178\n",
      "[LightGBM] [Warning] lambda_l1 is set=5.789573662605616e-06, reg_alpha=0.0 will be ignored. Current value: lambda_l1=5.789573662605616e-06\n",
      "[LightGBM] [Warning] bagging_freq is set=3, subsample_freq=0 will be ignored. Current value: bagging_freq=3\n",
      "[LightGBM] [Warning] feature_fraction is set=0.5003300090419234, colsample_bytree=1.0 will be ignored. Current value: feature_fraction=0.5003300090419234\n",
      "[LightGBM] [Warning] bagging_fraction is set=0.4045374904554977, subsample=1.0 will be ignored. Current value: bagging_fraction=0.4045374904554977\n",
      "[LightGBM] [Warning] lambda_l2 is set=1.5489673532909178, reg_lambda=0.0 will be ignored. Current value: lambda_l2=1.5489673532909178\n",
      "[LightGBM] [Warning] lambda_l1 is set=5.789573662605616e-06, reg_alpha=0.0 will be ignored. Current value: lambda_l1=5.789573662605616e-06\n",
      "[LightGBM] [Warning] bagging_freq is set=3, subsample_freq=0 will be ignored. Current value: bagging_freq=3\n",
      "[LightGBM] [Warning] feature_fraction is set=0.5003300090419234, colsample_bytree=1.0 will be ignored. Current value: feature_fraction=0.5003300090419234\n",
      "[LightGBM] [Warning] bagging_fraction is set=0.4045374904554977, subsample=1.0 will be ignored. Current value: bagging_fraction=0.4045374904554977\n",
      "[LightGBM] [Warning] lambda_l2 is set=1.5489673532909178, reg_lambda=0.0 will be ignored. Current value: lambda_l2=1.5489673532909178\n",
      "[LightGBM] [Warning] lambda_l1 is set=5.789573662605616e-06, reg_alpha=0.0 will be ignored. Current value: lambda_l1=5.789573662605616e-06\n",
      "[LightGBM] [Warning] bagging_freq is set=3, subsample_freq=0 will be ignored. Current value: bagging_freq=3\n",
      "[LightGBM] [Warning] feature_fraction is set=0.5003300090419234, colsample_bytree=1.0 will be ignored. Current value: feature_fraction=0.5003300090419234\n"
     ]
    },
    {
     "name": "stderr",
     "output_type": "stream",
     "text": [
      "\u001b[32m[I 2023-03-29 02:52:03,519]\u001b[0m Trial 18 finished with value: 0.2923796243443689 and parameters: {'lambda_l1': 5.789573662605616e-06, 'lambda_l2': 1.5489673532909178, 'num_leaves': 245, 'max_depth': 16, 'learning_rate': 0.02869151329192456, 'feature_fraction': 0.5003300090419234, 'bagging_fraction': 0.4045374904554977, 'bagging_freq': 3, 'min_child_samples': 88}. Best is trial 11 with value: 0.2758774239398164.\u001b[0m\n"
     ]
    },
    {
     "name": "stdout",
     "output_type": "stream",
     "text": [
      "[LightGBM] [Warning] bagging_fraction is set=0.4045374904554977, subsample=1.0 will be ignored. Current value: bagging_fraction=0.4045374904554977\n",
      "[LightGBM] [Warning] lambda_l2 is set=1.5489673532909178, reg_lambda=0.0 will be ignored. Current value: lambda_l2=1.5489673532909178\n",
      "[LightGBM] [Warning] lambda_l1 is set=5.789573662605616e-06, reg_alpha=0.0 will be ignored. Current value: lambda_l1=5.789573662605616e-06\n",
      "[LightGBM] [Warning] bagging_freq is set=3, subsample_freq=0 will be ignored. Current value: bagging_freq=3\n",
      "[LightGBM] [Warning] feature_fraction is set=0.5003300090419234, colsample_bytree=1.0 will be ignored. Current value: feature_fraction=0.5003300090419234\n",
      "[LightGBM] [Warning] bagging_fraction is set=0.4847998005187823, subsample=1.0 will be ignored. Current value: bagging_fraction=0.4847998005187823\n",
      "[LightGBM] [Warning] lambda_l2 is set=0.007426530677215346, reg_lambda=0.0 will be ignored. Current value: lambda_l2=0.007426530677215346\n",
      "[LightGBM] [Warning] lambda_l1 is set=5.820480245990376e-07, reg_alpha=0.0 will be ignored. Current value: lambda_l1=5.820480245990376e-07\n",
      "[LightGBM] [Warning] bagging_freq is set=3, subsample_freq=0 will be ignored. Current value: bagging_freq=3\n",
      "[LightGBM] [Warning] feature_fraction is set=0.668720828409499, colsample_bytree=1.0 will be ignored. Current value: feature_fraction=0.668720828409499\n",
      "[LightGBM] [Warning] bagging_fraction is set=0.4847998005187823, subsample=1.0 will be ignored. Current value: bagging_fraction=0.4847998005187823\n",
      "[LightGBM] [Warning] lambda_l2 is set=0.007426530677215346, reg_lambda=0.0 will be ignored. Current value: lambda_l2=0.007426530677215346\n",
      "[LightGBM] [Warning] lambda_l1 is set=5.820480245990376e-07, reg_alpha=0.0 will be ignored. Current value: lambda_l1=5.820480245990376e-07\n",
      "[LightGBM] [Warning] bagging_freq is set=3, subsample_freq=0 will be ignored. Current value: bagging_freq=3\n",
      "[LightGBM] [Warning] feature_fraction is set=0.668720828409499, colsample_bytree=1.0 will be ignored. Current value: feature_fraction=0.668720828409499\n",
      "[LightGBM] [Warning] bagging_fraction is set=0.4847998005187823, subsample=1.0 will be ignored. Current value: bagging_fraction=0.4847998005187823\n",
      "[LightGBM] [Warning] lambda_l2 is set=0.007426530677215346, reg_lambda=0.0 will be ignored. Current value: lambda_l2=0.007426530677215346\n",
      "[LightGBM] [Warning] lambda_l1 is set=5.820480245990376e-07, reg_alpha=0.0 will be ignored. Current value: lambda_l1=5.820480245990376e-07\n",
      "[LightGBM] [Warning] bagging_freq is set=3, subsample_freq=0 will be ignored. Current value: bagging_freq=3\n",
      "[LightGBM] [Warning] feature_fraction is set=0.668720828409499, colsample_bytree=1.0 will be ignored. Current value: feature_fraction=0.668720828409499\n",
      "[LightGBM] [Warning] bagging_fraction is set=0.4847998005187823, subsample=1.0 will be ignored. Current value: bagging_fraction=0.4847998005187823\n",
      "[LightGBM] [Warning] lambda_l2 is set=0.007426530677215346, reg_lambda=0.0 will be ignored. Current value: lambda_l2=0.007426530677215346\n",
      "[LightGBM] [Warning] lambda_l1 is set=5.820480245990376e-07, reg_alpha=0.0 will be ignored. Current value: lambda_l1=5.820480245990376e-07\n",
      "[LightGBM] [Warning] bagging_freq is set=3, subsample_freq=0 will be ignored. Current value: bagging_freq=3\n",
      "[LightGBM] [Warning] feature_fraction is set=0.668720828409499, colsample_bytree=1.0 will be ignored. Current value: feature_fraction=0.668720828409499\n",
      "[LightGBM] [Warning] bagging_fraction is set=0.4847998005187823, subsample=1.0 will be ignored. Current value: bagging_fraction=0.4847998005187823\n",
      "[LightGBM] [Warning] lambda_l2 is set=0.007426530677215346, reg_lambda=0.0 will be ignored. Current value: lambda_l2=0.007426530677215346\n",
      "[LightGBM] [Warning] lambda_l1 is set=5.820480245990376e-07, reg_alpha=0.0 will be ignored. Current value: lambda_l1=5.820480245990376e-07\n",
      "[LightGBM] [Warning] bagging_freq is set=3, subsample_freq=0 will be ignored. Current value: bagging_freq=3\n",
      "[LightGBM] [Warning] feature_fraction is set=0.668720828409499, colsample_bytree=1.0 will be ignored. Current value: feature_fraction=0.668720828409499\n"
     ]
    },
    {
     "name": "stderr",
     "output_type": "stream",
     "text": [
      "\u001b[32m[I 2023-03-29 02:52:04,665]\u001b[0m Trial 19 finished with value: 0.2821279849055057 and parameters: {'lambda_l1': 5.820480245990376e-07, 'lambda_l2': 0.007426530677215346, 'num_leaves': 209, 'max_depth': 6, 'learning_rate': 0.17687696176084933, 'feature_fraction': 0.668720828409499, 'bagging_fraction': 0.4847998005187823, 'bagging_freq': 3, 'min_child_samples': 75}. Best is trial 11 with value: 0.2758774239398164.\u001b[0m\n"
     ]
    },
    {
     "name": "stdout",
     "output_type": "stream",
     "text": [
      "[LightGBM] [Warning] bagging_fraction is set=0.4847998005187823, subsample=1.0 will be ignored. Current value: bagging_fraction=0.4847998005187823\n",
      "[LightGBM] [Warning] lambda_l2 is set=0.007426530677215346, reg_lambda=0.0 will be ignored. Current value: lambda_l2=0.007426530677215346\n",
      "[LightGBM] [Warning] lambda_l1 is set=5.820480245990376e-07, reg_alpha=0.0 will be ignored. Current value: lambda_l1=5.820480245990376e-07\n",
      "[LightGBM] [Warning] bagging_freq is set=3, subsample_freq=0 will be ignored. Current value: bagging_freq=3\n",
      "[LightGBM] [Warning] feature_fraction is set=0.668720828409499, colsample_bytree=1.0 will be ignored. Current value: feature_fraction=0.668720828409499\n",
      "[LightGBM] [Warning] bagging_fraction is set=0.6066829454419199, subsample=1.0 will be ignored. Current value: bagging_fraction=0.6066829454419199\n",
      "[LightGBM] [Warning] lambda_l2 is set=0.04629265562497627, reg_lambda=0.0 will be ignored. Current value: lambda_l2=0.04629265562497627\n",
      "[LightGBM] [Warning] lambda_l1 is set=1.455359416082156e-07, reg_alpha=0.0 will be ignored. Current value: lambda_l1=1.455359416082156e-07\n",
      "[LightGBM] [Warning] bagging_freq is set=1, subsample_freq=0 will be ignored. Current value: bagging_freq=1\n",
      "[LightGBM] [Warning] feature_fraction is set=0.5201884436080046, colsample_bytree=1.0 will be ignored. Current value: feature_fraction=0.5201884436080046\n",
      "[LightGBM] [Warning] bagging_fraction is set=0.6066829454419199, subsample=1.0 will be ignored. Current value: bagging_fraction=0.6066829454419199\n",
      "[LightGBM] [Warning] lambda_l2 is set=0.04629265562497627, reg_lambda=0.0 will be ignored. Current value: lambda_l2=0.04629265562497627\n",
      "[LightGBM] [Warning] lambda_l1 is set=1.455359416082156e-07, reg_alpha=0.0 will be ignored. Current value: lambda_l1=1.455359416082156e-07\n",
      "[LightGBM] [Warning] bagging_freq is set=1, subsample_freq=0 will be ignored. Current value: bagging_freq=1\n",
      "[LightGBM] [Warning] feature_fraction is set=0.5201884436080046, colsample_bytree=1.0 will be ignored. Current value: feature_fraction=0.5201884436080046\n",
      "[LightGBM] [Warning] bagging_fraction is set=0.6066829454419199, subsample=1.0 will be ignored. Current value: bagging_fraction=0.6066829454419199\n",
      "[LightGBM] [Warning] lambda_l2 is set=0.04629265562497627, reg_lambda=0.0 will be ignored. Current value: lambda_l2=0.04629265562497627\n",
      "[LightGBM] [Warning] lambda_l1 is set=1.455359416082156e-07, reg_alpha=0.0 will be ignored. Current value: lambda_l1=1.455359416082156e-07\n",
      "[LightGBM] [Warning] bagging_freq is set=1, subsample_freq=0 will be ignored. Current value: bagging_freq=1\n",
      "[LightGBM] [Warning] feature_fraction is set=0.5201884436080046, colsample_bytree=1.0 will be ignored. Current value: feature_fraction=0.5201884436080046\n",
      "[LightGBM] [Warning] bagging_fraction is set=0.6066829454419199, subsample=1.0 will be ignored. Current value: bagging_fraction=0.6066829454419199\n",
      "[LightGBM] [Warning] lambda_l2 is set=0.04629265562497627, reg_lambda=0.0 will be ignored. Current value: lambda_l2=0.04629265562497627\n",
      "[LightGBM] [Warning] lambda_l1 is set=1.455359416082156e-07, reg_alpha=0.0 will be ignored. Current value: lambda_l1=1.455359416082156e-07\n",
      "[LightGBM] [Warning] bagging_freq is set=1, subsample_freq=0 will be ignored. Current value: bagging_freq=1\n",
      "[LightGBM] [Warning] feature_fraction is set=0.5201884436080046, colsample_bytree=1.0 will be ignored. Current value: feature_fraction=0.5201884436080046\n",
      "[LightGBM] [Warning] bagging_fraction is set=0.6066829454419199, subsample=1.0 will be ignored. Current value: bagging_fraction=0.6066829454419199\n",
      "[LightGBM] [Warning] lambda_l2 is set=0.04629265562497627, reg_lambda=0.0 will be ignored. Current value: lambda_l2=0.04629265562497627\n",
      "[LightGBM] [Warning] lambda_l1 is set=1.455359416082156e-07, reg_alpha=0.0 will be ignored. Current value: lambda_l1=1.455359416082156e-07\n",
      "[LightGBM] [Warning] bagging_freq is set=1, subsample_freq=0 will be ignored. Current value: bagging_freq=1\n",
      "[LightGBM] [Warning] feature_fraction is set=0.5201884436080046, colsample_bytree=1.0 will be ignored. Current value: feature_fraction=0.5201884436080046\n",
      "[LightGBM] [Warning] bagging_fraction is set=0.6066829454419199, subsample=1.0 will be ignored. Current value: bagging_fraction=0.6066829454419199\n",
      "[LightGBM] [Warning] lambda_l2 is set=0.04629265562497627, reg_lambda=0.0 will be ignored. Current value: lambda_l2=0.04629265562497627\n",
      "[LightGBM] [Warning] lambda_l1 is set=1.455359416082156e-07, reg_alpha=0.0 will be ignored. Current value: lambda_l1=1.455359416082156e-07\n",
      "[LightGBM] [Warning] bagging_freq is set=1, subsample_freq=0 will be ignored. Current value: bagging_freq=1\n",
      "[LightGBM] [Warning] feature_fraction is set=0.5201884436080046, colsample_bytree=1.0 will be ignored. Current value: feature_fraction=0.5201884436080046\n"
     ]
    },
    {
     "name": "stderr",
     "output_type": "stream",
     "text": [
      "\u001b[32m[I 2023-03-29 02:52:06,629]\u001b[0m Trial 20 finished with value: 0.2801296895213448 and parameters: {'lambda_l1': 1.455359416082156e-07, 'lambda_l2': 0.04629265562497627, 'num_leaves': 162, 'max_depth': 14, 'learning_rate': 0.05946624069531672, 'feature_fraction': 0.5201884436080046, 'bagging_fraction': 0.6066829454419199, 'bagging_freq': 1, 'min_child_samples': 46}. Best is trial 11 with value: 0.2758774239398164.\u001b[0m\n"
     ]
    },
    {
     "name": "stdout",
     "output_type": "stream",
     "text": [
      "[LightGBM] [Warning] bagging_fraction is set=0.4960355517547743, subsample=1.0 will be ignored. Current value: bagging_fraction=0.4960355517547743\n",
      "[LightGBM] [Warning] lambda_l2 is set=1.1140561354549026, reg_lambda=0.0 will be ignored. Current value: lambda_l2=1.1140561354549026\n",
      "[LightGBM] [Warning] lambda_l1 is set=3.5519911793669786e-06, reg_alpha=0.0 will be ignored. Current value: lambda_l1=3.5519911793669786e-06\n",
      "[LightGBM] [Warning] bagging_freq is set=3, subsample_freq=0 will be ignored. Current value: bagging_freq=3\n",
      "[LightGBM] [Warning] feature_fraction is set=0.4055759747689224, colsample_bytree=1.0 will be ignored. Current value: feature_fraction=0.4055759747689224\n",
      "[LightGBM] [Warning] bagging_fraction is set=0.4960355517547743, subsample=1.0 will be ignored. Current value: bagging_fraction=0.4960355517547743\n",
      "[LightGBM] [Warning] lambda_l2 is set=1.1140561354549026, reg_lambda=0.0 will be ignored. Current value: lambda_l2=1.1140561354549026\n",
      "[LightGBM] [Warning] lambda_l1 is set=3.5519911793669786e-06, reg_alpha=0.0 will be ignored. Current value: lambda_l1=3.5519911793669786e-06\n",
      "[LightGBM] [Warning] bagging_freq is set=3, subsample_freq=0 will be ignored. Current value: bagging_freq=3\n",
      "[LightGBM] [Warning] feature_fraction is set=0.4055759747689224, colsample_bytree=1.0 will be ignored. Current value: feature_fraction=0.4055759747689224\n",
      "[LightGBM] [Warning] bagging_fraction is set=0.4960355517547743, subsample=1.0 will be ignored. Current value: bagging_fraction=0.4960355517547743\n",
      "[LightGBM] [Warning] lambda_l2 is set=1.1140561354549026, reg_lambda=0.0 will be ignored. Current value: lambda_l2=1.1140561354549026\n",
      "[LightGBM] [Warning] lambda_l1 is set=3.5519911793669786e-06, reg_alpha=0.0 will be ignored. Current value: lambda_l1=3.5519911793669786e-06\n",
      "[LightGBM] [Warning] bagging_freq is set=3, subsample_freq=0 will be ignored. Current value: bagging_freq=3\n",
      "[LightGBM] [Warning] feature_fraction is set=0.4055759747689224, colsample_bytree=1.0 will be ignored. Current value: feature_fraction=0.4055759747689224\n",
      "[LightGBM] [Warning] bagging_fraction is set=0.4960355517547743, subsample=1.0 will be ignored. Current value: bagging_fraction=0.4960355517547743\n",
      "[LightGBM] [Warning] lambda_l2 is set=1.1140561354549026, reg_lambda=0.0 will be ignored. Current value: lambda_l2=1.1140561354549026\n",
      "[LightGBM] [Warning] lambda_l1 is set=3.5519911793669786e-06, reg_alpha=0.0 will be ignored. Current value: lambda_l1=3.5519911793669786e-06\n",
      "[LightGBM] [Warning] bagging_freq is set=3, subsample_freq=0 will be ignored. Current value: bagging_freq=3\n",
      "[LightGBM] [Warning] feature_fraction is set=0.4055759747689224, colsample_bytree=1.0 will be ignored. Current value: feature_fraction=0.4055759747689224\n",
      "[LightGBM] [Warning] bagging_fraction is set=0.4960355517547743, subsample=1.0 will be ignored. Current value: bagging_fraction=0.4960355517547743\n",
      "[LightGBM] [Warning] lambda_l2 is set=1.1140561354549026, reg_lambda=0.0 will be ignored. Current value: lambda_l2=1.1140561354549026\n",
      "[LightGBM] [Warning] lambda_l1 is set=3.5519911793669786e-06, reg_alpha=0.0 will be ignored. Current value: lambda_l1=3.5519911793669786e-06\n",
      "[LightGBM] [Warning] bagging_freq is set=3, subsample_freq=0 will be ignored. Current value: bagging_freq=3\n",
      "[LightGBM] [Warning] feature_fraction is set=0.4055759747689224, colsample_bytree=1.0 will be ignored. Current value: feature_fraction=0.4055759747689224\n",
      "[LightGBM] [Warning] bagging_fraction is set=0.4960355517547743, subsample=1.0 will be ignored. Current value: bagging_fraction=0.4960355517547743\n",
      "[LightGBM] [Warning] lambda_l2 is set=1.1140561354549026, reg_lambda=0.0 will be ignored. Current value: lambda_l2=1.1140561354549026\n",
      "[LightGBM] [Warning] lambda_l1 is set=3.5519911793669786e-06, reg_alpha=0.0 will be ignored. Current value: lambda_l1=3.5519911793669786e-06\n",
      "[LightGBM] [Warning] bagging_freq is set=3, subsample_freq=0 will be ignored. Current value: bagging_freq=3\n",
      "[LightGBM] [Warning] feature_fraction is set=0.4055759747689224, colsample_bytree=1.0 will be ignored. Current value: feature_fraction=0.4055759747689224\n"
     ]
    },
    {
     "name": "stderr",
     "output_type": "stream",
     "text": [
      "\u001b[32m[I 2023-03-29 02:52:11,336]\u001b[0m Trial 21 finished with value: 0.27607585312667615 and parameters: {'lambda_l1': 3.5519911793669786e-06, 'lambda_l2': 1.1140561354549026, 'num_leaves': 210, 'max_depth': 17, 'learning_rate': 0.06267076753527105, 'feature_fraction': 0.4055759747689224, 'bagging_fraction': 0.4960355517547743, 'bagging_freq': 3, 'min_child_samples': 90}. Best is trial 11 with value: 0.2758774239398164.\u001b[0m\n"
     ]
    },
    {
     "name": "stdout",
     "output_type": "stream",
     "text": [
      "[LightGBM] [Warning] bagging_fraction is set=0.48474249586728574, subsample=1.0 will be ignored. Current value: bagging_fraction=0.48474249586728574\n",
      "[LightGBM] [Warning] lambda_l2 is set=1.4823759455861099, reg_lambda=0.0 will be ignored. Current value: lambda_l2=1.4823759455861099\n",
      "[LightGBM] [Warning] lambda_l1 is set=6.084666151966551e-06, reg_alpha=0.0 will be ignored. Current value: lambda_l1=6.084666151966551e-06\n",
      "[LightGBM] [Warning] bagging_freq is set=3, subsample_freq=0 will be ignored. Current value: bagging_freq=3\n",
      "[LightGBM] [Warning] feature_fraction is set=0.46358760782248587, colsample_bytree=1.0 will be ignored. Current value: feature_fraction=0.46358760782248587\n",
      "[LightGBM] [Warning] bagging_fraction is set=0.48474249586728574, subsample=1.0 will be ignored. Current value: bagging_fraction=0.48474249586728574\n",
      "[LightGBM] [Warning] lambda_l2 is set=1.4823759455861099, reg_lambda=0.0 will be ignored. Current value: lambda_l2=1.4823759455861099\n",
      "[LightGBM] [Warning] lambda_l1 is set=6.084666151966551e-06, reg_alpha=0.0 will be ignored. Current value: lambda_l1=6.084666151966551e-06\n",
      "[LightGBM] [Warning] bagging_freq is set=3, subsample_freq=0 will be ignored. Current value: bagging_freq=3\n",
      "[LightGBM] [Warning] feature_fraction is set=0.46358760782248587, colsample_bytree=1.0 will be ignored. Current value: feature_fraction=0.46358760782248587\n",
      "[LightGBM] [Warning] bagging_fraction is set=0.48474249586728574, subsample=1.0 will be ignored. Current value: bagging_fraction=0.48474249586728574\n",
      "[LightGBM] [Warning] lambda_l2 is set=1.4823759455861099, reg_lambda=0.0 will be ignored. Current value: lambda_l2=1.4823759455861099\n",
      "[LightGBM] [Warning] lambda_l1 is set=6.084666151966551e-06, reg_alpha=0.0 will be ignored. Current value: lambda_l1=6.084666151966551e-06\n",
      "[LightGBM] [Warning] bagging_freq is set=3, subsample_freq=0 will be ignored. Current value: bagging_freq=3\n",
      "[LightGBM] [Warning] feature_fraction is set=0.46358760782248587, colsample_bytree=1.0 will be ignored. Current value: feature_fraction=0.46358760782248587\n",
      "[LightGBM] [Warning] bagging_fraction is set=0.48474249586728574, subsample=1.0 will be ignored. Current value: bagging_fraction=0.48474249586728574\n",
      "[LightGBM] [Warning] lambda_l2 is set=1.4823759455861099, reg_lambda=0.0 will be ignored. Current value: lambda_l2=1.4823759455861099\n",
      "[LightGBM] [Warning] lambda_l1 is set=6.084666151966551e-06, reg_alpha=0.0 will be ignored. Current value: lambda_l1=6.084666151966551e-06\n",
      "[LightGBM] [Warning] bagging_freq is set=3, subsample_freq=0 will be ignored. Current value: bagging_freq=3\n",
      "[LightGBM] [Warning] feature_fraction is set=0.46358760782248587, colsample_bytree=1.0 will be ignored. Current value: feature_fraction=0.46358760782248587\n",
      "[LightGBM] [Warning] bagging_fraction is set=0.48474249586728574, subsample=1.0 will be ignored. Current value: bagging_fraction=0.48474249586728574\n",
      "[LightGBM] [Warning] lambda_l2 is set=1.4823759455861099, reg_lambda=0.0 will be ignored. Current value: lambda_l2=1.4823759455861099\n",
      "[LightGBM] [Warning] lambda_l1 is set=6.084666151966551e-06, reg_alpha=0.0 will be ignored. Current value: lambda_l1=6.084666151966551e-06\n",
      "[LightGBM] [Warning] bagging_freq is set=3, subsample_freq=0 will be ignored. Current value: bagging_freq=3\n",
      "[LightGBM] [Warning] feature_fraction is set=0.46358760782248587, colsample_bytree=1.0 will be ignored. Current value: feature_fraction=0.46358760782248587\n"
     ]
    },
    {
     "name": "stderr",
     "output_type": "stream",
     "text": [
      "\u001b[32m[I 2023-03-29 02:52:12,737]\u001b[0m Trial 22 finished with value: 0.27490965271702617 and parameters: {'lambda_l1': 6.084666151966551e-06, 'lambda_l2': 1.4823759455861099, 'num_leaves': 214, 'max_depth': 18, 'learning_rate': 0.0677001623676726, 'feature_fraction': 0.46358760782248587, 'bagging_fraction': 0.48474249586728574, 'bagging_freq': 3, 'min_child_samples': 92}. Best is trial 22 with value: 0.27490965271702617.\u001b[0m\n"
     ]
    },
    {
     "name": "stdout",
     "output_type": "stream",
     "text": [
      "[LightGBM] [Warning] bagging_fraction is set=0.48474249586728574, subsample=1.0 will be ignored. Current value: bagging_fraction=0.48474249586728574\n",
      "[LightGBM] [Warning] lambda_l2 is set=1.4823759455861099, reg_lambda=0.0 will be ignored. Current value: lambda_l2=1.4823759455861099\n",
      "[LightGBM] [Warning] lambda_l1 is set=6.084666151966551e-06, reg_alpha=0.0 will be ignored. Current value: lambda_l1=6.084666151966551e-06\n",
      "[LightGBM] [Warning] bagging_freq is set=3, subsample_freq=0 will be ignored. Current value: bagging_freq=3\n",
      "[LightGBM] [Warning] feature_fraction is set=0.46358760782248587, colsample_bytree=1.0 will be ignored. Current value: feature_fraction=0.46358760782248587\n",
      "[LightGBM] [Warning] bagging_fraction is set=0.4640877017474113, subsample=1.0 will be ignored. Current value: bagging_fraction=0.4640877017474113\n",
      "[LightGBM] [Warning] lambda_l2 is set=8.988527835279973, reg_lambda=0.0 will be ignored. Current value: lambda_l2=8.988527835279973\n",
      "[LightGBM] [Warning] lambda_l1 is set=1.702551415869522e-05, reg_alpha=0.0 will be ignored. Current value: lambda_l1=1.702551415869522e-05\n",
      "[LightGBM] [Warning] bagging_freq is set=5, subsample_freq=0 will be ignored. Current value: bagging_freq=5\n",
      "[LightGBM] [Warning] feature_fraction is set=0.4817946107431048, colsample_bytree=1.0 will be ignored. Current value: feature_fraction=0.4817946107431048\n",
      "[LightGBM] [Warning] bagging_fraction is set=0.4640877017474113, subsample=1.0 will be ignored. Current value: bagging_fraction=0.4640877017474113\n",
      "[LightGBM] [Warning] lambda_l2 is set=8.988527835279973, reg_lambda=0.0 will be ignored. Current value: lambda_l2=8.988527835279973\n",
      "[LightGBM] [Warning] lambda_l1 is set=1.702551415869522e-05, reg_alpha=0.0 will be ignored. Current value: lambda_l1=1.702551415869522e-05\n",
      "[LightGBM] [Warning] bagging_freq is set=5, subsample_freq=0 will be ignored. Current value: bagging_freq=5\n",
      "[LightGBM] [Warning] feature_fraction is set=0.4817946107431048, colsample_bytree=1.0 will be ignored. Current value: feature_fraction=0.4817946107431048\n",
      "[LightGBM] [Warning] bagging_fraction is set=0.4640877017474113, subsample=1.0 will be ignored. Current value: bagging_fraction=0.4640877017474113\n",
      "[LightGBM] [Warning] lambda_l2 is set=8.988527835279973, reg_lambda=0.0 will be ignored. Current value: lambda_l2=8.988527835279973\n",
      "[LightGBM] [Warning] lambda_l1 is set=1.702551415869522e-05, reg_alpha=0.0 will be ignored. Current value: lambda_l1=1.702551415869522e-05\n",
      "[LightGBM] [Warning] bagging_freq is set=5, subsample_freq=0 will be ignored. Current value: bagging_freq=5\n",
      "[LightGBM] [Warning] feature_fraction is set=0.4817946107431048, colsample_bytree=1.0 will be ignored. Current value: feature_fraction=0.4817946107431048\n",
      "[LightGBM] [Warning] bagging_fraction is set=0.4640877017474113, subsample=1.0 will be ignored. Current value: bagging_fraction=0.4640877017474113\n",
      "[LightGBM] [Warning] lambda_l2 is set=8.988527835279973, reg_lambda=0.0 will be ignored. Current value: lambda_l2=8.988527835279973\n",
      "[LightGBM] [Warning] lambda_l1 is set=1.702551415869522e-05, reg_alpha=0.0 will be ignored. Current value: lambda_l1=1.702551415869522e-05\n",
      "[LightGBM] [Warning] bagging_freq is set=5, subsample_freq=0 will be ignored. Current value: bagging_freq=5\n",
      "[LightGBM] [Warning] feature_fraction is set=0.4817946107431048, colsample_bytree=1.0 will be ignored. Current value: feature_fraction=0.4817946107431048\n",
      "[LightGBM] [Warning] bagging_fraction is set=0.4640877017474113, subsample=1.0 will be ignored. Current value: bagging_fraction=0.4640877017474113\n",
      "[LightGBM] [Warning] lambda_l2 is set=8.988527835279973, reg_lambda=0.0 will be ignored. Current value: lambda_l2=8.988527835279973\n",
      "[LightGBM] [Warning] lambda_l1 is set=1.702551415869522e-05, reg_alpha=0.0 will be ignored. Current value: lambda_l1=1.702551415869522e-05\n",
      "[LightGBM] [Warning] bagging_freq is set=5, subsample_freq=0 will be ignored. Current value: bagging_freq=5\n",
      "[LightGBM] [Warning] feature_fraction is set=0.4817946107431048, colsample_bytree=1.0 will be ignored. Current value: feature_fraction=0.4817946107431048\n",
      "[LightGBM] [Warning] bagging_fraction is set=0.4640877017474113, subsample=1.0 will be ignored. Current value: bagging_fraction=0.4640877017474113\n",
      "[LightGBM] [Warning] lambda_l2 is set=8.988527835279973, reg_lambda=0.0 will be ignored. Current value: lambda_l2=8.988527835279973\n",
      "[LightGBM] [Warning] lambda_l1 is set=1.702551415869522e-05, reg_alpha=0.0 will be ignored. Current value: lambda_l1=1.702551415869522e-05\n",
      "[LightGBM] [Warning] bagging_freq is set=5, subsample_freq=0 will be ignored. Current value: bagging_freq=5\n",
      "[LightGBM] [Warning] feature_fraction is set=0.4817946107431048, colsample_bytree=1.0 will be ignored. Current value: feature_fraction=0.4817946107431048\n"
     ]
    },
    {
     "name": "stderr",
     "output_type": "stream",
     "text": [
      "\u001b[32m[I 2023-03-29 02:52:14,135]\u001b[0m Trial 23 finished with value: 0.2795928868813248 and parameters: {'lambda_l1': 1.702551415869522e-05, 'lambda_l2': 8.988527835279973, 'num_leaves': 256, 'max_depth': 23, 'learning_rate': 0.10853422624033775, 'feature_fraction': 0.4817946107431048, 'bagging_fraction': 0.4640877017474113, 'bagging_freq': 5, 'min_child_samples': 74}. Best is trial 22 with value: 0.27490965271702617.\u001b[0m\n"
     ]
    },
    {
     "name": "stdout",
     "output_type": "stream",
     "text": [
      "[LightGBM] [Warning] bagging_fraction is set=0.5288467466544177, subsample=1.0 will be ignored. Current value: bagging_fraction=0.5288467466544177\n",
      "[LightGBM] [Warning] lambda_l2 is set=0.6080873451305345, reg_lambda=0.0 will be ignored. Current value: lambda_l2=0.6080873451305345\n",
      "[LightGBM] [Warning] lambda_l1 is set=1.5876543716252424e-07, reg_alpha=0.0 will be ignored. Current value: lambda_l1=1.5876543716252424e-07\n",
      "[LightGBM] [Warning] bagging_freq is set=2, subsample_freq=0 will be ignored. Current value: bagging_freq=2\n",
      "[LightGBM] [Warning] feature_fraction is set=0.4552033505343782, colsample_bytree=1.0 will be ignored. Current value: feature_fraction=0.4552033505343782\n",
      "[LightGBM] [Warning] bagging_fraction is set=0.5288467466544177, subsample=1.0 will be ignored. Current value: bagging_fraction=0.5288467466544177\n",
      "[LightGBM] [Warning] lambda_l2 is set=0.6080873451305345, reg_lambda=0.0 will be ignored. Current value: lambda_l2=0.6080873451305345\n",
      "[LightGBM] [Warning] lambda_l1 is set=1.5876543716252424e-07, reg_alpha=0.0 will be ignored. Current value: lambda_l1=1.5876543716252424e-07\n",
      "[LightGBM] [Warning] bagging_freq is set=2, subsample_freq=0 will be ignored. Current value: bagging_freq=2\n",
      "[LightGBM] [Warning] feature_fraction is set=0.4552033505343782, colsample_bytree=1.0 will be ignored. Current value: feature_fraction=0.4552033505343782\n",
      "[LightGBM] [Warning] bagging_fraction is set=0.5288467466544177, subsample=1.0 will be ignored. Current value: bagging_fraction=0.5288467466544177\n",
      "[LightGBM] [Warning] lambda_l2 is set=0.6080873451305345, reg_lambda=0.0 will be ignored. Current value: lambda_l2=0.6080873451305345\n",
      "[LightGBM] [Warning] lambda_l1 is set=1.5876543716252424e-07, reg_alpha=0.0 will be ignored. Current value: lambda_l1=1.5876543716252424e-07\n",
      "[LightGBM] [Warning] bagging_freq is set=2, subsample_freq=0 will be ignored. Current value: bagging_freq=2\n",
      "[LightGBM] [Warning] feature_fraction is set=0.4552033505343782, colsample_bytree=1.0 will be ignored. Current value: feature_fraction=0.4552033505343782\n",
      "[LightGBM] [Warning] bagging_fraction is set=0.5288467466544177, subsample=1.0 will be ignored. Current value: bagging_fraction=0.5288467466544177\n",
      "[LightGBM] [Warning] lambda_l2 is set=0.6080873451305345, reg_lambda=0.0 will be ignored. Current value: lambda_l2=0.6080873451305345\n",
      "[LightGBM] [Warning] lambda_l1 is set=1.5876543716252424e-07, reg_alpha=0.0 will be ignored. Current value: lambda_l1=1.5876543716252424e-07\n",
      "[LightGBM] [Warning] bagging_freq is set=2, subsample_freq=0 will be ignored. Current value: bagging_freq=2\n",
      "[LightGBM] [Warning] feature_fraction is set=0.4552033505343782, colsample_bytree=1.0 will be ignored. Current value: feature_fraction=0.4552033505343782\n",
      "[LightGBM] [Warning] bagging_fraction is set=0.5288467466544177, subsample=1.0 will be ignored. Current value: bagging_fraction=0.5288467466544177\n",
      "[LightGBM] [Warning] lambda_l2 is set=0.6080873451305345, reg_lambda=0.0 will be ignored. Current value: lambda_l2=0.6080873451305345\n",
      "[LightGBM] [Warning] lambda_l1 is set=1.5876543716252424e-07, reg_alpha=0.0 will be ignored. Current value: lambda_l1=1.5876543716252424e-07\n",
      "[LightGBM] [Warning] bagging_freq is set=2, subsample_freq=0 will be ignored. Current value: bagging_freq=2\n",
      "[LightGBM] [Warning] feature_fraction is set=0.4552033505343782, colsample_bytree=1.0 will be ignored. Current value: feature_fraction=0.4552033505343782\n"
     ]
    },
    {
     "name": "stderr",
     "output_type": "stream",
     "text": [
      "\u001b[32m[I 2023-03-29 02:52:15,593]\u001b[0m Trial 24 finished with value: 0.27495027231416563 and parameters: {'lambda_l1': 1.5876543716252424e-07, 'lambda_l2': 0.6080873451305345, 'num_leaves': 234, 'max_depth': 20, 'learning_rate': 0.05642120199055839, 'feature_fraction': 0.4552033505343782, 'bagging_fraction': 0.5288467466544177, 'bagging_freq': 2, 'min_child_samples': 92}. Best is trial 22 with value: 0.27490965271702617.\u001b[0m\n"
     ]
    },
    {
     "name": "stdout",
     "output_type": "stream",
     "text": [
      "[LightGBM] [Warning] bagging_fraction is set=0.5288467466544177, subsample=1.0 will be ignored. Current value: bagging_fraction=0.5288467466544177\n",
      "[LightGBM] [Warning] lambda_l2 is set=0.6080873451305345, reg_lambda=0.0 will be ignored. Current value: lambda_l2=0.6080873451305345\n",
      "[LightGBM] [Warning] lambda_l1 is set=1.5876543716252424e-07, reg_alpha=0.0 will be ignored. Current value: lambda_l1=1.5876543716252424e-07\n",
      "[LightGBM] [Warning] bagging_freq is set=2, subsample_freq=0 will be ignored. Current value: bagging_freq=2\n",
      "[LightGBM] [Warning] feature_fraction is set=0.4552033505343782, colsample_bytree=1.0 will be ignored. Current value: feature_fraction=0.4552033505343782\n",
      "[LightGBM] [Warning] bagging_fraction is set=0.60216055325413, subsample=1.0 will be ignored. Current value: bagging_fraction=0.60216055325413\n",
      "[LightGBM] [Warning] lambda_l2 is set=0.25737723009840974, reg_lambda=0.0 will be ignored. Current value: lambda_l2=0.25737723009840974\n",
      "[LightGBM] [Warning] lambda_l1 is set=8.929884320931383e-08, reg_alpha=0.0 will be ignored. Current value: lambda_l1=8.929884320931383e-08\n",
      "[LightGBM] [Warning] bagging_freq is set=1, subsample_freq=0 will be ignored. Current value: bagging_freq=1\n",
      "[LightGBM] [Warning] feature_fraction is set=0.45002295494300687, colsample_bytree=1.0 will be ignored. Current value: feature_fraction=0.45002295494300687\n",
      "[LightGBM] [Warning] bagging_fraction is set=0.60216055325413, subsample=1.0 will be ignored. Current value: bagging_fraction=0.60216055325413\n",
      "[LightGBM] [Warning] lambda_l2 is set=0.25737723009840974, reg_lambda=0.0 will be ignored. Current value: lambda_l2=0.25737723009840974\n",
      "[LightGBM] [Warning] lambda_l1 is set=8.929884320931383e-08, reg_alpha=0.0 will be ignored. Current value: lambda_l1=8.929884320931383e-08\n",
      "[LightGBM] [Warning] bagging_freq is set=1, subsample_freq=0 will be ignored. Current value: bagging_freq=1\n",
      "[LightGBM] [Warning] feature_fraction is set=0.45002295494300687, colsample_bytree=1.0 will be ignored. Current value: feature_fraction=0.45002295494300687\n",
      "[LightGBM] [Warning] bagging_fraction is set=0.60216055325413, subsample=1.0 will be ignored. Current value: bagging_fraction=0.60216055325413\n",
      "[LightGBM] [Warning] lambda_l2 is set=0.25737723009840974, reg_lambda=0.0 will be ignored. Current value: lambda_l2=0.25737723009840974\n",
      "[LightGBM] [Warning] lambda_l1 is set=8.929884320931383e-08, reg_alpha=0.0 will be ignored. Current value: lambda_l1=8.929884320931383e-08\n",
      "[LightGBM] [Warning] bagging_freq is set=1, subsample_freq=0 will be ignored. Current value: bagging_freq=1\n",
      "[LightGBM] [Warning] feature_fraction is set=0.45002295494300687, colsample_bytree=1.0 will be ignored. Current value: feature_fraction=0.45002295494300687\n",
      "[LightGBM] [Warning] bagging_fraction is set=0.60216055325413, subsample=1.0 will be ignored. Current value: bagging_fraction=0.60216055325413\n",
      "[LightGBM] [Warning] lambda_l2 is set=0.25737723009840974, reg_lambda=0.0 will be ignored. Current value: lambda_l2=0.25737723009840974\n",
      "[LightGBM] [Warning] lambda_l1 is set=8.929884320931383e-08, reg_alpha=0.0 will be ignored. Current value: lambda_l1=8.929884320931383e-08\n",
      "[LightGBM] [Warning] bagging_freq is set=1, subsample_freq=0 will be ignored. Current value: bagging_freq=1\n",
      "[LightGBM] [Warning] feature_fraction is set=0.45002295494300687, colsample_bytree=1.0 will be ignored. Current value: feature_fraction=0.45002295494300687\n",
      "[LightGBM] [Warning] bagging_fraction is set=0.60216055325413, subsample=1.0 will be ignored. Current value: bagging_fraction=0.60216055325413\n",
      "[LightGBM] [Warning] lambda_l2 is set=0.25737723009840974, reg_lambda=0.0 will be ignored. Current value: lambda_l2=0.25737723009840974\n",
      "[LightGBM] [Warning] lambda_l1 is set=8.929884320931383e-08, reg_alpha=0.0 will be ignored. Current value: lambda_l1=8.929884320931383e-08\n",
      "[LightGBM] [Warning] bagging_freq is set=1, subsample_freq=0 will be ignored. Current value: bagging_freq=1\n",
      "[LightGBM] [Warning] feature_fraction is set=0.45002295494300687, colsample_bytree=1.0 will be ignored. Current value: feature_fraction=0.45002295494300687\n"
     ]
    },
    {
     "name": "stderr",
     "output_type": "stream",
     "text": [
      "\u001b[32m[I 2023-03-29 02:52:16,932]\u001b[0m Trial 25 finished with value: 0.29957771198760946 and parameters: {'lambda_l1': 8.929884320931383e-08, 'lambda_l2': 0.25737723009840974, 'num_leaves': 232, 'max_depth': 19, 'learning_rate': 0.026633785404382233, 'feature_fraction': 0.45002295494300687, 'bagging_fraction': 0.60216055325413, 'bagging_freq': 1, 'min_child_samples': 92}. Best is trial 22 with value: 0.27490965271702617.\u001b[0m\n"
     ]
    },
    {
     "name": "stdout",
     "output_type": "stream",
     "text": [
      "[LightGBM] [Warning] bagging_fraction is set=0.60216055325413, subsample=1.0 will be ignored. Current value: bagging_fraction=0.60216055325413\n",
      "[LightGBM] [Warning] lambda_l2 is set=0.25737723009840974, reg_lambda=0.0 will be ignored. Current value: lambda_l2=0.25737723009840974\n",
      "[LightGBM] [Warning] lambda_l1 is set=8.929884320931383e-08, reg_alpha=0.0 will be ignored. Current value: lambda_l1=8.929884320931383e-08\n",
      "[LightGBM] [Warning] bagging_freq is set=1, subsample_freq=0 will be ignored. Current value: bagging_freq=1\n",
      "[LightGBM] [Warning] feature_fraction is set=0.45002295494300687, colsample_bytree=1.0 will be ignored. Current value: feature_fraction=0.45002295494300687\n",
      "[LightGBM] [Warning] bagging_fraction is set=0.5378198534259274, subsample=1.0 will be ignored. Current value: bagging_fraction=0.5378198534259274\n",
      "[LightGBM] [Warning] lambda_l2 is set=0.0028058199671462084, reg_lambda=0.0 will be ignored. Current value: lambda_l2=0.0028058199671462084\n",
      "[LightGBM] [Warning] lambda_l1 is set=5.892477267741187e-08, reg_alpha=0.0 will be ignored. Current value: lambda_l1=5.892477267741187e-08\n",
      "[LightGBM] [Warning] bagging_freq is set=2, subsample_freq=0 will be ignored. Current value: bagging_freq=2\n",
      "[LightGBM] [Warning] feature_fraction is set=0.5329017561976523, colsample_bytree=1.0 will be ignored. Current value: feature_fraction=0.5329017561976523\n",
      "[LightGBM] [Warning] bagging_fraction is set=0.5378198534259274, subsample=1.0 will be ignored. Current value: bagging_fraction=0.5378198534259274\n",
      "[LightGBM] [Warning] lambda_l2 is set=0.0028058199671462084, reg_lambda=0.0 will be ignored. Current value: lambda_l2=0.0028058199671462084\n",
      "[LightGBM] [Warning] lambda_l1 is set=5.892477267741187e-08, reg_alpha=0.0 will be ignored. Current value: lambda_l1=5.892477267741187e-08\n",
      "[LightGBM] [Warning] bagging_freq is set=2, subsample_freq=0 will be ignored. Current value: bagging_freq=2\n",
      "[LightGBM] [Warning] feature_fraction is set=0.5329017561976523, colsample_bytree=1.0 will be ignored. Current value: feature_fraction=0.5329017561976523\n",
      "[LightGBM] [Warning] bagging_fraction is set=0.5378198534259274, subsample=1.0 will be ignored. Current value: bagging_fraction=0.5378198534259274\n",
      "[LightGBM] [Warning] lambda_l2 is set=0.0028058199671462084, reg_lambda=0.0 will be ignored. Current value: lambda_l2=0.0028058199671462084\n",
      "[LightGBM] [Warning] lambda_l1 is set=5.892477267741187e-08, reg_alpha=0.0 will be ignored. Current value: lambda_l1=5.892477267741187e-08\n",
      "[LightGBM] [Warning] bagging_freq is set=2, subsample_freq=0 will be ignored. Current value: bagging_freq=2\n",
      "[LightGBM] [Warning] feature_fraction is set=0.5329017561976523, colsample_bytree=1.0 will be ignored. Current value: feature_fraction=0.5329017561976523\n",
      "[LightGBM] [Warning] bagging_fraction is set=0.5378198534259274, subsample=1.0 will be ignored. Current value: bagging_fraction=0.5378198534259274\n",
      "[LightGBM] [Warning] lambda_l2 is set=0.0028058199671462084, reg_lambda=0.0 will be ignored. Current value: lambda_l2=0.0028058199671462084\n",
      "[LightGBM] [Warning] lambda_l1 is set=5.892477267741187e-08, reg_alpha=0.0 will be ignored. Current value: lambda_l1=5.892477267741187e-08\n",
      "[LightGBM] [Warning] bagging_freq is set=2, subsample_freq=0 will be ignored. Current value: bagging_freq=2\n",
      "[LightGBM] [Warning] feature_fraction is set=0.5329017561976523, colsample_bytree=1.0 will be ignored. Current value: feature_fraction=0.5329017561976523\n",
      "[LightGBM] [Warning] bagging_fraction is set=0.5378198534259274, subsample=1.0 will be ignored. Current value: bagging_fraction=0.5378198534259274\n",
      "[LightGBM] [Warning] lambda_l2 is set=0.0028058199671462084, reg_lambda=0.0 will be ignored. Current value: lambda_l2=0.0028058199671462084\n",
      "[LightGBM] [Warning] lambda_l1 is set=5.892477267741187e-08, reg_alpha=0.0 will be ignored. Current value: lambda_l1=5.892477267741187e-08\n",
      "[LightGBM] [Warning] bagging_freq is set=2, subsample_freq=0 will be ignored. Current value: bagging_freq=2\n",
      "[LightGBM] [Warning] feature_fraction is set=0.5329017561976523, colsample_bytree=1.0 will be ignored. Current value: feature_fraction=0.5329017561976523\n",
      "[LightGBM] [Warning] bagging_fraction is set=0.5378198534259274, subsample=1.0 will be ignored. Current value: bagging_fraction=0.5378198534259274\n",
      "[LightGBM] [Warning] lambda_l2 is set=0.0028058199671462084, reg_lambda=0.0 will be ignored. Current value: lambda_l2=0.0028058199671462084\n",
      "[LightGBM] [Warning] lambda_l1 is set=5.892477267741187e-08, reg_alpha=0.0 will be ignored. Current value: lambda_l1=5.892477267741187e-08\n",
      "[LightGBM] [Warning] bagging_freq is set=2, subsample_freq=0 will be ignored. Current value: bagging_freq=2\n",
      "[LightGBM] [Warning] feature_fraction is set=0.5329017561976523, colsample_bytree=1.0 will be ignored. Current value: feature_fraction=0.5329017561976523\n"
     ]
    },
    {
     "name": "stderr",
     "output_type": "stream",
     "text": [
      "\u001b[32m[I 2023-03-29 02:52:18,446]\u001b[0m Trial 26 finished with value: 0.27530821305270337 and parameters: {'lambda_l1': 5.892477267741187e-08, 'lambda_l2': 0.0028058199671462084, 'num_leaves': 120, 'max_depth': 22, 'learning_rate': 0.05215532191392044, 'feature_fraction': 0.5329017561976523, 'bagging_fraction': 0.5378198534259274, 'bagging_freq': 2, 'min_child_samples': 93}. Best is trial 22 with value: 0.27490965271702617.\u001b[0m\n"
     ]
    },
    {
     "name": "stdout",
     "output_type": "stream",
     "text": [
      "[LightGBM] [Warning] bagging_fraction is set=0.4050054509300633, subsample=1.0 will be ignored. Current value: bagging_fraction=0.4050054509300633\n",
      "[LightGBM] [Warning] lambda_l2 is set=0.0023742399934035163, reg_lambda=0.0 will be ignored. Current value: lambda_l2=0.0023742399934035163\n",
      "[LightGBM] [Warning] lambda_l1 is set=8.757394461796359e-07, reg_alpha=0.0 will be ignored. Current value: lambda_l1=8.757394461796359e-07\n",
      "[LightGBM] [Warning] bagging_freq is set=2, subsample_freq=0 will be ignored. Current value: bagging_freq=2\n",
      "[LightGBM] [Warning] feature_fraction is set=0.4434093814676339, colsample_bytree=1.0 will be ignored. Current value: feature_fraction=0.4434093814676339\n",
      "[LightGBM] [Warning] bagging_fraction is set=0.4050054509300633, subsample=1.0 will be ignored. Current value: bagging_fraction=0.4050054509300633\n",
      "[LightGBM] [Warning] lambda_l2 is set=0.0023742399934035163, reg_lambda=0.0 will be ignored. Current value: lambda_l2=0.0023742399934035163\n",
      "[LightGBM] [Warning] lambda_l1 is set=8.757394461796359e-07, reg_alpha=0.0 will be ignored. Current value: lambda_l1=8.757394461796359e-07\n",
      "[LightGBM] [Warning] bagging_freq is set=2, subsample_freq=0 will be ignored. Current value: bagging_freq=2\n",
      "[LightGBM] [Warning] feature_fraction is set=0.4434093814676339, colsample_bytree=1.0 will be ignored. Current value: feature_fraction=0.4434093814676339\n",
      "[LightGBM] [Warning] bagging_fraction is set=0.4050054509300633, subsample=1.0 will be ignored. Current value: bagging_fraction=0.4050054509300633\n",
      "[LightGBM] [Warning] lambda_l2 is set=0.0023742399934035163, reg_lambda=0.0 will be ignored. Current value: lambda_l2=0.0023742399934035163\n",
      "[LightGBM] [Warning] lambda_l1 is set=8.757394461796359e-07, reg_alpha=0.0 will be ignored. Current value: lambda_l1=8.757394461796359e-07\n",
      "[LightGBM] [Warning] bagging_freq is set=2, subsample_freq=0 will be ignored. Current value: bagging_freq=2\n",
      "[LightGBM] [Warning] feature_fraction is set=0.4434093814676339, colsample_bytree=1.0 will be ignored. Current value: feature_fraction=0.4434093814676339\n",
      "[LightGBM] [Warning] bagging_fraction is set=0.4050054509300633, subsample=1.0 will be ignored. Current value: bagging_fraction=0.4050054509300633\n",
      "[LightGBM] [Warning] lambda_l2 is set=0.0023742399934035163, reg_lambda=0.0 will be ignored. Current value: lambda_l2=0.0023742399934035163\n",
      "[LightGBM] [Warning] lambda_l1 is set=8.757394461796359e-07, reg_alpha=0.0 will be ignored. Current value: lambda_l1=8.757394461796359e-07\n",
      "[LightGBM] [Warning] bagging_freq is set=2, subsample_freq=0 will be ignored. Current value: bagging_freq=2\n",
      "[LightGBM] [Warning] feature_fraction is set=0.4434093814676339, colsample_bytree=1.0 will be ignored. Current value: feature_fraction=0.4434093814676339\n",
      "[LightGBM] [Warning] bagging_fraction is set=0.4050054509300633, subsample=1.0 will be ignored. Current value: bagging_fraction=0.4050054509300633\n",
      "[LightGBM] [Warning] lambda_l2 is set=0.0023742399934035163, reg_lambda=0.0 will be ignored. Current value: lambda_l2=0.0023742399934035163\n",
      "[LightGBM] [Warning] lambda_l1 is set=8.757394461796359e-07, reg_alpha=0.0 will be ignored. Current value: lambda_l1=8.757394461796359e-07\n",
      "[LightGBM] [Warning] bagging_freq is set=2, subsample_freq=0 will be ignored. Current value: bagging_freq=2\n",
      "[LightGBM] [Warning] feature_fraction is set=0.4434093814676339, colsample_bytree=1.0 will be ignored. Current value: feature_fraction=0.4434093814676339\n",
      "[LightGBM] [Warning] bagging_fraction is set=0.4050054509300633, subsample=1.0 will be ignored. Current value: bagging_fraction=0.4050054509300633\n",
      "[LightGBM] [Warning] lambda_l2 is set=0.0023742399934035163, reg_lambda=0.0 will be ignored. Current value: lambda_l2=0.0023742399934035163\n",
      "[LightGBM] [Warning] lambda_l1 is set=8.757394461796359e-07, reg_alpha=0.0 will be ignored. Current value: lambda_l1=8.757394461796359e-07\n",
      "[LightGBM] [Warning] bagging_freq is set=2, subsample_freq=0 will be ignored. Current value: bagging_freq=2\n",
      "[LightGBM] [Warning] feature_fraction is set=0.4434093814676339, colsample_bytree=1.0 will be ignored. Current value: feature_fraction=0.4434093814676339\n"
     ]
    },
    {
     "name": "stderr",
     "output_type": "stream",
     "text": [
      "\u001b[32m[I 2023-03-29 02:52:19,739]\u001b[0m Trial 27 finished with value: 0.2791611124938128 and parameters: {'lambda_l1': 8.757394461796359e-07, 'lambda_l2': 0.0023742399934035163, 'num_leaves': 116, 'max_depth': 22, 'learning_rate': 0.04442123679644864, 'feature_fraction': 0.4434093814676339, 'bagging_fraction': 0.4050054509300633, 'bagging_freq': 2, 'min_child_samples': 75}. Best is trial 22 with value: 0.27490965271702617.\u001b[0m\n"
     ]
    },
    {
     "name": "stdout",
     "output_type": "stream",
     "text": [
      "[LightGBM] [Warning] bagging_fraction is set=0.5312142206886631, subsample=1.0 will be ignored. Current value: bagging_fraction=0.5312142206886631\n",
      "[LightGBM] [Warning] lambda_l2 is set=0.05685891407669731, reg_lambda=0.0 will be ignored. Current value: lambda_l2=0.05685891407669731\n",
      "[LightGBM] [Warning] lambda_l1 is set=1.1068183012770536e-07, reg_alpha=0.0 will be ignored. Current value: lambda_l1=1.1068183012770536e-07\n",
      "[LightGBM] [Warning] bagging_freq is set=2, subsample_freq=0 will be ignored. Current value: bagging_freq=2\n",
      "[LightGBM] [Warning] feature_fraction is set=0.4506516101685813, colsample_bytree=1.0 will be ignored. Current value: feature_fraction=0.4506516101685813\n",
      "[LightGBM] [Warning] bagging_fraction is set=0.5312142206886631, subsample=1.0 will be ignored. Current value: bagging_fraction=0.5312142206886631\n",
      "[LightGBM] [Warning] lambda_l2 is set=0.05685891407669731, reg_lambda=0.0 will be ignored. Current value: lambda_l2=0.05685891407669731\n",
      "[LightGBM] [Warning] lambda_l1 is set=1.1068183012770536e-07, reg_alpha=0.0 will be ignored. Current value: lambda_l1=1.1068183012770536e-07\n",
      "[LightGBM] [Warning] bagging_freq is set=2, subsample_freq=0 will be ignored. Current value: bagging_freq=2\n",
      "[LightGBM] [Warning] feature_fraction is set=0.4506516101685813, colsample_bytree=1.0 will be ignored. Current value: feature_fraction=0.4506516101685813\n",
      "[LightGBM] [Warning] bagging_fraction is set=0.5312142206886631, subsample=1.0 will be ignored. Current value: bagging_fraction=0.5312142206886631\n",
      "[LightGBM] [Warning] lambda_l2 is set=0.05685891407669731, reg_lambda=0.0 will be ignored. Current value: lambda_l2=0.05685891407669731\n",
      "[LightGBM] [Warning] lambda_l1 is set=1.1068183012770536e-07, reg_alpha=0.0 will be ignored. Current value: lambda_l1=1.1068183012770536e-07\n",
      "[LightGBM] [Warning] bagging_freq is set=2, subsample_freq=0 will be ignored. Current value: bagging_freq=2\n",
      "[LightGBM] [Warning] feature_fraction is set=0.4506516101685813, colsample_bytree=1.0 will be ignored. Current value: feature_fraction=0.4506516101685813\n",
      "[LightGBM] [Warning] bagging_fraction is set=0.5312142206886631, subsample=1.0 will be ignored. Current value: bagging_fraction=0.5312142206886631\n",
      "[LightGBM] [Warning] lambda_l2 is set=0.05685891407669731, reg_lambda=0.0 will be ignored. Current value: lambda_l2=0.05685891407669731\n",
      "[LightGBM] [Warning] lambda_l1 is set=1.1068183012770536e-07, reg_alpha=0.0 will be ignored. Current value: lambda_l1=1.1068183012770536e-07\n",
      "[LightGBM] [Warning] bagging_freq is set=2, subsample_freq=0 will be ignored. Current value: bagging_freq=2\n",
      "[LightGBM] [Warning] feature_fraction is set=0.4506516101685813, colsample_bytree=1.0 will be ignored. Current value: feature_fraction=0.4506516101685813\n",
      "[LightGBM] [Warning] bagging_fraction is set=0.5312142206886631, subsample=1.0 will be ignored. Current value: bagging_fraction=0.5312142206886631\n",
      "[LightGBM] [Warning] lambda_l2 is set=0.05685891407669731, reg_lambda=0.0 will be ignored. Current value: lambda_l2=0.05685891407669731\n",
      "[LightGBM] [Warning] lambda_l1 is set=1.1068183012770536e-07, reg_alpha=0.0 will be ignored. Current value: lambda_l1=1.1068183012770536e-07\n",
      "[LightGBM] [Warning] bagging_freq is set=2, subsample_freq=0 will be ignored. Current value: bagging_freq=2\n",
      "[LightGBM] [Warning] feature_fraction is set=0.4506516101685813, colsample_bytree=1.0 will be ignored. Current value: feature_fraction=0.4506516101685813\n"
     ]
    },
    {
     "name": "stderr",
     "output_type": "stream",
     "text": [
      "\u001b[32m[I 2023-03-29 02:52:21,093]\u001b[0m Trial 28 finished with value: 0.3237540167679747 and parameters: {'lambda_l1': 1.1068183012770536e-07, 'lambda_l2': 0.05685891407669731, 'num_leaves': 55, 'max_depth': 20, 'learning_rate': 0.021001802862932212, 'feature_fraction': 0.4506516101685813, 'bagging_fraction': 0.5312142206886631, 'bagging_freq': 2, 'min_child_samples': 92}. Best is trial 22 with value: 0.27490965271702617.\u001b[0m\n"
     ]
    },
    {
     "name": "stdout",
     "output_type": "stream",
     "text": [
      "[LightGBM] [Warning] bagging_fraction is set=0.5312142206886631, subsample=1.0 will be ignored. Current value: bagging_fraction=0.5312142206886631\n",
      "[LightGBM] [Warning] lambda_l2 is set=0.05685891407669731, reg_lambda=0.0 will be ignored. Current value: lambda_l2=0.05685891407669731\n",
      "[LightGBM] [Warning] lambda_l1 is set=1.1068183012770536e-07, reg_alpha=0.0 will be ignored. Current value: lambda_l1=1.1068183012770536e-07\n",
      "[LightGBM] [Warning] bagging_freq is set=2, subsample_freq=0 will be ignored. Current value: bagging_freq=2\n",
      "[LightGBM] [Warning] feature_fraction is set=0.4506516101685813, colsample_bytree=1.0 will be ignored. Current value: feature_fraction=0.4506516101685813\n",
      "[LightGBM] [Warning] bagging_fraction is set=0.6521690890842805, subsample=1.0 will be ignored. Current value: bagging_fraction=0.6521690890842805\n",
      "[LightGBM] [Warning] lambda_l2 is set=0.004880451317306385, reg_lambda=0.0 will be ignored. Current value: lambda_l2=0.004880451317306385\n",
      "[LightGBM] [Warning] lambda_l1 is set=2.491855002072023e-07, reg_alpha=0.0 will be ignored. Current value: lambda_l1=2.491855002072023e-07\n",
      "[LightGBM] [Warning] bagging_freq is set=3, subsample_freq=0 will be ignored. Current value: bagging_freq=3\n",
      "[LightGBM] [Warning] feature_fraction is set=0.4673155426639364, colsample_bytree=1.0 will be ignored. Current value: feature_fraction=0.4673155426639364\n",
      "[LightGBM] [Warning] bagging_fraction is set=0.6521690890842805, subsample=1.0 will be ignored. Current value: bagging_fraction=0.6521690890842805\n",
      "[LightGBM] [Warning] lambda_l2 is set=0.004880451317306385, reg_lambda=0.0 will be ignored. Current value: lambda_l2=0.004880451317306385\n",
      "[LightGBM] [Warning] lambda_l1 is set=2.491855002072023e-07, reg_alpha=0.0 will be ignored. Current value: lambda_l1=2.491855002072023e-07\n",
      "[LightGBM] [Warning] bagging_freq is set=3, subsample_freq=0 will be ignored. Current value: bagging_freq=3\n",
      "[LightGBM] [Warning] feature_fraction is set=0.4673155426639364, colsample_bytree=1.0 will be ignored. Current value: feature_fraction=0.4673155426639364\n",
      "[LightGBM] [Warning] bagging_fraction is set=0.6521690890842805, subsample=1.0 will be ignored. Current value: bagging_fraction=0.6521690890842805\n",
      "[LightGBM] [Warning] lambda_l2 is set=0.004880451317306385, reg_lambda=0.0 will be ignored. Current value: lambda_l2=0.004880451317306385\n",
      "[LightGBM] [Warning] lambda_l1 is set=2.491855002072023e-07, reg_alpha=0.0 will be ignored. Current value: lambda_l1=2.491855002072023e-07\n",
      "[LightGBM] [Warning] bagging_freq is set=3, subsample_freq=0 will be ignored. Current value: bagging_freq=3\n",
      "[LightGBM] [Warning] feature_fraction is set=0.4673155426639364, colsample_bytree=1.0 will be ignored. Current value: feature_fraction=0.4673155426639364\n",
      "[LightGBM] [Warning] bagging_fraction is set=0.6521690890842805, subsample=1.0 will be ignored. Current value: bagging_fraction=0.6521690890842805\n",
      "[LightGBM] [Warning] lambda_l2 is set=0.004880451317306385, reg_lambda=0.0 will be ignored. Current value: lambda_l2=0.004880451317306385\n",
      "[LightGBM] [Warning] lambda_l1 is set=2.491855002072023e-07, reg_alpha=0.0 will be ignored. Current value: lambda_l1=2.491855002072023e-07\n",
      "[LightGBM] [Warning] bagging_freq is set=3, subsample_freq=0 will be ignored. Current value: bagging_freq=3\n",
      "[LightGBM] [Warning] feature_fraction is set=0.4673155426639364, colsample_bytree=1.0 will be ignored. Current value: feature_fraction=0.4673155426639364\n",
      "[LightGBM] [Warning] bagging_fraction is set=0.6521690890842805, subsample=1.0 will be ignored. Current value: bagging_fraction=0.6521690890842805\n",
      "[LightGBM] [Warning] lambda_l2 is set=0.004880451317306385, reg_lambda=0.0 will be ignored. Current value: lambda_l2=0.004880451317306385\n",
      "[LightGBM] [Warning] lambda_l1 is set=2.491855002072023e-07, reg_alpha=0.0 will be ignored. Current value: lambda_l1=2.491855002072023e-07\n",
      "[LightGBM] [Warning] bagging_freq is set=3, subsample_freq=0 will be ignored. Current value: bagging_freq=3\n",
      "[LightGBM] [Warning] feature_fraction is set=0.4673155426639364, colsample_bytree=1.0 will be ignored. Current value: feature_fraction=0.4673155426639364\n",
      "[LightGBM] [Warning] bagging_fraction is set=0.6521690890842805, subsample=1.0 will be ignored. Current value: bagging_fraction=0.6521690890842805\n",
      "[LightGBM] [Warning] lambda_l2 is set=0.004880451317306385, reg_lambda=0.0 will be ignored. Current value: lambda_l2=0.004880451317306385\n",
      "[LightGBM] [Warning] lambda_l1 is set=2.491855002072023e-07, reg_alpha=0.0 will be ignored. Current value: lambda_l1=2.491855002072023e-07\n",
      "[LightGBM] [Warning] bagging_freq is set=3, subsample_freq=0 will be ignored. Current value: bagging_freq=3\n",
      "[LightGBM] [Warning] feature_fraction is set=0.4673155426639364, colsample_bytree=1.0 will be ignored. Current value: feature_fraction=0.4673155426639364\n"
     ]
    },
    {
     "name": "stderr",
     "output_type": "stream",
     "text": [
      "\u001b[32m[I 2023-03-29 02:52:29,807]\u001b[0m Trial 29 finished with value: 0.2837895755693574 and parameters: {'lambda_l1': 2.491855002072023e-07, 'lambda_l2': 0.004880451317306385, 'num_leaves': 124, 'max_depth': 24, 'learning_rate': 0.03511668011275066, 'feature_fraction': 0.4673155426639364, 'bagging_fraction': 0.6521690890842805, 'bagging_freq': 3, 'min_child_samples': 56}. Best is trial 22 with value: 0.27490965271702617.\u001b[0m\n"
     ]
    },
    {
     "name": "stdout",
     "output_type": "stream",
     "text": [
      "[LightGBM] [Warning] bagging_fraction is set=0.44061355973041094, subsample=1.0 will be ignored. Current value: bagging_fraction=0.44061355973041094\n",
      "[LightGBM] [Warning] lambda_l2 is set=0.00014581523432956802, reg_lambda=0.0 will be ignored. Current value: lambda_l2=0.00014581523432956802\n",
      "[LightGBM] [Warning] lambda_l1 is set=3.237076008280481e-08, reg_alpha=0.0 will be ignored. Current value: lambda_l1=3.237076008280481e-08\n",
      "[LightGBM] [Warning] bagging_freq is set=4, subsample_freq=0 will be ignored. Current value: bagging_freq=4\n",
      "[LightGBM] [Warning] feature_fraction is set=0.5263917106383055, colsample_bytree=1.0 will be ignored. Current value: feature_fraction=0.5263917106383055\n",
      "[LightGBM] [Warning] bagging_fraction is set=0.44061355973041094, subsample=1.0 will be ignored. Current value: bagging_fraction=0.44061355973041094\n",
      "[LightGBM] [Warning] lambda_l2 is set=0.00014581523432956802, reg_lambda=0.0 will be ignored. Current value: lambda_l2=0.00014581523432956802\n",
      "[LightGBM] [Warning] lambda_l1 is set=3.237076008280481e-08, reg_alpha=0.0 will be ignored. Current value: lambda_l1=3.237076008280481e-08\n",
      "[LightGBM] [Warning] bagging_freq is set=4, subsample_freq=0 will be ignored. Current value: bagging_freq=4\n",
      "[LightGBM] [Warning] feature_fraction is set=0.5263917106383055, colsample_bytree=1.0 will be ignored. Current value: feature_fraction=0.5263917106383055\n",
      "[LightGBM] [Warning] bagging_fraction is set=0.44061355973041094, subsample=1.0 will be ignored. Current value: bagging_fraction=0.44061355973041094\n",
      "[LightGBM] [Warning] lambda_l2 is set=0.00014581523432956802, reg_lambda=0.0 will be ignored. Current value: lambda_l2=0.00014581523432956802\n",
      "[LightGBM] [Warning] lambda_l1 is set=3.237076008280481e-08, reg_alpha=0.0 will be ignored. Current value: lambda_l1=3.237076008280481e-08\n",
      "[LightGBM] [Warning] bagging_freq is set=4, subsample_freq=0 will be ignored. Current value: bagging_freq=4\n",
      "[LightGBM] [Warning] feature_fraction is set=0.5263917106383055, colsample_bytree=1.0 will be ignored. Current value: feature_fraction=0.5263917106383055\n",
      "[LightGBM] [Warning] bagging_fraction is set=0.44061355973041094, subsample=1.0 will be ignored. Current value: bagging_fraction=0.44061355973041094\n",
      "[LightGBM] [Warning] lambda_l2 is set=0.00014581523432956802, reg_lambda=0.0 will be ignored. Current value: lambda_l2=0.00014581523432956802\n",
      "[LightGBM] [Warning] lambda_l1 is set=3.237076008280481e-08, reg_alpha=0.0 will be ignored. Current value: lambda_l1=3.237076008280481e-08\n",
      "[LightGBM] [Warning] bagging_freq is set=4, subsample_freq=0 will be ignored. Current value: bagging_freq=4\n",
      "[LightGBM] [Warning] feature_fraction is set=0.5263917106383055, colsample_bytree=1.0 will be ignored. Current value: feature_fraction=0.5263917106383055\n",
      "[LightGBM] [Warning] bagging_fraction is set=0.44061355973041094, subsample=1.0 will be ignored. Current value: bagging_fraction=0.44061355973041094\n",
      "[LightGBM] [Warning] lambda_l2 is set=0.00014581523432956802, reg_lambda=0.0 will be ignored. Current value: lambda_l2=0.00014581523432956802\n",
      "[LightGBM] [Warning] lambda_l1 is set=3.237076008280481e-08, reg_alpha=0.0 will be ignored. Current value: lambda_l1=3.237076008280481e-08\n",
      "[LightGBM] [Warning] bagging_freq is set=4, subsample_freq=0 will be ignored. Current value: bagging_freq=4\n",
      "[LightGBM] [Warning] feature_fraction is set=0.5263917106383055, colsample_bytree=1.0 will be ignored. Current value: feature_fraction=0.5263917106383055\n",
      "[LightGBM] [Warning] bagging_fraction is set=0.44061355973041094, subsample=1.0 will be ignored. Current value: bagging_fraction=0.44061355973041094\n",
      "[LightGBM] [Warning] lambda_l2 is set=0.00014581523432956802, reg_lambda=0.0 will be ignored. Current value: lambda_l2=0.00014581523432956802\n",
      "[LightGBM] [Warning] lambda_l1 is set=3.237076008280481e-08, reg_alpha=0.0 will be ignored. Current value: lambda_l1=3.237076008280481e-08\n",
      "[LightGBM] [Warning] bagging_freq is set=4, subsample_freq=0 will be ignored. Current value: bagging_freq=4\n",
      "[LightGBM] [Warning] feature_fraction is set=0.5263917106383055, colsample_bytree=1.0 will be ignored. Current value: feature_fraction=0.5263917106383055\n"
     ]
    },
    {
     "name": "stderr",
     "output_type": "stream",
     "text": [
      "\u001b[32m[I 2023-03-29 02:52:38,894]\u001b[0m Trial 30 finished with value: 0.279572546477569 and parameters: {'lambda_l1': 3.237076008280481e-08, 'lambda_l2': 0.00014581523432956802, 'num_leaves': 89, 'max_depth': 27, 'learning_rate': 0.0509941926342133, 'feature_fraction': 0.5263917106383055, 'bagging_fraction': 0.44061355973041094, 'bagging_freq': 4, 'min_child_samples': 38}. Best is trial 22 with value: 0.27490965271702617.\u001b[0m\n"
     ]
    },
    {
     "name": "stdout",
     "output_type": "stream",
     "text": [
      "[LightGBM] [Warning] bagging_fraction is set=0.5724020194724286, subsample=1.0 will be ignored. Current value: bagging_fraction=0.5724020194724286\n",
      "[LightGBM] [Warning] lambda_l2 is set=4.8672201740447205, reg_lambda=0.0 will be ignored. Current value: lambda_l2=4.8672201740447205\n",
      "[LightGBM] [Warning] lambda_l1 is set=5.285439745893073e-08, reg_alpha=0.0 will be ignored. Current value: lambda_l1=5.285439745893073e-08\n",
      "[LightGBM] [Warning] bagging_freq is set=1, subsample_freq=0 will be ignored. Current value: bagging_freq=1\n",
      "[LightGBM] [Warning] feature_fraction is set=0.5255459516852001, colsample_bytree=1.0 will be ignored. Current value: feature_fraction=0.5255459516852001\n",
      "[LightGBM] [Warning] bagging_fraction is set=0.5724020194724286, subsample=1.0 will be ignored. Current value: bagging_fraction=0.5724020194724286\n",
      "[LightGBM] [Warning] lambda_l2 is set=4.8672201740447205, reg_lambda=0.0 will be ignored. Current value: lambda_l2=4.8672201740447205\n",
      "[LightGBM] [Warning] lambda_l1 is set=5.285439745893073e-08, reg_alpha=0.0 will be ignored. Current value: lambda_l1=5.285439745893073e-08\n",
      "[LightGBM] [Warning] bagging_freq is set=1, subsample_freq=0 will be ignored. Current value: bagging_freq=1\n",
      "[LightGBM] [Warning] feature_fraction is set=0.5255459516852001, colsample_bytree=1.0 will be ignored. Current value: feature_fraction=0.5255459516852001\n",
      "[LightGBM] [Warning] bagging_fraction is set=0.5724020194724286, subsample=1.0 will be ignored. Current value: bagging_fraction=0.5724020194724286\n",
      "[LightGBM] [Warning] lambda_l2 is set=4.8672201740447205, reg_lambda=0.0 will be ignored. Current value: lambda_l2=4.8672201740447205\n",
      "[LightGBM] [Warning] lambda_l1 is set=5.285439745893073e-08, reg_alpha=0.0 will be ignored. Current value: lambda_l1=5.285439745893073e-08\n",
      "[LightGBM] [Warning] bagging_freq is set=1, subsample_freq=0 will be ignored. Current value: bagging_freq=1\n",
      "[LightGBM] [Warning] feature_fraction is set=0.5255459516852001, colsample_bytree=1.0 will be ignored. Current value: feature_fraction=0.5255459516852001\n",
      "[LightGBM] [Warning] bagging_fraction is set=0.5724020194724286, subsample=1.0 will be ignored. Current value: bagging_fraction=0.5724020194724286\n",
      "[LightGBM] [Warning] lambda_l2 is set=4.8672201740447205, reg_lambda=0.0 will be ignored. Current value: lambda_l2=4.8672201740447205\n",
      "[LightGBM] [Warning] lambda_l1 is set=5.285439745893073e-08, reg_alpha=0.0 will be ignored. Current value: lambda_l1=5.285439745893073e-08\n",
      "[LightGBM] [Warning] bagging_freq is set=1, subsample_freq=0 will be ignored. Current value: bagging_freq=1\n",
      "[LightGBM] [Warning] feature_fraction is set=0.5255459516852001, colsample_bytree=1.0 will be ignored. Current value: feature_fraction=0.5255459516852001\n",
      "[LightGBM] [Warning] bagging_fraction is set=0.5724020194724286, subsample=1.0 will be ignored. Current value: bagging_fraction=0.5724020194724286\n",
      "[LightGBM] [Warning] lambda_l2 is set=4.8672201740447205, reg_lambda=0.0 will be ignored. Current value: lambda_l2=4.8672201740447205\n",
      "[LightGBM] [Warning] lambda_l1 is set=5.285439745893073e-08, reg_alpha=0.0 will be ignored. Current value: lambda_l1=5.285439745893073e-08\n",
      "[LightGBM] [Warning] bagging_freq is set=1, subsample_freq=0 will be ignored. Current value: bagging_freq=1\n",
      "[LightGBM] [Warning] feature_fraction is set=0.5255459516852001, colsample_bytree=1.0 will be ignored. Current value: feature_fraction=0.5255459516852001\n",
      "[LightGBM] [Warning] bagging_fraction is set=0.5724020194724286, subsample=1.0 will be ignored. Current value: bagging_fraction=0.5724020194724286\n",
      "[LightGBM] [Warning] lambda_l2 is set=4.8672201740447205, reg_lambda=0.0 will be ignored. Current value: lambda_l2=4.8672201740447205\n",
      "[LightGBM] [Warning] lambda_l1 is set=5.285439745893073e-08, reg_alpha=0.0 will be ignored. Current value: lambda_l1=5.285439745893073e-08\n",
      "[LightGBM] [Warning] bagging_freq is set=1, subsample_freq=0 will be ignored. Current value: bagging_freq=1\n",
      "[LightGBM] [Warning] feature_fraction is set=0.5255459516852001, colsample_bytree=1.0 will be ignored. Current value: feature_fraction=0.5255459516852001\n"
     ]
    },
    {
     "name": "stderr",
     "output_type": "stream",
     "text": [
      "\u001b[32m[I 2023-03-29 02:52:40,236]\u001b[0m Trial 31 finished with value: 0.2750081620246733 and parameters: {'lambda_l1': 5.285439745893073e-08, 'lambda_l2': 4.8672201740447205, 'num_leaves': 168, 'max_depth': 28, 'learning_rate': 0.050333395058800814, 'feature_fraction': 0.5255459516852001, 'bagging_fraction': 0.5724020194724286, 'bagging_freq': 1, 'min_child_samples': 93}. Best is trial 22 with value: 0.27490965271702617.\u001b[0m\n"
     ]
    },
    {
     "name": "stdout",
     "output_type": "stream",
     "text": [
      "[LightGBM] [Warning] bagging_fraction is set=0.5231606064366416, subsample=1.0 will be ignored. Current value: bagging_fraction=0.5231606064366416\n",
      "[LightGBM] [Warning] lambda_l2 is set=0.6085985088622017, reg_lambda=0.0 will be ignored. Current value: lambda_l2=0.6085985088622017\n",
      "[LightGBM] [Warning] lambda_l1 is set=8.967092012418254e-08, reg_alpha=0.0 will be ignored. Current value: lambda_l1=8.967092012418254e-08\n",
      "[LightGBM] [Warning] bagging_freq is set=2, subsample_freq=0 will be ignored. Current value: bagging_freq=2\n",
      "[LightGBM] [Warning] feature_fraction is set=0.48630742424671036, colsample_bytree=1.0 will be ignored. Current value: feature_fraction=0.48630742424671036\n",
      "[LightGBM] [Warning] bagging_fraction is set=0.5231606064366416, subsample=1.0 will be ignored. Current value: bagging_fraction=0.5231606064366416\n",
      "[LightGBM] [Warning] lambda_l2 is set=0.6085985088622017, reg_lambda=0.0 will be ignored. Current value: lambda_l2=0.6085985088622017\n",
      "[LightGBM] [Warning] lambda_l1 is set=8.967092012418254e-08, reg_alpha=0.0 will be ignored. Current value: lambda_l1=8.967092012418254e-08\n",
      "[LightGBM] [Warning] bagging_freq is set=2, subsample_freq=0 will be ignored. Current value: bagging_freq=2\n",
      "[LightGBM] [Warning] feature_fraction is set=0.48630742424671036, colsample_bytree=1.0 will be ignored. Current value: feature_fraction=0.48630742424671036\n",
      "[LightGBM] [Warning] bagging_fraction is set=0.5231606064366416, subsample=1.0 will be ignored. Current value: bagging_fraction=0.5231606064366416\n",
      "[LightGBM] [Warning] lambda_l2 is set=0.6085985088622017, reg_lambda=0.0 will be ignored. Current value: lambda_l2=0.6085985088622017\n",
      "[LightGBM] [Warning] lambda_l1 is set=8.967092012418254e-08, reg_alpha=0.0 will be ignored. Current value: lambda_l1=8.967092012418254e-08\n",
      "[LightGBM] [Warning] bagging_freq is set=2, subsample_freq=0 will be ignored. Current value: bagging_freq=2\n",
      "[LightGBM] [Warning] feature_fraction is set=0.48630742424671036, colsample_bytree=1.0 will be ignored. Current value: feature_fraction=0.48630742424671036\n",
      "[LightGBM] [Warning] bagging_fraction is set=0.5231606064366416, subsample=1.0 will be ignored. Current value: bagging_fraction=0.5231606064366416\n",
      "[LightGBM] [Warning] lambda_l2 is set=0.6085985088622017, reg_lambda=0.0 will be ignored. Current value: lambda_l2=0.6085985088622017\n",
      "[LightGBM] [Warning] lambda_l1 is set=8.967092012418254e-08, reg_alpha=0.0 will be ignored. Current value: lambda_l1=8.967092012418254e-08\n",
      "[LightGBM] [Warning] bagging_freq is set=2, subsample_freq=0 will be ignored. Current value: bagging_freq=2\n",
      "[LightGBM] [Warning] feature_fraction is set=0.48630742424671036, colsample_bytree=1.0 will be ignored. Current value: feature_fraction=0.48630742424671036\n",
      "[LightGBM] [Warning] bagging_fraction is set=0.5231606064366416, subsample=1.0 will be ignored. Current value: bagging_fraction=0.5231606064366416\n",
      "[LightGBM] [Warning] lambda_l2 is set=0.6085985088622017, reg_lambda=0.0 will be ignored. Current value: lambda_l2=0.6085985088622017\n",
      "[LightGBM] [Warning] lambda_l1 is set=8.967092012418254e-08, reg_alpha=0.0 will be ignored. Current value: lambda_l1=8.967092012418254e-08\n",
      "[LightGBM] [Warning] bagging_freq is set=2, subsample_freq=0 will be ignored. Current value: bagging_freq=2\n",
      "[LightGBM] [Warning] feature_fraction is set=0.48630742424671036, colsample_bytree=1.0 will be ignored. Current value: feature_fraction=0.48630742424671036\n",
      "[LightGBM] [Warning] bagging_fraction is set=0.5231606064366416, subsample=1.0 will be ignored. Current value: bagging_fraction=0.5231606064366416\n",
      "[LightGBM] [Warning] lambda_l2 is set=0.6085985088622017, reg_lambda=0.0 will be ignored. Current value: lambda_l2=0.6085985088622017\n",
      "[LightGBM] [Warning] lambda_l1 is set=8.967092012418254e-08, reg_alpha=0.0 will be ignored. Current value: lambda_l1=8.967092012418254e-08\n",
      "[LightGBM] [Warning] bagging_freq is set=2, subsample_freq=0 will be ignored. Current value: bagging_freq=2\n",
      "[LightGBM] [Warning] feature_fraction is set=0.48630742424671036, colsample_bytree=1.0 will be ignored. Current value: feature_fraction=0.48630742424671036\n"
     ]
    },
    {
     "name": "stderr",
     "output_type": "stream",
     "text": [
      "\u001b[32m[I 2023-03-29 02:52:41,593]\u001b[0m Trial 32 finished with value: 0.2783017607396522 and parameters: {'lambda_l1': 8.967092012418254e-08, 'lambda_l2': 0.6085985088622017, 'num_leaves': 165, 'max_depth': 21, 'learning_rate': 0.040124128343526626, 'feature_fraction': 0.48630742424671036, 'bagging_fraction': 0.5231606064366416, 'bagging_freq': 2, 'min_child_samples': 93}. Best is trial 22 with value: 0.27490965271702617.\u001b[0m\n"
     ]
    },
    {
     "name": "stdout",
     "output_type": "stream",
     "text": [
      "[LightGBM] [Warning] bagging_fraction is set=0.5955438749689179, subsample=1.0 will be ignored. Current value: bagging_fraction=0.5955438749689179\n",
      "[LightGBM] [Warning] lambda_l2 is set=3.422538362758673, reg_lambda=0.0 will be ignored. Current value: lambda_l2=3.422538362758673\n",
      "[LightGBM] [Warning] lambda_l1 is set=4.31069158784582e-08, reg_alpha=0.0 will be ignored. Current value: lambda_l1=4.31069158784582e-08\n",
      "[LightGBM] [Warning] bagging_freq is set=1, subsample_freq=0 will be ignored. Current value: bagging_freq=1\n",
      "[LightGBM] [Warning] feature_fraction is set=0.5287494028209812, colsample_bytree=1.0 will be ignored. Current value: feature_fraction=0.5287494028209812\n",
      "[LightGBM] [Warning] bagging_fraction is set=0.5955438749689179, subsample=1.0 will be ignored. Current value: bagging_fraction=0.5955438749689179\n",
      "[LightGBM] [Warning] lambda_l2 is set=3.422538362758673, reg_lambda=0.0 will be ignored. Current value: lambda_l2=3.422538362758673\n",
      "[LightGBM] [Warning] lambda_l1 is set=4.31069158784582e-08, reg_alpha=0.0 will be ignored. Current value: lambda_l1=4.31069158784582e-08\n",
      "[LightGBM] [Warning] bagging_freq is set=1, subsample_freq=0 will be ignored. Current value: bagging_freq=1\n",
      "[LightGBM] [Warning] feature_fraction is set=0.5287494028209812, colsample_bytree=1.0 will be ignored. Current value: feature_fraction=0.5287494028209812\n",
      "[LightGBM] [Warning] bagging_fraction is set=0.5955438749689179, subsample=1.0 will be ignored. Current value: bagging_fraction=0.5955438749689179\n",
      "[LightGBM] [Warning] lambda_l2 is set=3.422538362758673, reg_lambda=0.0 will be ignored. Current value: lambda_l2=3.422538362758673\n",
      "[LightGBM] [Warning] lambda_l1 is set=4.31069158784582e-08, reg_alpha=0.0 will be ignored. Current value: lambda_l1=4.31069158784582e-08\n",
      "[LightGBM] [Warning] bagging_freq is set=1, subsample_freq=0 will be ignored. Current value: bagging_freq=1\n",
      "[LightGBM] [Warning] feature_fraction is set=0.5287494028209812, colsample_bytree=1.0 will be ignored. Current value: feature_fraction=0.5287494028209812\n",
      "[LightGBM] [Warning] bagging_fraction is set=0.5955438749689179, subsample=1.0 will be ignored. Current value: bagging_fraction=0.5955438749689179\n",
      "[LightGBM] [Warning] lambda_l2 is set=3.422538362758673, reg_lambda=0.0 will be ignored. Current value: lambda_l2=3.422538362758673\n",
      "[LightGBM] [Warning] lambda_l1 is set=4.31069158784582e-08, reg_alpha=0.0 will be ignored. Current value: lambda_l1=4.31069158784582e-08\n",
      "[LightGBM] [Warning] bagging_freq is set=1, subsample_freq=0 will be ignored. Current value: bagging_freq=1\n",
      "[LightGBM] [Warning] feature_fraction is set=0.5287494028209812, colsample_bytree=1.0 will be ignored. Current value: feature_fraction=0.5287494028209812\n",
      "[LightGBM] [Warning] bagging_fraction is set=0.5955438749689179, subsample=1.0 will be ignored. Current value: bagging_fraction=0.5955438749689179\n",
      "[LightGBM] [Warning] lambda_l2 is set=3.422538362758673, reg_lambda=0.0 will be ignored. Current value: lambda_l2=3.422538362758673\n",
      "[LightGBM] [Warning] lambda_l1 is set=4.31069158784582e-08, reg_alpha=0.0 will be ignored. Current value: lambda_l1=4.31069158784582e-08\n",
      "[LightGBM] [Warning] bagging_freq is set=1, subsample_freq=0 will be ignored. Current value: bagging_freq=1\n",
      "[LightGBM] [Warning] feature_fraction is set=0.5287494028209812, colsample_bytree=1.0 will be ignored. Current value: feature_fraction=0.5287494028209812\n",
      "[LightGBM] [Warning] bagging_fraction is set=0.5955438749689179, subsample=1.0 will be ignored. Current value: bagging_fraction=0.5955438749689179\n",
      "[LightGBM] [Warning] lambda_l2 is set=3.422538362758673, reg_lambda=0.0 will be ignored. Current value: lambda_l2=3.422538362758673\n",
      "[LightGBM] [Warning] lambda_l1 is set=4.31069158784582e-08, reg_alpha=0.0 will be ignored. Current value: lambda_l1=4.31069158784582e-08\n",
      "[LightGBM] [Warning] bagging_freq is set=1, subsample_freq=0 will be ignored. Current value: bagging_freq=1\n",
      "[LightGBM] [Warning] feature_fraction is set=0.5287494028209812, colsample_bytree=1.0 will be ignored. Current value: feature_fraction=0.5287494028209812\n"
     ]
    },
    {
     "name": "stderr",
     "output_type": "stream",
     "text": [
      "\u001b[32m[I 2023-03-29 02:52:43,086]\u001b[0m Trial 33 finished with value: 0.2759025722254527 and parameters: {'lambda_l1': 4.31069158784582e-08, 'lambda_l2': 3.422538362758673, 'num_leaves': 142, 'max_depth': 28, 'learning_rate': 0.05075304491951319, 'feature_fraction': 0.5287494028209812, 'bagging_fraction': 0.5955438749689179, 'bagging_freq': 1, 'min_child_samples': 67}. Best is trial 22 with value: 0.27490965271702617.\u001b[0m\n"
     ]
    },
    {
     "name": "stdout",
     "output_type": "stream",
     "text": [
      "[LightGBM] [Warning] bagging_fraction is set=0.5540080842054581, subsample=1.0 will be ignored. Current value: bagging_fraction=0.5540080842054581\n",
      "[LightGBM] [Warning] lambda_l2 is set=0.12901433281345084, reg_lambda=0.0 will be ignored. Current value: lambda_l2=0.12901433281345084\n",
      "[LightGBM] [Warning] lambda_l1 is set=5.306340869377835e-07, reg_alpha=0.0 will be ignored. Current value: lambda_l1=5.306340869377835e-07\n",
      "[LightGBM] [Warning] bagging_freq is set=2, subsample_freq=0 will be ignored. Current value: bagging_freq=2\n",
      "[LightGBM] [Warning] feature_fraction is set=0.4651763021956196, colsample_bytree=1.0 will be ignored. Current value: feature_fraction=0.4651763021956196\n",
      "[LightGBM] [Warning] bagging_fraction is set=0.5540080842054581, subsample=1.0 will be ignored. Current value: bagging_fraction=0.5540080842054581\n",
      "[LightGBM] [Warning] lambda_l2 is set=0.12901433281345084, reg_lambda=0.0 will be ignored. Current value: lambda_l2=0.12901433281345084\n",
      "[LightGBM] [Warning] lambda_l1 is set=5.306340869377835e-07, reg_alpha=0.0 will be ignored. Current value: lambda_l1=5.306340869377835e-07\n",
      "[LightGBM] [Warning] bagging_freq is set=2, subsample_freq=0 will be ignored. Current value: bagging_freq=2\n",
      "[LightGBM] [Warning] feature_fraction is set=0.4651763021956196, colsample_bytree=1.0 will be ignored. Current value: feature_fraction=0.4651763021956196\n",
      "[LightGBM] [Warning] bagging_fraction is set=0.5540080842054581, subsample=1.0 will be ignored. Current value: bagging_fraction=0.5540080842054581\n",
      "[LightGBM] [Warning] lambda_l2 is set=0.12901433281345084, reg_lambda=0.0 will be ignored. Current value: lambda_l2=0.12901433281345084\n",
      "[LightGBM] [Warning] lambda_l1 is set=5.306340869377835e-07, reg_alpha=0.0 will be ignored. Current value: lambda_l1=5.306340869377835e-07\n",
      "[LightGBM] [Warning] bagging_freq is set=2, subsample_freq=0 will be ignored. Current value: bagging_freq=2\n",
      "[LightGBM] [Warning] feature_fraction is set=0.4651763021956196, colsample_bytree=1.0 will be ignored. Current value: feature_fraction=0.4651763021956196\n",
      "[LightGBM] [Warning] bagging_fraction is set=0.5540080842054581, subsample=1.0 will be ignored. Current value: bagging_fraction=0.5540080842054581\n",
      "[LightGBM] [Warning] lambda_l2 is set=0.12901433281345084, reg_lambda=0.0 will be ignored. Current value: lambda_l2=0.12901433281345084\n",
      "[LightGBM] [Warning] lambda_l1 is set=5.306340869377835e-07, reg_alpha=0.0 will be ignored. Current value: lambda_l1=5.306340869377835e-07\n",
      "[LightGBM] [Warning] bagging_freq is set=2, subsample_freq=0 will be ignored. Current value: bagging_freq=2\n",
      "[LightGBM] [Warning] feature_fraction is set=0.4651763021956196, colsample_bytree=1.0 will be ignored. Current value: feature_fraction=0.4651763021956196\n",
      "[LightGBM] [Warning] bagging_fraction is set=0.5540080842054581, subsample=1.0 will be ignored. Current value: bagging_fraction=0.5540080842054581\n",
      "[LightGBM] [Warning] lambda_l2 is set=0.12901433281345084, reg_lambda=0.0 will be ignored. Current value: lambda_l2=0.12901433281345084\n",
      "[LightGBM] [Warning] lambda_l1 is set=5.306340869377835e-07, reg_alpha=0.0 will be ignored. Current value: lambda_l1=5.306340869377835e-07\n",
      "[LightGBM] [Warning] bagging_freq is set=2, subsample_freq=0 will be ignored. Current value: bagging_freq=2\n",
      "[LightGBM] [Warning] feature_fraction is set=0.4651763021956196, colsample_bytree=1.0 will be ignored. Current value: feature_fraction=0.4651763021956196\n",
      "[LightGBM] [Warning] bagging_fraction is set=0.5540080842054581, subsample=1.0 will be ignored. Current value: bagging_fraction=0.5540080842054581\n",
      "[LightGBM] [Warning] lambda_l2 is set=0.12901433281345084, reg_lambda=0.0 will be ignored. Current value: lambda_l2=0.12901433281345084\n",
      "[LightGBM] [Warning] lambda_l1 is set=5.306340869377835e-07, reg_alpha=0.0 will be ignored. Current value: lambda_l1=5.306340869377835e-07\n",
      "[LightGBM] [Warning] bagging_freq is set=2, subsample_freq=0 will be ignored. Current value: bagging_freq=2\n",
      "[LightGBM] [Warning] feature_fraction is set=0.4651763021956196, colsample_bytree=1.0 will be ignored. Current value: feature_fraction=0.4651763021956196\n"
     ]
    },
    {
     "name": "stderr",
     "output_type": "stream",
     "text": [
      "\u001b[32m[I 2023-03-29 02:52:44,724]\u001b[0m Trial 34 finished with value: 0.27899878326523253 and parameters: {'lambda_l1': 5.306340869377835e-07, 'lambda_l2': 0.12901433281345084, 'num_leaves': 200, 'max_depth': 24, 'learning_rate': 0.04078195440496903, 'feature_fraction': 0.4651763021956196, 'bagging_fraction': 0.5540080842054581, 'bagging_freq': 2, 'min_child_samples': 78}. Best is trial 22 with value: 0.27490965271702617.\u001b[0m\n"
     ]
    },
    {
     "name": "stdout",
     "output_type": "stream",
     "text": [
      "[LightGBM] [Warning] bagging_fraction is set=0.46972929597113094, subsample=1.0 will be ignored. Current value: bagging_fraction=0.46972929597113094\n",
      "[LightGBM] [Warning] lambda_l2 is set=0.7407635155374095, reg_lambda=0.0 will be ignored. Current value: lambda_l2=0.7407635155374095\n",
      "[LightGBM] [Warning] lambda_l1 is set=2.167715599567024e-07, reg_alpha=0.0 will be ignored. Current value: lambda_l1=2.167715599567024e-07\n",
      "[LightGBM] [Warning] bagging_freq is set=1, subsample_freq=0 will be ignored. Current value: bagging_freq=1\n",
      "[LightGBM] [Warning] feature_fraction is set=0.6068096602058385, colsample_bytree=1.0 will be ignored. Current value: feature_fraction=0.6068096602058385\n",
      "[LightGBM] [Warning] bagging_fraction is set=0.46972929597113094, subsample=1.0 will be ignored. Current value: bagging_fraction=0.46972929597113094\n",
      "[LightGBM] [Warning] lambda_l2 is set=0.7407635155374095, reg_lambda=0.0 will be ignored. Current value: lambda_l2=0.7407635155374095\n",
      "[LightGBM] [Warning] lambda_l1 is set=2.167715599567024e-07, reg_alpha=0.0 will be ignored. Current value: lambda_l1=2.167715599567024e-07\n",
      "[LightGBM] [Warning] bagging_freq is set=1, subsample_freq=0 will be ignored. Current value: bagging_freq=1\n",
      "[LightGBM] [Warning] feature_fraction is set=0.6068096602058385, colsample_bytree=1.0 will be ignored. Current value: feature_fraction=0.6068096602058385\n",
      "[LightGBM] [Warning] bagging_fraction is set=0.46972929597113094, subsample=1.0 will be ignored. Current value: bagging_fraction=0.46972929597113094\n",
      "[LightGBM] [Warning] lambda_l2 is set=0.7407635155374095, reg_lambda=0.0 will be ignored. Current value: lambda_l2=0.7407635155374095\n",
      "[LightGBM] [Warning] lambda_l1 is set=2.167715599567024e-07, reg_alpha=0.0 will be ignored. Current value: lambda_l1=2.167715599567024e-07\n",
      "[LightGBM] [Warning] bagging_freq is set=1, subsample_freq=0 will be ignored. Current value: bagging_freq=1\n",
      "[LightGBM] [Warning] feature_fraction is set=0.6068096602058385, colsample_bytree=1.0 will be ignored. Current value: feature_fraction=0.6068096602058385\n",
      "[LightGBM] [Warning] bagging_fraction is set=0.46972929597113094, subsample=1.0 will be ignored. Current value: bagging_fraction=0.46972929597113094\n",
      "[LightGBM] [Warning] lambda_l2 is set=0.7407635155374095, reg_lambda=0.0 will be ignored. Current value: lambda_l2=0.7407635155374095\n",
      "[LightGBM] [Warning] lambda_l1 is set=2.167715599567024e-07, reg_alpha=0.0 will be ignored. Current value: lambda_l1=2.167715599567024e-07\n",
      "[LightGBM] [Warning] bagging_freq is set=1, subsample_freq=0 will be ignored. Current value: bagging_freq=1\n",
      "[LightGBM] [Warning] feature_fraction is set=0.6068096602058385, colsample_bytree=1.0 will be ignored. Current value: feature_fraction=0.6068096602058385\n",
      "[LightGBM] [Warning] bagging_fraction is set=0.46972929597113094, subsample=1.0 will be ignored. Current value: bagging_fraction=0.46972929597113094\n",
      "[LightGBM] [Warning] lambda_l2 is set=0.7407635155374095, reg_lambda=0.0 will be ignored. Current value: lambda_l2=0.7407635155374095\n",
      "[LightGBM] [Warning] lambda_l1 is set=2.167715599567024e-07, reg_alpha=0.0 will be ignored. Current value: lambda_l1=2.167715599567024e-07\n",
      "[LightGBM] [Warning] bagging_freq is set=1, subsample_freq=0 will be ignored. Current value: bagging_freq=1\n",
      "[LightGBM] [Warning] feature_fraction is set=0.6068096602058385, colsample_bytree=1.0 will be ignored. Current value: feature_fraction=0.6068096602058385\n",
      "[LightGBM] [Warning] bagging_fraction is set=0.46972929597113094, subsample=1.0 will be ignored. Current value: bagging_fraction=0.46972929597113094\n",
      "[LightGBM] [Warning] lambda_l2 is set=0.7407635155374095, reg_lambda=0.0 will be ignored. Current value: lambda_l2=0.7407635155374095\n",
      "[LightGBM] [Warning] lambda_l1 is set=2.167715599567024e-07, reg_alpha=0.0 will be ignored. Current value: lambda_l1=2.167715599567024e-07\n",
      "[LightGBM] [Warning] bagging_freq is set=1, subsample_freq=0 will be ignored. Current value: bagging_freq=1\n",
      "[LightGBM] [Warning] feature_fraction is set=0.6068096602058385, colsample_bytree=1.0 will be ignored. Current value: feature_fraction=0.6068096602058385\n"
     ]
    },
    {
     "name": "stderr",
     "output_type": "stream",
     "text": [
      "\u001b[32m[I 2023-03-29 02:52:46,265]\u001b[0m Trial 35 finished with value: 0.2746967832605161 and parameters: {'lambda_l1': 2.167715599567024e-07, 'lambda_l2': 0.7407635155374095, 'num_leaves': 177, 'max_depth': 18, 'learning_rate': 0.07144877604844906, 'feature_fraction': 0.6068096602058385, 'bagging_fraction': 0.46972929597113094, 'bagging_freq': 1, 'min_child_samples': 94}. Best is trial 35 with value: 0.2746967832605161.\u001b[0m\n"
     ]
    },
    {
     "name": "stdout",
     "output_type": "stream",
     "text": [
      "[LightGBM] [Warning] bagging_fraction is set=0.4734739804614984, subsample=1.0 will be ignored. Current value: bagging_fraction=0.4734739804614984\n",
      "[LightGBM] [Warning] lambda_l2 is set=0.517993083296042, reg_lambda=0.0 will be ignored. Current value: lambda_l2=0.517993083296042\n",
      "[LightGBM] [Warning] lambda_l1 is set=1.1040969993322876e-06, reg_alpha=0.0 will be ignored. Current value: lambda_l1=1.1040969993322876e-06\n",
      "[LightGBM] [Warning] bagging_freq is set=1, subsample_freq=0 will be ignored. Current value: bagging_freq=1\n",
      "[LightGBM] [Warning] feature_fraction is set=0.6281790000134349, colsample_bytree=1.0 will be ignored. Current value: feature_fraction=0.6281790000134349\n",
      "[LightGBM] [Warning] bagging_fraction is set=0.4734739804614984, subsample=1.0 will be ignored. Current value: bagging_fraction=0.4734739804614984\n",
      "[LightGBM] [Warning] lambda_l2 is set=0.517993083296042, reg_lambda=0.0 will be ignored. Current value: lambda_l2=0.517993083296042\n",
      "[LightGBM] [Warning] lambda_l1 is set=1.1040969993322876e-06, reg_alpha=0.0 will be ignored. Current value: lambda_l1=1.1040969993322876e-06\n",
      "[LightGBM] [Warning] bagging_freq is set=1, subsample_freq=0 will be ignored. Current value: bagging_freq=1\n",
      "[LightGBM] [Warning] feature_fraction is set=0.6281790000134349, colsample_bytree=1.0 will be ignored. Current value: feature_fraction=0.6281790000134349\n",
      "[LightGBM] [Warning] bagging_fraction is set=0.4734739804614984, subsample=1.0 will be ignored. Current value: bagging_fraction=0.4734739804614984\n",
      "[LightGBM] [Warning] lambda_l2 is set=0.517993083296042, reg_lambda=0.0 will be ignored. Current value: lambda_l2=0.517993083296042\n",
      "[LightGBM] [Warning] lambda_l1 is set=1.1040969993322876e-06, reg_alpha=0.0 will be ignored. Current value: lambda_l1=1.1040969993322876e-06\n",
      "[LightGBM] [Warning] bagging_freq is set=1, subsample_freq=0 will be ignored. Current value: bagging_freq=1\n",
      "[LightGBM] [Warning] feature_fraction is set=0.6281790000134349, colsample_bytree=1.0 will be ignored. Current value: feature_fraction=0.6281790000134349\n",
      "[LightGBM] [Warning] bagging_fraction is set=0.4734739804614984, subsample=1.0 will be ignored. Current value: bagging_fraction=0.4734739804614984\n",
      "[LightGBM] [Warning] lambda_l2 is set=0.517993083296042, reg_lambda=0.0 will be ignored. Current value: lambda_l2=0.517993083296042\n",
      "[LightGBM] [Warning] lambda_l1 is set=1.1040969993322876e-06, reg_alpha=0.0 will be ignored. Current value: lambda_l1=1.1040969993322876e-06\n",
      "[LightGBM] [Warning] bagging_freq is set=1, subsample_freq=0 will be ignored. Current value: bagging_freq=1\n",
      "[LightGBM] [Warning] feature_fraction is set=0.6281790000134349, colsample_bytree=1.0 will be ignored. Current value: feature_fraction=0.6281790000134349\n",
      "[LightGBM] [Warning] bagging_fraction is set=0.4734739804614984, subsample=1.0 will be ignored. Current value: bagging_fraction=0.4734739804614984\n",
      "[LightGBM] [Warning] lambda_l2 is set=0.517993083296042, reg_lambda=0.0 will be ignored. Current value: lambda_l2=0.517993083296042\n",
      "[LightGBM] [Warning] lambda_l1 is set=1.1040969993322876e-06, reg_alpha=0.0 will be ignored. Current value: lambda_l1=1.1040969993322876e-06\n",
      "[LightGBM] [Warning] bagging_freq is set=1, subsample_freq=0 will be ignored. Current value: bagging_freq=1\n",
      "[LightGBM] [Warning] feature_fraction is set=0.6281790000134349, colsample_bytree=1.0 will be ignored. Current value: feature_fraction=0.6281790000134349\n",
      "[LightGBM] [Warning] bagging_fraction is set=0.4734739804614984, subsample=1.0 will be ignored. Current value: bagging_fraction=0.4734739804614984\n",
      "[LightGBM] [Warning] lambda_l2 is set=0.517993083296042, reg_lambda=0.0 will be ignored. Current value: lambda_l2=0.517993083296042\n",
      "[LightGBM] [Warning] lambda_l1 is set=1.1040969993322876e-06, reg_alpha=0.0 will be ignored. Current value: lambda_l1=1.1040969993322876e-06\n",
      "[LightGBM] [Warning] bagging_freq is set=1, subsample_freq=0 will be ignored. Current value: bagging_freq=1\n",
      "[LightGBM] [Warning] feature_fraction is set=0.6281790000134349, colsample_bytree=1.0 will be ignored. Current value: feature_fraction=0.6281790000134349\n"
     ]
    },
    {
     "name": "stderr",
     "output_type": "stream",
     "text": [
      "\u001b[32m[I 2023-03-29 02:52:47,869]\u001b[0m Trial 36 finished with value: 0.2765702880589673 and parameters: {'lambda_l1': 1.1040969993322876e-06, 'lambda_l2': 0.517993083296042, 'num_leaves': 176, 'max_depth': 12, 'learning_rate': 0.06882800186260511, 'feature_fraction': 0.6281790000134349, 'bagging_fraction': 0.4734739804614984, 'bagging_freq': 1, 'min_child_samples': 71}. Best is trial 35 with value: 0.2746967832605161.\u001b[0m\n"
     ]
    },
    {
     "name": "stdout",
     "output_type": "stream",
     "text": [
      "[LightGBM] [Warning] bagging_fraction is set=0.4502793142293782, subsample=1.0 will be ignored. Current value: bagging_fraction=0.4502793142293782\n",
      "[LightGBM] [Warning] lambda_l2 is set=4.403564167750942, reg_lambda=0.0 will be ignored. Current value: lambda_l2=4.403564167750942\n",
      "[LightGBM] [Warning] lambda_l1 is set=2.7536410291399085e-07, reg_alpha=0.0 will be ignored. Current value: lambda_l1=2.7536410291399085e-07\n",
      "[LightGBM] [Warning] bagging_freq is set=1, subsample_freq=0 will be ignored. Current value: bagging_freq=1\n",
      "[LightGBM] [Warning] feature_fraction is set=0.5742987722513012, colsample_bytree=1.0 will be ignored. Current value: feature_fraction=0.5742987722513012\n",
      "[LightGBM] [Warning] bagging_fraction is set=0.4502793142293782, subsample=1.0 will be ignored. Current value: bagging_fraction=0.4502793142293782\n",
      "[LightGBM] [Warning] lambda_l2 is set=4.403564167750942, reg_lambda=0.0 will be ignored. Current value: lambda_l2=4.403564167750942\n",
      "[LightGBM] [Warning] lambda_l1 is set=2.7536410291399085e-07, reg_alpha=0.0 will be ignored. Current value: lambda_l1=2.7536410291399085e-07\n",
      "[LightGBM] [Warning] bagging_freq is set=1, subsample_freq=0 will be ignored. Current value: bagging_freq=1\n",
      "[LightGBM] [Warning] feature_fraction is set=0.5742987722513012, colsample_bytree=1.0 will be ignored. Current value: feature_fraction=0.5742987722513012\n",
      "[LightGBM] [Warning] bagging_fraction is set=0.4502793142293782, subsample=1.0 will be ignored. Current value: bagging_fraction=0.4502793142293782\n",
      "[LightGBM] [Warning] lambda_l2 is set=4.403564167750942, reg_lambda=0.0 will be ignored. Current value: lambda_l2=4.403564167750942\n",
      "[LightGBM] [Warning] lambda_l1 is set=2.7536410291399085e-07, reg_alpha=0.0 will be ignored. Current value: lambda_l1=2.7536410291399085e-07\n",
      "[LightGBM] [Warning] bagging_freq is set=1, subsample_freq=0 will be ignored. Current value: bagging_freq=1\n",
      "[LightGBM] [Warning] feature_fraction is set=0.5742987722513012, colsample_bytree=1.0 will be ignored. Current value: feature_fraction=0.5742987722513012\n",
      "[LightGBM] [Warning] bagging_fraction is set=0.4502793142293782, subsample=1.0 will be ignored. Current value: bagging_fraction=0.4502793142293782\n",
      "[LightGBM] [Warning] lambda_l2 is set=4.403564167750942, reg_lambda=0.0 will be ignored. Current value: lambda_l2=4.403564167750942\n",
      "[LightGBM] [Warning] lambda_l1 is set=2.7536410291399085e-07, reg_alpha=0.0 will be ignored. Current value: lambda_l1=2.7536410291399085e-07\n",
      "[LightGBM] [Warning] bagging_freq is set=1, subsample_freq=0 will be ignored. Current value: bagging_freq=1\n",
      "[LightGBM] [Warning] feature_fraction is set=0.5742987722513012, colsample_bytree=1.0 will be ignored. Current value: feature_fraction=0.5742987722513012\n",
      "[LightGBM] [Warning] bagging_fraction is set=0.4502793142293782, subsample=1.0 will be ignored. Current value: bagging_fraction=0.4502793142293782\n",
      "[LightGBM] [Warning] lambda_l2 is set=4.403564167750942, reg_lambda=0.0 will be ignored. Current value: lambda_l2=4.403564167750942\n",
      "[LightGBM] [Warning] lambda_l1 is set=2.7536410291399085e-07, reg_alpha=0.0 will be ignored. Current value: lambda_l1=2.7536410291399085e-07\n",
      "[LightGBM] [Warning] bagging_freq is set=1, subsample_freq=0 will be ignored. Current value: bagging_freq=1\n",
      "[LightGBM] [Warning] feature_fraction is set=0.5742987722513012, colsample_bytree=1.0 will be ignored. Current value: feature_fraction=0.5742987722513012\n",
      "[LightGBM] [Warning] bagging_fraction is set=0.4502793142293782, subsample=1.0 will be ignored. Current value: bagging_fraction=0.4502793142293782\n",
      "[LightGBM] [Warning] lambda_l2 is set=4.403564167750942, reg_lambda=0.0 will be ignored. Current value: lambda_l2=4.403564167750942\n",
      "[LightGBM] [Warning] lambda_l1 is set=2.7536410291399085e-07, reg_alpha=0.0 will be ignored. Current value: lambda_l1=2.7536410291399085e-07\n",
      "[LightGBM] [Warning] bagging_freq is set=1, subsample_freq=0 will be ignored. Current value: bagging_freq=1\n",
      "[LightGBM] [Warning] feature_fraction is set=0.5742987722513012, colsample_bytree=1.0 will be ignored. Current value: feature_fraction=0.5742987722513012\n"
     ]
    },
    {
     "name": "stderr",
     "output_type": "stream",
     "text": [
      "\u001b[32m[I 2023-03-29 02:52:52,822]\u001b[0m Trial 37 finished with value: 0.276902684728385 and parameters: {'lambda_l1': 2.7536410291399085e-07, 'lambda_l2': 4.403564167750942, 'num_leaves': 233, 'max_depth': 18, 'learning_rate': 0.07418549302401845, 'feature_fraction': 0.5742987722513012, 'bagging_fraction': 0.4502793142293782, 'bagging_freq': 1, 'min_child_samples': 62}. Best is trial 35 with value: 0.2746967832605161.\u001b[0m\n"
     ]
    },
    {
     "name": "stdout",
     "output_type": "stream",
     "text": [
      "[LightGBM] [Warning] bagging_fraction is set=0.42519672156249044, subsample=1.0 will be ignored. Current value: bagging_fraction=0.42519672156249044\n",
      "[LightGBM] [Warning] lambda_l2 is set=3.6073236851353045, reg_lambda=0.0 will be ignored. Current value: lambda_l2=3.6073236851353045\n",
      "[LightGBM] [Warning] lambda_l1 is set=4.265582887231416e-08, reg_alpha=0.0 will be ignored. Current value: lambda_l1=4.265582887231416e-08\n",
      "[LightGBM] [Warning] bagging_freq is set=4, subsample_freq=0 will be ignored. Current value: bagging_freq=4\n",
      "[LightGBM] [Warning] feature_fraction is set=0.424598741080814, colsample_bytree=1.0 will be ignored. Current value: feature_fraction=0.424598741080814\n",
      "[LightGBM] [Warning] bagging_fraction is set=0.42519672156249044, subsample=1.0 will be ignored. Current value: bagging_fraction=0.42519672156249044\n",
      "[LightGBM] [Warning] lambda_l2 is set=3.6073236851353045, reg_lambda=0.0 will be ignored. Current value: lambda_l2=3.6073236851353045\n",
      "[LightGBM] [Warning] lambda_l1 is set=4.265582887231416e-08, reg_alpha=0.0 will be ignored. Current value: lambda_l1=4.265582887231416e-08\n",
      "[LightGBM] [Warning] bagging_freq is set=4, subsample_freq=0 will be ignored. Current value: bagging_freq=4\n",
      "[LightGBM] [Warning] feature_fraction is set=0.424598741080814, colsample_bytree=1.0 will be ignored. Current value: feature_fraction=0.424598741080814\n",
      "[LightGBM] [Warning] bagging_fraction is set=0.42519672156249044, subsample=1.0 will be ignored. Current value: bagging_fraction=0.42519672156249044\n",
      "[LightGBM] [Warning] lambda_l2 is set=3.6073236851353045, reg_lambda=0.0 will be ignored. Current value: lambda_l2=3.6073236851353045\n",
      "[LightGBM] [Warning] lambda_l1 is set=4.265582887231416e-08, reg_alpha=0.0 will be ignored. Current value: lambda_l1=4.265582887231416e-08\n",
      "[LightGBM] [Warning] bagging_freq is set=4, subsample_freq=0 will be ignored. Current value: bagging_freq=4\n",
      "[LightGBM] [Warning] feature_fraction is set=0.424598741080814, colsample_bytree=1.0 will be ignored. Current value: feature_fraction=0.424598741080814\n",
      "[LightGBM] [Warning] bagging_fraction is set=0.42519672156249044, subsample=1.0 will be ignored. Current value: bagging_fraction=0.42519672156249044\n",
      "[LightGBM] [Warning] lambda_l2 is set=3.6073236851353045, reg_lambda=0.0 will be ignored. Current value: lambda_l2=3.6073236851353045\n",
      "[LightGBM] [Warning] lambda_l1 is set=4.265582887231416e-08, reg_alpha=0.0 will be ignored. Current value: lambda_l1=4.265582887231416e-08\n",
      "[LightGBM] [Warning] bagging_freq is set=4, subsample_freq=0 will be ignored. Current value: bagging_freq=4\n",
      "[LightGBM] [Warning] feature_fraction is set=0.424598741080814, colsample_bytree=1.0 will be ignored. Current value: feature_fraction=0.424598741080814\n",
      "[LightGBM] [Warning] bagging_fraction is set=0.42519672156249044, subsample=1.0 will be ignored. Current value: bagging_fraction=0.42519672156249044\n",
      "[LightGBM] [Warning] lambda_l2 is set=3.6073236851353045, reg_lambda=0.0 will be ignored. Current value: lambda_l2=3.6073236851353045\n",
      "[LightGBM] [Warning] lambda_l1 is set=4.265582887231416e-08, reg_alpha=0.0 will be ignored. Current value: lambda_l1=4.265582887231416e-08\n",
      "[LightGBM] [Warning] bagging_freq is set=4, subsample_freq=0 will be ignored. Current value: bagging_freq=4\n",
      "[LightGBM] [Warning] feature_fraction is set=0.424598741080814, colsample_bytree=1.0 will be ignored. Current value: feature_fraction=0.424598741080814\n"
     ]
    },
    {
     "name": "stderr",
     "output_type": "stream",
     "text": [
      "\u001b[32m[I 2023-03-29 02:52:53,973]\u001b[0m Trial 38 finished with value: 0.29727273677724353 and parameters: {'lambda_l1': 4.265582887231416e-08, 'lambda_l2': 3.6073236851353045, 'num_leaves': 177, 'max_depth': 14, 'learning_rate': 0.03222683401752176, 'feature_fraction': 0.424598741080814, 'bagging_fraction': 0.42519672156249044, 'bagging_freq': 4, 'min_child_samples': 86}. Best is trial 35 with value: 0.2746967832605161.\u001b[0m\n"
     ]
    },
    {
     "name": "stdout",
     "output_type": "stream",
     "text": [
      "[LightGBM] [Warning] bagging_fraction is set=0.42519672156249044, subsample=1.0 will be ignored. Current value: bagging_fraction=0.42519672156249044\n",
      "[LightGBM] [Warning] lambda_l2 is set=3.6073236851353045, reg_lambda=0.0 will be ignored. Current value: lambda_l2=3.6073236851353045\n",
      "[LightGBM] [Warning] lambda_l1 is set=4.265582887231416e-08, reg_alpha=0.0 will be ignored. Current value: lambda_l1=4.265582887231416e-08\n",
      "[LightGBM] [Warning] bagging_freq is set=4, subsample_freq=0 will be ignored. Current value: bagging_freq=4\n",
      "[LightGBM] [Warning] feature_fraction is set=0.424598741080814, colsample_bytree=1.0 will be ignored. Current value: feature_fraction=0.424598741080814\n",
      "[LightGBM] [Warning] bagging_fraction is set=0.511489436328951, subsample=1.0 will be ignored. Current value: bagging_fraction=0.511489436328951\n",
      "[LightGBM] [Warning] lambda_l2 is set=0.5891832091825456, reg_lambda=0.0 will be ignored. Current value: lambda_l2=0.5891832091825456\n",
      "[LightGBM] [Warning] lambda_l1 is set=1.4153189877645901e-06, reg_alpha=0.0 will be ignored. Current value: lambda_l1=1.4153189877645901e-06\n",
      "[LightGBM] [Warning] bagging_freq is set=6, subsample_freq=0 will be ignored. Current value: bagging_freq=6\n",
      "[LightGBM] [Warning] feature_fraction is set=0.5059955333205706, colsample_bytree=1.0 will be ignored. Current value: feature_fraction=0.5059955333205706\n",
      "[LightGBM] [Warning] bagging_fraction is set=0.511489436328951, subsample=1.0 will be ignored. Current value: bagging_fraction=0.511489436328951\n",
      "[LightGBM] [Warning] lambda_l2 is set=0.5891832091825456, reg_lambda=0.0 will be ignored. Current value: lambda_l2=0.5891832091825456\n",
      "[LightGBM] [Warning] lambda_l1 is set=1.4153189877645901e-06, reg_alpha=0.0 will be ignored. Current value: lambda_l1=1.4153189877645901e-06\n",
      "[LightGBM] [Warning] bagging_freq is set=6, subsample_freq=0 will be ignored. Current value: bagging_freq=6\n",
      "[LightGBM] [Warning] feature_fraction is set=0.5059955333205706, colsample_bytree=1.0 will be ignored. Current value: feature_fraction=0.5059955333205706\n",
      "[LightGBM] [Warning] bagging_fraction is set=0.511489436328951, subsample=1.0 will be ignored. Current value: bagging_fraction=0.511489436328951\n",
      "[LightGBM] [Warning] lambda_l2 is set=0.5891832091825456, reg_lambda=0.0 will be ignored. Current value: lambda_l2=0.5891832091825456\n",
      "[LightGBM] [Warning] lambda_l1 is set=1.4153189877645901e-06, reg_alpha=0.0 will be ignored. Current value: lambda_l1=1.4153189877645901e-06\n",
      "[LightGBM] [Warning] bagging_freq is set=6, subsample_freq=0 will be ignored. Current value: bagging_freq=6\n",
      "[LightGBM] [Warning] feature_fraction is set=0.5059955333205706, colsample_bytree=1.0 will be ignored. Current value: feature_fraction=0.5059955333205706\n",
      "[LightGBM] [Warning] bagging_fraction is set=0.511489436328951, subsample=1.0 will be ignored. Current value: bagging_fraction=0.511489436328951\n",
      "[LightGBM] [Warning] lambda_l2 is set=0.5891832091825456, reg_lambda=0.0 will be ignored. Current value: lambda_l2=0.5891832091825456\n",
      "[LightGBM] [Warning] lambda_l1 is set=1.4153189877645901e-06, reg_alpha=0.0 will be ignored. Current value: lambda_l1=1.4153189877645901e-06\n",
      "[LightGBM] [Warning] bagging_freq is set=6, subsample_freq=0 will be ignored. Current value: bagging_freq=6\n",
      "[LightGBM] [Warning] feature_fraction is set=0.5059955333205706, colsample_bytree=1.0 will be ignored. Current value: feature_fraction=0.5059955333205706\n",
      "[LightGBM] [Warning] bagging_fraction is set=0.511489436328951, subsample=1.0 will be ignored. Current value: bagging_fraction=0.511489436328951\n",
      "[LightGBM] [Warning] lambda_l2 is set=0.5891832091825456, reg_lambda=0.0 will be ignored. Current value: lambda_l2=0.5891832091825456\n",
      "[LightGBM] [Warning] lambda_l1 is set=1.4153189877645901e-06, reg_alpha=0.0 will be ignored. Current value: lambda_l1=1.4153189877645901e-06\n",
      "[LightGBM] [Warning] bagging_freq is set=6, subsample_freq=0 will be ignored. Current value: bagging_freq=6\n",
      "[LightGBM] [Warning] feature_fraction is set=0.5059955333205706, colsample_bytree=1.0 will be ignored. Current value: feature_fraction=0.5059955333205706\n",
      "[LightGBM] [Warning] bagging_fraction is set=0.511489436328951, subsample=1.0 will be ignored. Current value: bagging_fraction=0.511489436328951\n",
      "[LightGBM] [Warning] lambda_l2 is set=0.5891832091825456, reg_lambda=0.0 will be ignored. Current value: lambda_l2=0.5891832091825456\n",
      "[LightGBM] [Warning] lambda_l1 is set=1.4153189877645901e-06, reg_alpha=0.0 will be ignored. Current value: lambda_l1=1.4153189877645901e-06\n",
      "[LightGBM] [Warning] bagging_freq is set=6, subsample_freq=0 will be ignored. Current value: bagging_freq=6\n",
      "[LightGBM] [Warning] feature_fraction is set=0.5059955333205706, colsample_bytree=1.0 will be ignored. Current value: feature_fraction=0.5059955333205706\n"
     ]
    },
    {
     "name": "stderr",
     "output_type": "stream",
     "text": [
      "\u001b[32m[I 2023-03-29 02:52:55,302]\u001b[0m Trial 39 finished with value: 0.2767418259524505 and parameters: {'lambda_l1': 1.4153189877645901e-06, 'lambda_l2': 0.5891832091825456, 'num_leaves': 224, 'max_depth': 10, 'learning_rate': 0.042566939050480805, 'feature_fraction': 0.5059955333205706, 'bagging_fraction': 0.511489436328951, 'bagging_freq': 6, 'min_child_samples': 96}. Best is trial 35 with value: 0.2746967832605161.\u001b[0m\n"
     ]
    },
    {
     "name": "stdout",
     "output_type": "stream",
     "text": [
      "[LightGBM] [Warning] bagging_fraction is set=0.4627489883161497, subsample=1.0 will be ignored. Current value: bagging_fraction=0.4627489883161497\n",
      "[LightGBM] [Warning] lambda_l2 is set=0.06886883293041549, reg_lambda=0.0 will be ignored. Current value: lambda_l2=0.06886883293041549\n",
      "[LightGBM] [Warning] lambda_l1 is set=1.9397512153492947e-07, reg_alpha=0.0 will be ignored. Current value: lambda_l1=1.9397512153492947e-07\n",
      "[LightGBM] [Warning] bagging_freq is set=1, subsample_freq=0 will be ignored. Current value: bagging_freq=1\n",
      "[LightGBM] [Warning] feature_fraction is set=0.47677391017752035, colsample_bytree=1.0 will be ignored. Current value: feature_fraction=0.47677391017752035\n",
      "[LightGBM] [Warning] bagging_fraction is set=0.4627489883161497, subsample=1.0 will be ignored. Current value: bagging_fraction=0.4627489883161497\n",
      "[LightGBM] [Warning] lambda_l2 is set=0.06886883293041549, reg_lambda=0.0 will be ignored. Current value: lambda_l2=0.06886883293041549\n",
      "[LightGBM] [Warning] lambda_l1 is set=1.9397512153492947e-07, reg_alpha=0.0 will be ignored. Current value: lambda_l1=1.9397512153492947e-07\n",
      "[LightGBM] [Warning] bagging_freq is set=1, subsample_freq=0 will be ignored. Current value: bagging_freq=1\n",
      "[LightGBM] [Warning] feature_fraction is set=0.47677391017752035, colsample_bytree=1.0 will be ignored. Current value: feature_fraction=0.47677391017752035\n",
      "[LightGBM] [Warning] bagging_fraction is set=0.4627489883161497, subsample=1.0 will be ignored. Current value: bagging_fraction=0.4627489883161497\n",
      "[LightGBM] [Warning] lambda_l2 is set=0.06886883293041549, reg_lambda=0.0 will be ignored. Current value: lambda_l2=0.06886883293041549\n",
      "[LightGBM] [Warning] lambda_l1 is set=1.9397512153492947e-07, reg_alpha=0.0 will be ignored. Current value: lambda_l1=1.9397512153492947e-07\n",
      "[LightGBM] [Warning] bagging_freq is set=1, subsample_freq=0 will be ignored. Current value: bagging_freq=1\n",
      "[LightGBM] [Warning] feature_fraction is set=0.47677391017752035, colsample_bytree=1.0 will be ignored. Current value: feature_fraction=0.47677391017752035\n",
      "[LightGBM] [Warning] bagging_fraction is set=0.4627489883161497, subsample=1.0 will be ignored. Current value: bagging_fraction=0.4627489883161497\n",
      "[LightGBM] [Warning] lambda_l2 is set=0.06886883293041549, reg_lambda=0.0 will be ignored. Current value: lambda_l2=0.06886883293041549\n",
      "[LightGBM] [Warning] lambda_l1 is set=1.9397512153492947e-07, reg_alpha=0.0 will be ignored. Current value: lambda_l1=1.9397512153492947e-07\n",
      "[LightGBM] [Warning] bagging_freq is set=1, subsample_freq=0 will be ignored. Current value: bagging_freq=1\n",
      "[LightGBM] [Warning] feature_fraction is set=0.47677391017752035, colsample_bytree=1.0 will be ignored. Current value: feature_fraction=0.47677391017752035\n",
      "[LightGBM] [Warning] bagging_fraction is set=0.4627489883161497, subsample=1.0 will be ignored. Current value: bagging_fraction=0.4627489883161497\n",
      "[LightGBM] [Warning] lambda_l2 is set=0.06886883293041549, reg_lambda=0.0 will be ignored. Current value: lambda_l2=0.06886883293041549\n",
      "[LightGBM] [Warning] lambda_l1 is set=1.9397512153492947e-07, reg_alpha=0.0 will be ignored. Current value: lambda_l1=1.9397512153492947e-07\n",
      "[LightGBM] [Warning] bagging_freq is set=1, subsample_freq=0 will be ignored. Current value: bagging_freq=1\n",
      "[LightGBM] [Warning] feature_fraction is set=0.47677391017752035, colsample_bytree=1.0 will be ignored. Current value: feature_fraction=0.47677391017752035\n",
      "[LightGBM] [Warning] bagging_fraction is set=0.4627489883161497, subsample=1.0 will be ignored. Current value: bagging_fraction=0.4627489883161497\n",
      "[LightGBM] [Warning] lambda_l2 is set=0.06886883293041549, reg_lambda=0.0 will be ignored. Current value: lambda_l2=0.06886883293041549\n",
      "[LightGBM] [Warning] lambda_l1 is set=1.9397512153492947e-07, reg_alpha=0.0 will be ignored. Current value: lambda_l1=1.9397512153492947e-07\n",
      "[LightGBM] [Warning] bagging_freq is set=1, subsample_freq=0 will be ignored. Current value: bagging_freq=1\n",
      "[LightGBM] [Warning] feature_fraction is set=0.47677391017752035, colsample_bytree=1.0 will be ignored. Current value: feature_fraction=0.47677391017752035\n"
     ]
    },
    {
     "name": "stderr",
     "output_type": "stream",
     "text": [
      "\u001b[32m[I 2023-03-29 02:52:58,953]\u001b[0m Trial 40 finished with value: 0.2950601069677479 and parameters: {'lambda_l1': 1.9397512153492947e-07, 'lambda_l2': 0.06886883293041549, 'num_leaves': 242, 'max_depth': 18, 'learning_rate': 0.0755006354402614, 'feature_fraction': 0.47677391017752035, 'bagging_fraction': 0.4627489883161497, 'bagging_freq': 1, 'min_child_samples': 16}. Best is trial 35 with value: 0.2746967832605161.\u001b[0m\n"
     ]
    },
    {
     "name": "stdout",
     "output_type": "stream",
     "text": [
      "[LightGBM] [Warning] bagging_fraction is set=0.5219364261605907, subsample=1.0 will be ignored. Current value: bagging_fraction=0.5219364261605907\n",
      "[LightGBM] [Warning] lambda_l2 is set=0.6947266216032646, reg_lambda=0.0 will be ignored. Current value: lambda_l2=0.6947266216032646\n",
      "[LightGBM] [Warning] lambda_l1 is set=3.869024756702236e-08, reg_alpha=0.0 will be ignored. Current value: lambda_l1=3.869024756702236e-08\n",
      "[LightGBM] [Warning] bagging_freq is set=2, subsample_freq=0 will be ignored. Current value: bagging_freq=2\n",
      "[LightGBM] [Warning] feature_fraction is set=0.5511230182838772, colsample_bytree=1.0 will be ignored. Current value: feature_fraction=0.5511230182838772\n",
      "[LightGBM] [Warning] bagging_fraction is set=0.5219364261605907, subsample=1.0 will be ignored. Current value: bagging_fraction=0.5219364261605907\n",
      "[LightGBM] [Warning] lambda_l2 is set=0.6947266216032646, reg_lambda=0.0 will be ignored. Current value: lambda_l2=0.6947266216032646\n",
      "[LightGBM] [Warning] lambda_l1 is set=3.869024756702236e-08, reg_alpha=0.0 will be ignored. Current value: lambda_l1=3.869024756702236e-08\n",
      "[LightGBM] [Warning] bagging_freq is set=2, subsample_freq=0 will be ignored. Current value: bagging_freq=2\n",
      "[LightGBM] [Warning] feature_fraction is set=0.5511230182838772, colsample_bytree=1.0 will be ignored. Current value: feature_fraction=0.5511230182838772\n",
      "[LightGBM] [Warning] bagging_fraction is set=0.5219364261605907, subsample=1.0 will be ignored. Current value: bagging_fraction=0.5219364261605907\n",
      "[LightGBM] [Warning] lambda_l2 is set=0.6947266216032646, reg_lambda=0.0 will be ignored. Current value: lambda_l2=0.6947266216032646\n",
      "[LightGBM] [Warning] lambda_l1 is set=3.869024756702236e-08, reg_alpha=0.0 will be ignored. Current value: lambda_l1=3.869024756702236e-08\n",
      "[LightGBM] [Warning] bagging_freq is set=2, subsample_freq=0 will be ignored. Current value: bagging_freq=2\n",
      "[LightGBM] [Warning] feature_fraction is set=0.5511230182838772, colsample_bytree=1.0 will be ignored. Current value: feature_fraction=0.5511230182838772\n",
      "[LightGBM] [Warning] bagging_fraction is set=0.5219364261605907, subsample=1.0 will be ignored. Current value: bagging_fraction=0.5219364261605907\n",
      "[LightGBM] [Warning] lambda_l2 is set=0.6947266216032646, reg_lambda=0.0 will be ignored. Current value: lambda_l2=0.6947266216032646\n",
      "[LightGBM] [Warning] lambda_l1 is set=3.869024756702236e-08, reg_alpha=0.0 will be ignored. Current value: lambda_l1=3.869024756702236e-08\n",
      "[LightGBM] [Warning] bagging_freq is set=2, subsample_freq=0 will be ignored. Current value: bagging_freq=2\n",
      "[LightGBM] [Warning] feature_fraction is set=0.5511230182838772, colsample_bytree=1.0 will be ignored. Current value: feature_fraction=0.5511230182838772\n",
      "[LightGBM] [Warning] bagging_fraction is set=0.5219364261605907, subsample=1.0 will be ignored. Current value: bagging_fraction=0.5219364261605907\n",
      "[LightGBM] [Warning] lambda_l2 is set=0.6947266216032646, reg_lambda=0.0 will be ignored. Current value: lambda_l2=0.6947266216032646\n",
      "[LightGBM] [Warning] lambda_l1 is set=3.869024756702236e-08, reg_alpha=0.0 will be ignored. Current value: lambda_l1=3.869024756702236e-08\n",
      "[LightGBM] [Warning] bagging_freq is set=2, subsample_freq=0 will be ignored. Current value: bagging_freq=2\n",
      "[LightGBM] [Warning] feature_fraction is set=0.5511230182838772, colsample_bytree=1.0 will be ignored. Current value: feature_fraction=0.5511230182838772\n",
      "[LightGBM] [Warning] bagging_fraction is set=0.5219364261605907, subsample=1.0 will be ignored. Current value: bagging_fraction=0.5219364261605907\n",
      "[LightGBM] [Warning] lambda_l2 is set=0.6947266216032646, reg_lambda=0.0 will be ignored. Current value: lambda_l2=0.6947266216032646\n",
      "[LightGBM] [Warning] lambda_l1 is set=3.869024756702236e-08, reg_alpha=0.0 will be ignored. Current value: lambda_l1=3.869024756702236e-08\n",
      "[LightGBM] [Warning] bagging_freq is set=2, subsample_freq=0 will be ignored. Current value: bagging_freq=2\n",
      "[LightGBM] [Warning] feature_fraction is set=0.5511230182838772, colsample_bytree=1.0 will be ignored. Current value: feature_fraction=0.5511230182838772\n"
     ]
    },
    {
     "name": "stderr",
     "output_type": "stream",
     "text": [
      "\u001b[32m[I 2023-03-29 02:53:00,446]\u001b[0m Trial 41 finished with value: 0.2748247829444475 and parameters: {'lambda_l1': 3.869024756702236e-08, 'lambda_l2': 0.6947266216032646, 'num_leaves': 149, 'max_depth': 21, 'learning_rate': 0.052646474476256575, 'feature_fraction': 0.5511230182838772, 'bagging_fraction': 0.5219364261605907, 'bagging_freq': 2, 'min_child_samples': 93}. Best is trial 35 with value: 0.2746967832605161.\u001b[0m\n"
     ]
    },
    {
     "name": "stdout",
     "output_type": "stream",
     "text": [
      "[LightGBM] [Warning] bagging_fraction is set=0.49290880058094577, subsample=1.0 will be ignored. Current value: bagging_fraction=0.49290880058094577\n",
      "[LightGBM] [Warning] lambda_l2 is set=1.3555082793818414, reg_lambda=0.0 will be ignored. Current value: lambda_l2=1.3555082793818414\n",
      "[LightGBM] [Warning] lambda_l1 is set=3.249354728539957e-08, reg_alpha=0.0 will be ignored. Current value: lambda_l1=3.249354728539957e-08\n",
      "[LightGBM] [Warning] bagging_freq is set=2, subsample_freq=0 will be ignored. Current value: bagging_freq=2\n",
      "[LightGBM] [Warning] feature_fraction is set=0.6018815462330346, colsample_bytree=1.0 will be ignored. Current value: feature_fraction=0.6018815462330346\n",
      "[LightGBM] [Warning] bagging_fraction is set=0.49290880058094577, subsample=1.0 will be ignored. Current value: bagging_fraction=0.49290880058094577\n",
      "[LightGBM] [Warning] lambda_l2 is set=1.3555082793818414, reg_lambda=0.0 will be ignored. Current value: lambda_l2=1.3555082793818414\n",
      "[LightGBM] [Warning] lambda_l1 is set=3.249354728539957e-08, reg_alpha=0.0 will be ignored. Current value: lambda_l1=3.249354728539957e-08\n",
      "[LightGBM] [Warning] bagging_freq is set=2, subsample_freq=0 will be ignored. Current value: bagging_freq=2\n",
      "[LightGBM] [Warning] feature_fraction is set=0.6018815462330346, colsample_bytree=1.0 will be ignored. Current value: feature_fraction=0.6018815462330346\n",
      "[LightGBM] [Warning] bagging_fraction is set=0.49290880058094577, subsample=1.0 will be ignored. Current value: bagging_fraction=0.49290880058094577\n",
      "[LightGBM] [Warning] lambda_l2 is set=1.3555082793818414, reg_lambda=0.0 will be ignored. Current value: lambda_l2=1.3555082793818414\n",
      "[LightGBM] [Warning] lambda_l1 is set=3.249354728539957e-08, reg_alpha=0.0 will be ignored. Current value: lambda_l1=3.249354728539957e-08\n",
      "[LightGBM] [Warning] bagging_freq is set=2, subsample_freq=0 will be ignored. Current value: bagging_freq=2\n",
      "[LightGBM] [Warning] feature_fraction is set=0.6018815462330346, colsample_bytree=1.0 will be ignored. Current value: feature_fraction=0.6018815462330346\n",
      "[LightGBM] [Warning] bagging_fraction is set=0.49290880058094577, subsample=1.0 will be ignored. Current value: bagging_fraction=0.49290880058094577\n",
      "[LightGBM] [Warning] lambda_l2 is set=1.3555082793818414, reg_lambda=0.0 will be ignored. Current value: lambda_l2=1.3555082793818414\n",
      "[LightGBM] [Warning] lambda_l1 is set=3.249354728539957e-08, reg_alpha=0.0 will be ignored. Current value: lambda_l1=3.249354728539957e-08\n",
      "[LightGBM] [Warning] bagging_freq is set=2, subsample_freq=0 will be ignored. Current value: bagging_freq=2\n",
      "[LightGBM] [Warning] feature_fraction is set=0.6018815462330346, colsample_bytree=1.0 will be ignored. Current value: feature_fraction=0.6018815462330346\n",
      "[LightGBM] [Warning] bagging_fraction is set=0.49290880058094577, subsample=1.0 will be ignored. Current value: bagging_fraction=0.49290880058094577\n",
      "[LightGBM] [Warning] lambda_l2 is set=1.3555082793818414, reg_lambda=0.0 will be ignored. Current value: lambda_l2=1.3555082793818414\n",
      "[LightGBM] [Warning] lambda_l1 is set=3.249354728539957e-08, reg_alpha=0.0 will be ignored. Current value: lambda_l1=3.249354728539957e-08\n",
      "[LightGBM] [Warning] bagging_freq is set=2, subsample_freq=0 will be ignored. Current value: bagging_freq=2\n",
      "[LightGBM] [Warning] feature_fraction is set=0.6018815462330346, colsample_bytree=1.0 will be ignored. Current value: feature_fraction=0.6018815462330346\n",
      "[LightGBM] [Warning] bagging_fraction is set=0.49290880058094577, subsample=1.0 will be ignored. Current value: bagging_fraction=0.49290880058094577\n",
      "[LightGBM] [Warning] lambda_l2 is set=1.3555082793818414, reg_lambda=0.0 will be ignored. Current value: lambda_l2=1.3555082793818414\n",
      "[LightGBM] [Warning] lambda_l1 is set=3.249354728539957e-08, reg_alpha=0.0 will be ignored. Current value: lambda_l1=3.249354728539957e-08\n",
      "[LightGBM] [Warning] bagging_freq is set=2, subsample_freq=0 will be ignored. Current value: bagging_freq=2\n",
      "[LightGBM] [Warning] feature_fraction is set=0.6018815462330346, colsample_bytree=1.0 will be ignored. Current value: feature_fraction=0.6018815462330346\n"
     ]
    },
    {
     "name": "stderr",
     "output_type": "stream",
     "text": [
      "\u001b[32m[I 2023-03-29 02:53:01,909]\u001b[0m Trial 42 finished with value: 0.2756177396803944 and parameters: {'lambda_l1': 3.249354728539957e-08, 'lambda_l2': 1.3555082793818414, 'num_leaves': 144, 'max_depth': 21, 'learning_rate': 0.05491997026329589, 'feature_fraction': 0.6018815462330346, 'bagging_fraction': 0.49290880058094577, 'bagging_freq': 2, 'min_child_samples': 80}. Best is trial 35 with value: 0.2746967832605161.\u001b[0m\n"
     ]
    },
    {
     "name": "stdout",
     "output_type": "stream",
     "text": [
      "[LightGBM] [Warning] bagging_fraction is set=0.5202584778572572, subsample=1.0 will be ignored. Current value: bagging_fraction=0.5202584778572572\n",
      "[LightGBM] [Warning] lambda_l2 is set=8.15830918002433, reg_lambda=0.0 will be ignored. Current value: lambda_l2=8.15830918002433\n",
      "[LightGBM] [Warning] lambda_l1 is set=2.44459562464101e-07, reg_alpha=0.0 will be ignored. Current value: lambda_l1=2.44459562464101e-07\n",
      "[LightGBM] [Warning] bagging_freq is set=3, subsample_freq=0 will be ignored. Current value: bagging_freq=3\n",
      "[LightGBM] [Warning] feature_fraction is set=0.544377168369868, colsample_bytree=1.0 will be ignored. Current value: feature_fraction=0.544377168369868\n",
      "[LightGBM] [Warning] bagging_fraction is set=0.5202584778572572, subsample=1.0 will be ignored. Current value: bagging_fraction=0.5202584778572572\n",
      "[LightGBM] [Warning] lambda_l2 is set=8.15830918002433, reg_lambda=0.0 will be ignored. Current value: lambda_l2=8.15830918002433\n",
      "[LightGBM] [Warning] lambda_l1 is set=2.44459562464101e-07, reg_alpha=0.0 will be ignored. Current value: lambda_l1=2.44459562464101e-07\n",
      "[LightGBM] [Warning] bagging_freq is set=3, subsample_freq=0 will be ignored. Current value: bagging_freq=3\n",
      "[LightGBM] [Warning] feature_fraction is set=0.544377168369868, colsample_bytree=1.0 will be ignored. Current value: feature_fraction=0.544377168369868\n",
      "[LightGBM] [Warning] bagging_fraction is set=0.5202584778572572, subsample=1.0 will be ignored. Current value: bagging_fraction=0.5202584778572572\n",
      "[LightGBM] [Warning] lambda_l2 is set=8.15830918002433, reg_lambda=0.0 will be ignored. Current value: lambda_l2=8.15830918002433\n",
      "[LightGBM] [Warning] lambda_l1 is set=2.44459562464101e-07, reg_alpha=0.0 will be ignored. Current value: lambda_l1=2.44459562464101e-07\n",
      "[LightGBM] [Warning] bagging_freq is set=3, subsample_freq=0 will be ignored. Current value: bagging_freq=3\n",
      "[LightGBM] [Warning] feature_fraction is set=0.544377168369868, colsample_bytree=1.0 will be ignored. Current value: feature_fraction=0.544377168369868\n",
      "[LightGBM] [Warning] bagging_fraction is set=0.5202584778572572, subsample=1.0 will be ignored. Current value: bagging_fraction=0.5202584778572572\n",
      "[LightGBM] [Warning] lambda_l2 is set=8.15830918002433, reg_lambda=0.0 will be ignored. Current value: lambda_l2=8.15830918002433\n",
      "[LightGBM] [Warning] lambda_l1 is set=2.44459562464101e-07, reg_alpha=0.0 will be ignored. Current value: lambda_l1=2.44459562464101e-07\n",
      "[LightGBM] [Warning] bagging_freq is set=3, subsample_freq=0 will be ignored. Current value: bagging_freq=3\n",
      "[LightGBM] [Warning] feature_fraction is set=0.544377168369868, colsample_bytree=1.0 will be ignored. Current value: feature_fraction=0.544377168369868\n",
      "[LightGBM] [Warning] bagging_fraction is set=0.5202584778572572, subsample=1.0 will be ignored. Current value: bagging_fraction=0.5202584778572572\n",
      "[LightGBM] [Warning] lambda_l2 is set=8.15830918002433, reg_lambda=0.0 will be ignored. Current value: lambda_l2=8.15830918002433\n",
      "[LightGBM] [Warning] lambda_l1 is set=2.44459562464101e-07, reg_alpha=0.0 will be ignored. Current value: lambda_l1=2.44459562464101e-07\n",
      "[LightGBM] [Warning] bagging_freq is set=3, subsample_freq=0 will be ignored. Current value: bagging_freq=3\n",
      "[LightGBM] [Warning] feature_fraction is set=0.544377168369868, colsample_bytree=1.0 will be ignored. Current value: feature_fraction=0.544377168369868\n",
      "[LightGBM] [Warning] bagging_fraction is set=0.5202584778572572, subsample=1.0 will be ignored. Current value: bagging_fraction=0.5202584778572572\n",
      "[LightGBM] [Warning] lambda_l2 is set=8.15830918002433, reg_lambda=0.0 will be ignored. Current value: lambda_l2=8.15830918002433\n",
      "[LightGBM] [Warning] lambda_l1 is set=2.44459562464101e-07, reg_alpha=0.0 will be ignored. Current value: lambda_l1=2.44459562464101e-07\n",
      "[LightGBM] [Warning] bagging_freq is set=3, subsample_freq=0 will be ignored. Current value: bagging_freq=3\n",
      "[LightGBM] [Warning] feature_fraction is set=0.544377168369868, colsample_bytree=1.0 will be ignored. Current value: feature_fraction=0.544377168369868\n"
     ]
    },
    {
     "name": "stderr",
     "output_type": "stream",
     "text": [
      "\u001b[32m[I 2023-03-29 02:53:06,619]\u001b[0m Trial 43 finished with value: 0.28251307833249334 and parameters: {'lambda_l1': 2.44459562464101e-07, 'lambda_l2': 8.15830918002433, 'num_leaves': 155, 'max_depth': 25, 'learning_rate': 0.034399652575668474, 'feature_fraction': 0.544377168369868, 'bagging_fraction': 0.5202584778572572, 'bagging_freq': 3, 'min_child_samples': 88}. Best is trial 35 with value: 0.2746967832605161.\u001b[0m\n"
     ]
    },
    {
     "name": "stdout",
     "output_type": "stream",
     "text": [
      "[LightGBM] [Warning] bagging_fraction is set=0.565272324801392, subsample=1.0 will be ignored. Current value: bagging_fraction=0.565272324801392\n",
      "[LightGBM] [Warning] lambda_l2 is set=0.41634086219521627, reg_lambda=0.0 will be ignored. Current value: lambda_l2=0.41634086219521627\n",
      "[LightGBM] [Warning] lambda_l1 is set=1.1603458124759552e-05, reg_alpha=0.0 will be ignored. Current value: lambda_l1=1.1603458124759552e-05\n",
      "[LightGBM] [Warning] bagging_freq is set=2, subsample_freq=0 will be ignored. Current value: bagging_freq=2\n",
      "[LightGBM] [Warning] feature_fraction is set=0.5526979103401569, colsample_bytree=1.0 will be ignored. Current value: feature_fraction=0.5526979103401569\n",
      "[LightGBM] [Warning] bagging_fraction is set=0.565272324801392, subsample=1.0 will be ignored. Current value: bagging_fraction=0.565272324801392\n",
      "[LightGBM] [Warning] lambda_l2 is set=0.41634086219521627, reg_lambda=0.0 will be ignored. Current value: lambda_l2=0.41634086219521627\n",
      "[LightGBM] [Warning] lambda_l1 is set=1.1603458124759552e-05, reg_alpha=0.0 will be ignored. Current value: lambda_l1=1.1603458124759552e-05\n",
      "[LightGBM] [Warning] bagging_freq is set=2, subsample_freq=0 will be ignored. Current value: bagging_freq=2\n",
      "[LightGBM] [Warning] feature_fraction is set=0.5526979103401569, colsample_bytree=1.0 will be ignored. Current value: feature_fraction=0.5526979103401569\n",
      "[LightGBM] [Warning] bagging_fraction is set=0.565272324801392, subsample=1.0 will be ignored. Current value: bagging_fraction=0.565272324801392\n",
      "[LightGBM] [Warning] lambda_l2 is set=0.41634086219521627, reg_lambda=0.0 will be ignored. Current value: lambda_l2=0.41634086219521627\n",
      "[LightGBM] [Warning] lambda_l1 is set=1.1603458124759552e-05, reg_alpha=0.0 will be ignored. Current value: lambda_l1=1.1603458124759552e-05\n",
      "[LightGBM] [Warning] bagging_freq is set=2, subsample_freq=0 will be ignored. Current value: bagging_freq=2\n",
      "[LightGBM] [Warning] feature_fraction is set=0.5526979103401569, colsample_bytree=1.0 will be ignored. Current value: feature_fraction=0.5526979103401569\n",
      "[LightGBM] [Warning] bagging_fraction is set=0.565272324801392, subsample=1.0 will be ignored. Current value: bagging_fraction=0.565272324801392\n",
      "[LightGBM] [Warning] lambda_l2 is set=0.41634086219521627, reg_lambda=0.0 will be ignored. Current value: lambda_l2=0.41634086219521627\n",
      "[LightGBM] [Warning] lambda_l1 is set=1.1603458124759552e-05, reg_alpha=0.0 will be ignored. Current value: lambda_l1=1.1603458124759552e-05\n",
      "[LightGBM] [Warning] bagging_freq is set=2, subsample_freq=0 will be ignored. Current value: bagging_freq=2\n",
      "[LightGBM] [Warning] feature_fraction is set=0.5526979103401569, colsample_bytree=1.0 will be ignored. Current value: feature_fraction=0.5526979103401569\n",
      "[LightGBM] [Warning] bagging_fraction is set=0.565272324801392, subsample=1.0 will be ignored. Current value: bagging_fraction=0.565272324801392\n",
      "[LightGBM] [Warning] lambda_l2 is set=0.41634086219521627, reg_lambda=0.0 will be ignored. Current value: lambda_l2=0.41634086219521627\n",
      "[LightGBM] [Warning] lambda_l1 is set=1.1603458124759552e-05, reg_alpha=0.0 will be ignored. Current value: lambda_l1=1.1603458124759552e-05\n",
      "[LightGBM] [Warning] bagging_freq is set=2, subsample_freq=0 will be ignored. Current value: bagging_freq=2\n",
      "[LightGBM] [Warning] feature_fraction is set=0.5526979103401569, colsample_bytree=1.0 will be ignored. Current value: feature_fraction=0.5526979103401569\n",
      "[LightGBM] [Warning] bagging_fraction is set=0.565272324801392, subsample=1.0 will be ignored. Current value: bagging_fraction=0.565272324801392\n",
      "[LightGBM] [Warning] lambda_l2 is set=0.41634086219521627, reg_lambda=0.0 will be ignored. Current value: lambda_l2=0.41634086219521627\n",
      "[LightGBM] [Warning] lambda_l1 is set=1.1603458124759552e-05, reg_alpha=0.0 will be ignored. Current value: lambda_l1=1.1603458124759552e-05\n",
      "[LightGBM] [Warning] bagging_freq is set=2, subsample_freq=0 will be ignored. Current value: bagging_freq=2\n",
      "[LightGBM] [Warning] feature_fraction is set=0.5526979103401569, colsample_bytree=1.0 will be ignored. Current value: feature_fraction=0.5526979103401569\n"
     ]
    },
    {
     "name": "stderr",
     "output_type": "stream",
     "text": [
      "\u001b[32m[I 2023-03-29 02:53:08,173]\u001b[0m Trial 44 finished with value: 0.2817836363056966 and parameters: {'lambda_l1': 1.1603458124759552e-05, 'lambda_l2': 0.41634086219521627, 'num_leaves': 199, 'max_depth': 18, 'learning_rate': 0.12611154362145022, 'feature_fraction': 0.5526979103401569, 'bagging_fraction': 0.565272324801392, 'bagging_freq': 2, 'min_child_samples': 96}. Best is trial 35 with value: 0.2746967832605161.\u001b[0m\n"
     ]
    },
    {
     "name": "stdout",
     "output_type": "stream",
     "text": [
      "[LightGBM] [Warning] bagging_fraction is set=0.6235853462356493, subsample=1.0 will be ignored. Current value: bagging_fraction=0.6235853462356493\n",
      "[LightGBM] [Warning] lambda_l2 is set=2.6108716121742668, reg_lambda=0.0 will be ignored. Current value: lambda_l2=2.6108716121742668\n",
      "[LightGBM] [Warning] lambda_l1 is set=6.0447553814421025e-05, reg_alpha=0.0 will be ignored. Current value: lambda_l1=6.0447553814421025e-05\n",
      "[LightGBM] [Warning] bagging_freq is set=4, subsample_freq=0 will be ignored. Current value: bagging_freq=4\n",
      "[LightGBM] [Warning] feature_fraction is set=0.6449051508090685, colsample_bytree=1.0 will be ignored. Current value: feature_fraction=0.6449051508090685\n",
      "[LightGBM] [Warning] bagging_fraction is set=0.6235853462356493, subsample=1.0 will be ignored. Current value: bagging_fraction=0.6235853462356493\n",
      "[LightGBM] [Warning] lambda_l2 is set=2.6108716121742668, reg_lambda=0.0 will be ignored. Current value: lambda_l2=2.6108716121742668\n",
      "[LightGBM] [Warning] lambda_l1 is set=6.0447553814421025e-05, reg_alpha=0.0 will be ignored. Current value: lambda_l1=6.0447553814421025e-05\n",
      "[LightGBM] [Warning] bagging_freq is set=4, subsample_freq=0 will be ignored. Current value: bagging_freq=4\n",
      "[LightGBM] [Warning] feature_fraction is set=0.6449051508090685, colsample_bytree=1.0 will be ignored. Current value: feature_fraction=0.6449051508090685\n",
      "[LightGBM] [Warning] bagging_fraction is set=0.6235853462356493, subsample=1.0 will be ignored. Current value: bagging_fraction=0.6235853462356493\n",
      "[LightGBM] [Warning] lambda_l2 is set=2.6108716121742668, reg_lambda=0.0 will be ignored. Current value: lambda_l2=2.6108716121742668\n",
      "[LightGBM] [Warning] lambda_l1 is set=6.0447553814421025e-05, reg_alpha=0.0 will be ignored. Current value: lambda_l1=6.0447553814421025e-05\n",
      "[LightGBM] [Warning] bagging_freq is set=4, subsample_freq=0 will be ignored. Current value: bagging_freq=4\n",
      "[LightGBM] [Warning] feature_fraction is set=0.6449051508090685, colsample_bytree=1.0 will be ignored. Current value: feature_fraction=0.6449051508090685\n",
      "[LightGBM] [Warning] bagging_fraction is set=0.6235853462356493, subsample=1.0 will be ignored. Current value: bagging_fraction=0.6235853462356493\n",
      "[LightGBM] [Warning] lambda_l2 is set=2.6108716121742668, reg_lambda=0.0 will be ignored. Current value: lambda_l2=2.6108716121742668\n",
      "[LightGBM] [Warning] lambda_l1 is set=6.0447553814421025e-05, reg_alpha=0.0 will be ignored. Current value: lambda_l1=6.0447553814421025e-05\n",
      "[LightGBM] [Warning] bagging_freq is set=4, subsample_freq=0 will be ignored. Current value: bagging_freq=4\n",
      "[LightGBM] [Warning] feature_fraction is set=0.6449051508090685, colsample_bytree=1.0 will be ignored. Current value: feature_fraction=0.6449051508090685\n",
      "[LightGBM] [Warning] bagging_fraction is set=0.6235853462356493, subsample=1.0 will be ignored. Current value: bagging_fraction=0.6235853462356493\n",
      "[LightGBM] [Warning] lambda_l2 is set=2.6108716121742668, reg_lambda=0.0 will be ignored. Current value: lambda_l2=2.6108716121742668\n",
      "[LightGBM] [Warning] lambda_l1 is set=6.0447553814421025e-05, reg_alpha=0.0 will be ignored. Current value: lambda_l1=6.0447553814421025e-05\n",
      "[LightGBM] [Warning] bagging_freq is set=4, subsample_freq=0 will be ignored. Current value: bagging_freq=4\n",
      "[LightGBM] [Warning] feature_fraction is set=0.6449051508090685, colsample_bytree=1.0 will be ignored. Current value: feature_fraction=0.6449051508090685\n"
     ]
    },
    {
     "name": "stderr",
     "output_type": "stream",
     "text": [
      "\u001b[32m[I 2023-03-29 02:53:09,709]\u001b[0m Trial 45 finished with value: 0.2766622178821668 and parameters: {'lambda_l1': 6.0447553814421025e-05, 'lambda_l2': 2.6108716121742668, 'num_leaves': 174, 'max_depth': 15, 'learning_rate': 0.07477233421297165, 'feature_fraction': 0.6449051508090685, 'bagging_fraction': 0.6235853462356493, 'bagging_freq': 4, 'min_child_samples': 95}. Best is trial 35 with value: 0.2746967832605161.\u001b[0m\n"
     ]
    },
    {
     "name": "stdout",
     "output_type": "stream",
     "text": [
      "[LightGBM] [Warning] bagging_fraction is set=0.6235853462356493, subsample=1.0 will be ignored. Current value: bagging_fraction=0.6235853462356493\n",
      "[LightGBM] [Warning] lambda_l2 is set=2.6108716121742668, reg_lambda=0.0 will be ignored. Current value: lambda_l2=2.6108716121742668\n",
      "[LightGBM] [Warning] lambda_l1 is set=6.0447553814421025e-05, reg_alpha=0.0 will be ignored. Current value: lambda_l1=6.0447553814421025e-05\n",
      "[LightGBM] [Warning] bagging_freq is set=4, subsample_freq=0 will be ignored. Current value: bagging_freq=4\n",
      "[LightGBM] [Warning] feature_fraction is set=0.6449051508090685, colsample_bytree=1.0 will be ignored. Current value: feature_fraction=0.6449051508090685\n",
      "[LightGBM] [Warning] bagging_fraction is set=0.47416963418463337, subsample=1.0 will be ignored. Current value: bagging_fraction=0.47416963418463337\n",
      "[LightGBM] [Warning] lambda_l2 is set=0.09552418499900057, reg_lambda=0.0 will be ignored. Current value: lambda_l2=0.09552418499900057\n",
      "[LightGBM] [Warning] lambda_l1 is set=1.360154519054664e-06, reg_alpha=0.0 will be ignored. Current value: lambda_l1=1.360154519054664e-06\n",
      "[LightGBM] [Warning] bagging_freq is set=1, subsample_freq=0 will be ignored. Current value: bagging_freq=1\n",
      "[LightGBM] [Warning] feature_fraction is set=0.5883671649122806, colsample_bytree=1.0 will be ignored. Current value: feature_fraction=0.5883671649122806\n",
      "[LightGBM] [Warning] bagging_fraction is set=0.47416963418463337, subsample=1.0 will be ignored. Current value: bagging_fraction=0.47416963418463337\n",
      "[LightGBM] [Warning] lambda_l2 is set=0.09552418499900057, reg_lambda=0.0 will be ignored. Current value: lambda_l2=0.09552418499900057\n",
      "[LightGBM] [Warning] lambda_l1 is set=1.360154519054664e-06, reg_alpha=0.0 will be ignored. Current value: lambda_l1=1.360154519054664e-06\n",
      "[LightGBM] [Warning] bagging_freq is set=1, subsample_freq=0 will be ignored. Current value: bagging_freq=1\n",
      "[LightGBM] [Warning] feature_fraction is set=0.5883671649122806, colsample_bytree=1.0 will be ignored. Current value: feature_fraction=0.5883671649122806\n",
      "[LightGBM] [Warning] bagging_fraction is set=0.47416963418463337, subsample=1.0 will be ignored. Current value: bagging_fraction=0.47416963418463337\n",
      "[LightGBM] [Warning] lambda_l2 is set=0.09552418499900057, reg_lambda=0.0 will be ignored. Current value: lambda_l2=0.09552418499900057\n",
      "[LightGBM] [Warning] lambda_l1 is set=1.360154519054664e-06, reg_alpha=0.0 will be ignored. Current value: lambda_l1=1.360154519054664e-06\n",
      "[LightGBM] [Warning] bagging_freq is set=1, subsample_freq=0 will be ignored. Current value: bagging_freq=1\n",
      "[LightGBM] [Warning] feature_fraction is set=0.5883671649122806, colsample_bytree=1.0 will be ignored. Current value: feature_fraction=0.5883671649122806\n",
      "[LightGBM] [Warning] bagging_fraction is set=0.47416963418463337, subsample=1.0 will be ignored. Current value: bagging_fraction=0.47416963418463337\n",
      "[LightGBM] [Warning] lambda_l2 is set=0.09552418499900057, reg_lambda=0.0 will be ignored. Current value: lambda_l2=0.09552418499900057\n",
      "[LightGBM] [Warning] lambda_l1 is set=1.360154519054664e-06, reg_alpha=0.0 will be ignored. Current value: lambda_l1=1.360154519054664e-06\n",
      "[LightGBM] [Warning] bagging_freq is set=1, subsample_freq=0 will be ignored. Current value: bagging_freq=1\n",
      "[LightGBM] [Warning] feature_fraction is set=0.5883671649122806, colsample_bytree=1.0 will be ignored. Current value: feature_fraction=0.5883671649122806\n",
      "[LightGBM] [Warning] bagging_fraction is set=0.47416963418463337, subsample=1.0 will be ignored. Current value: bagging_fraction=0.47416963418463337\n",
      "[LightGBM] [Warning] lambda_l2 is set=0.09552418499900057, reg_lambda=0.0 will be ignored. Current value: lambda_l2=0.09552418499900057\n",
      "[LightGBM] [Warning] lambda_l1 is set=1.360154519054664e-06, reg_alpha=0.0 will be ignored. Current value: lambda_l1=1.360154519054664e-06\n",
      "[LightGBM] [Warning] bagging_freq is set=1, subsample_freq=0 will be ignored. Current value: bagging_freq=1\n",
      "[LightGBM] [Warning] feature_fraction is set=0.5883671649122806, colsample_bytree=1.0 will be ignored. Current value: feature_fraction=0.5883671649122806\n",
      "[LightGBM] [Warning] bagging_fraction is set=0.47416963418463337, subsample=1.0 will be ignored. Current value: bagging_fraction=0.47416963418463337\n",
      "[LightGBM] [Warning] lambda_l2 is set=0.09552418499900057, reg_lambda=0.0 will be ignored. Current value: lambda_l2=0.09552418499900057\n",
      "[LightGBM] [Warning] lambda_l1 is set=1.360154519054664e-06, reg_alpha=0.0 will be ignored. Current value: lambda_l1=1.360154519054664e-06\n",
      "[LightGBM] [Warning] bagging_freq is set=1, subsample_freq=0 will be ignored. Current value: bagging_freq=1\n",
      "[LightGBM] [Warning] feature_fraction is set=0.5883671649122806, colsample_bytree=1.0 will be ignored. Current value: feature_fraction=0.5883671649122806\n"
     ]
    },
    {
     "name": "stderr",
     "output_type": "stream",
     "text": [
      "\u001b[32m[I 2023-03-29 02:53:11,263]\u001b[0m Trial 46 finished with value: 0.27581806994013763 and parameters: {'lambda_l1': 1.360154519054664e-06, 'lambda_l2': 0.09552418499900057, 'num_leaves': 134, 'max_depth': 20, 'learning_rate': 0.044920201869532626, 'feature_fraction': 0.5883671649122806, 'bagging_fraction': 0.47416963418463337, 'bagging_freq': 1, 'min_child_samples': 80}. Best is trial 35 with value: 0.2746967832605161.\u001b[0m\n"
     ]
    },
    {
     "name": "stdout",
     "output_type": "stream",
     "text": [
      "[LightGBM] [Warning] bagging_fraction is set=0.43697323006989824, subsample=1.0 will be ignored. Current value: bagging_fraction=0.43697323006989824\n",
      "[LightGBM] [Warning] lambda_l2 is set=0.2045511598138689, reg_lambda=0.0 will be ignored. Current value: lambda_l2=0.2045511598138689\n",
      "[LightGBM] [Warning] lambda_l1 is set=2.847339603351014e-08, reg_alpha=0.0 will be ignored. Current value: lambda_l1=2.847339603351014e-08\n",
      "[LightGBM] [Warning] bagging_freq is set=2, subsample_freq=0 will be ignored. Current value: bagging_freq=2\n",
      "[LightGBM] [Warning] feature_fraction is set=0.5701062154964053, colsample_bytree=1.0 will be ignored. Current value: feature_fraction=0.5701062154964053\n",
      "[LightGBM] [Warning] bagging_fraction is set=0.43697323006989824, subsample=1.0 will be ignored. Current value: bagging_fraction=0.43697323006989824\n",
      "[LightGBM] [Warning] lambda_l2 is set=0.2045511598138689, reg_lambda=0.0 will be ignored. Current value: lambda_l2=0.2045511598138689\n",
      "[LightGBM] [Warning] lambda_l1 is set=2.847339603351014e-08, reg_alpha=0.0 will be ignored. Current value: lambda_l1=2.847339603351014e-08\n",
      "[LightGBM] [Warning] bagging_freq is set=2, subsample_freq=0 will be ignored. Current value: bagging_freq=2\n",
      "[LightGBM] [Warning] feature_fraction is set=0.5701062154964053, colsample_bytree=1.0 will be ignored. Current value: feature_fraction=0.5701062154964053\n",
      "[LightGBM] [Warning] bagging_fraction is set=0.43697323006989824, subsample=1.0 will be ignored. Current value: bagging_fraction=0.43697323006989824\n",
      "[LightGBM] [Warning] lambda_l2 is set=0.2045511598138689, reg_lambda=0.0 will be ignored. Current value: lambda_l2=0.2045511598138689\n",
      "[LightGBM] [Warning] lambda_l1 is set=2.847339603351014e-08, reg_alpha=0.0 will be ignored. Current value: lambda_l1=2.847339603351014e-08\n",
      "[LightGBM] [Warning] bagging_freq is set=2, subsample_freq=0 will be ignored. Current value: bagging_freq=2\n",
      "[LightGBM] [Warning] feature_fraction is set=0.5701062154964053, colsample_bytree=1.0 will be ignored. Current value: feature_fraction=0.5701062154964053\n",
      "[LightGBM] [Warning] bagging_fraction is set=0.43697323006989824, subsample=1.0 will be ignored. Current value: bagging_fraction=0.43697323006989824\n",
      "[LightGBM] [Warning] lambda_l2 is set=0.2045511598138689, reg_lambda=0.0 will be ignored. Current value: lambda_l2=0.2045511598138689\n",
      "[LightGBM] [Warning] lambda_l1 is set=2.847339603351014e-08, reg_alpha=0.0 will be ignored. Current value: lambda_l1=2.847339603351014e-08\n",
      "[LightGBM] [Warning] bagging_freq is set=2, subsample_freq=0 will be ignored. Current value: bagging_freq=2\n",
      "[LightGBM] [Warning] feature_fraction is set=0.5701062154964053, colsample_bytree=1.0 will be ignored. Current value: feature_fraction=0.5701062154964053\n",
      "[LightGBM] [Warning] bagging_fraction is set=0.43697323006989824, subsample=1.0 will be ignored. Current value: bagging_fraction=0.43697323006989824\n",
      "[LightGBM] [Warning] lambda_l2 is set=0.2045511598138689, reg_lambda=0.0 will be ignored. Current value: lambda_l2=0.2045511598138689\n",
      "[LightGBM] [Warning] lambda_l1 is set=2.847339603351014e-08, reg_alpha=0.0 will be ignored. Current value: lambda_l1=2.847339603351014e-08\n",
      "[LightGBM] [Warning] bagging_freq is set=2, subsample_freq=0 will be ignored. Current value: bagging_freq=2\n",
      "[LightGBM] [Warning] feature_fraction is set=0.5701062154964053, colsample_bytree=1.0 will be ignored. Current value: feature_fraction=0.5701062154964053\n",
      "[LightGBM] [Warning] bagging_fraction is set=0.43697323006989824, subsample=1.0 will be ignored. Current value: bagging_fraction=0.43697323006989824\n",
      "[LightGBM] [Warning] lambda_l2 is set=0.2045511598138689, reg_lambda=0.0 will be ignored. Current value: lambda_l2=0.2045511598138689\n",
      "[LightGBM] [Warning] lambda_l1 is set=2.847339603351014e-08, reg_alpha=0.0 will be ignored. Current value: lambda_l1=2.847339603351014e-08\n",
      "[LightGBM] [Warning] bagging_freq is set=2, subsample_freq=0 will be ignored. Current value: bagging_freq=2\n",
      "[LightGBM] [Warning] feature_fraction is set=0.5701062154964053, colsample_bytree=1.0 will be ignored. Current value: feature_fraction=0.5701062154964053\n"
     ]
    },
    {
     "name": "stderr",
     "output_type": "stream",
     "text": [
      "\u001b[32m[I 2023-03-29 02:53:12,663]\u001b[0m Trial 47 finished with value: 0.30013869381181735 and parameters: {'lambda_l1': 2.847339603351014e-08, 'lambda_l2': 0.2045511598138689, 'num_leaves': 187, 'max_depth': 28, 'learning_rate': 0.02388863032051142, 'feature_fraction': 0.5701062154964053, 'bagging_fraction': 0.43697323006989824, 'bagging_freq': 2, 'min_child_samples': 88}. Best is trial 35 with value: 0.2746967832605161.\u001b[0m\n"
     ]
    },
    {
     "name": "stdout",
     "output_type": "stream",
     "text": [
      "[LightGBM] [Warning] bagging_fraction is set=0.5648627260142794, subsample=1.0 will be ignored. Current value: bagging_fraction=0.5648627260142794\n",
      "[LightGBM] [Warning] lambda_l2 is set=0.8299062018223099, reg_lambda=0.0 will be ignored. Current value: lambda_l2=0.8299062018223099\n",
      "[LightGBM] [Warning] lambda_l1 is set=1.0119020804656437e-07, reg_alpha=0.0 will be ignored. Current value: lambda_l1=1.0119020804656437e-07\n",
      "[LightGBM] [Warning] bagging_freq is set=1, subsample_freq=0 will be ignored. Current value: bagging_freq=1\n",
      "[LightGBM] [Warning] feature_fraction is set=0.7183691770400971, colsample_bytree=1.0 will be ignored. Current value: feature_fraction=0.7183691770400971\n",
      "[LightGBM] [Warning] bagging_fraction is set=0.5648627260142794, subsample=1.0 will be ignored. Current value: bagging_fraction=0.5648627260142794\n",
      "[LightGBM] [Warning] lambda_l2 is set=0.8299062018223099, reg_lambda=0.0 will be ignored. Current value: lambda_l2=0.8299062018223099\n",
      "[LightGBM] [Warning] lambda_l1 is set=1.0119020804656437e-07, reg_alpha=0.0 will be ignored. Current value: lambda_l1=1.0119020804656437e-07\n",
      "[LightGBM] [Warning] bagging_freq is set=1, subsample_freq=0 will be ignored. Current value: bagging_freq=1\n",
      "[LightGBM] [Warning] feature_fraction is set=0.7183691770400971, colsample_bytree=1.0 will be ignored. Current value: feature_fraction=0.7183691770400971\n",
      "[LightGBM] [Warning] bagging_fraction is set=0.5648627260142794, subsample=1.0 will be ignored. Current value: bagging_fraction=0.5648627260142794\n",
      "[LightGBM] [Warning] lambda_l2 is set=0.8299062018223099, reg_lambda=0.0 will be ignored. Current value: lambda_l2=0.8299062018223099\n",
      "[LightGBM] [Warning] lambda_l1 is set=1.0119020804656437e-07, reg_alpha=0.0 will be ignored. Current value: lambda_l1=1.0119020804656437e-07\n",
      "[LightGBM] [Warning] bagging_freq is set=1, subsample_freq=0 will be ignored. Current value: bagging_freq=1\n",
      "[LightGBM] [Warning] feature_fraction is set=0.7183691770400971, colsample_bytree=1.0 will be ignored. Current value: feature_fraction=0.7183691770400971\n",
      "[LightGBM] [Warning] bagging_fraction is set=0.5648627260142794, subsample=1.0 will be ignored. Current value: bagging_fraction=0.5648627260142794\n",
      "[LightGBM] [Warning] lambda_l2 is set=0.8299062018223099, reg_lambda=0.0 will be ignored. Current value: lambda_l2=0.8299062018223099\n",
      "[LightGBM] [Warning] lambda_l1 is set=1.0119020804656437e-07, reg_alpha=0.0 will be ignored. Current value: lambda_l1=1.0119020804656437e-07\n",
      "[LightGBM] [Warning] bagging_freq is set=1, subsample_freq=0 will be ignored. Current value: bagging_freq=1\n",
      "[LightGBM] [Warning] feature_fraction is set=0.7183691770400971, colsample_bytree=1.0 will be ignored. Current value: feature_fraction=0.7183691770400971\n",
      "[LightGBM] [Warning] bagging_fraction is set=0.5648627260142794, subsample=1.0 will be ignored. Current value: bagging_fraction=0.5648627260142794\n",
      "[LightGBM] [Warning] lambda_l2 is set=0.8299062018223099, reg_lambda=0.0 will be ignored. Current value: lambda_l2=0.8299062018223099\n",
      "[LightGBM] [Warning] lambda_l1 is set=1.0119020804656437e-07, reg_alpha=0.0 will be ignored. Current value: lambda_l1=1.0119020804656437e-07\n",
      "[LightGBM] [Warning] bagging_freq is set=1, subsample_freq=0 will be ignored. Current value: bagging_freq=1\n",
      "[LightGBM] [Warning] feature_fraction is set=0.7183691770400971, colsample_bytree=1.0 will be ignored. Current value: feature_fraction=0.7183691770400971\n"
     ]
    },
    {
     "name": "stderr",
     "output_type": "stream",
     "text": [
      "\u001b[32m[I 2023-03-29 02:53:13,653]\u001b[0m Trial 48 finished with value: 0.27515388931655244 and parameters: {'lambda_l1': 1.0119020804656437e-07, 'lambda_l2': 0.8299062018223099, 'num_leaves': 16, 'max_depth': 12, 'learning_rate': 0.08894088105484976, 'feature_fraction': 0.7183691770400971, 'bagging_fraction': 0.5648627260142794, 'bagging_freq': 1, 'min_child_samples': 97}. Best is trial 35 with value: 0.2746967832605161.\u001b[0m\n"
     ]
    },
    {
     "name": "stdout",
     "output_type": "stream",
     "text": [
      "[LightGBM] [Warning] bagging_fraction is set=0.5648627260142794, subsample=1.0 will be ignored. Current value: bagging_fraction=0.5648627260142794\n",
      "[LightGBM] [Warning] lambda_l2 is set=0.8299062018223099, reg_lambda=0.0 will be ignored. Current value: lambda_l2=0.8299062018223099\n",
      "[LightGBM] [Warning] lambda_l1 is set=1.0119020804656437e-07, reg_alpha=0.0 will be ignored. Current value: lambda_l1=1.0119020804656437e-07\n",
      "[LightGBM] [Warning] bagging_freq is set=1, subsample_freq=0 will be ignored. Current value: bagging_freq=1\n",
      "[LightGBM] [Warning] feature_fraction is set=0.7183691770400971, colsample_bytree=1.0 will be ignored. Current value: feature_fraction=0.7183691770400971\n",
      "[LightGBM] [Warning] bagging_fraction is set=0.576780511966476, subsample=1.0 will be ignored. Current value: bagging_fraction=0.576780511966476\n",
      "[LightGBM] [Warning] lambda_l2 is set=3.0624213150152197, reg_lambda=0.0 will be ignored. Current value: lambda_l2=3.0624213150152197\n",
      "[LightGBM] [Warning] lambda_l1 is set=3.704467630256435e-07, reg_alpha=0.0 will be ignored. Current value: lambda_l1=3.704467630256435e-07\n",
      "[LightGBM] [Warning] bagging_freq is set=3, subsample_freq=0 will be ignored. Current value: bagging_freq=3\n",
      "[LightGBM] [Warning] feature_fraction is set=0.5085769310957127, colsample_bytree=1.0 will be ignored. Current value: feature_fraction=0.5085769310957127\n",
      "[LightGBM] [Warning] bagging_fraction is set=0.576780511966476, subsample=1.0 will be ignored. Current value: bagging_fraction=0.576780511966476\n",
      "[LightGBM] [Warning] lambda_l2 is set=3.0624213150152197, reg_lambda=0.0 will be ignored. Current value: lambda_l2=3.0624213150152197\n",
      "[LightGBM] [Warning] lambda_l1 is set=3.704467630256435e-07, reg_alpha=0.0 will be ignored. Current value: lambda_l1=3.704467630256435e-07\n",
      "[LightGBM] [Warning] bagging_freq is set=3, subsample_freq=0 will be ignored. Current value: bagging_freq=3\n",
      "[LightGBM] [Warning] feature_fraction is set=0.5085769310957127, colsample_bytree=1.0 will be ignored. Current value: feature_fraction=0.5085769310957127\n",
      "[LightGBM] [Warning] bagging_fraction is set=0.576780511966476, subsample=1.0 will be ignored. Current value: bagging_fraction=0.576780511966476\n",
      "[LightGBM] [Warning] lambda_l2 is set=3.0624213150152197, reg_lambda=0.0 will be ignored. Current value: lambda_l2=3.0624213150152197\n",
      "[LightGBM] [Warning] lambda_l1 is set=3.704467630256435e-07, reg_alpha=0.0 will be ignored. Current value: lambda_l1=3.704467630256435e-07\n",
      "[LightGBM] [Warning] bagging_freq is set=3, subsample_freq=0 will be ignored. Current value: bagging_freq=3\n",
      "[LightGBM] [Warning] feature_fraction is set=0.5085769310957127, colsample_bytree=1.0 will be ignored. Current value: feature_fraction=0.5085769310957127\n",
      "[LightGBM] [Warning] bagging_fraction is set=0.576780511966476, subsample=1.0 will be ignored. Current value: bagging_fraction=0.576780511966476\n",
      "[LightGBM] [Warning] lambda_l2 is set=3.0624213150152197, reg_lambda=0.0 will be ignored. Current value: lambda_l2=3.0624213150152197\n",
      "[LightGBM] [Warning] lambda_l1 is set=3.704467630256435e-07, reg_alpha=0.0 will be ignored. Current value: lambda_l1=3.704467630256435e-07\n",
      "[LightGBM] [Warning] bagging_freq is set=3, subsample_freq=0 will be ignored. Current value: bagging_freq=3\n",
      "[LightGBM] [Warning] feature_fraction is set=0.5085769310957127, colsample_bytree=1.0 will be ignored. Current value: feature_fraction=0.5085769310957127\n",
      "[LightGBM] [Warning] bagging_fraction is set=0.576780511966476, subsample=1.0 will be ignored. Current value: bagging_fraction=0.576780511966476\n",
      "[LightGBM] [Warning] lambda_l2 is set=3.0624213150152197, reg_lambda=0.0 will be ignored. Current value: lambda_l2=3.0624213150152197\n",
      "[LightGBM] [Warning] lambda_l1 is set=3.704467630256435e-07, reg_alpha=0.0 will be ignored. Current value: lambda_l1=3.704467630256435e-07\n",
      "[LightGBM] [Warning] bagging_freq is set=3, subsample_freq=0 will be ignored. Current value: bagging_freq=3\n",
      "[LightGBM] [Warning] feature_fraction is set=0.5085769310957127, colsample_bytree=1.0 will be ignored. Current value: feature_fraction=0.5085769310957127\n"
     ]
    },
    {
     "name": "stderr",
     "output_type": "stream",
     "text": [
      "\u001b[32m[I 2023-03-29 02:53:15,074]\u001b[0m Trial 49 finished with value: 0.2757876698086979 and parameters: {'lambda_l1': 3.704467630256435e-07, 'lambda_l2': 3.0624213150152197, 'num_leaves': 200, 'max_depth': 21, 'learning_rate': 0.05804640610638996, 'feature_fraction': 0.5085769310957127, 'bagging_fraction': 0.576780511966476, 'bagging_freq': 3, 'min_child_samples': 84}. Best is trial 35 with value: 0.2746967832605161.\u001b[0m\n"
     ]
    },
    {
     "name": "stdout",
     "output_type": "stream",
     "text": [
      "[LightGBM] [Warning] bagging_fraction is set=0.576780511966476, subsample=1.0 will be ignored. Current value: bagging_fraction=0.576780511966476\n",
      "[LightGBM] [Warning] lambda_l2 is set=3.0624213150152197, reg_lambda=0.0 will be ignored. Current value: lambda_l2=3.0624213150152197\n",
      "[LightGBM] [Warning] lambda_l1 is set=3.704467630256435e-07, reg_alpha=0.0 will be ignored. Current value: lambda_l1=3.704467630256435e-07\n",
      "[LightGBM] [Warning] bagging_freq is set=3, subsample_freq=0 will be ignored. Current value: bagging_freq=3\n",
      "[LightGBM] [Warning] feature_fraction is set=0.5085769310957127, colsample_bytree=1.0 will be ignored. Current value: feature_fraction=0.5085769310957127\n",
      "[LightGBM] [Warning] bagging_fraction is set=0.5130949670623026, subsample=1.0 will be ignored. Current value: bagging_fraction=0.5130949670623026\n",
      "[LightGBM] [Warning] lambda_l2 is set=0.2862845399594842, reg_lambda=0.0 will be ignored. Current value: lambda_l2=0.2862845399594842\n",
      "[LightGBM] [Warning] lambda_l1 is set=2.3065409586921245e-08, reg_alpha=0.0 will be ignored. Current value: lambda_l1=2.3065409586921245e-08\n",
      "[LightGBM] [Warning] bagging_freq is set=2, subsample_freq=0 will be ignored. Current value: bagging_freq=2\n",
      "[LightGBM] [Warning] feature_fraction is set=0.6127557199048651, colsample_bytree=1.0 will be ignored. Current value: feature_fraction=0.6127557199048651\n",
      "[LightGBM] [Warning] bagging_fraction is set=0.5130949670623026, subsample=1.0 will be ignored. Current value: bagging_fraction=0.5130949670623026\n",
      "[LightGBM] [Warning] lambda_l2 is set=0.2862845399594842, reg_lambda=0.0 will be ignored. Current value: lambda_l2=0.2862845399594842\n",
      "[LightGBM] [Warning] lambda_l1 is set=2.3065409586921245e-08, reg_alpha=0.0 will be ignored. Current value: lambda_l1=2.3065409586921245e-08\n",
      "[LightGBM] [Warning] bagging_freq is set=2, subsample_freq=0 will be ignored. Current value: bagging_freq=2\n",
      "[LightGBM] [Warning] feature_fraction is set=0.6127557199048651, colsample_bytree=1.0 will be ignored. Current value: feature_fraction=0.6127557199048651\n",
      "[LightGBM] [Warning] bagging_fraction is set=0.5130949670623026, subsample=1.0 will be ignored. Current value: bagging_fraction=0.5130949670623026\n",
      "[LightGBM] [Warning] lambda_l2 is set=0.2862845399594842, reg_lambda=0.0 will be ignored. Current value: lambda_l2=0.2862845399594842\n",
      "[LightGBM] [Warning] lambda_l1 is set=2.3065409586921245e-08, reg_alpha=0.0 will be ignored. Current value: lambda_l1=2.3065409586921245e-08\n",
      "[LightGBM] [Warning] bagging_freq is set=2, subsample_freq=0 will be ignored. Current value: bagging_freq=2\n",
      "[LightGBM] [Warning] feature_fraction is set=0.6127557199048651, colsample_bytree=1.0 will be ignored. Current value: feature_fraction=0.6127557199048651\n",
      "[LightGBM] [Warning] bagging_fraction is set=0.5130949670623026, subsample=1.0 will be ignored. Current value: bagging_fraction=0.5130949670623026\n",
      "[LightGBM] [Warning] lambda_l2 is set=0.2862845399594842, reg_lambda=0.0 will be ignored. Current value: lambda_l2=0.2862845399594842\n",
      "[LightGBM] [Warning] lambda_l1 is set=2.3065409586921245e-08, reg_alpha=0.0 will be ignored. Current value: lambda_l1=2.3065409586921245e-08\n",
      "[LightGBM] [Warning] bagging_freq is set=2, subsample_freq=0 will be ignored. Current value: bagging_freq=2\n",
      "[LightGBM] [Warning] feature_fraction is set=0.6127557199048651, colsample_bytree=1.0 will be ignored. Current value: feature_fraction=0.6127557199048651\n",
      "[LightGBM] [Warning] bagging_fraction is set=0.5130949670623026, subsample=1.0 will be ignored. Current value: bagging_fraction=0.5130949670623026\n",
      "[LightGBM] [Warning] lambda_l2 is set=0.2862845399594842, reg_lambda=0.0 will be ignored. Current value: lambda_l2=0.2862845399594842\n",
      "[LightGBM] [Warning] lambda_l1 is set=2.3065409586921245e-08, reg_alpha=0.0 will be ignored. Current value: lambda_l1=2.3065409586921245e-08\n",
      "[LightGBM] [Warning] bagging_freq is set=2, subsample_freq=0 will be ignored. Current value: bagging_freq=2\n",
      "[LightGBM] [Warning] feature_fraction is set=0.6127557199048651, colsample_bytree=1.0 will be ignored. Current value: feature_fraction=0.6127557199048651\n",
      "[LightGBM] [Warning] bagging_fraction is set=0.5130949670623026, subsample=1.0 will be ignored. Current value: bagging_fraction=0.5130949670623026\n",
      "[LightGBM] [Warning] lambda_l2 is set=0.2862845399594842, reg_lambda=0.0 will be ignored. Current value: lambda_l2=0.2862845399594842\n",
      "[LightGBM] [Warning] lambda_l1 is set=2.3065409586921245e-08, reg_alpha=0.0 will be ignored. Current value: lambda_l1=2.3065409586921245e-08\n",
      "[LightGBM] [Warning] bagging_freq is set=2, subsample_freq=0 will be ignored. Current value: bagging_freq=2\n",
      "[LightGBM] [Warning] feature_fraction is set=0.6127557199048651, colsample_bytree=1.0 will be ignored. Current value: feature_fraction=0.6127557199048651\n"
     ]
    },
    {
     "name": "stderr",
     "output_type": "stream",
     "text": [
      "\u001b[32m[I 2023-03-29 02:53:20,006]\u001b[0m Trial 50 finished with value: 0.3186230585026559 and parameters: {'lambda_l1': 2.3065409586921245e-08, 'lambda_l2': 0.2862845399594842, 'num_leaves': 222, 'max_depth': 23, 'learning_rate': 0.01905958661186062, 'feature_fraction': 0.6127557199048651, 'bagging_fraction': 0.5130949670623026, 'bagging_freq': 2, 'min_child_samples': 90}. Best is trial 35 with value: 0.2746967832605161.\u001b[0m\n"
     ]
    },
    {
     "name": "stdout",
     "output_type": "stream",
     "text": [
      "[LightGBM] [Warning] bagging_fraction is set=0.5444872384188529, subsample=1.0 will be ignored. Current value: bagging_fraction=0.5444872384188529\n",
      "[LightGBM] [Warning] lambda_l2 is set=0.7885209600621113, reg_lambda=0.0 will be ignored. Current value: lambda_l2=0.7885209600621113\n",
      "[LightGBM] [Warning] lambda_l1 is set=8.77225278150795e-08, reg_alpha=0.0 will be ignored. Current value: lambda_l1=8.77225278150795e-08\n",
      "[LightGBM] [Warning] bagging_freq is set=1, subsample_freq=0 will be ignored. Current value: bagging_freq=1\n",
      "[LightGBM] [Warning] feature_fraction is set=0.7140044285000559, colsample_bytree=1.0 will be ignored. Current value: feature_fraction=0.7140044285000559\n",
      "[LightGBM] [Warning] bagging_fraction is set=0.5444872384188529, subsample=1.0 will be ignored. Current value: bagging_fraction=0.5444872384188529\n",
      "[LightGBM] [Warning] lambda_l2 is set=0.7885209600621113, reg_lambda=0.0 will be ignored. Current value: lambda_l2=0.7885209600621113\n",
      "[LightGBM] [Warning] lambda_l1 is set=8.77225278150795e-08, reg_alpha=0.0 will be ignored. Current value: lambda_l1=8.77225278150795e-08\n",
      "[LightGBM] [Warning] bagging_freq is set=1, subsample_freq=0 will be ignored. Current value: bagging_freq=1\n",
      "[LightGBM] [Warning] feature_fraction is set=0.7140044285000559, colsample_bytree=1.0 will be ignored. Current value: feature_fraction=0.7140044285000559\n",
      "[LightGBM] [Warning] bagging_fraction is set=0.5444872384188529, subsample=1.0 will be ignored. Current value: bagging_fraction=0.5444872384188529\n",
      "[LightGBM] [Warning] lambda_l2 is set=0.7885209600621113, reg_lambda=0.0 will be ignored. Current value: lambda_l2=0.7885209600621113\n",
      "[LightGBM] [Warning] lambda_l1 is set=8.77225278150795e-08, reg_alpha=0.0 will be ignored. Current value: lambda_l1=8.77225278150795e-08\n",
      "[LightGBM] [Warning] bagging_freq is set=1, subsample_freq=0 will be ignored. Current value: bagging_freq=1\n",
      "[LightGBM] [Warning] feature_fraction is set=0.7140044285000559, colsample_bytree=1.0 will be ignored. Current value: feature_fraction=0.7140044285000559\n",
      "[LightGBM] [Warning] bagging_fraction is set=0.5444872384188529, subsample=1.0 will be ignored. Current value: bagging_fraction=0.5444872384188529\n",
      "[LightGBM] [Warning] lambda_l2 is set=0.7885209600621113, reg_lambda=0.0 will be ignored. Current value: lambda_l2=0.7885209600621113\n",
      "[LightGBM] [Warning] lambda_l1 is set=8.77225278150795e-08, reg_alpha=0.0 will be ignored. Current value: lambda_l1=8.77225278150795e-08\n",
      "[LightGBM] [Warning] bagging_freq is set=1, subsample_freq=0 will be ignored. Current value: bagging_freq=1\n",
      "[LightGBM] [Warning] feature_fraction is set=0.7140044285000559, colsample_bytree=1.0 will be ignored. Current value: feature_fraction=0.7140044285000559\n",
      "[LightGBM] [Warning] bagging_fraction is set=0.5444872384188529, subsample=1.0 will be ignored. Current value: bagging_fraction=0.5444872384188529\n",
      "[LightGBM] [Warning] lambda_l2 is set=0.7885209600621113, reg_lambda=0.0 will be ignored. Current value: lambda_l2=0.7885209600621113\n",
      "[LightGBM] [Warning] lambda_l1 is set=8.77225278150795e-08, reg_alpha=0.0 will be ignored. Current value: lambda_l1=8.77225278150795e-08\n",
      "[LightGBM] [Warning] bagging_freq is set=1, subsample_freq=0 will be ignored. Current value: bagging_freq=1\n",
      "[LightGBM] [Warning] feature_fraction is set=0.7140044285000559, colsample_bytree=1.0 will be ignored. Current value: feature_fraction=0.7140044285000559\n"
     ]
    },
    {
     "name": "stderr",
     "output_type": "stream",
     "text": [
      "\u001b[32m[I 2023-03-29 02:53:21,168]\u001b[0m Trial 51 finished with value: 0.2750946041012253 and parameters: {'lambda_l1': 8.77225278150795e-08, 'lambda_l2': 0.7885209600621113, 'num_leaves': 51, 'max_depth': 7, 'learning_rate': 0.08279704730228221, 'feature_fraction': 0.7140044285000559, 'bagging_fraction': 0.5444872384188529, 'bagging_freq': 1, 'min_child_samples': 97}. Best is trial 35 with value: 0.2746967832605161.\u001b[0m\n"
     ]
    },
    {
     "name": "stdout",
     "output_type": "stream",
     "text": [
      "[LightGBM] [Warning] bagging_fraction is set=0.5444872384188529, subsample=1.0 will be ignored. Current value: bagging_fraction=0.5444872384188529\n",
      "[LightGBM] [Warning] lambda_l2 is set=0.7885209600621113, reg_lambda=0.0 will be ignored. Current value: lambda_l2=0.7885209600621113\n",
      "[LightGBM] [Warning] lambda_l1 is set=8.77225278150795e-08, reg_alpha=0.0 will be ignored. Current value: lambda_l1=8.77225278150795e-08\n",
      "[LightGBM] [Warning] bagging_freq is set=1, subsample_freq=0 will be ignored. Current value: bagging_freq=1\n",
      "[LightGBM] [Warning] feature_fraction is set=0.7140044285000559, colsample_bytree=1.0 will be ignored. Current value: feature_fraction=0.7140044285000559\n",
      "[LightGBM] [Warning] bagging_fraction is set=0.5486930201485459, subsample=1.0 will be ignored. Current value: bagging_fraction=0.5486930201485459\n",
      "[LightGBM] [Warning] lambda_l2 is set=0.9620223927464109, reg_lambda=0.0 will be ignored. Current value: lambda_l2=0.9620223927464109\n",
      "[LightGBM] [Warning] lambda_l1 is set=7.004288807486755e-08, reg_alpha=0.0 will be ignored. Current value: lambda_l1=7.004288807486755e-08\n",
      "[LightGBM] [Warning] bagging_freq is set=1, subsample_freq=0 will be ignored. Current value: bagging_freq=1\n",
      "[LightGBM] [Warning] feature_fraction is set=0.7240372762338121, colsample_bytree=1.0 will be ignored. Current value: feature_fraction=0.7240372762338121\n",
      "[LightGBM] [Warning] bagging_fraction is set=0.5486930201485459, subsample=1.0 will be ignored. Current value: bagging_fraction=0.5486930201485459\n",
      "[LightGBM] [Warning] lambda_l2 is set=0.9620223927464109, reg_lambda=0.0 will be ignored. Current value: lambda_l2=0.9620223927464109\n",
      "[LightGBM] [Warning] lambda_l1 is set=7.004288807486755e-08, reg_alpha=0.0 will be ignored. Current value: lambda_l1=7.004288807486755e-08\n",
      "[LightGBM] [Warning] bagging_freq is set=1, subsample_freq=0 will be ignored. Current value: bagging_freq=1\n",
      "[LightGBM] [Warning] feature_fraction is set=0.7240372762338121, colsample_bytree=1.0 will be ignored. Current value: feature_fraction=0.7240372762338121\n",
      "[LightGBM] [Warning] bagging_fraction is set=0.5486930201485459, subsample=1.0 will be ignored. Current value: bagging_fraction=0.5486930201485459\n",
      "[LightGBM] [Warning] lambda_l2 is set=0.9620223927464109, reg_lambda=0.0 will be ignored. Current value: lambda_l2=0.9620223927464109\n",
      "[LightGBM] [Warning] lambda_l1 is set=7.004288807486755e-08, reg_alpha=0.0 will be ignored. Current value: lambda_l1=7.004288807486755e-08\n",
      "[LightGBM] [Warning] bagging_freq is set=1, subsample_freq=0 will be ignored. Current value: bagging_freq=1\n",
      "[LightGBM] [Warning] feature_fraction is set=0.7240372762338121, colsample_bytree=1.0 will be ignored. Current value: feature_fraction=0.7240372762338121\n",
      "[LightGBM] [Warning] bagging_fraction is set=0.5486930201485459, subsample=1.0 will be ignored. Current value: bagging_fraction=0.5486930201485459\n",
      "[LightGBM] [Warning] lambda_l2 is set=0.9620223927464109, reg_lambda=0.0 will be ignored. Current value: lambda_l2=0.9620223927464109\n",
      "[LightGBM] [Warning] lambda_l1 is set=7.004288807486755e-08, reg_alpha=0.0 will be ignored. Current value: lambda_l1=7.004288807486755e-08\n",
      "[LightGBM] [Warning] bagging_freq is set=1, subsample_freq=0 will be ignored. Current value: bagging_freq=1\n",
      "[LightGBM] [Warning] feature_fraction is set=0.7240372762338121, colsample_bytree=1.0 will be ignored. Current value: feature_fraction=0.7240372762338121\n",
      "[LightGBM] [Warning] bagging_fraction is set=0.5486930201485459, subsample=1.0 will be ignored. Current value: bagging_fraction=0.5486930201485459\n",
      "[LightGBM] [Warning] lambda_l2 is set=0.9620223927464109, reg_lambda=0.0 will be ignored. Current value: lambda_l2=0.9620223927464109\n",
      "[LightGBM] [Warning] lambda_l1 is set=7.004288807486755e-08, reg_alpha=0.0 will be ignored. Current value: lambda_l1=7.004288807486755e-08\n",
      "[LightGBM] [Warning] bagging_freq is set=1, subsample_freq=0 will be ignored. Current value: bagging_freq=1\n",
      "[LightGBM] [Warning] feature_fraction is set=0.7240372762338121, colsample_bytree=1.0 will be ignored. Current value: feature_fraction=0.7240372762338121\n"
     ]
    },
    {
     "name": "stderr",
     "output_type": "stream",
     "text": [
      "\u001b[32m[I 2023-03-29 02:53:22,403]\u001b[0m Trial 52 finished with value: 0.2757361181711596 and parameters: {'lambda_l1': 7.004288807486755e-08, 'lambda_l2': 0.9620223927464109, 'num_leaves': 28, 'max_depth': 8, 'learning_rate': 0.08293732286053047, 'feature_fraction': 0.7240372762338121, 'bagging_fraction': 0.5486930201485459, 'bagging_freq': 1, 'min_child_samples': 96}. Best is trial 35 with value: 0.2746967832605161.\u001b[0m\n"
     ]
    },
    {
     "name": "stdout",
     "output_type": "stream",
     "text": [
      "[LightGBM] [Warning] bagging_fraction is set=0.5486930201485459, subsample=1.0 will be ignored. Current value: bagging_fraction=0.5486930201485459\n",
      "[LightGBM] [Warning] lambda_l2 is set=0.9620223927464109, reg_lambda=0.0 will be ignored. Current value: lambda_l2=0.9620223927464109\n",
      "[LightGBM] [Warning] lambda_l1 is set=7.004288807486755e-08, reg_alpha=0.0 will be ignored. Current value: lambda_l1=7.004288807486755e-08\n",
      "[LightGBM] [Warning] bagging_freq is set=1, subsample_freq=0 will be ignored. Current value: bagging_freq=1\n",
      "[LightGBM] [Warning] feature_fraction is set=0.7240372762338121, colsample_bytree=1.0 will be ignored. Current value: feature_fraction=0.7240372762338121\n",
      "[LightGBM] [Warning] bagging_fraction is set=0.48240922090253097, subsample=1.0 will be ignored. Current value: bagging_fraction=0.48240922090253097\n",
      "[LightGBM] [Warning] lambda_l2 is set=0.02916612265170248, reg_lambda=0.0 will be ignored. Current value: lambda_l2=0.02916612265170248\n",
      "[LightGBM] [Warning] lambda_l1 is set=1.1111590218295945e-08, reg_alpha=0.0 will be ignored. Current value: lambda_l1=1.1111590218295945e-08\n",
      "[LightGBM] [Warning] bagging_freq is set=1, subsample_freq=0 will be ignored. Current value: bagging_freq=1\n",
      "[LightGBM] [Warning] feature_fraction is set=0.547597850837799, colsample_bytree=1.0 will be ignored. Current value: feature_fraction=0.547597850837799\n",
      "[LightGBM] [Warning] bagging_fraction is set=0.48240922090253097, subsample=1.0 will be ignored. Current value: bagging_fraction=0.48240922090253097\n",
      "[LightGBM] [Warning] lambda_l2 is set=0.02916612265170248, reg_lambda=0.0 will be ignored. Current value: lambda_l2=0.02916612265170248\n",
      "[LightGBM] [Warning] lambda_l1 is set=1.1111590218295945e-08, reg_alpha=0.0 will be ignored. Current value: lambda_l1=1.1111590218295945e-08\n",
      "[LightGBM] [Warning] bagging_freq is set=1, subsample_freq=0 will be ignored. Current value: bagging_freq=1\n",
      "[LightGBM] [Warning] feature_fraction is set=0.547597850837799, colsample_bytree=1.0 will be ignored. Current value: feature_fraction=0.547597850837799\n",
      "[LightGBM] [Warning] bagging_fraction is set=0.48240922090253097, subsample=1.0 will be ignored. Current value: bagging_fraction=0.48240922090253097\n",
      "[LightGBM] [Warning] lambda_l2 is set=0.02916612265170248, reg_lambda=0.0 will be ignored. Current value: lambda_l2=0.02916612265170248\n",
      "[LightGBM] [Warning] lambda_l1 is set=1.1111590218295945e-08, reg_alpha=0.0 will be ignored. Current value: lambda_l1=1.1111590218295945e-08\n",
      "[LightGBM] [Warning] bagging_freq is set=1, subsample_freq=0 will be ignored. Current value: bagging_freq=1\n",
      "[LightGBM] [Warning] feature_fraction is set=0.547597850837799, colsample_bytree=1.0 will be ignored. Current value: feature_fraction=0.547597850837799\n",
      "[LightGBM] [Warning] bagging_fraction is set=0.48240922090253097, subsample=1.0 will be ignored. Current value: bagging_fraction=0.48240922090253097\n",
      "[LightGBM] [Warning] lambda_l2 is set=0.02916612265170248, reg_lambda=0.0 will be ignored. Current value: lambda_l2=0.02916612265170248\n",
      "[LightGBM] [Warning] lambda_l1 is set=1.1111590218295945e-08, reg_alpha=0.0 will be ignored. Current value: lambda_l1=1.1111590218295945e-08\n",
      "[LightGBM] [Warning] bagging_freq is set=1, subsample_freq=0 will be ignored. Current value: bagging_freq=1\n",
      "[LightGBM] [Warning] feature_fraction is set=0.547597850837799, colsample_bytree=1.0 will be ignored. Current value: feature_fraction=0.547597850837799\n",
      "[LightGBM] [Warning] bagging_fraction is set=0.48240922090253097, subsample=1.0 will be ignored. Current value: bagging_fraction=0.48240922090253097\n",
      "[LightGBM] [Warning] lambda_l2 is set=0.02916612265170248, reg_lambda=0.0 will be ignored. Current value: lambda_l2=0.02916612265170248\n",
      "[LightGBM] [Warning] lambda_l1 is set=1.1111590218295945e-08, reg_alpha=0.0 will be ignored. Current value: lambda_l1=1.1111590218295945e-08\n",
      "[LightGBM] [Warning] bagging_freq is set=1, subsample_freq=0 will be ignored. Current value: bagging_freq=1\n",
      "[LightGBM] [Warning] feature_fraction is set=0.547597850837799, colsample_bytree=1.0 will be ignored. Current value: feature_fraction=0.547597850837799\n",
      "[LightGBM] [Warning] bagging_fraction is set=0.48240922090253097, subsample=1.0 will be ignored. Current value: bagging_fraction=0.48240922090253097\n",
      "[LightGBM] [Warning] lambda_l2 is set=0.02916612265170248, reg_lambda=0.0 will be ignored. Current value: lambda_l2=0.02916612265170248\n",
      "[LightGBM] [Warning] lambda_l1 is set=1.1111590218295945e-08, reg_alpha=0.0 will be ignored. Current value: lambda_l1=1.1111590218295945e-08\n",
      "[LightGBM] [Warning] bagging_freq is set=1, subsample_freq=0 will be ignored. Current value: bagging_freq=1\n",
      "[LightGBM] [Warning] feature_fraction is set=0.547597850837799, colsample_bytree=1.0 will be ignored. Current value: feature_fraction=0.547597850837799\n"
     ]
    },
    {
     "name": "stderr",
     "output_type": "stream",
     "text": [
      "\u001b[32m[I 2023-03-29 02:53:26,490]\u001b[0m Trial 53 finished with value: 0.28934587893299024 and parameters: {'lambda_l1': 1.1111590218295945e-08, 'lambda_l2': 0.02916612265170248, 'num_leaves': 46, 'max_depth': 1, 'learning_rate': 0.06447048121339749, 'feature_fraction': 0.547597850837799, 'bagging_fraction': 0.48240922090253097, 'bagging_freq': 1, 'min_child_samples': 100}. Best is trial 35 with value: 0.2746967832605161.\u001b[0m\n"
     ]
    },
    {
     "name": "stdout",
     "output_type": "stream",
     "text": [
      "[LightGBM] [Warning] bagging_fraction is set=0.5212609904794369, subsample=1.0 will be ignored. Current value: bagging_fraction=0.5212609904794369\n",
      "[LightGBM] [Warning] lambda_l2 is set=4.715037759194666, reg_lambda=0.0 will be ignored. Current value: lambda_l2=4.715037759194666\n",
      "[LightGBM] [Warning] lambda_l1 is set=4.777595700392298e-07, reg_alpha=0.0 will be ignored. Current value: lambda_l1=4.777595700392298e-07\n",
      "[LightGBM] [Warning] bagging_freq is set=1, subsample_freq=0 will be ignored. Current value: bagging_freq=1\n",
      "[LightGBM] [Warning] feature_fraction is set=0.7770555431954368, colsample_bytree=1.0 will be ignored. Current value: feature_fraction=0.7770555431954368\n",
      "[LightGBM] [Warning] bagging_fraction is set=0.5212609904794369, subsample=1.0 will be ignored. Current value: bagging_fraction=0.5212609904794369\n",
      "[LightGBM] [Warning] lambda_l2 is set=4.715037759194666, reg_lambda=0.0 will be ignored. Current value: lambda_l2=4.715037759194666\n",
      "[LightGBM] [Warning] lambda_l1 is set=4.777595700392298e-07, reg_alpha=0.0 will be ignored. Current value: lambda_l1=4.777595700392298e-07\n",
      "[LightGBM] [Warning] bagging_freq is set=1, subsample_freq=0 will be ignored. Current value: bagging_freq=1\n",
      "[LightGBM] [Warning] feature_fraction is set=0.7770555431954368, colsample_bytree=1.0 will be ignored. Current value: feature_fraction=0.7770555431954368\n",
      "[LightGBM] [Warning] bagging_fraction is set=0.5212609904794369, subsample=1.0 will be ignored. Current value: bagging_fraction=0.5212609904794369\n",
      "[LightGBM] [Warning] lambda_l2 is set=4.715037759194666, reg_lambda=0.0 will be ignored. Current value: lambda_l2=4.715037759194666\n",
      "[LightGBM] [Warning] lambda_l1 is set=4.777595700392298e-07, reg_alpha=0.0 will be ignored. Current value: lambda_l1=4.777595700392298e-07\n",
      "[LightGBM] [Warning] bagging_freq is set=1, subsample_freq=0 will be ignored. Current value: bagging_freq=1\n",
      "[LightGBM] [Warning] feature_fraction is set=0.7770555431954368, colsample_bytree=1.0 will be ignored. Current value: feature_fraction=0.7770555431954368\n",
      "[LightGBM] [Warning] bagging_fraction is set=0.5212609904794369, subsample=1.0 will be ignored. Current value: bagging_fraction=0.5212609904794369\n",
      "[LightGBM] [Warning] lambda_l2 is set=4.715037759194666, reg_lambda=0.0 will be ignored. Current value: lambda_l2=4.715037759194666\n",
      "[LightGBM] [Warning] lambda_l1 is set=4.777595700392298e-07, reg_alpha=0.0 will be ignored. Current value: lambda_l1=4.777595700392298e-07\n",
      "[LightGBM] [Warning] bagging_freq is set=1, subsample_freq=0 will be ignored. Current value: bagging_freq=1\n",
      "[LightGBM] [Warning] feature_fraction is set=0.7770555431954368, colsample_bytree=1.0 will be ignored. Current value: feature_fraction=0.7770555431954368\n",
      "[LightGBM] [Warning] bagging_fraction is set=0.5212609904794369, subsample=1.0 will be ignored. Current value: bagging_fraction=0.5212609904794369\n",
      "[LightGBM] [Warning] lambda_l2 is set=4.715037759194666, reg_lambda=0.0 will be ignored. Current value: lambda_l2=4.715037759194666\n",
      "[LightGBM] [Warning] lambda_l1 is set=4.777595700392298e-07, reg_alpha=0.0 will be ignored. Current value: lambda_l1=4.777595700392298e-07\n",
      "[LightGBM] [Warning] bagging_freq is set=1, subsample_freq=0 will be ignored. Current value: bagging_freq=1\n",
      "[LightGBM] [Warning] feature_fraction is set=0.7770555431954368, colsample_bytree=1.0 will be ignored. Current value: feature_fraction=0.7770555431954368\n"
     ]
    },
    {
     "name": "stderr",
     "output_type": "stream",
     "text": [
      "\u001b[32m[I 2023-03-29 02:53:27,579]\u001b[0m Trial 54 finished with value: 0.2785690587121221 and parameters: {'lambda_l1': 4.777595700392298e-07, 'lambda_l2': 4.715037759194666, 'num_leaves': 107, 'max_depth': 7, 'learning_rate': 0.1125835985406639, 'feature_fraction': 0.7770555431954368, 'bagging_fraction': 0.5212609904794369, 'bagging_freq': 1, 'min_child_samples': 88}. Best is trial 35 with value: 0.2746967832605161.\u001b[0m\n"
     ]
    },
    {
     "name": "stdout",
     "output_type": "stream",
     "text": [
      "[LightGBM] [Warning] bagging_fraction is set=0.5212609904794369, subsample=1.0 will be ignored. Current value: bagging_fraction=0.5212609904794369\n",
      "[LightGBM] [Warning] lambda_l2 is set=4.715037759194666, reg_lambda=0.0 will be ignored. Current value: lambda_l2=4.715037759194666\n",
      "[LightGBM] [Warning] lambda_l1 is set=4.777595700392298e-07, reg_alpha=0.0 will be ignored. Current value: lambda_l1=4.777595700392298e-07\n",
      "[LightGBM] [Warning] bagging_freq is set=1, subsample_freq=0 will be ignored. Current value: bagging_freq=1\n",
      "[LightGBM] [Warning] feature_fraction is set=0.7770555431954368, colsample_bytree=1.0 will be ignored. Current value: feature_fraction=0.7770555431954368\n",
      "[LightGBM] [Warning] bagging_fraction is set=0.5464850171929505, subsample=1.0 will be ignored. Current value: bagging_fraction=0.5464850171929505\n",
      "[LightGBM] [Warning] lambda_l2 is set=1.8938521205052414, reg_lambda=0.0 will be ignored. Current value: lambda_l2=1.8938521205052414\n",
      "[LightGBM] [Warning] lambda_l1 is set=1.0644563673670833e-08, reg_alpha=0.0 will be ignored. Current value: lambda_l1=1.0644563673670833e-08\n",
      "[LightGBM] [Warning] bagging_freq is set=2, subsample_freq=0 will be ignored. Current value: bagging_freq=2\n",
      "[LightGBM] [Warning] feature_fraction is set=0.4953853599584809, colsample_bytree=1.0 will be ignored. Current value: feature_fraction=0.4953853599584809\n",
      "[LightGBM] [Warning] bagging_fraction is set=0.5464850171929505, subsample=1.0 will be ignored. Current value: bagging_fraction=0.5464850171929505\n",
      "[LightGBM] [Warning] lambda_l2 is set=1.8938521205052414, reg_lambda=0.0 will be ignored. Current value: lambda_l2=1.8938521205052414\n",
      "[LightGBM] [Warning] lambda_l1 is set=1.0644563673670833e-08, reg_alpha=0.0 will be ignored. Current value: lambda_l1=1.0644563673670833e-08\n",
      "[LightGBM] [Warning] bagging_freq is set=2, subsample_freq=0 will be ignored. Current value: bagging_freq=2\n",
      "[LightGBM] [Warning] feature_fraction is set=0.4953853599584809, colsample_bytree=1.0 will be ignored. Current value: feature_fraction=0.4953853599584809\n",
      "[LightGBM] [Warning] bagging_fraction is set=0.5464850171929505, subsample=1.0 will be ignored. Current value: bagging_fraction=0.5464850171929505\n",
      "[LightGBM] [Warning] lambda_l2 is set=1.8938521205052414, reg_lambda=0.0 will be ignored. Current value: lambda_l2=1.8938521205052414\n",
      "[LightGBM] [Warning] lambda_l1 is set=1.0644563673670833e-08, reg_alpha=0.0 will be ignored. Current value: lambda_l1=1.0644563673670833e-08\n",
      "[LightGBM] [Warning] bagging_freq is set=2, subsample_freq=0 will be ignored. Current value: bagging_freq=2\n",
      "[LightGBM] [Warning] feature_fraction is set=0.4953853599584809, colsample_bytree=1.0 will be ignored. Current value: feature_fraction=0.4953853599584809\n",
      "[LightGBM] [Warning] bagging_fraction is set=0.5464850171929505, subsample=1.0 will be ignored. Current value: bagging_fraction=0.5464850171929505\n",
      "[LightGBM] [Warning] lambda_l2 is set=1.8938521205052414, reg_lambda=0.0 will be ignored. Current value: lambda_l2=1.8938521205052414\n",
      "[LightGBM] [Warning] lambda_l1 is set=1.0644563673670833e-08, reg_alpha=0.0 will be ignored. Current value: lambda_l1=1.0644563673670833e-08\n",
      "[LightGBM] [Warning] bagging_freq is set=2, subsample_freq=0 will be ignored. Current value: bagging_freq=2\n",
      "[LightGBM] [Warning] feature_fraction is set=0.4953853599584809, colsample_bytree=1.0 will be ignored. Current value: feature_fraction=0.4953853599584809\n"
     ]
    },
    {
     "name": "stderr",
     "output_type": "stream",
     "text": [
      "\u001b[32m[I 2023-03-29 02:53:28,330]\u001b[0m Trial 55 finished with value: 0.2698723870555283 and parameters: {'lambda_l1': 1.0644563673670833e-08, 'lambda_l2': 1.8938521205052414, 'num_leaves': 4, 'max_depth': 3, 'learning_rate': 0.0950609531822034, 'feature_fraction': 0.4953853599584809, 'bagging_fraction': 0.5464850171929505, 'bagging_freq': 2, 'min_child_samples': 83}. Best is trial 55 with value: 0.2698723870555283.\u001b[0m\n"
     ]
    },
    {
     "name": "stdout",
     "output_type": "stream",
     "text": [
      "[LightGBM] [Warning] bagging_fraction is set=0.5464850171929505, subsample=1.0 will be ignored. Current value: bagging_fraction=0.5464850171929505\n",
      "[LightGBM] [Warning] lambda_l2 is set=1.8938521205052414, reg_lambda=0.0 will be ignored. Current value: lambda_l2=1.8938521205052414\n",
      "[LightGBM] [Warning] lambda_l1 is set=1.0644563673670833e-08, reg_alpha=0.0 will be ignored. Current value: lambda_l1=1.0644563673670833e-08\n",
      "[LightGBM] [Warning] bagging_freq is set=2, subsample_freq=0 will be ignored. Current value: bagging_freq=2\n",
      "[LightGBM] [Warning] feature_fraction is set=0.4953853599584809, colsample_bytree=1.0 will be ignored. Current value: feature_fraction=0.4953853599584809\n",
      "[LightGBM] [Warning] bagging_fraction is set=0.5464850171929505, subsample=1.0 will be ignored. Current value: bagging_fraction=0.5464850171929505\n",
      "[LightGBM] [Warning] lambda_l2 is set=1.8938521205052414, reg_lambda=0.0 will be ignored. Current value: lambda_l2=1.8938521205052414\n",
      "[LightGBM] [Warning] lambda_l1 is set=1.0644563673670833e-08, reg_alpha=0.0 will be ignored. Current value: lambda_l1=1.0644563673670833e-08\n",
      "[LightGBM] [Warning] bagging_freq is set=2, subsample_freq=0 will be ignored. Current value: bagging_freq=2\n",
      "[LightGBM] [Warning] feature_fraction is set=0.4953853599584809, colsample_bytree=1.0 will be ignored. Current value: feature_fraction=0.4953853599584809\n",
      "[LightGBM] [Warning] bagging_fraction is set=0.5858259369214438, subsample=1.0 will be ignored. Current value: bagging_fraction=0.5858259369214438\n",
      "[LightGBM] [Warning] lambda_l2 is set=1.9715228982758353, reg_lambda=0.0 will be ignored. Current value: lambda_l2=1.9715228982758353\n",
      "[LightGBM] [Warning] lambda_l1 is set=1.5424732663578814e-08, reg_alpha=0.0 will be ignored. Current value: lambda_l1=1.5424732663578814e-08\n",
      "[LightGBM] [Warning] bagging_freq is set=2, subsample_freq=0 will be ignored. Current value: bagging_freq=2\n",
      "[LightGBM] [Warning] feature_fraction is set=0.499990086702319, colsample_bytree=1.0 will be ignored. Current value: feature_fraction=0.499990086702319\n",
      "[LightGBM] [Warning] bagging_fraction is set=0.5858259369214438, subsample=1.0 will be ignored. Current value: bagging_fraction=0.5858259369214438\n",
      "[LightGBM] [Warning] lambda_l2 is set=1.9715228982758353, reg_lambda=0.0 will be ignored. Current value: lambda_l2=1.9715228982758353\n",
      "[LightGBM] [Warning] lambda_l1 is set=1.5424732663578814e-08, reg_alpha=0.0 will be ignored. Current value: lambda_l1=1.5424732663578814e-08\n",
      "[LightGBM] [Warning] bagging_freq is set=2, subsample_freq=0 will be ignored. Current value: bagging_freq=2\n",
      "[LightGBM] [Warning] feature_fraction is set=0.499990086702319, colsample_bytree=1.0 will be ignored. Current value: feature_fraction=0.499990086702319\n",
      "[LightGBM] [Warning] bagging_fraction is set=0.5858259369214438, subsample=1.0 will be ignored. Current value: bagging_fraction=0.5858259369214438\n",
      "[LightGBM] [Warning] lambda_l2 is set=1.9715228982758353, reg_lambda=0.0 will be ignored. Current value: lambda_l2=1.9715228982758353\n",
      "[LightGBM] [Warning] lambda_l1 is set=1.5424732663578814e-08, reg_alpha=0.0 will be ignored. Current value: lambda_l1=1.5424732663578814e-08\n",
      "[LightGBM] [Warning] bagging_freq is set=2, subsample_freq=0 will be ignored. Current value: bagging_freq=2\n",
      "[LightGBM] [Warning] feature_fraction is set=0.499990086702319, colsample_bytree=1.0 will be ignored. Current value: feature_fraction=0.499990086702319\n",
      "[LightGBM] [Warning] bagging_fraction is set=0.5858259369214438, subsample=1.0 will be ignored. Current value: bagging_fraction=0.5858259369214438\n",
      "[LightGBM] [Warning] lambda_l2 is set=1.9715228982758353, reg_lambda=0.0 will be ignored. Current value: lambda_l2=1.9715228982758353\n",
      "[LightGBM] [Warning] lambda_l1 is set=1.5424732663578814e-08, reg_alpha=0.0 will be ignored. Current value: lambda_l1=1.5424732663578814e-08\n",
      "[LightGBM] [Warning] bagging_freq is set=2, subsample_freq=0 will be ignored. Current value: bagging_freq=2\n",
      "[LightGBM] [Warning] feature_fraction is set=0.499990086702319, colsample_bytree=1.0 will be ignored. Current value: feature_fraction=0.499990086702319\n",
      "[LightGBM] [Warning] bagging_fraction is set=0.5858259369214438, subsample=1.0 will be ignored. Current value: bagging_fraction=0.5858259369214438\n",
      "[LightGBM] [Warning] lambda_l2 is set=1.9715228982758353, reg_lambda=0.0 will be ignored. Current value: lambda_l2=1.9715228982758353\n",
      "[LightGBM] [Warning] lambda_l1 is set=1.5424732663578814e-08, reg_alpha=0.0 will be ignored. Current value: lambda_l1=1.5424732663578814e-08\n",
      "[LightGBM] [Warning] bagging_freq is set=2, subsample_freq=0 will be ignored. Current value: bagging_freq=2\n",
      "[LightGBM] [Warning] feature_fraction is set=0.499990086702319, colsample_bytree=1.0 will be ignored. Current value: feature_fraction=0.499990086702319\n",
      "[LightGBM] [Warning] bagging_fraction is set=0.5858259369214438, subsample=1.0 will be ignored. Current value: bagging_fraction=0.5858259369214438\n",
      "[LightGBM] [Warning] lambda_l2 is set=1.9715228982758353, reg_lambda=0.0 will be ignored. Current value: lambda_l2=1.9715228982758353\n",
      "[LightGBM] [Warning] lambda_l1 is set=1.5424732663578814e-08, reg_alpha=0.0 will be ignored. Current value: lambda_l1=1.5424732663578814e-08\n",
      "[LightGBM] [Warning] bagging_freq is set=2, subsample_freq=0 will be ignored. Current value: bagging_freq=2\n",
      "[LightGBM] [Warning] feature_fraction is set=0.499990086702319, colsample_bytree=1.0 will be ignored. Current value: feature_fraction=0.499990086702319\n"
     ]
    },
    {
     "name": "stderr",
     "output_type": "stream",
     "text": [
      "\u001b[32m[I 2023-03-29 02:53:29,289]\u001b[0m Trial 56 finished with value: 0.27104801608982393 and parameters: {'lambda_l1': 1.5424732663578814e-08, 'lambda_l2': 1.9715228982758353, 'num_leaves': 151, 'max_depth': 3, 'learning_rate': 0.10221933785957187, 'feature_fraction': 0.499990086702319, 'bagging_fraction': 0.5858259369214438, 'bagging_freq': 2, 'min_child_samples': 82}. Best is trial 55 with value: 0.2698723870555283.\u001b[0m\n"
     ]
    },
    {
     "name": "stdout",
     "output_type": "stream",
     "text": [
      "[LightGBM] [Warning] bagging_fraction is set=0.5002430133015048, subsample=1.0 will be ignored. Current value: bagging_fraction=0.5002430133015048\n",
      "[LightGBM] [Warning] lambda_l2 is set=0.13304226307257722, reg_lambda=0.0 will be ignored. Current value: lambda_l2=0.13304226307257722\n",
      "[LightGBM] [Warning] lambda_l1 is set=1.6910584351829837e-08, reg_alpha=0.0 will be ignored. Current value: lambda_l1=1.6910584351829837e-08\n",
      "[LightGBM] [Warning] bagging_freq is set=3, subsample_freq=0 will be ignored. Current value: bagging_freq=3\n",
      "[LightGBM] [Warning] feature_fraction is set=0.4915820719188231, colsample_bytree=1.0 will be ignored. Current value: feature_fraction=0.4915820719188231\n",
      "[LightGBM] [Warning] bagging_fraction is set=0.5002430133015048, subsample=1.0 will be ignored. Current value: bagging_fraction=0.5002430133015048\n",
      "[LightGBM] [Warning] lambda_l2 is set=0.13304226307257722, reg_lambda=0.0 will be ignored. Current value: lambda_l2=0.13304226307257722\n",
      "[LightGBM] [Warning] lambda_l1 is set=1.6910584351829837e-08, reg_alpha=0.0 will be ignored. Current value: lambda_l1=1.6910584351829837e-08\n",
      "[LightGBM] [Warning] bagging_freq is set=3, subsample_freq=0 will be ignored. Current value: bagging_freq=3\n",
      "[LightGBM] [Warning] feature_fraction is set=0.4915820719188231, colsample_bytree=1.0 will be ignored. Current value: feature_fraction=0.4915820719188231\n",
      "[LightGBM] [Warning] bagging_fraction is set=0.5002430133015048, subsample=1.0 will be ignored. Current value: bagging_fraction=0.5002430133015048\n",
      "[LightGBM] [Warning] lambda_l2 is set=0.13304226307257722, reg_lambda=0.0 will be ignored. Current value: lambda_l2=0.13304226307257722\n",
      "[LightGBM] [Warning] lambda_l1 is set=1.6910584351829837e-08, reg_alpha=0.0 will be ignored. Current value: lambda_l1=1.6910584351829837e-08\n",
      "[LightGBM] [Warning] bagging_freq is set=3, subsample_freq=0 will be ignored. Current value: bagging_freq=3\n",
      "[LightGBM] [Warning] feature_fraction is set=0.4915820719188231, colsample_bytree=1.0 will be ignored. Current value: feature_fraction=0.4915820719188231\n",
      "[LightGBM] [Warning] bagging_fraction is set=0.5002430133015048, subsample=1.0 will be ignored. Current value: bagging_fraction=0.5002430133015048\n",
      "[LightGBM] [Warning] lambda_l2 is set=0.13304226307257722, reg_lambda=0.0 will be ignored. Current value: lambda_l2=0.13304226307257722\n",
      "[LightGBM] [Warning] lambda_l1 is set=1.6910584351829837e-08, reg_alpha=0.0 will be ignored. Current value: lambda_l1=1.6910584351829837e-08\n",
      "[LightGBM] [Warning] bagging_freq is set=3, subsample_freq=0 will be ignored. Current value: bagging_freq=3\n",
      "[LightGBM] [Warning] feature_fraction is set=0.4915820719188231, colsample_bytree=1.0 will be ignored. Current value: feature_fraction=0.4915820719188231\n",
      "[LightGBM] [Warning] bagging_fraction is set=0.5002430133015048, subsample=1.0 will be ignored. Current value: bagging_fraction=0.5002430133015048\n",
      "[LightGBM] [Warning] lambda_l2 is set=0.13304226307257722, reg_lambda=0.0 will be ignored. Current value: lambda_l2=0.13304226307257722\n",
      "[LightGBM] [Warning] lambda_l1 is set=1.6910584351829837e-08, reg_alpha=0.0 will be ignored. Current value: lambda_l1=1.6910584351829837e-08\n",
      "[LightGBM] [Warning] bagging_freq is set=3, subsample_freq=0 will be ignored. Current value: bagging_freq=3\n",
      "[LightGBM] [Warning] feature_fraction is set=0.4915820719188231, colsample_bytree=1.0 will be ignored. Current value: feature_fraction=0.4915820719188231\n"
     ]
    },
    {
     "name": "stderr",
     "output_type": "stream",
     "text": [
      "\u001b[32m[I 2023-03-29 02:53:33,232]\u001b[0m Trial 57 finished with value: 0.2754854978776049 and parameters: {'lambda_l1': 1.6910584351829837e-08, 'lambda_l2': 0.13304226307257722, 'num_leaves': 77, 'max_depth': 4, 'learning_rate': 0.1424719554417009, 'feature_fraction': 0.4915820719188231, 'bagging_fraction': 0.5002430133015048, 'bagging_freq': 3, 'min_child_samples': 79}. Best is trial 55 with value: 0.2698723870555283.\u001b[0m\n"
     ]
    },
    {
     "name": "stdout",
     "output_type": "stream",
     "text": [
      "[LightGBM] [Warning] bagging_fraction is set=0.5002430133015048, subsample=1.0 will be ignored. Current value: bagging_fraction=0.5002430133015048\n",
      "[LightGBM] [Warning] lambda_l2 is set=0.13304226307257722, reg_lambda=0.0 will be ignored. Current value: lambda_l2=0.13304226307257722\n",
      "[LightGBM] [Warning] lambda_l1 is set=1.6910584351829837e-08, reg_alpha=0.0 will be ignored. Current value: lambda_l1=1.6910584351829837e-08\n",
      "[LightGBM] [Warning] bagging_freq is set=3, subsample_freq=0 will be ignored. Current value: bagging_freq=3\n",
      "[LightGBM] [Warning] feature_fraction is set=0.4915820719188231, colsample_bytree=1.0 will be ignored. Current value: feature_fraction=0.4915820719188231\n",
      "[LightGBM] [Warning] bagging_fraction is set=0.4588601481879717, subsample=1.0 will be ignored. Current value: bagging_fraction=0.4588601481879717\n",
      "[LightGBM] [Warning] lambda_l2 is set=9.72281728690358, reg_lambda=0.0 will be ignored. Current value: lambda_l2=9.72281728690358\n",
      "[LightGBM] [Warning] lambda_l1 is set=1.0004878874110946e-08, reg_alpha=0.0 will be ignored. Current value: lambda_l1=1.0004878874110946e-08\n",
      "[LightGBM] [Warning] bagging_freq is set=2, subsample_freq=0 will be ignored. Current value: bagging_freq=2\n",
      "[LightGBM] [Warning] feature_fraction is set=0.42912627478060394, colsample_bytree=1.0 will be ignored. Current value: feature_fraction=0.42912627478060394\n",
      "[LightGBM] [Warning] bagging_fraction is set=0.4588601481879717, subsample=1.0 will be ignored. Current value: bagging_fraction=0.4588601481879717\n",
      "[LightGBM] [Warning] lambda_l2 is set=9.72281728690358, reg_lambda=0.0 will be ignored. Current value: lambda_l2=9.72281728690358\n",
      "[LightGBM] [Warning] lambda_l1 is set=1.0004878874110946e-08, reg_alpha=0.0 will be ignored. Current value: lambda_l1=1.0004878874110946e-08\n",
      "[LightGBM] [Warning] bagging_freq is set=2, subsample_freq=0 will be ignored. Current value: bagging_freq=2\n",
      "[LightGBM] [Warning] feature_fraction is set=0.42912627478060394, colsample_bytree=1.0 will be ignored. Current value: feature_fraction=0.42912627478060394\n",
      "[LightGBM] [Warning] bagging_fraction is set=0.4588601481879717, subsample=1.0 will be ignored. Current value: bagging_fraction=0.4588601481879717\n",
      "[LightGBM] [Warning] lambda_l2 is set=9.72281728690358, reg_lambda=0.0 will be ignored. Current value: lambda_l2=9.72281728690358\n",
      "[LightGBM] [Warning] lambda_l1 is set=1.0004878874110946e-08, reg_alpha=0.0 will be ignored. Current value: lambda_l1=1.0004878874110946e-08\n",
      "[LightGBM] [Warning] bagging_freq is set=2, subsample_freq=0 will be ignored. Current value: bagging_freq=2\n",
      "[LightGBM] [Warning] feature_fraction is set=0.42912627478060394, colsample_bytree=1.0 will be ignored. Current value: feature_fraction=0.42912627478060394\n",
      "[LightGBM] [Warning] bagging_fraction is set=0.4588601481879717, subsample=1.0 will be ignored. Current value: bagging_fraction=0.4588601481879717\n",
      "[LightGBM] [Warning] lambda_l2 is set=9.72281728690358, reg_lambda=0.0 will be ignored. Current value: lambda_l2=9.72281728690358\n",
      "[LightGBM] [Warning] lambda_l1 is set=1.0004878874110946e-08, reg_alpha=0.0 will be ignored. Current value: lambda_l1=1.0004878874110946e-08\n",
      "[LightGBM] [Warning] bagging_freq is set=2, subsample_freq=0 will be ignored. Current value: bagging_freq=2\n",
      "[LightGBM] [Warning] feature_fraction is set=0.42912627478060394, colsample_bytree=1.0 will be ignored. Current value: feature_fraction=0.42912627478060394\n",
      "[LightGBM] [Warning] bagging_fraction is set=0.4588601481879717, subsample=1.0 will be ignored. Current value: bagging_fraction=0.4588601481879717\n",
      "[LightGBM] [Warning] lambda_l2 is set=9.72281728690358, reg_lambda=0.0 will be ignored. Current value: lambda_l2=9.72281728690358\n",
      "[LightGBM] [Warning] lambda_l1 is set=1.0004878874110946e-08, reg_alpha=0.0 will be ignored. Current value: lambda_l1=1.0004878874110946e-08\n",
      "[LightGBM] [Warning] bagging_freq is set=2, subsample_freq=0 will be ignored. Current value: bagging_freq=2\n",
      "[LightGBM] [Warning] feature_fraction is set=0.42912627478060394, colsample_bytree=1.0 will be ignored. Current value: feature_fraction=0.42912627478060394\n"
     ]
    },
    {
     "name": "stderr",
     "output_type": "stream",
     "text": [
      "\u001b[32m[I 2023-03-29 02:53:34,127]\u001b[0m Trial 58 finished with value: 0.2718228383535067 and parameters: {'lambda_l1': 1.0004878874110946e-08, 'lambda_l2': 9.72281728690358, 'num_leaves': 152, 'max_depth': 4, 'learning_rate': 0.10020209268570232, 'feature_fraction': 0.42912627478060394, 'bagging_fraction': 0.4588601481879717, 'bagging_freq': 2, 'min_child_samples': 83}. Best is trial 55 with value: 0.2698723870555283.\u001b[0m\n"
     ]
    },
    {
     "name": "stdout",
     "output_type": "stream",
     "text": [
      "[LightGBM] [Warning] bagging_fraction is set=0.4588601481879717, subsample=1.0 will be ignored. Current value: bagging_fraction=0.4588601481879717\n",
      "[LightGBM] [Warning] lambda_l2 is set=9.72281728690358, reg_lambda=0.0 will be ignored. Current value: lambda_l2=9.72281728690358\n",
      "[LightGBM] [Warning] lambda_l1 is set=1.0004878874110946e-08, reg_alpha=0.0 will be ignored. Current value: lambda_l1=1.0004878874110946e-08\n",
      "[LightGBM] [Warning] bagging_freq is set=2, subsample_freq=0 will be ignored. Current value: bagging_freq=2\n",
      "[LightGBM] [Warning] feature_fraction is set=0.42912627478060394, colsample_bytree=1.0 will be ignored. Current value: feature_fraction=0.42912627478060394\n",
      "[LightGBM] [Warning] bagging_fraction is set=0.45651065710964933, subsample=1.0 will be ignored. Current value: bagging_fraction=0.45651065710964933\n",
      "[LightGBM] [Warning] lambda_l2 is set=9.798204293457465, reg_lambda=0.0 will be ignored. Current value: lambda_l2=9.798204293457465\n",
      "[LightGBM] [Warning] lambda_l1 is set=1.3490664656097176e-08, reg_alpha=0.0 will be ignored. Current value: lambda_l1=1.3490664656097176e-08\n",
      "[LightGBM] [Warning] bagging_freq is set=2, subsample_freq=0 will be ignored. Current value: bagging_freq=2\n",
      "[LightGBM] [Warning] feature_fraction is set=0.4293370665392573, colsample_bytree=1.0 will be ignored. Current value: feature_fraction=0.4293370665392573\n",
      "[LightGBM] [Warning] bagging_fraction is set=0.45651065710964933, subsample=1.0 will be ignored. Current value: bagging_fraction=0.45651065710964933\n",
      "[LightGBM] [Warning] lambda_l2 is set=9.798204293457465, reg_lambda=0.0 will be ignored. Current value: lambda_l2=9.798204293457465\n",
      "[LightGBM] [Warning] lambda_l1 is set=1.3490664656097176e-08, reg_alpha=0.0 will be ignored. Current value: lambda_l1=1.3490664656097176e-08\n",
      "[LightGBM] [Warning] bagging_freq is set=2, subsample_freq=0 will be ignored. Current value: bagging_freq=2\n",
      "[LightGBM] [Warning] feature_fraction is set=0.4293370665392573, colsample_bytree=1.0 will be ignored. Current value: feature_fraction=0.4293370665392573\n",
      "[LightGBM] [Warning] bagging_fraction is set=0.45651065710964933, subsample=1.0 will be ignored. Current value: bagging_fraction=0.45651065710964933\n",
      "[LightGBM] [Warning] lambda_l2 is set=9.798204293457465, reg_lambda=0.0 will be ignored. Current value: lambda_l2=9.798204293457465\n",
      "[LightGBM] [Warning] lambda_l1 is set=1.3490664656097176e-08, reg_alpha=0.0 will be ignored. Current value: lambda_l1=1.3490664656097176e-08\n",
      "[LightGBM] [Warning] bagging_freq is set=2, subsample_freq=0 will be ignored. Current value: bagging_freq=2\n",
      "[LightGBM] [Warning] feature_fraction is set=0.4293370665392573, colsample_bytree=1.0 will be ignored. Current value: feature_fraction=0.4293370665392573\n",
      "[LightGBM] [Warning] bagging_fraction is set=0.45651065710964933, subsample=1.0 will be ignored. Current value: bagging_fraction=0.45651065710964933\n",
      "[LightGBM] [Warning] lambda_l2 is set=9.798204293457465, reg_lambda=0.0 will be ignored. Current value: lambda_l2=9.798204293457465\n",
      "[LightGBM] [Warning] lambda_l1 is set=1.3490664656097176e-08, reg_alpha=0.0 will be ignored. Current value: lambda_l1=1.3490664656097176e-08\n",
      "[LightGBM] [Warning] bagging_freq is set=2, subsample_freq=0 will be ignored. Current value: bagging_freq=2\n",
      "[LightGBM] [Warning] feature_fraction is set=0.4293370665392573, colsample_bytree=1.0 will be ignored. Current value: feature_fraction=0.4293370665392573\n",
      "[LightGBM] [Warning] bagging_fraction is set=0.45651065710964933, subsample=1.0 will be ignored. Current value: bagging_fraction=0.45651065710964933\n",
      "[LightGBM] [Warning] lambda_l2 is set=9.798204293457465, reg_lambda=0.0 will be ignored. Current value: lambda_l2=9.798204293457465\n",
      "[LightGBM] [Warning] lambda_l1 is set=1.3490664656097176e-08, reg_alpha=0.0 will be ignored. Current value: lambda_l1=1.3490664656097176e-08\n",
      "[LightGBM] [Warning] bagging_freq is set=2, subsample_freq=0 will be ignored. Current value: bagging_freq=2\n",
      "[LightGBM] [Warning] feature_fraction is set=0.4293370665392573, colsample_bytree=1.0 will be ignored. Current value: feature_fraction=0.4293370665392573\n",
      "[LightGBM] [Warning] bagging_fraction is set=0.45651065710964933, subsample=1.0 will be ignored. Current value: bagging_fraction=0.45651065710964933\n",
      "[LightGBM] [Warning] lambda_l2 is set=9.798204293457465, reg_lambda=0.0 will be ignored. Current value: lambda_l2=9.798204293457465\n",
      "[LightGBM] [Warning] lambda_l1 is set=1.3490664656097176e-08, reg_alpha=0.0 will be ignored. Current value: lambda_l1=1.3490664656097176e-08\n",
      "[LightGBM] [Warning] bagging_freq is set=2, subsample_freq=0 will be ignored. Current value: bagging_freq=2\n",
      "[LightGBM] [Warning] feature_fraction is set=0.4293370665392573, colsample_bytree=1.0 will be ignored. Current value: feature_fraction=0.4293370665392573\n"
     ]
    },
    {
     "name": "stderr",
     "output_type": "stream",
     "text": [
      "\u001b[32m[I 2023-03-29 02:53:35,047]\u001b[0m Trial 59 finished with value: 0.2721058359758902 and parameters: {'lambda_l1': 1.3490664656097176e-08, 'lambda_l2': 9.798204293457465, 'num_leaves': 154, 'max_depth': 4, 'learning_rate': 0.10637759133489984, 'feature_fraction': 0.4293370665392573, 'bagging_fraction': 0.45651065710964933, 'bagging_freq': 2, 'min_child_samples': 71}. Best is trial 55 with value: 0.2698723870555283.\u001b[0m\n"
     ]
    },
    {
     "name": "stdout",
     "output_type": "stream",
     "text": [
      "[LightGBM] [Warning] bagging_fraction is set=0.45916630733753827, subsample=1.0 will be ignored. Current value: bagging_fraction=0.45916630733753827\n",
      "[LightGBM] [Warning] lambda_l2 is set=9.243835820152997, reg_lambda=0.0 will be ignored. Current value: lambda_l2=9.243835820152997\n",
      "[LightGBM] [Warning] lambda_l1 is set=1.2022874305664173e-08, reg_alpha=0.0 will be ignored. Current value: lambda_l1=1.2022874305664173e-08\n",
      "[LightGBM] [Warning] bagging_freq is set=2, subsample_freq=0 will be ignored. Current value: bagging_freq=2\n",
      "[LightGBM] [Warning] feature_fraction is set=0.4230886588807725, colsample_bytree=1.0 will be ignored. Current value: feature_fraction=0.4230886588807725\n",
      "[LightGBM] [Warning] bagging_fraction is set=0.45916630733753827, subsample=1.0 will be ignored. Current value: bagging_fraction=0.45916630733753827\n",
      "[LightGBM] [Warning] lambda_l2 is set=9.243835820152997, reg_lambda=0.0 will be ignored. Current value: lambda_l2=9.243835820152997\n",
      "[LightGBM] [Warning] lambda_l1 is set=1.2022874305664173e-08, reg_alpha=0.0 will be ignored. Current value: lambda_l1=1.2022874305664173e-08\n",
      "[LightGBM] [Warning] bagging_freq is set=2, subsample_freq=0 will be ignored. Current value: bagging_freq=2\n",
      "[LightGBM] [Warning] feature_fraction is set=0.4230886588807725, colsample_bytree=1.0 will be ignored. Current value: feature_fraction=0.4230886588807725\n",
      "[LightGBM] [Warning] bagging_fraction is set=0.45916630733753827, subsample=1.0 will be ignored. Current value: bagging_fraction=0.45916630733753827\n",
      "[LightGBM] [Warning] lambda_l2 is set=9.243835820152997, reg_lambda=0.0 will be ignored. Current value: lambda_l2=9.243835820152997\n",
      "[LightGBM] [Warning] lambda_l1 is set=1.2022874305664173e-08, reg_alpha=0.0 will be ignored. Current value: lambda_l1=1.2022874305664173e-08\n",
      "[LightGBM] [Warning] bagging_freq is set=2, subsample_freq=0 will be ignored. Current value: bagging_freq=2\n",
      "[LightGBM] [Warning] feature_fraction is set=0.4230886588807725, colsample_bytree=1.0 will be ignored. Current value: feature_fraction=0.4230886588807725\n",
      "[LightGBM] [Warning] bagging_fraction is set=0.45916630733753827, subsample=1.0 will be ignored. Current value: bagging_fraction=0.45916630733753827\n",
      "[LightGBM] [Warning] lambda_l2 is set=9.243835820152997, reg_lambda=0.0 will be ignored. Current value: lambda_l2=9.243835820152997\n",
      "[LightGBM] [Warning] lambda_l1 is set=1.2022874305664173e-08, reg_alpha=0.0 will be ignored. Current value: lambda_l1=1.2022874305664173e-08\n",
      "[LightGBM] [Warning] bagging_freq is set=2, subsample_freq=0 will be ignored. Current value: bagging_freq=2\n",
      "[LightGBM] [Warning] feature_fraction is set=0.4230886588807725, colsample_bytree=1.0 will be ignored. Current value: feature_fraction=0.4230886588807725\n",
      "[LightGBM] [Warning] bagging_fraction is set=0.45916630733753827, subsample=1.0 will be ignored. Current value: bagging_fraction=0.45916630733753827\n",
      "[LightGBM] [Warning] lambda_l2 is set=9.243835820152997, reg_lambda=0.0 will be ignored. Current value: lambda_l2=9.243835820152997\n",
      "[LightGBM] [Warning] lambda_l1 is set=1.2022874305664173e-08, reg_alpha=0.0 will be ignored. Current value: lambda_l1=1.2022874305664173e-08\n",
      "[LightGBM] [Warning] bagging_freq is set=2, subsample_freq=0 will be ignored. Current value: bagging_freq=2\n",
      "[LightGBM] [Warning] feature_fraction is set=0.4230886588807725, colsample_bytree=1.0 will be ignored. Current value: feature_fraction=0.4230886588807725\n",
      "[LightGBM] [Warning] bagging_fraction is set=0.45916630733753827, subsample=1.0 will be ignored. Current value: bagging_fraction=0.45916630733753827\n",
      "[LightGBM] [Warning] lambda_l2 is set=9.243835820152997, reg_lambda=0.0 will be ignored. Current value: lambda_l2=9.243835820152997\n",
      "[LightGBM] [Warning] lambda_l1 is set=1.2022874305664173e-08, reg_alpha=0.0 will be ignored. Current value: lambda_l1=1.2022874305664173e-08\n",
      "[LightGBM] [Warning] bagging_freq is set=2, subsample_freq=0 will be ignored. Current value: bagging_freq=2\n",
      "[LightGBM] [Warning] feature_fraction is set=0.4230886588807725, colsample_bytree=1.0 will be ignored. Current value: feature_fraction=0.4230886588807725\n"
     ]
    },
    {
     "name": "stderr",
     "output_type": "stream",
     "text": [
      "\u001b[32m[I 2023-03-29 02:53:36,017]\u001b[0m Trial 60 finished with value: 0.27141196969014325 and parameters: {'lambda_l1': 1.2022874305664173e-08, 'lambda_l2': 9.243835820152997, 'num_leaves': 152, 'max_depth': 4, 'learning_rate': 0.0996506655530435, 'feature_fraction': 0.4230886588807725, 'bagging_fraction': 0.45916630733753827, 'bagging_freq': 2, 'min_child_samples': 70}. Best is trial 55 with value: 0.2698723870555283.\u001b[0m\n"
     ]
    },
    {
     "name": "stdout",
     "output_type": "stream",
     "text": [
      "[LightGBM] [Warning] bagging_fraction is set=0.45625636279427917, subsample=1.0 will be ignored. Current value: bagging_fraction=0.45625636279427917\n",
      "[LightGBM] [Warning] lambda_l2 is set=9.647419038804989, reg_lambda=0.0 will be ignored. Current value: lambda_l2=9.647419038804989\n",
      "[LightGBM] [Warning] lambda_l1 is set=1.2433064505494324e-08, reg_alpha=0.0 will be ignored. Current value: lambda_l1=1.2433064505494324e-08\n",
      "[LightGBM] [Warning] bagging_freq is set=2, subsample_freq=0 will be ignored. Current value: bagging_freq=2\n",
      "[LightGBM] [Warning] feature_fraction is set=0.4275546965069559, colsample_bytree=1.0 will be ignored. Current value: feature_fraction=0.4275546965069559\n",
      "[LightGBM] [Warning] bagging_fraction is set=0.45625636279427917, subsample=1.0 will be ignored. Current value: bagging_fraction=0.45625636279427917\n",
      "[LightGBM] [Warning] lambda_l2 is set=9.647419038804989, reg_lambda=0.0 will be ignored. Current value: lambda_l2=9.647419038804989\n",
      "[LightGBM] [Warning] lambda_l1 is set=1.2433064505494324e-08, reg_alpha=0.0 will be ignored. Current value: lambda_l1=1.2433064505494324e-08\n",
      "[LightGBM] [Warning] bagging_freq is set=2, subsample_freq=0 will be ignored. Current value: bagging_freq=2\n",
      "[LightGBM] [Warning] feature_fraction is set=0.4275546965069559, colsample_bytree=1.0 will be ignored. Current value: feature_fraction=0.4275546965069559\n",
      "[LightGBM] [Warning] bagging_fraction is set=0.45625636279427917, subsample=1.0 will be ignored. Current value: bagging_fraction=0.45625636279427917\n",
      "[LightGBM] [Warning] lambda_l2 is set=9.647419038804989, reg_lambda=0.0 will be ignored. Current value: lambda_l2=9.647419038804989\n",
      "[LightGBM] [Warning] lambda_l1 is set=1.2433064505494324e-08, reg_alpha=0.0 will be ignored. Current value: lambda_l1=1.2433064505494324e-08\n",
      "[LightGBM] [Warning] bagging_freq is set=2, subsample_freq=0 will be ignored. Current value: bagging_freq=2\n",
      "[LightGBM] [Warning] feature_fraction is set=0.4275546965069559, colsample_bytree=1.0 will be ignored. Current value: feature_fraction=0.4275546965069559\n",
      "[LightGBM] [Warning] bagging_fraction is set=0.45625636279427917, subsample=1.0 will be ignored. Current value: bagging_fraction=0.45625636279427917\n",
      "[LightGBM] [Warning] lambda_l2 is set=9.647419038804989, reg_lambda=0.0 will be ignored. Current value: lambda_l2=9.647419038804989\n",
      "[LightGBM] [Warning] lambda_l1 is set=1.2433064505494324e-08, reg_alpha=0.0 will be ignored. Current value: lambda_l1=1.2433064505494324e-08\n",
      "[LightGBM] [Warning] bagging_freq is set=2, subsample_freq=0 will be ignored. Current value: bagging_freq=2\n",
      "[LightGBM] [Warning] feature_fraction is set=0.4275546965069559, colsample_bytree=1.0 will be ignored. Current value: feature_fraction=0.4275546965069559\n",
      "[LightGBM] [Warning] bagging_fraction is set=0.45625636279427917, subsample=1.0 will be ignored. Current value: bagging_fraction=0.45625636279427917\n",
      "[LightGBM] [Warning] lambda_l2 is set=9.647419038804989, reg_lambda=0.0 will be ignored. Current value: lambda_l2=9.647419038804989\n",
      "[LightGBM] [Warning] lambda_l1 is set=1.2433064505494324e-08, reg_alpha=0.0 will be ignored. Current value: lambda_l1=1.2433064505494324e-08\n",
      "[LightGBM] [Warning] bagging_freq is set=2, subsample_freq=0 will be ignored. Current value: bagging_freq=2\n",
      "[LightGBM] [Warning] feature_fraction is set=0.4275546965069559, colsample_bytree=1.0 will be ignored. Current value: feature_fraction=0.4275546965069559\n"
     ]
    },
    {
     "name": "stderr",
     "output_type": "stream",
     "text": [
      "\u001b[32m[I 2023-03-29 02:53:36,978]\u001b[0m Trial 61 finished with value: 0.2719094469522063 and parameters: {'lambda_l1': 1.2433064505494324e-08, 'lambda_l2': 9.647419038804989, 'num_leaves': 152, 'max_depth': 4, 'learning_rate': 0.10690542632900736, 'feature_fraction': 0.4275546965069559, 'bagging_fraction': 0.45625636279427917, 'bagging_freq': 2, 'min_child_samples': 69}. Best is trial 55 with value: 0.2698723870555283.\u001b[0m\n"
     ]
    },
    {
     "name": "stdout",
     "output_type": "stream",
     "text": [
      "[LightGBM] [Warning] bagging_fraction is set=0.45625636279427917, subsample=1.0 will be ignored. Current value: bagging_fraction=0.45625636279427917\n",
      "[LightGBM] [Warning] lambda_l2 is set=9.647419038804989, reg_lambda=0.0 will be ignored. Current value: lambda_l2=9.647419038804989\n",
      "[LightGBM] [Warning] lambda_l1 is set=1.2433064505494324e-08, reg_alpha=0.0 will be ignored. Current value: lambda_l1=1.2433064505494324e-08\n",
      "[LightGBM] [Warning] bagging_freq is set=2, subsample_freq=0 will be ignored. Current value: bagging_freq=2\n",
      "[LightGBM] [Warning] feature_fraction is set=0.4275546965069559, colsample_bytree=1.0 will be ignored. Current value: feature_fraction=0.4275546965069559\n",
      "[LightGBM] [Warning] bagging_fraction is set=0.42031363308469877, subsample=1.0 will be ignored. Current value: bagging_fraction=0.42031363308469877\n",
      "[LightGBM] [Warning] lambda_l2 is set=8.856804681606734, reg_lambda=0.0 will be ignored. Current value: lambda_l2=8.856804681606734\n",
      "[LightGBM] [Warning] lambda_l1 is set=1.737818553838368e-08, reg_alpha=0.0 will be ignored. Current value: lambda_l1=1.737818553838368e-08\n",
      "[LightGBM] [Warning] bagging_freq is set=2, subsample_freq=0 will be ignored. Current value: bagging_freq=2\n",
      "[LightGBM] [Warning] feature_fraction is set=0.42421372464285534, colsample_bytree=1.0 will be ignored. Current value: feature_fraction=0.42421372464285534\n",
      "[LightGBM] [Warning] bagging_fraction is set=0.42031363308469877, subsample=1.0 will be ignored. Current value: bagging_fraction=0.42031363308469877\n",
      "[LightGBM] [Warning] lambda_l2 is set=8.856804681606734, reg_lambda=0.0 will be ignored. Current value: lambda_l2=8.856804681606734\n",
      "[LightGBM] [Warning] lambda_l1 is set=1.737818553838368e-08, reg_alpha=0.0 will be ignored. Current value: lambda_l1=1.737818553838368e-08\n",
      "[LightGBM] [Warning] bagging_freq is set=2, subsample_freq=0 will be ignored. Current value: bagging_freq=2\n",
      "[LightGBM] [Warning] feature_fraction is set=0.42421372464285534, colsample_bytree=1.0 will be ignored. Current value: feature_fraction=0.42421372464285534\n",
      "[LightGBM] [Warning] bagging_fraction is set=0.42031363308469877, subsample=1.0 will be ignored. Current value: bagging_fraction=0.42031363308469877\n",
      "[LightGBM] [Warning] lambda_l2 is set=8.856804681606734, reg_lambda=0.0 will be ignored. Current value: lambda_l2=8.856804681606734\n",
      "[LightGBM] [Warning] lambda_l1 is set=1.737818553838368e-08, reg_alpha=0.0 will be ignored. Current value: lambda_l1=1.737818553838368e-08\n",
      "[LightGBM] [Warning] bagging_freq is set=2, subsample_freq=0 will be ignored. Current value: bagging_freq=2\n",
      "[LightGBM] [Warning] feature_fraction is set=0.42421372464285534, colsample_bytree=1.0 will be ignored. Current value: feature_fraction=0.42421372464285534\n",
      "[LightGBM] [Warning] bagging_fraction is set=0.42031363308469877, subsample=1.0 will be ignored. Current value: bagging_fraction=0.42031363308469877\n",
      "[LightGBM] [Warning] lambda_l2 is set=8.856804681606734, reg_lambda=0.0 will be ignored. Current value: lambda_l2=8.856804681606734\n",
      "[LightGBM] [Warning] lambda_l1 is set=1.737818553838368e-08, reg_alpha=0.0 will be ignored. Current value: lambda_l1=1.737818553838368e-08\n",
      "[LightGBM] [Warning] bagging_freq is set=2, subsample_freq=0 will be ignored. Current value: bagging_freq=2\n",
      "[LightGBM] [Warning] feature_fraction is set=0.42421372464285534, colsample_bytree=1.0 will be ignored. Current value: feature_fraction=0.42421372464285534\n",
      "[LightGBM] [Warning] bagging_fraction is set=0.42031363308469877, subsample=1.0 will be ignored. Current value: bagging_fraction=0.42031363308469877\n",
      "[LightGBM] [Warning] lambda_l2 is set=8.856804681606734, reg_lambda=0.0 will be ignored. Current value: lambda_l2=8.856804681606734\n",
      "[LightGBM] [Warning] lambda_l1 is set=1.737818553838368e-08, reg_alpha=0.0 will be ignored. Current value: lambda_l1=1.737818553838368e-08\n",
      "[LightGBM] [Warning] bagging_freq is set=2, subsample_freq=0 will be ignored. Current value: bagging_freq=2\n",
      "[LightGBM] [Warning] feature_fraction is set=0.42421372464285534, colsample_bytree=1.0 will be ignored. Current value: feature_fraction=0.42421372464285534\n",
      "[LightGBM] [Warning] bagging_fraction is set=0.42031363308469877, subsample=1.0 will be ignored. Current value: bagging_fraction=0.42031363308469877\n",
      "[LightGBM] [Warning] lambda_l2 is set=8.856804681606734, reg_lambda=0.0 will be ignored. Current value: lambda_l2=8.856804681606734\n",
      "[LightGBM] [Warning] lambda_l1 is set=1.737818553838368e-08, reg_alpha=0.0 will be ignored. Current value: lambda_l1=1.737818553838368e-08\n",
      "[LightGBM] [Warning] bagging_freq is set=2, subsample_freq=0 will be ignored. Current value: bagging_freq=2\n",
      "[LightGBM] [Warning] feature_fraction is set=0.42421372464285534, colsample_bytree=1.0 will be ignored. Current value: feature_fraction=0.42421372464285534\n"
     ]
    },
    {
     "name": "stderr",
     "output_type": "stream",
     "text": [
      "\u001b[32m[I 2023-03-29 02:53:37,863]\u001b[0m Trial 62 finished with value: 0.2707976085155027 and parameters: {'lambda_l1': 1.737818553838368e-08, 'lambda_l2': 8.856804681606734, 'num_leaves': 155, 'max_depth': 3, 'learning_rate': 0.1029446401981002, 'feature_fraction': 0.42421372464285534, 'bagging_fraction': 0.42031363308469877, 'bagging_freq': 2, 'min_child_samples': 63}. Best is trial 55 with value: 0.2698723870555283.\u001b[0m\n"
     ]
    },
    {
     "name": "stdout",
     "output_type": "stream",
     "text": [
      "[LightGBM] [Warning] bagging_fraction is set=0.42399082242021635, subsample=1.0 will be ignored. Current value: bagging_fraction=0.42399082242021635\n",
      "[LightGBM] [Warning] lambda_l2 is set=9.60044603459289, reg_lambda=0.0 will be ignored. Current value: lambda_l2=9.60044603459289\n",
      "[LightGBM] [Warning] lambda_l1 is set=1.0211531117832871e-08, reg_alpha=0.0 will be ignored. Current value: lambda_l1=1.0211531117832871e-08\n",
      "[LightGBM] [Warning] bagging_freq is set=2, subsample_freq=0 will be ignored. Current value: bagging_freq=2\n",
      "[LightGBM] [Warning] feature_fraction is set=0.4217300353888043, colsample_bytree=1.0 will be ignored. Current value: feature_fraction=0.4217300353888043\n",
      "[LightGBM] [Warning] bagging_fraction is set=0.42399082242021635, subsample=1.0 will be ignored. Current value: bagging_fraction=0.42399082242021635\n",
      "[LightGBM] [Warning] lambda_l2 is set=9.60044603459289, reg_lambda=0.0 will be ignored. Current value: lambda_l2=9.60044603459289\n",
      "[LightGBM] [Warning] lambda_l1 is set=1.0211531117832871e-08, reg_alpha=0.0 will be ignored. Current value: lambda_l1=1.0211531117832871e-08\n",
      "[LightGBM] [Warning] bagging_freq is set=2, subsample_freq=0 will be ignored. Current value: bagging_freq=2\n",
      "[LightGBM] [Warning] feature_fraction is set=0.4217300353888043, colsample_bytree=1.0 will be ignored. Current value: feature_fraction=0.4217300353888043\n",
      "[LightGBM] [Warning] bagging_fraction is set=0.42399082242021635, subsample=1.0 will be ignored. Current value: bagging_fraction=0.42399082242021635\n",
      "[LightGBM] [Warning] lambda_l2 is set=9.60044603459289, reg_lambda=0.0 will be ignored. Current value: lambda_l2=9.60044603459289\n",
      "[LightGBM] [Warning] lambda_l1 is set=1.0211531117832871e-08, reg_alpha=0.0 will be ignored. Current value: lambda_l1=1.0211531117832871e-08\n",
      "[LightGBM] [Warning] bagging_freq is set=2, subsample_freq=0 will be ignored. Current value: bagging_freq=2\n",
      "[LightGBM] [Warning] feature_fraction is set=0.4217300353888043, colsample_bytree=1.0 will be ignored. Current value: feature_fraction=0.4217300353888043\n",
      "[LightGBM] [Warning] bagging_fraction is set=0.42399082242021635, subsample=1.0 will be ignored. Current value: bagging_fraction=0.42399082242021635\n",
      "[LightGBM] [Warning] lambda_l2 is set=9.60044603459289, reg_lambda=0.0 will be ignored. Current value: lambda_l2=9.60044603459289\n",
      "[LightGBM] [Warning] lambda_l1 is set=1.0211531117832871e-08, reg_alpha=0.0 will be ignored. Current value: lambda_l1=1.0211531117832871e-08\n",
      "[LightGBM] [Warning] bagging_freq is set=2, subsample_freq=0 will be ignored. Current value: bagging_freq=2\n",
      "[LightGBM] [Warning] feature_fraction is set=0.4217300353888043, colsample_bytree=1.0 will be ignored. Current value: feature_fraction=0.4217300353888043\n",
      "[LightGBM] [Warning] bagging_fraction is set=0.42399082242021635, subsample=1.0 will be ignored. Current value: bagging_fraction=0.42399082242021635\n",
      "[LightGBM] [Warning] lambda_l2 is set=9.60044603459289, reg_lambda=0.0 will be ignored. Current value: lambda_l2=9.60044603459289\n",
      "[LightGBM] [Warning] lambda_l1 is set=1.0211531117832871e-08, reg_alpha=0.0 will be ignored. Current value: lambda_l1=1.0211531117832871e-08\n",
      "[LightGBM] [Warning] bagging_freq is set=2, subsample_freq=0 will be ignored. Current value: bagging_freq=2\n",
      "[LightGBM] [Warning] feature_fraction is set=0.4217300353888043, colsample_bytree=1.0 will be ignored. Current value: feature_fraction=0.4217300353888043\n",
      "[LightGBM] [Warning] bagging_fraction is set=0.42399082242021635, subsample=1.0 will be ignored. Current value: bagging_fraction=0.42399082242021635\n",
      "[LightGBM] [Warning] lambda_l2 is set=9.60044603459289, reg_lambda=0.0 will be ignored. Current value: lambda_l2=9.60044603459289\n",
      "[LightGBM] [Warning] lambda_l1 is set=1.0211531117832871e-08, reg_alpha=0.0 will be ignored. Current value: lambda_l1=1.0211531117832871e-08\n",
      "[LightGBM] [Warning] bagging_freq is set=2, subsample_freq=0 will be ignored. Current value: bagging_freq=2\n",
      "[LightGBM] [Warning] feature_fraction is set=0.4217300353888043, colsample_bytree=1.0 will be ignored. Current value: feature_fraction=0.4217300353888043\n"
     ]
    },
    {
     "name": "stderr",
     "output_type": "stream",
     "text": [
      "\u001b[32m[I 2023-03-29 02:53:38,844]\u001b[0m Trial 63 finished with value: 0.27276303189899076 and parameters: {'lambda_l1': 1.0211531117832871e-08, 'lambda_l2': 9.60044603459289, 'num_leaves': 154, 'max_depth': 4, 'learning_rate': 0.10930444931732823, 'feature_fraction': 0.4217300353888043, 'bagging_fraction': 0.42399082242021635, 'bagging_freq': 2, 'min_child_samples': 64}. Best is trial 55 with value: 0.2698723870555283.\u001b[0m\n"
     ]
    },
    {
     "name": "stdout",
     "output_type": "stream",
     "text": [
      "[LightGBM] [Warning] bagging_fraction is set=0.4503856976976984, subsample=1.0 will be ignored. Current value: bagging_fraction=0.4503856976976984\n",
      "[LightGBM] [Warning] lambda_l2 is set=2.2812033998548755, reg_lambda=0.0 will be ignored. Current value: lambda_l2=2.2812033998548755\n",
      "[LightGBM] [Warning] lambda_l1 is set=1.8132097218540245e-08, reg_alpha=0.0 will be ignored. Current value: lambda_l1=1.8132097218540245e-08\n",
      "[LightGBM] [Warning] bagging_freq is set=2, subsample_freq=0 will be ignored. Current value: bagging_freq=2\n",
      "[LightGBM] [Warning] feature_fraction is set=0.4031701123176944, colsample_bytree=1.0 will be ignored. Current value: feature_fraction=0.4031701123176944\n",
      "[LightGBM] [Warning] bagging_fraction is set=0.4503856976976984, subsample=1.0 will be ignored. Current value: bagging_fraction=0.4503856976976984\n",
      "[LightGBM] [Warning] lambda_l2 is set=2.2812033998548755, reg_lambda=0.0 will be ignored. Current value: lambda_l2=2.2812033998548755\n",
      "[LightGBM] [Warning] lambda_l1 is set=1.8132097218540245e-08, reg_alpha=0.0 will be ignored. Current value: lambda_l1=1.8132097218540245e-08\n",
      "[LightGBM] [Warning] bagging_freq is set=2, subsample_freq=0 will be ignored. Current value: bagging_freq=2\n",
      "[LightGBM] [Warning] feature_fraction is set=0.4031701123176944, colsample_bytree=1.0 will be ignored. Current value: feature_fraction=0.4031701123176944\n",
      "[LightGBM] [Warning] bagging_fraction is set=0.4503856976976984, subsample=1.0 will be ignored. Current value: bagging_fraction=0.4503856976976984\n",
      "[LightGBM] [Warning] lambda_l2 is set=2.2812033998548755, reg_lambda=0.0 will be ignored. Current value: lambda_l2=2.2812033998548755\n",
      "[LightGBM] [Warning] lambda_l1 is set=1.8132097218540245e-08, reg_alpha=0.0 will be ignored. Current value: lambda_l1=1.8132097218540245e-08\n",
      "[LightGBM] [Warning] bagging_freq is set=2, subsample_freq=0 will be ignored. Current value: bagging_freq=2\n",
      "[LightGBM] [Warning] feature_fraction is set=0.4031701123176944, colsample_bytree=1.0 will be ignored. Current value: feature_fraction=0.4031701123176944\n",
      "[LightGBM] [Warning] bagging_fraction is set=0.4503856976976984, subsample=1.0 will be ignored. Current value: bagging_fraction=0.4503856976976984\n",
      "[LightGBM] [Warning] lambda_l2 is set=2.2812033998548755, reg_lambda=0.0 will be ignored. Current value: lambda_l2=2.2812033998548755\n",
      "[LightGBM] [Warning] lambda_l1 is set=1.8132097218540245e-08, reg_alpha=0.0 will be ignored. Current value: lambda_l1=1.8132097218540245e-08\n",
      "[LightGBM] [Warning] bagging_freq is set=2, subsample_freq=0 will be ignored. Current value: bagging_freq=2\n",
      "[LightGBM] [Warning] feature_fraction is set=0.4031701123176944, colsample_bytree=1.0 will be ignored. Current value: feature_fraction=0.4031701123176944\n"
     ]
    },
    {
     "name": "stderr",
     "output_type": "stream",
     "text": [
      "\u001b[32m[I 2023-03-29 02:53:39,545]\u001b[0m Trial 64 finished with value: 0.27098891710889694 and parameters: {'lambda_l1': 1.8132097218540245e-08, 'lambda_l2': 2.2812033998548755, 'num_leaves': 132, 'max_depth': 2, 'learning_rate': 0.16511580744833848, 'feature_fraction': 0.4031701123176944, 'bagging_fraction': 0.4503856976976984, 'bagging_freq': 2, 'min_child_samples': 51}. Best is trial 55 with value: 0.2698723870555283.\u001b[0m\n"
     ]
    },
    {
     "name": "stdout",
     "output_type": "stream",
     "text": [
      "[LightGBM] [Warning] bagging_fraction is set=0.4503856976976984, subsample=1.0 will be ignored. Current value: bagging_fraction=0.4503856976976984\n",
      "[LightGBM] [Warning] lambda_l2 is set=2.2812033998548755, reg_lambda=0.0 will be ignored. Current value: lambda_l2=2.2812033998548755\n",
      "[LightGBM] [Warning] lambda_l1 is set=1.8132097218540245e-08, reg_alpha=0.0 will be ignored. Current value: lambda_l1=1.8132097218540245e-08\n",
      "[LightGBM] [Warning] bagging_freq is set=2, subsample_freq=0 will be ignored. Current value: bagging_freq=2\n",
      "[LightGBM] [Warning] feature_fraction is set=0.4031701123176944, colsample_bytree=1.0 will be ignored. Current value: feature_fraction=0.4031701123176944\n",
      "[LightGBM] [Warning] bagging_fraction is set=0.4503856976976984, subsample=1.0 will be ignored. Current value: bagging_fraction=0.4503856976976984\n",
      "[LightGBM] [Warning] lambda_l2 is set=2.2812033998548755, reg_lambda=0.0 will be ignored. Current value: lambda_l2=2.2812033998548755\n",
      "[LightGBM] [Warning] lambda_l1 is set=1.8132097218540245e-08, reg_alpha=0.0 will be ignored. Current value: lambda_l1=1.8132097218540245e-08\n",
      "[LightGBM] [Warning] bagging_freq is set=2, subsample_freq=0 will be ignored. Current value: bagging_freq=2\n",
      "[LightGBM] [Warning] feature_fraction is set=0.4031701123176944, colsample_bytree=1.0 will be ignored. Current value: feature_fraction=0.4031701123176944\n",
      "[LightGBM] [Warning] bagging_fraction is set=0.4107717675354095, subsample=1.0 will be ignored. Current value: bagging_fraction=0.4107717675354095\n",
      "[LightGBM] [Warning] lambda_l2 is set=2.5103993451493065, reg_lambda=0.0 will be ignored. Current value: lambda_l2=2.5103993451493065\n",
      "[LightGBM] [Warning] lambda_l1 is set=2.4632773996334095e-08, reg_alpha=0.0 will be ignored. Current value: lambda_l1=2.4632773996334095e-08\n",
      "[LightGBM] [Warning] bagging_freq is set=3, subsample_freq=0 will be ignored. Current value: bagging_freq=3\n",
      "[LightGBM] [Warning] feature_fraction is set=0.4067436989331108, colsample_bytree=1.0 will be ignored. Current value: feature_fraction=0.4067436989331108\n",
      "[LightGBM] [Warning] bagging_fraction is set=0.4107717675354095, subsample=1.0 will be ignored. Current value: bagging_fraction=0.4107717675354095\n",
      "[LightGBM] [Warning] lambda_l2 is set=2.5103993451493065, reg_lambda=0.0 will be ignored. Current value: lambda_l2=2.5103993451493065\n",
      "[LightGBM] [Warning] lambda_l1 is set=2.4632773996334095e-08, reg_alpha=0.0 will be ignored. Current value: lambda_l1=2.4632773996334095e-08\n",
      "[LightGBM] [Warning] bagging_freq is set=3, subsample_freq=0 will be ignored. Current value: bagging_freq=3\n",
      "[LightGBM] [Warning] feature_fraction is set=0.4067436989331108, colsample_bytree=1.0 will be ignored. Current value: feature_fraction=0.4067436989331108\n",
      "[LightGBM] [Warning] bagging_fraction is set=0.4107717675354095, subsample=1.0 will be ignored. Current value: bagging_fraction=0.4107717675354095\n",
      "[LightGBM] [Warning] lambda_l2 is set=2.5103993451493065, reg_lambda=0.0 will be ignored. Current value: lambda_l2=2.5103993451493065\n",
      "[LightGBM] [Warning] lambda_l1 is set=2.4632773996334095e-08, reg_alpha=0.0 will be ignored. Current value: lambda_l1=2.4632773996334095e-08\n",
      "[LightGBM] [Warning] bagging_freq is set=3, subsample_freq=0 will be ignored. Current value: bagging_freq=3\n",
      "[LightGBM] [Warning] feature_fraction is set=0.4067436989331108, colsample_bytree=1.0 will be ignored. Current value: feature_fraction=0.4067436989331108\n",
      "[LightGBM] [Warning] bagging_fraction is set=0.4107717675354095, subsample=1.0 will be ignored. Current value: bagging_fraction=0.4107717675354095\n",
      "[LightGBM] [Warning] lambda_l2 is set=2.5103993451493065, reg_lambda=0.0 will be ignored. Current value: lambda_l2=2.5103993451493065\n",
      "[LightGBM] [Warning] lambda_l1 is set=2.4632773996334095e-08, reg_alpha=0.0 will be ignored. Current value: lambda_l1=2.4632773996334095e-08\n",
      "[LightGBM] [Warning] bagging_freq is set=3, subsample_freq=0 will be ignored. Current value: bagging_freq=3\n",
      "[LightGBM] [Warning] feature_fraction is set=0.4067436989331108, colsample_bytree=1.0 will be ignored. Current value: feature_fraction=0.4067436989331108\n",
      "[LightGBM] [Warning] bagging_fraction is set=0.4107717675354095, subsample=1.0 will be ignored. Current value: bagging_fraction=0.4107717675354095\n",
      "[LightGBM] [Warning] lambda_l2 is set=2.5103993451493065, reg_lambda=0.0 will be ignored. Current value: lambda_l2=2.5103993451493065\n",
      "[LightGBM] [Warning] lambda_l1 is set=2.4632773996334095e-08, reg_alpha=0.0 will be ignored. Current value: lambda_l1=2.4632773996334095e-08\n",
      "[LightGBM] [Warning] bagging_freq is set=3, subsample_freq=0 will be ignored. Current value: bagging_freq=3\n",
      "[LightGBM] [Warning] feature_fraction is set=0.4067436989331108, colsample_bytree=1.0 will be ignored. Current value: feature_fraction=0.4067436989331108\n"
     ]
    },
    {
     "name": "stderr",
     "output_type": "stream",
     "text": [
      "\u001b[32m[I 2023-03-29 02:53:40,178]\u001b[0m Trial 65 finished with value: 0.27198135247007127 and parameters: {'lambda_l1': 2.4632773996334095e-08, 'lambda_l2': 2.5103993451493065, 'num_leaves': 131, 'max_depth': 2, 'learning_rate': 0.17805182227867086, 'feature_fraction': 0.4067436989331108, 'bagging_fraction': 0.4107717675354095, 'bagging_freq': 3, 'min_child_samples': 52}. Best is trial 55 with value: 0.2698723870555283.\u001b[0m\n"
     ]
    },
    {
     "name": "stdout",
     "output_type": "stream",
     "text": [
      "[LightGBM] [Warning] bagging_fraction is set=0.4107717675354095, subsample=1.0 will be ignored. Current value: bagging_fraction=0.4107717675354095\n",
      "[LightGBM] [Warning] lambda_l2 is set=2.5103993451493065, reg_lambda=0.0 will be ignored. Current value: lambda_l2=2.5103993451493065\n",
      "[LightGBM] [Warning] lambda_l1 is set=2.4632773996334095e-08, reg_alpha=0.0 will be ignored. Current value: lambda_l1=2.4632773996334095e-08\n",
      "[LightGBM] [Warning] bagging_freq is set=3, subsample_freq=0 will be ignored. Current value: bagging_freq=3\n",
      "[LightGBM] [Warning] feature_fraction is set=0.4067436989331108, colsample_bytree=1.0 will be ignored. Current value: feature_fraction=0.4067436989331108\n",
      "[LightGBM] [Warning] bagging_fraction is set=0.4474485055747958, subsample=1.0 will be ignored. Current value: bagging_fraction=0.4474485055747958\n",
      "[LightGBM] [Warning] lambda_l2 is set=1.854336167767672, reg_lambda=0.0 will be ignored. Current value: lambda_l2=1.854336167767672\n",
      "[LightGBM] [Warning] lambda_l1 is set=1.0335253589000069e-08, reg_alpha=0.0 will be ignored. Current value: lambda_l1=1.0335253589000069e-08\n",
      "[LightGBM] [Warning] bagging_freq is set=2, subsample_freq=0 will be ignored. Current value: bagging_freq=2\n",
      "[LightGBM] [Warning] feature_fraction is set=0.4393100353805283, colsample_bytree=1.0 will be ignored. Current value: feature_fraction=0.4393100353805283\n",
      "[LightGBM] [Warning] bagging_fraction is set=0.4474485055747958, subsample=1.0 will be ignored. Current value: bagging_fraction=0.4474485055747958\n",
      "[LightGBM] [Warning] lambda_l2 is set=1.854336167767672, reg_lambda=0.0 will be ignored. Current value: lambda_l2=1.854336167767672\n",
      "[LightGBM] [Warning] lambda_l1 is set=1.0335253589000069e-08, reg_alpha=0.0 will be ignored. Current value: lambda_l1=1.0335253589000069e-08\n",
      "[LightGBM] [Warning] bagging_freq is set=2, subsample_freq=0 will be ignored. Current value: bagging_freq=2\n",
      "[LightGBM] [Warning] feature_fraction is set=0.4393100353805283, colsample_bytree=1.0 will be ignored. Current value: feature_fraction=0.4393100353805283\n",
      "[LightGBM] [Warning] bagging_fraction is set=0.4474485055747958, subsample=1.0 will be ignored. Current value: bagging_fraction=0.4474485055747958\n",
      "[LightGBM] [Warning] lambda_l2 is set=1.854336167767672, reg_lambda=0.0 will be ignored. Current value: lambda_l2=1.854336167767672\n",
      "[LightGBM] [Warning] lambda_l1 is set=1.0335253589000069e-08, reg_alpha=0.0 will be ignored. Current value: lambda_l1=1.0335253589000069e-08\n",
      "[LightGBM] [Warning] bagging_freq is set=2, subsample_freq=0 will be ignored. Current value: bagging_freq=2\n",
      "[LightGBM] [Warning] feature_fraction is set=0.4393100353805283, colsample_bytree=1.0 will be ignored. Current value: feature_fraction=0.4393100353805283\n",
      "[LightGBM] [Warning] bagging_fraction is set=0.4474485055747958, subsample=1.0 will be ignored. Current value: bagging_fraction=0.4474485055747958\n",
      "[LightGBM] [Warning] lambda_l2 is set=1.854336167767672, reg_lambda=0.0 will be ignored. Current value: lambda_l2=1.854336167767672\n",
      "[LightGBM] [Warning] lambda_l1 is set=1.0335253589000069e-08, reg_alpha=0.0 will be ignored. Current value: lambda_l1=1.0335253589000069e-08\n",
      "[LightGBM] [Warning] bagging_freq is set=2, subsample_freq=0 will be ignored. Current value: bagging_freq=2\n",
      "[LightGBM] [Warning] feature_fraction is set=0.4393100353805283, colsample_bytree=1.0 will be ignored. Current value: feature_fraction=0.4393100353805283\n"
     ]
    },
    {
     "name": "stderr",
     "output_type": "stream",
     "text": [
      "\u001b[32m[I 2023-03-29 02:53:40,836]\u001b[0m Trial 66 finished with value: 0.2698060711970954 and parameters: {'lambda_l1': 1.0335253589000069e-08, 'lambda_l2': 1.854336167767672, 'num_leaves': 111, 'max_depth': 2, 'learning_rate': 0.13285941460185005, 'feature_fraction': 0.4393100353805283, 'bagging_fraction': 0.4474485055747958, 'bagging_freq': 2, 'min_child_samples': 60}. Best is trial 66 with value: 0.2698060711970954.\u001b[0m\n"
     ]
    },
    {
     "name": "stdout",
     "output_type": "stream",
     "text": [
      "[LightGBM] [Warning] bagging_fraction is set=0.4474485055747958, subsample=1.0 will be ignored. Current value: bagging_fraction=0.4474485055747958\n",
      "[LightGBM] [Warning] lambda_l2 is set=1.854336167767672, reg_lambda=0.0 will be ignored. Current value: lambda_l2=1.854336167767672\n",
      "[LightGBM] [Warning] lambda_l1 is set=1.0335253589000069e-08, reg_alpha=0.0 will be ignored. Current value: lambda_l1=1.0335253589000069e-08\n",
      "[LightGBM] [Warning] bagging_freq is set=2, subsample_freq=0 will be ignored. Current value: bagging_freq=2\n",
      "[LightGBM] [Warning] feature_fraction is set=0.4393100353805283, colsample_bytree=1.0 will be ignored. Current value: feature_fraction=0.4393100353805283\n",
      "[LightGBM] [Warning] bagging_fraction is set=0.4474485055747958, subsample=1.0 will be ignored. Current value: bagging_fraction=0.4474485055747958\n",
      "[LightGBM] [Warning] lambda_l2 is set=1.854336167767672, reg_lambda=0.0 will be ignored. Current value: lambda_l2=1.854336167767672\n",
      "[LightGBM] [Warning] lambda_l1 is set=1.0335253589000069e-08, reg_alpha=0.0 will be ignored. Current value: lambda_l1=1.0335253589000069e-08\n",
      "[LightGBM] [Warning] bagging_freq is set=2, subsample_freq=0 will be ignored. Current value: bagging_freq=2\n",
      "[LightGBM] [Warning] feature_fraction is set=0.4393100353805283, colsample_bytree=1.0 will be ignored. Current value: feature_fraction=0.4393100353805283\n",
      "[LightGBM] [Warning] bagging_fraction is set=0.43383305815400536, subsample=1.0 will be ignored. Current value: bagging_fraction=0.43383305815400536\n",
      "[LightGBM] [Warning] lambda_l2 is set=2.1012037927748177, reg_lambda=0.0 will be ignored. Current value: lambda_l2=2.1012037927748177\n",
      "[LightGBM] [Warning] lambda_l1 is set=2.2086524800067682e-08, reg_alpha=0.0 will be ignored. Current value: lambda_l1=2.2086524800067682e-08\n",
      "[LightGBM] [Warning] bagging_freq is set=2, subsample_freq=0 will be ignored. Current value: bagging_freq=2\n",
      "[LightGBM] [Warning] feature_fraction is set=0.4048586300130035, colsample_bytree=1.0 will be ignored. Current value: feature_fraction=0.4048586300130035\n",
      "[LightGBM] [Warning] bagging_fraction is set=0.43383305815400536, subsample=1.0 will be ignored. Current value: bagging_fraction=0.43383305815400536\n",
      "[LightGBM] [Warning] lambda_l2 is set=2.1012037927748177, reg_lambda=0.0 will be ignored. Current value: lambda_l2=2.1012037927748177\n",
      "[LightGBM] [Warning] lambda_l1 is set=2.2086524800067682e-08, reg_alpha=0.0 will be ignored. Current value: lambda_l1=2.2086524800067682e-08\n",
      "[LightGBM] [Warning] bagging_freq is set=2, subsample_freq=0 will be ignored. Current value: bagging_freq=2\n",
      "[LightGBM] [Warning] feature_fraction is set=0.4048586300130035, colsample_bytree=1.0 will be ignored. Current value: feature_fraction=0.4048586300130035\n",
      "[LightGBM] [Warning] bagging_fraction is set=0.43383305815400536, subsample=1.0 will be ignored. Current value: bagging_fraction=0.43383305815400536\n",
      "[LightGBM] [Warning] lambda_l2 is set=2.1012037927748177, reg_lambda=0.0 will be ignored. Current value: lambda_l2=2.1012037927748177\n",
      "[LightGBM] [Warning] lambda_l1 is set=2.2086524800067682e-08, reg_alpha=0.0 will be ignored. Current value: lambda_l1=2.2086524800067682e-08\n",
      "[LightGBM] [Warning] bagging_freq is set=2, subsample_freq=0 will be ignored. Current value: bagging_freq=2\n",
      "[LightGBM] [Warning] feature_fraction is set=0.4048586300130035, colsample_bytree=1.0 will be ignored. Current value: feature_fraction=0.4048586300130035\n",
      "[LightGBM] [Warning] bagging_fraction is set=0.43383305815400536, subsample=1.0 will be ignored. Current value: bagging_fraction=0.43383305815400536\n",
      "[LightGBM] [Warning] lambda_l2 is set=2.1012037927748177, reg_lambda=0.0 will be ignored. Current value: lambda_l2=2.1012037927748177\n",
      "[LightGBM] [Warning] lambda_l1 is set=2.2086524800067682e-08, reg_alpha=0.0 will be ignored. Current value: lambda_l1=2.2086524800067682e-08\n",
      "[LightGBM] [Warning] bagging_freq is set=2, subsample_freq=0 will be ignored. Current value: bagging_freq=2\n",
      "[LightGBM] [Warning] feature_fraction is set=0.4048586300130035, colsample_bytree=1.0 will be ignored. Current value: feature_fraction=0.4048586300130035\n",
      "[LightGBM] [Warning] bagging_fraction is set=0.43383305815400536, subsample=1.0 will be ignored. Current value: bagging_fraction=0.43383305815400536\n",
      "[LightGBM] [Warning] lambda_l2 is set=2.1012037927748177, reg_lambda=0.0 will be ignored. Current value: lambda_l2=2.1012037927748177\n",
      "[LightGBM] [Warning] lambda_l1 is set=2.2086524800067682e-08, reg_alpha=0.0 will be ignored. Current value: lambda_l1=2.2086524800067682e-08\n",
      "[LightGBM] [Warning] bagging_freq is set=2, subsample_freq=0 will be ignored. Current value: bagging_freq=2\n",
      "[LightGBM] [Warning] feature_fraction is set=0.4048586300130035, colsample_bytree=1.0 will be ignored. Current value: feature_fraction=0.4048586300130035\n"
     ]
    },
    {
     "name": "stderr",
     "output_type": "stream",
     "text": [
      "\u001b[32m[I 2023-03-29 02:53:41,512]\u001b[0m Trial 67 finished with value: 0.27157061618455103 and parameters: {'lambda_l1': 2.2086524800067682e-08, 'lambda_l2': 2.1012037927748177, 'num_leaves': 110, 'max_depth': 2, 'learning_rate': 0.13997210343148597, 'feature_fraction': 0.4048586300130035, 'bagging_fraction': 0.43383305815400536, 'bagging_freq': 2, 'min_child_samples': 49}. Best is trial 66 with value: 0.2698060711970954.\u001b[0m\n"
     ]
    },
    {
     "name": "stdout",
     "output_type": "stream",
     "text": [
      "[LightGBM] [Warning] bagging_fraction is set=0.43383305815400536, subsample=1.0 will be ignored. Current value: bagging_fraction=0.43383305815400536\n",
      "[LightGBM] [Warning] lambda_l2 is set=2.1012037927748177, reg_lambda=0.0 will be ignored. Current value: lambda_l2=2.1012037927748177\n",
      "[LightGBM] [Warning] lambda_l1 is set=2.2086524800067682e-08, reg_alpha=0.0 will be ignored. Current value: lambda_l1=2.2086524800067682e-08\n",
      "[LightGBM] [Warning] bagging_freq is set=2, subsample_freq=0 will be ignored. Current value: bagging_freq=2\n",
      "[LightGBM] [Warning] feature_fraction is set=0.4048586300130035, colsample_bytree=1.0 will be ignored. Current value: feature_fraction=0.4048586300130035\n",
      "[LightGBM] [Warning] bagging_fraction is set=0.4016199949984512, subsample=1.0 will be ignored. Current value: bagging_fraction=0.4016199949984512\n",
      "[LightGBM] [Warning] lambda_l2 is set=2.4267973899229354, reg_lambda=0.0 will be ignored. Current value: lambda_l2=2.4267973899229354\n",
      "[LightGBM] [Warning] lambda_l1 is set=2.3840593657459348e-08, reg_alpha=0.0 will be ignored. Current value: lambda_l1=2.3840593657459348e-08\n",
      "[LightGBM] [Warning] bagging_freq is set=3, subsample_freq=0 will be ignored. Current value: bagging_freq=3\n",
      "[LightGBM] [Warning] feature_fraction is set=0.4471558308407281, colsample_bytree=1.0 will be ignored. Current value: feature_fraction=0.4471558308407281\n",
      "[LightGBM] [Warning] bagging_fraction is set=0.4016199949984512, subsample=1.0 will be ignored. Current value: bagging_fraction=0.4016199949984512\n",
      "[LightGBM] [Warning] lambda_l2 is set=2.4267973899229354, reg_lambda=0.0 will be ignored. Current value: lambda_l2=2.4267973899229354\n",
      "[LightGBM] [Warning] lambda_l1 is set=2.3840593657459348e-08, reg_alpha=0.0 will be ignored. Current value: lambda_l1=2.3840593657459348e-08\n",
      "[LightGBM] [Warning] bagging_freq is set=3, subsample_freq=0 will be ignored. Current value: bagging_freq=3\n",
      "[LightGBM] [Warning] feature_fraction is set=0.4471558308407281, colsample_bytree=1.0 will be ignored. Current value: feature_fraction=0.4471558308407281\n",
      "[LightGBM] [Warning] bagging_fraction is set=0.4016199949984512, subsample=1.0 will be ignored. Current value: bagging_fraction=0.4016199949984512\n",
      "[LightGBM] [Warning] lambda_l2 is set=2.4267973899229354, reg_lambda=0.0 will be ignored. Current value: lambda_l2=2.4267973899229354\n",
      "[LightGBM] [Warning] lambda_l1 is set=2.3840593657459348e-08, reg_alpha=0.0 will be ignored. Current value: lambda_l1=2.3840593657459348e-08\n",
      "[LightGBM] [Warning] bagging_freq is set=3, subsample_freq=0 will be ignored. Current value: bagging_freq=3\n",
      "[LightGBM] [Warning] feature_fraction is set=0.4471558308407281, colsample_bytree=1.0 will be ignored. Current value: feature_fraction=0.4471558308407281\n",
      "[LightGBM] [Warning] bagging_fraction is set=0.4016199949984512, subsample=1.0 will be ignored. Current value: bagging_fraction=0.4016199949984512\n",
      "[LightGBM] [Warning] lambda_l2 is set=2.4267973899229354, reg_lambda=0.0 will be ignored. Current value: lambda_l2=2.4267973899229354\n",
      "[LightGBM] [Warning] lambda_l1 is set=2.3840593657459348e-08, reg_alpha=0.0 will be ignored. Current value: lambda_l1=2.3840593657459348e-08\n",
      "[LightGBM] [Warning] bagging_freq is set=3, subsample_freq=0 will be ignored. Current value: bagging_freq=3\n",
      "[LightGBM] [Warning] feature_fraction is set=0.4471558308407281, colsample_bytree=1.0 will be ignored. Current value: feature_fraction=0.4471558308407281\n"
     ]
    },
    {
     "name": "stderr",
     "output_type": "stream",
     "text": [
      "\u001b[32m[I 2023-03-29 02:53:42,121]\u001b[0m Trial 68 finished with value: 0.27184038931893933 and parameters: {'lambda_l1': 2.3840593657459348e-08, 'lambda_l2': 2.4267973899229354, 'num_leaves': 107, 'max_depth': 2, 'learning_rate': 0.15474621836836314, 'feature_fraction': 0.4471558308407281, 'bagging_fraction': 0.4016199949984512, 'bagging_freq': 3, 'min_child_samples': 48}. Best is trial 66 with value: 0.2698060711970954.\u001b[0m\n"
     ]
    },
    {
     "name": "stdout",
     "output_type": "stream",
     "text": [
      "[LightGBM] [Warning] bagging_fraction is set=0.4016199949984512, subsample=1.0 will be ignored. Current value: bagging_fraction=0.4016199949984512\n",
      "[LightGBM] [Warning] lambda_l2 is set=2.4267973899229354, reg_lambda=0.0 will be ignored. Current value: lambda_l2=2.4267973899229354\n",
      "[LightGBM] [Warning] lambda_l1 is set=2.3840593657459348e-08, reg_alpha=0.0 will be ignored. Current value: lambda_l1=2.3840593657459348e-08\n",
      "[LightGBM] [Warning] bagging_freq is set=3, subsample_freq=0 will be ignored. Current value: bagging_freq=3\n",
      "[LightGBM] [Warning] feature_fraction is set=0.4471558308407281, colsample_bytree=1.0 will be ignored. Current value: feature_fraction=0.4471558308407281\n",
      "[LightGBM] [Warning] bagging_fraction is set=0.4016199949984512, subsample=1.0 will be ignored. Current value: bagging_fraction=0.4016199949984512\n",
      "[LightGBM] [Warning] lambda_l2 is set=2.4267973899229354, reg_lambda=0.0 will be ignored. Current value: lambda_l2=2.4267973899229354\n",
      "[LightGBM] [Warning] lambda_l1 is set=2.3840593657459348e-08, reg_alpha=0.0 will be ignored. Current value: lambda_l1=2.3840593657459348e-08\n",
      "[LightGBM] [Warning] bagging_freq is set=3, subsample_freq=0 will be ignored. Current value: bagging_freq=3\n",
      "[LightGBM] [Warning] feature_fraction is set=0.4471558308407281, colsample_bytree=1.0 will be ignored. Current value: feature_fraction=0.4471558308407281\n",
      "[LightGBM] [Warning] bagging_fraction is set=0.4304258244572455, subsample=1.0 will be ignored. Current value: bagging_fraction=0.4304258244572455\n",
      "[LightGBM] [Warning] lambda_l2 is set=1.7489800356569478, reg_lambda=0.0 will be ignored. Current value: lambda_l2=1.7489800356569478\n",
      "[LightGBM] [Warning] lambda_l1 is set=2.032010988895274e-08, reg_alpha=0.0 will be ignored. Current value: lambda_l1=2.032010988895274e-08\n",
      "[LightGBM] [Warning] bagging_freq is set=2, subsample_freq=0 will be ignored. Current value: bagging_freq=2\n",
      "[LightGBM] [Warning] feature_fraction is set=0.40771776220181327, colsample_bytree=1.0 will be ignored. Current value: feature_fraction=0.40771776220181327\n",
      "[LightGBM] [Warning] bagging_fraction is set=0.4304258244572455, subsample=1.0 will be ignored. Current value: bagging_fraction=0.4304258244572455\n",
      "[LightGBM] [Warning] lambda_l2 is set=1.7489800356569478, reg_lambda=0.0 will be ignored. Current value: lambda_l2=1.7489800356569478\n",
      "[LightGBM] [Warning] lambda_l1 is set=2.032010988895274e-08, reg_alpha=0.0 will be ignored. Current value: lambda_l1=2.032010988895274e-08\n",
      "[LightGBM] [Warning] bagging_freq is set=2, subsample_freq=0 will be ignored. Current value: bagging_freq=2\n",
      "[LightGBM] [Warning] feature_fraction is set=0.40771776220181327, colsample_bytree=1.0 will be ignored. Current value: feature_fraction=0.40771776220181327\n",
      "[LightGBM] [Warning] bagging_fraction is set=0.4304258244572455, subsample=1.0 will be ignored. Current value: bagging_fraction=0.4304258244572455\n",
      "[LightGBM] [Warning] lambda_l2 is set=1.7489800356569478, reg_lambda=0.0 will be ignored. Current value: lambda_l2=1.7489800356569478\n",
      "[LightGBM] [Warning] lambda_l1 is set=2.032010988895274e-08, reg_alpha=0.0 will be ignored. Current value: lambda_l1=2.032010988895274e-08\n",
      "[LightGBM] [Warning] bagging_freq is set=2, subsample_freq=0 will be ignored. Current value: bagging_freq=2\n",
      "[LightGBM] [Warning] feature_fraction is set=0.40771776220181327, colsample_bytree=1.0 will be ignored. Current value: feature_fraction=0.40771776220181327\n",
      "[LightGBM] [Warning] bagging_fraction is set=0.4304258244572455, subsample=1.0 will be ignored. Current value: bagging_fraction=0.4304258244572455\n",
      "[LightGBM] [Warning] lambda_l2 is set=1.7489800356569478, reg_lambda=0.0 will be ignored. Current value: lambda_l2=1.7489800356569478\n",
      "[LightGBM] [Warning] lambda_l1 is set=2.032010988895274e-08, reg_alpha=0.0 will be ignored. Current value: lambda_l1=2.032010988895274e-08\n",
      "[LightGBM] [Warning] bagging_freq is set=2, subsample_freq=0 will be ignored. Current value: bagging_freq=2\n",
      "[LightGBM] [Warning] feature_fraction is set=0.40771776220181327, colsample_bytree=1.0 will be ignored. Current value: feature_fraction=0.40771776220181327\n",
      "[LightGBM] [Warning] bagging_fraction is set=0.4304258244572455, subsample=1.0 will be ignored. Current value: bagging_fraction=0.4304258244572455\n",
      "[LightGBM] [Warning] lambda_l2 is set=1.7489800356569478, reg_lambda=0.0 will be ignored. Current value: lambda_l2=1.7489800356569478\n",
      "[LightGBM] [Warning] lambda_l1 is set=2.032010988895274e-08, reg_alpha=0.0 will be ignored. Current value: lambda_l1=2.032010988895274e-08\n",
      "[LightGBM] [Warning] bagging_freq is set=2, subsample_freq=0 will be ignored. Current value: bagging_freq=2\n",
      "[LightGBM] [Warning] feature_fraction is set=0.40771776220181327, colsample_bytree=1.0 will be ignored. Current value: feature_fraction=0.40771776220181327\n",
      "[LightGBM] [Warning] bagging_fraction is set=0.4304258244572455, subsample=1.0 will be ignored. Current value: bagging_fraction=0.4304258244572455\n",
      "[LightGBM] [Warning] lambda_l2 is set=1.7489800356569478, reg_lambda=0.0 will be ignored. Current value: lambda_l2=1.7489800356569478\n",
      "[LightGBM] [Warning] lambda_l1 is set=2.032010988895274e-08, reg_alpha=0.0 will be ignored. Current value: lambda_l1=2.032010988895274e-08\n",
      "[LightGBM] [Warning] bagging_freq is set=2, subsample_freq=0 will be ignored. Current value: bagging_freq=2\n",
      "[LightGBM] [Warning] feature_fraction is set=0.40771776220181327, colsample_bytree=1.0 will be ignored. Current value: feature_fraction=0.40771776220181327\n"
     ]
    },
    {
     "name": "stderr",
     "output_type": "stream",
     "text": [
      "\u001b[32m[I 2023-03-29 02:53:46,198]\u001b[0m Trial 69 finished with value: 0.27162675816238846 and parameters: {'lambda_l1': 2.032010988895274e-08, 'lambda_l2': 1.7489800356569478, 'num_leaves': 71, 'max_depth': 2, 'learning_rate': 0.20433081467893333, 'feature_fraction': 0.40771776220181327, 'bagging_fraction': 0.4304258244572455, 'bagging_freq': 2, 'min_child_samples': 59}. Best is trial 66 with value: 0.2698060711970954.\u001b[0m\n"
     ]
    },
    {
     "name": "stdout",
     "output_type": "stream",
     "text": [
      "[LightGBM] [Warning] bagging_fraction is set=0.44128803213580853, subsample=1.0 will be ignored. Current value: bagging_fraction=0.44128803213580853\n",
      "[LightGBM] [Warning] lambda_l2 is set=5.018138838405662, reg_lambda=0.0 will be ignored. Current value: lambda_l2=5.018138838405662\n",
      "[LightGBM] [Warning] lambda_l1 is set=5.736470824262227e-08, reg_alpha=0.0 will be ignored. Current value: lambda_l1=5.736470824262227e-08\n",
      "[LightGBM] [Warning] bagging_freq is set=2, subsample_freq=0 will be ignored. Current value: bagging_freq=2\n",
      "[LightGBM] [Warning] feature_fraction is set=0.47296134354015446, colsample_bytree=1.0 will be ignored. Current value: feature_fraction=0.47296134354015446\n",
      "[LightGBM] [Warning] bagging_fraction is set=0.44128803213580853, subsample=1.0 will be ignored. Current value: bagging_fraction=0.44128803213580853\n",
      "[LightGBM] [Warning] lambda_l2 is set=5.018138838405662, reg_lambda=0.0 will be ignored. Current value: lambda_l2=5.018138838405662\n",
      "[LightGBM] [Warning] lambda_l1 is set=5.736470824262227e-08, reg_alpha=0.0 will be ignored. Current value: lambda_l1=5.736470824262227e-08\n",
      "[LightGBM] [Warning] bagging_freq is set=2, subsample_freq=0 will be ignored. Current value: bagging_freq=2\n",
      "[LightGBM] [Warning] feature_fraction is set=0.47296134354015446, colsample_bytree=1.0 will be ignored. Current value: feature_fraction=0.47296134354015446\n",
      "[LightGBM] [Warning] bagging_fraction is set=0.44128803213580853, subsample=1.0 will be ignored. Current value: bagging_fraction=0.44128803213580853\n",
      "[LightGBM] [Warning] lambda_l2 is set=5.018138838405662, reg_lambda=0.0 will be ignored. Current value: lambda_l2=5.018138838405662\n",
      "[LightGBM] [Warning] lambda_l1 is set=5.736470824262227e-08, reg_alpha=0.0 will be ignored. Current value: lambda_l1=5.736470824262227e-08\n",
      "[LightGBM] [Warning] bagging_freq is set=2, subsample_freq=0 will be ignored. Current value: bagging_freq=2\n",
      "[LightGBM] [Warning] feature_fraction is set=0.47296134354015446, colsample_bytree=1.0 will be ignored. Current value: feature_fraction=0.47296134354015446\n",
      "[LightGBM] [Warning] bagging_fraction is set=0.44128803213580853, subsample=1.0 will be ignored. Current value: bagging_fraction=0.44128803213580853\n",
      "[LightGBM] [Warning] lambda_l2 is set=5.018138838405662, reg_lambda=0.0 will be ignored. Current value: lambda_l2=5.018138838405662\n",
      "[LightGBM] [Warning] lambda_l1 is set=5.736470824262227e-08, reg_alpha=0.0 will be ignored. Current value: lambda_l1=5.736470824262227e-08\n",
      "[LightGBM] [Warning] bagging_freq is set=2, subsample_freq=0 will be ignored. Current value: bagging_freq=2\n",
      "[LightGBM] [Warning] feature_fraction is set=0.47296134354015446, colsample_bytree=1.0 will be ignored. Current value: feature_fraction=0.47296134354015446\n",
      "[LightGBM] [Warning] bagging_fraction is set=0.44128803213580853, subsample=1.0 will be ignored. Current value: bagging_fraction=0.44128803213580853\n",
      "[LightGBM] [Warning] lambda_l2 is set=5.018138838405662, reg_lambda=0.0 will be ignored. Current value: lambda_l2=5.018138838405662\n",
      "[LightGBM] [Warning] lambda_l1 is set=5.736470824262227e-08, reg_alpha=0.0 will be ignored. Current value: lambda_l1=5.736470824262227e-08\n",
      "[LightGBM] [Warning] bagging_freq is set=2, subsample_freq=0 will be ignored. Current value: bagging_freq=2\n",
      "[LightGBM] [Warning] feature_fraction is set=0.47296134354015446, colsample_bytree=1.0 will be ignored. Current value: feature_fraction=0.47296134354015446\n"
     ]
    },
    {
     "name": "stderr",
     "output_type": "stream",
     "text": [
      "\u001b[32m[I 2023-03-29 02:53:47,389]\u001b[0m Trial 70 finished with value: 0.27877191533512347 and parameters: {'lambda_l1': 5.736470824262227e-08, 'lambda_l2': 5.018138838405662, 'num_leaves': 92, 'max_depth': 6, 'learning_rate': 0.1221531899765837, 'feature_fraction': 0.47296134354015446, 'bagging_fraction': 0.44128803213580853, 'bagging_freq': 2, 'min_child_samples': 39}. Best is trial 66 with value: 0.2698060711970954.\u001b[0m\n"
     ]
    },
    {
     "name": "stdout",
     "output_type": "stream",
     "text": [
      "[LightGBM] [Warning] bagging_fraction is set=0.44128803213580853, subsample=1.0 will be ignored. Current value: bagging_fraction=0.44128803213580853\n",
      "[LightGBM] [Warning] lambda_l2 is set=5.018138838405662, reg_lambda=0.0 will be ignored. Current value: lambda_l2=5.018138838405662\n",
      "[LightGBM] [Warning] lambda_l1 is set=5.736470824262227e-08, reg_alpha=0.0 will be ignored. Current value: lambda_l1=5.736470824262227e-08\n",
      "[LightGBM] [Warning] bagging_freq is set=2, subsample_freq=0 will be ignored. Current value: bagging_freq=2\n",
      "[LightGBM] [Warning] feature_fraction is set=0.47296134354015446, colsample_bytree=1.0 will be ignored. Current value: feature_fraction=0.47296134354015446\n",
      "[LightGBM] [Warning] bagging_fraction is set=0.4290459933470254, subsample=1.0 will be ignored. Current value: bagging_fraction=0.4290459933470254\n",
      "[LightGBM] [Warning] lambda_l2 is set=1.3059405828445527, reg_lambda=0.0 will be ignored. Current value: lambda_l2=1.3059405828445527\n",
      "[LightGBM] [Warning] lambda_l1 is set=3.2015131901925094e-08, reg_alpha=0.0 will be ignored. Current value: lambda_l1=3.2015131901925094e-08\n",
      "[LightGBM] [Warning] bagging_freq is set=2, subsample_freq=0 will be ignored. Current value: bagging_freq=2\n",
      "[LightGBM] [Warning] feature_fraction is set=0.40703214334483845, colsample_bytree=1.0 will be ignored. Current value: feature_fraction=0.40703214334483845\n",
      "[LightGBM] [Warning] bagging_fraction is set=0.4290459933470254, subsample=1.0 will be ignored. Current value: bagging_fraction=0.4290459933470254\n",
      "[LightGBM] [Warning] lambda_l2 is set=1.3059405828445527, reg_lambda=0.0 will be ignored. Current value: lambda_l2=1.3059405828445527\n",
      "[LightGBM] [Warning] lambda_l1 is set=3.2015131901925094e-08, reg_alpha=0.0 will be ignored. Current value: lambda_l1=3.2015131901925094e-08\n",
      "[LightGBM] [Warning] bagging_freq is set=2, subsample_freq=0 will be ignored. Current value: bagging_freq=2\n",
      "[LightGBM] [Warning] feature_fraction is set=0.40703214334483845, colsample_bytree=1.0 will be ignored. Current value: feature_fraction=0.40703214334483845\n",
      "[LightGBM] [Warning] bagging_fraction is set=0.4290459933470254, subsample=1.0 will be ignored. Current value: bagging_fraction=0.4290459933470254\n",
      "[LightGBM] [Warning] lambda_l2 is set=1.3059405828445527, reg_lambda=0.0 will be ignored. Current value: lambda_l2=1.3059405828445527\n",
      "[LightGBM] [Warning] lambda_l1 is set=3.2015131901925094e-08, reg_alpha=0.0 will be ignored. Current value: lambda_l1=3.2015131901925094e-08\n",
      "[LightGBM] [Warning] bagging_freq is set=2, subsample_freq=0 will be ignored. Current value: bagging_freq=2\n",
      "[LightGBM] [Warning] feature_fraction is set=0.40703214334483845, colsample_bytree=1.0 will be ignored. Current value: feature_fraction=0.40703214334483845\n",
      "[LightGBM] [Warning] bagging_fraction is set=0.4290459933470254, subsample=1.0 will be ignored. Current value: bagging_fraction=0.4290459933470254\n",
      "[LightGBM] [Warning] lambda_l2 is set=1.3059405828445527, reg_lambda=0.0 will be ignored. Current value: lambda_l2=1.3059405828445527\n",
      "[LightGBM] [Warning] lambda_l1 is set=3.2015131901925094e-08, reg_alpha=0.0 will be ignored. Current value: lambda_l1=3.2015131901925094e-08\n",
      "[LightGBM] [Warning] bagging_freq is set=2, subsample_freq=0 will be ignored. Current value: bagging_freq=2\n",
      "[LightGBM] [Warning] feature_fraction is set=0.40703214334483845, colsample_bytree=1.0 will be ignored. Current value: feature_fraction=0.40703214334483845\n",
      "[LightGBM] [Warning] bagging_fraction is set=0.4290459933470254, subsample=1.0 will be ignored. Current value: bagging_fraction=0.4290459933470254\n",
      "[LightGBM] [Warning] lambda_l2 is set=1.3059405828445527, reg_lambda=0.0 will be ignored. Current value: lambda_l2=1.3059405828445527\n",
      "[LightGBM] [Warning] lambda_l1 is set=3.2015131901925094e-08, reg_alpha=0.0 will be ignored. Current value: lambda_l1=3.2015131901925094e-08\n",
      "[LightGBM] [Warning] bagging_freq is set=2, subsample_freq=0 will be ignored. Current value: bagging_freq=2\n",
      "[LightGBM] [Warning] feature_fraction is set=0.40703214334483845, colsample_bytree=1.0 will be ignored. Current value: feature_fraction=0.40703214334483845\n"
     ]
    },
    {
     "name": "stderr",
     "output_type": "stream",
     "text": [
      "\u001b[32m[I 2023-03-29 02:53:48,159]\u001b[0m Trial 71 finished with value: 0.2715407028047542 and parameters: {'lambda_l1': 3.2015131901925094e-08, 'lambda_l2': 1.3059405828445527, 'num_leaves': 73, 'max_depth': 2, 'learning_rate': 0.22952612369178418, 'feature_fraction': 0.40703214334483845, 'bagging_fraction': 0.4290459933470254, 'bagging_freq': 2, 'min_child_samples': 58}. Best is trial 66 with value: 0.2698060711970954.\u001b[0m\n"
     ]
    },
    {
     "name": "stdout",
     "output_type": "stream",
     "text": [
      "[LightGBM] [Warning] bagging_fraction is set=0.4290459933470254, subsample=1.0 will be ignored. Current value: bagging_fraction=0.4290459933470254\n",
      "[LightGBM] [Warning] lambda_l2 is set=1.3059405828445527, reg_lambda=0.0 will be ignored. Current value: lambda_l2=1.3059405828445527\n",
      "[LightGBM] [Warning] lambda_l1 is set=3.2015131901925094e-08, reg_alpha=0.0 will be ignored. Current value: lambda_l1=3.2015131901925094e-08\n",
      "[LightGBM] [Warning] bagging_freq is set=2, subsample_freq=0 will be ignored. Current value: bagging_freq=2\n",
      "[LightGBM] [Warning] feature_fraction is set=0.40703214334483845, colsample_bytree=1.0 will be ignored. Current value: feature_fraction=0.40703214334483845\n",
      "[LightGBM] [Warning] bagging_fraction is set=0.4185214905524462, subsample=1.0 will be ignored. Current value: bagging_fraction=0.4185214905524462\n",
      "[LightGBM] [Warning] lambda_l2 is set=1.416404879873399, reg_lambda=0.0 will be ignored. Current value: lambda_l2=1.416404879873399\n",
      "[LightGBM] [Warning] lambda_l1 is set=2.2055505556623804e-08, reg_alpha=0.0 will be ignored. Current value: lambda_l1=2.2055505556623804e-08\n",
      "[LightGBM] [Warning] bagging_freq is set=2, subsample_freq=0 will be ignored. Current value: bagging_freq=2\n",
      "[LightGBM] [Warning] feature_fraction is set=0.44703806670969015, colsample_bytree=1.0 will be ignored. Current value: feature_fraction=0.44703806670969015\n",
      "[LightGBM] [Warning] bagging_fraction is set=0.4185214905524462, subsample=1.0 will be ignored. Current value: bagging_fraction=0.4185214905524462\n",
      "[LightGBM] [Warning] lambda_l2 is set=1.416404879873399, reg_lambda=0.0 will be ignored. Current value: lambda_l2=1.416404879873399\n",
      "[LightGBM] [Warning] lambda_l1 is set=2.2055505556623804e-08, reg_alpha=0.0 will be ignored. Current value: lambda_l1=2.2055505556623804e-08\n",
      "[LightGBM] [Warning] bagging_freq is set=2, subsample_freq=0 will be ignored. Current value: bagging_freq=2\n",
      "[LightGBM] [Warning] feature_fraction is set=0.44703806670969015, colsample_bytree=1.0 will be ignored. Current value: feature_fraction=0.44703806670969015\n",
      "[LightGBM] [Warning] bagging_fraction is set=0.4185214905524462, subsample=1.0 will be ignored. Current value: bagging_fraction=0.4185214905524462\n",
      "[LightGBM] [Warning] lambda_l2 is set=1.416404879873399, reg_lambda=0.0 will be ignored. Current value: lambda_l2=1.416404879873399\n",
      "[LightGBM] [Warning] lambda_l1 is set=2.2055505556623804e-08, reg_alpha=0.0 will be ignored. Current value: lambda_l1=2.2055505556623804e-08\n",
      "[LightGBM] [Warning] bagging_freq is set=2, subsample_freq=0 will be ignored. Current value: bagging_freq=2\n",
      "[LightGBM] [Warning] feature_fraction is set=0.44703806670969015, colsample_bytree=1.0 will be ignored. Current value: feature_fraction=0.44703806670969015\n",
      "[LightGBM] [Warning] bagging_fraction is set=0.4185214905524462, subsample=1.0 will be ignored. Current value: bagging_fraction=0.4185214905524462\n",
      "[LightGBM] [Warning] lambda_l2 is set=1.416404879873399, reg_lambda=0.0 will be ignored. Current value: lambda_l2=1.416404879873399\n",
      "[LightGBM] [Warning] lambda_l1 is set=2.2055505556623804e-08, reg_alpha=0.0 will be ignored. Current value: lambda_l1=2.2055505556623804e-08\n",
      "[LightGBM] [Warning] bagging_freq is set=2, subsample_freq=0 will be ignored. Current value: bagging_freq=2\n",
      "[LightGBM] [Warning] feature_fraction is set=0.44703806670969015, colsample_bytree=1.0 will be ignored. Current value: feature_fraction=0.44703806670969015\n",
      "[LightGBM] [Warning] bagging_fraction is set=0.4185214905524462, subsample=1.0 will be ignored. Current value: bagging_fraction=0.4185214905524462\n",
      "[LightGBM] [Warning] lambda_l2 is set=1.416404879873399, reg_lambda=0.0 will be ignored. Current value: lambda_l2=1.416404879873399\n",
      "[LightGBM] [Warning] lambda_l1 is set=2.2055505556623804e-08, reg_alpha=0.0 will be ignored. Current value: lambda_l1=2.2055505556623804e-08\n",
      "[LightGBM] [Warning] bagging_freq is set=2, subsample_freq=0 will be ignored. Current value: bagging_freq=2\n",
      "[LightGBM] [Warning] feature_fraction is set=0.44703806670969015, colsample_bytree=1.0 will be ignored. Current value: feature_fraction=0.44703806670969015\n"
     ]
    },
    {
     "name": "stderr",
     "output_type": "stream",
     "text": [
      "\u001b[32m[I 2023-03-29 02:53:48,787]\u001b[0m Trial 72 finished with value: 0.2701060208384422 and parameters: {'lambda_l1': 2.2055505556623804e-08, 'lambda_l2': 1.416404879873399, 'num_leaves': 109, 'max_depth': 1, 'learning_rate': 0.22681201262780765, 'feature_fraction': 0.44703806670969015, 'bagging_fraction': 0.4185214905524462, 'bagging_freq': 2, 'min_child_samples': 53}. Best is trial 66 with value: 0.2698060711970954.\u001b[0m\n"
     ]
    },
    {
     "name": "stdout",
     "output_type": "stream",
     "text": [
      "[LightGBM] [Warning] bagging_fraction is set=0.4185214905524462, subsample=1.0 will be ignored. Current value: bagging_fraction=0.4185214905524462\n",
      "[LightGBM] [Warning] lambda_l2 is set=1.416404879873399, reg_lambda=0.0 will be ignored. Current value: lambda_l2=1.416404879873399\n",
      "[LightGBM] [Warning] lambda_l1 is set=2.2055505556623804e-08, reg_alpha=0.0 will be ignored. Current value: lambda_l1=2.2055505556623804e-08\n",
      "[LightGBM] [Warning] bagging_freq is set=2, subsample_freq=0 will be ignored. Current value: bagging_freq=2\n",
      "[LightGBM] [Warning] feature_fraction is set=0.44703806670969015, colsample_bytree=1.0 will be ignored. Current value: feature_fraction=0.44703806670969015\n",
      "[LightGBM] [Warning] bagging_fraction is set=0.4184390209054499, subsample=1.0 will be ignored. Current value: bagging_fraction=0.4184390209054499\n",
      "[LightGBM] [Warning] lambda_l2 is set=0.35844887625932265, reg_lambda=0.0 will be ignored. Current value: lambda_l2=0.35844887625932265\n",
      "[LightGBM] [Warning] lambda_l1 is set=5.180701547408907e-08, reg_alpha=0.0 will be ignored. Current value: lambda_l1=5.180701547408907e-08\n",
      "[LightGBM] [Warning] bagging_freq is set=2, subsample_freq=0 will be ignored. Current value: bagging_freq=2\n",
      "[LightGBM] [Warning] feature_fraction is set=0.44511069802879905, colsample_bytree=1.0 will be ignored. Current value: feature_fraction=0.44511069802879905\n",
      "[LightGBM] [Warning] bagging_fraction is set=0.4184390209054499, subsample=1.0 will be ignored. Current value: bagging_fraction=0.4184390209054499\n",
      "[LightGBM] [Warning] lambda_l2 is set=0.35844887625932265, reg_lambda=0.0 will be ignored. Current value: lambda_l2=0.35844887625932265\n",
      "[LightGBM] [Warning] lambda_l1 is set=5.180701547408907e-08, reg_alpha=0.0 will be ignored. Current value: lambda_l1=5.180701547408907e-08\n",
      "[LightGBM] [Warning] bagging_freq is set=2, subsample_freq=0 will be ignored. Current value: bagging_freq=2\n",
      "[LightGBM] [Warning] feature_fraction is set=0.44511069802879905, colsample_bytree=1.0 will be ignored. Current value: feature_fraction=0.44511069802879905\n",
      "[LightGBM] [Warning] bagging_fraction is set=0.4184390209054499, subsample=1.0 will be ignored. Current value: bagging_fraction=0.4184390209054499\n",
      "[LightGBM] [Warning] lambda_l2 is set=0.35844887625932265, reg_lambda=0.0 will be ignored. Current value: lambda_l2=0.35844887625932265\n",
      "[LightGBM] [Warning] lambda_l1 is set=5.180701547408907e-08, reg_alpha=0.0 will be ignored. Current value: lambda_l1=5.180701547408907e-08\n",
      "[LightGBM] [Warning] bagging_freq is set=2, subsample_freq=0 will be ignored. Current value: bagging_freq=2\n",
      "[LightGBM] [Warning] feature_fraction is set=0.44511069802879905, colsample_bytree=1.0 will be ignored. Current value: feature_fraction=0.44511069802879905\n",
      "[LightGBM] [Warning] bagging_fraction is set=0.4184390209054499, subsample=1.0 will be ignored. Current value: bagging_fraction=0.4184390209054499\n",
      "[LightGBM] [Warning] lambda_l2 is set=0.35844887625932265, reg_lambda=0.0 will be ignored. Current value: lambda_l2=0.35844887625932265\n",
      "[LightGBM] [Warning] lambda_l1 is set=5.180701547408907e-08, reg_alpha=0.0 will be ignored. Current value: lambda_l1=5.180701547408907e-08\n",
      "[LightGBM] [Warning] bagging_freq is set=2, subsample_freq=0 will be ignored. Current value: bagging_freq=2\n",
      "[LightGBM] [Warning] feature_fraction is set=0.44511069802879905, colsample_bytree=1.0 will be ignored. Current value: feature_fraction=0.44511069802879905\n"
     ]
    },
    {
     "name": "stderr",
     "output_type": "stream",
     "text": [
      "\u001b[32m[I 2023-03-29 02:53:49,425]\u001b[0m Trial 73 finished with value: 0.27008201919839336 and parameters: {'lambda_l1': 5.180701547408907e-08, 'lambda_l2': 0.35844887625932265, 'num_leaves': 2, 'max_depth': 1, 'learning_rate': 0.2538943560397955, 'feature_fraction': 0.44511069802879905, 'bagging_fraction': 0.4184390209054499, 'bagging_freq': 2, 'min_child_samples': 54}. Best is trial 66 with value: 0.2698060711970954.\u001b[0m\n"
     ]
    },
    {
     "name": "stdout",
     "output_type": "stream",
     "text": [
      "[LightGBM] [Warning] bagging_fraction is set=0.4184390209054499, subsample=1.0 will be ignored. Current value: bagging_fraction=0.4184390209054499\n",
      "[LightGBM] [Warning] lambda_l2 is set=0.35844887625932265, reg_lambda=0.0 will be ignored. Current value: lambda_l2=0.35844887625932265\n",
      "[LightGBM] [Warning] lambda_l1 is set=5.180701547408907e-08, reg_alpha=0.0 will be ignored. Current value: lambda_l1=5.180701547408907e-08\n",
      "[LightGBM] [Warning] bagging_freq is set=2, subsample_freq=0 will be ignored. Current value: bagging_freq=2\n",
      "[LightGBM] [Warning] feature_fraction is set=0.44511069802879905, colsample_bytree=1.0 will be ignored. Current value: feature_fraction=0.44511069802879905\n",
      "[LightGBM] [Warning] bagging_fraction is set=0.4184390209054499, subsample=1.0 will be ignored. Current value: bagging_fraction=0.4184390209054499\n",
      "[LightGBM] [Warning] lambda_l2 is set=0.35844887625932265, reg_lambda=0.0 will be ignored. Current value: lambda_l2=0.35844887625932265\n",
      "[LightGBM] [Warning] lambda_l1 is set=5.180701547408907e-08, reg_alpha=0.0 will be ignored. Current value: lambda_l1=5.180701547408907e-08\n",
      "[LightGBM] [Warning] bagging_freq is set=2, subsample_freq=0 will be ignored. Current value: bagging_freq=2\n",
      "[LightGBM] [Warning] feature_fraction is set=0.44511069802879905, colsample_bytree=1.0 will be ignored. Current value: feature_fraction=0.44511069802879905\n",
      "[LightGBM] [Warning] bagging_fraction is set=0.41575339315707394, subsample=1.0 will be ignored. Current value: bagging_fraction=0.41575339315707394\n",
      "[LightGBM] [Warning] lambda_l2 is set=0.34308647253008645, reg_lambda=0.0 will be ignored. Current value: lambda_l2=0.34308647253008645\n",
      "[LightGBM] [Warning] lambda_l1 is set=1.2525498839309963e-07, reg_alpha=0.0 will be ignored. Current value: lambda_l1=1.2525498839309963e-07\n",
      "[LightGBM] [Warning] bagging_freq is set=3, subsample_freq=0 will be ignored. Current value: bagging_freq=3\n",
      "[LightGBM] [Warning] feature_fraction is set=0.4449600198757603, colsample_bytree=1.0 will be ignored. Current value: feature_fraction=0.4449600198757603\n",
      "[LightGBM] [Warning] bagging_fraction is set=0.41575339315707394, subsample=1.0 will be ignored. Current value: bagging_fraction=0.41575339315707394\n",
      "[LightGBM] [Warning] lambda_l2 is set=0.34308647253008645, reg_lambda=0.0 will be ignored. Current value: lambda_l2=0.34308647253008645\n",
      "[LightGBM] [Warning] lambda_l1 is set=1.2525498839309963e-07, reg_alpha=0.0 will be ignored. Current value: lambda_l1=1.2525498839309963e-07\n",
      "[LightGBM] [Warning] bagging_freq is set=3, subsample_freq=0 will be ignored. Current value: bagging_freq=3\n",
      "[LightGBM] [Warning] feature_fraction is set=0.4449600198757603, colsample_bytree=1.0 will be ignored. Current value: feature_fraction=0.4449600198757603\n",
      "[LightGBM] [Warning] bagging_fraction is set=0.41575339315707394, subsample=1.0 will be ignored. Current value: bagging_fraction=0.41575339315707394\n",
      "[LightGBM] [Warning] lambda_l2 is set=0.34308647253008645, reg_lambda=0.0 will be ignored. Current value: lambda_l2=0.34308647253008645\n",
      "[LightGBM] [Warning] lambda_l1 is set=1.2525498839309963e-07, reg_alpha=0.0 will be ignored. Current value: lambda_l1=1.2525498839309963e-07\n",
      "[LightGBM] [Warning] bagging_freq is set=3, subsample_freq=0 will be ignored. Current value: bagging_freq=3\n",
      "[LightGBM] [Warning] feature_fraction is set=0.4449600198757603, colsample_bytree=1.0 will be ignored. Current value: feature_fraction=0.4449600198757603\n",
      "[LightGBM] [Warning] bagging_fraction is set=0.41575339315707394, subsample=1.0 will be ignored. Current value: bagging_fraction=0.41575339315707394\n",
      "[LightGBM] [Warning] lambda_l2 is set=0.34308647253008645, reg_lambda=0.0 will be ignored. Current value: lambda_l2=0.34308647253008645\n",
      "[LightGBM] [Warning] lambda_l1 is set=1.2525498839309963e-07, reg_alpha=0.0 will be ignored. Current value: lambda_l1=1.2525498839309963e-07\n",
      "[LightGBM] [Warning] bagging_freq is set=3, subsample_freq=0 will be ignored. Current value: bagging_freq=3\n",
      "[LightGBM] [Warning] feature_fraction is set=0.4449600198757603, colsample_bytree=1.0 will be ignored. Current value: feature_fraction=0.4449600198757603\n"
     ]
    },
    {
     "name": "stderr",
     "output_type": "stream",
     "text": [
      "\u001b[32m[I 2023-03-29 02:53:50,253]\u001b[0m Trial 74 finished with value: 0.2765931559442783 and parameters: {'lambda_l1': 1.2525498839309963e-07, 'lambda_l2': 0.34308647253008645, 'num_leaves': 6, 'max_depth': 5, 'learning_rate': 0.26214430865118477, 'feature_fraction': 0.4449600198757603, 'bagging_fraction': 0.41575339315707394, 'bagging_freq': 3, 'min_child_samples': 54}. Best is trial 66 with value: 0.2698060711970954.\u001b[0m\n"
     ]
    },
    {
     "name": "stdout",
     "output_type": "stream",
     "text": [
      "[LightGBM] [Warning] bagging_fraction is set=0.41575339315707394, subsample=1.0 will be ignored. Current value: bagging_fraction=0.41575339315707394\n",
      "[LightGBM] [Warning] lambda_l2 is set=0.34308647253008645, reg_lambda=0.0 will be ignored. Current value: lambda_l2=0.34308647253008645\n",
      "[LightGBM] [Warning] lambda_l1 is set=1.2525498839309963e-07, reg_alpha=0.0 will be ignored. Current value: lambda_l1=1.2525498839309963e-07\n",
      "[LightGBM] [Warning] bagging_freq is set=3, subsample_freq=0 will be ignored. Current value: bagging_freq=3\n",
      "[LightGBM] [Warning] feature_fraction is set=0.4449600198757603, colsample_bytree=1.0 will be ignored. Current value: feature_fraction=0.4449600198757603\n",
      "[LightGBM] [Warning] bagging_fraction is set=0.41575339315707394, subsample=1.0 will be ignored. Current value: bagging_fraction=0.41575339315707394\n",
      "[LightGBM] [Warning] lambda_l2 is set=0.34308647253008645, reg_lambda=0.0 will be ignored. Current value: lambda_l2=0.34308647253008645\n",
      "[LightGBM] [Warning] lambda_l1 is set=1.2525498839309963e-07, reg_alpha=0.0 will be ignored. Current value: lambda_l1=1.2525498839309963e-07\n",
      "[LightGBM] [Warning] bagging_freq is set=3, subsample_freq=0 will be ignored. Current value: bagging_freq=3\n",
      "[LightGBM] [Warning] feature_fraction is set=0.4449600198757603, colsample_bytree=1.0 will be ignored. Current value: feature_fraction=0.4449600198757603\n",
      "[LightGBM] [Warning] bagging_fraction is set=0.4010529093206621, subsample=1.0 will be ignored. Current value: bagging_fraction=0.4010529093206621\n",
      "[LightGBM] [Warning] lambda_l2 is set=5.738104988535513, reg_lambda=0.0 will be ignored. Current value: lambda_l2=5.738104988535513\n",
      "[LightGBM] [Warning] lambda_l1 is set=6.950815402757455e-08, reg_alpha=0.0 will be ignored. Current value: lambda_l1=6.950815402757455e-08\n",
      "[LightGBM] [Warning] bagging_freq is set=2, subsample_freq=0 will be ignored. Current value: bagging_freq=2\n",
      "[LightGBM] [Warning] feature_fraction is set=0.46390598635890956, colsample_bytree=1.0 will be ignored. Current value: feature_fraction=0.46390598635890956\n",
      "[LightGBM] [Warning] bagging_fraction is set=0.4010529093206621, subsample=1.0 will be ignored. Current value: bagging_fraction=0.4010529093206621\n",
      "[LightGBM] [Warning] lambda_l2 is set=5.738104988535513, reg_lambda=0.0 will be ignored. Current value: lambda_l2=5.738104988535513\n",
      "[LightGBM] [Warning] lambda_l1 is set=6.950815402757455e-08, reg_alpha=0.0 will be ignored. Current value: lambda_l1=6.950815402757455e-08\n",
      "[LightGBM] [Warning] bagging_freq is set=2, subsample_freq=0 will be ignored. Current value: bagging_freq=2\n",
      "[LightGBM] [Warning] feature_fraction is set=0.46390598635890956, colsample_bytree=1.0 will be ignored. Current value: feature_fraction=0.46390598635890956\n",
      "[LightGBM] [Warning] bagging_fraction is set=0.4010529093206621, subsample=1.0 will be ignored. Current value: bagging_fraction=0.4010529093206621\n",
      "[LightGBM] [Warning] lambda_l2 is set=5.738104988535513, reg_lambda=0.0 will be ignored. Current value: lambda_l2=5.738104988535513\n",
      "[LightGBM] [Warning] lambda_l1 is set=6.950815402757455e-08, reg_alpha=0.0 will be ignored. Current value: lambda_l1=6.950815402757455e-08\n",
      "[LightGBM] [Warning] bagging_freq is set=2, subsample_freq=0 will be ignored. Current value: bagging_freq=2\n",
      "[LightGBM] [Warning] feature_fraction is set=0.46390598635890956, colsample_bytree=1.0 will be ignored. Current value: feature_fraction=0.46390598635890956\n",
      "[LightGBM] [Warning] bagging_fraction is set=0.4010529093206621, subsample=1.0 will be ignored. Current value: bagging_fraction=0.4010529093206621\n",
      "[LightGBM] [Warning] lambda_l2 is set=5.738104988535513, reg_lambda=0.0 will be ignored. Current value: lambda_l2=5.738104988535513\n",
      "[LightGBM] [Warning] lambda_l1 is set=6.950815402757455e-08, reg_alpha=0.0 will be ignored. Current value: lambda_l1=6.950815402757455e-08\n",
      "[LightGBM] [Warning] bagging_freq is set=2, subsample_freq=0 will be ignored. Current value: bagging_freq=2\n",
      "[LightGBM] [Warning] feature_fraction is set=0.46390598635890956, colsample_bytree=1.0 will be ignored. Current value: feature_fraction=0.46390598635890956\n",
      "[LightGBM] [Warning] bagging_fraction is set=0.4010529093206621, subsample=1.0 will be ignored. Current value: bagging_fraction=0.4010529093206621\n",
      "[LightGBM] [Warning] lambda_l2 is set=5.738104988535513, reg_lambda=0.0 will be ignored. Current value: lambda_l2=5.738104988535513\n",
      "[LightGBM] [Warning] lambda_l1 is set=6.950815402757455e-08, reg_alpha=0.0 will be ignored. Current value: lambda_l1=6.950815402757455e-08\n",
      "[LightGBM] [Warning] bagging_freq is set=2, subsample_freq=0 will be ignored. Current value: bagging_freq=2\n",
      "[LightGBM] [Warning] feature_fraction is set=0.46390598635890956, colsample_bytree=1.0 will be ignored. Current value: feature_fraction=0.46390598635890956\n"
     ]
    },
    {
     "name": "stderr",
     "output_type": "stream",
     "text": [
      "\u001b[32m[I 2023-03-29 02:53:50,921]\u001b[0m Trial 75 finished with value: 0.26955343905222023 and parameters: {'lambda_l1': 6.950815402757455e-08, 'lambda_l2': 5.738104988535513, 'num_leaves': 24, 'max_depth': 1, 'learning_rate': 0.16508602132890746, 'feature_fraction': 0.46390598635890956, 'bagging_fraction': 0.4010529093206621, 'bagging_freq': 2, 'min_child_samples': 61}. Best is trial 75 with value: 0.26955343905222023.\u001b[0m\n"
     ]
    },
    {
     "name": "stdout",
     "output_type": "stream",
     "text": [
      "[LightGBM] [Warning] bagging_fraction is set=0.4010529093206621, subsample=1.0 will be ignored. Current value: bagging_fraction=0.4010529093206621\n",
      "[LightGBM] [Warning] lambda_l2 is set=5.738104988535513, reg_lambda=0.0 will be ignored. Current value: lambda_l2=5.738104988535513\n",
      "[LightGBM] [Warning] lambda_l1 is set=6.950815402757455e-08, reg_alpha=0.0 will be ignored. Current value: lambda_l1=6.950815402757455e-08\n",
      "[LightGBM] [Warning] bagging_freq is set=2, subsample_freq=0 will be ignored. Current value: bagging_freq=2\n",
      "[LightGBM] [Warning] feature_fraction is set=0.46390598635890956, colsample_bytree=1.0 will be ignored. Current value: feature_fraction=0.46390598635890956\n",
      "[LightGBM] [Warning] bagging_fraction is set=0.40444272096027417, subsample=1.0 will be ignored. Current value: bagging_fraction=0.40444272096027417\n",
      "[LightGBM] [Warning] lambda_l2 is set=1.4683138292800155, reg_lambda=0.0 will be ignored. Current value: lambda_l2=1.4683138292800155\n",
      "[LightGBM] [Warning] lambda_l1 is set=5.826342335165952e-08, reg_alpha=0.0 will be ignored. Current value: lambda_l1=5.826342335165952e-08\n",
      "[LightGBM] [Warning] bagging_freq is set=2, subsample_freq=0 will be ignored. Current value: bagging_freq=2\n",
      "[LightGBM] [Warning] feature_fraction is set=0.46327637869162613, colsample_bytree=1.0 will be ignored. Current value: feature_fraction=0.46327637869162613\n",
      "[LightGBM] [Warning] bagging_fraction is set=0.40444272096027417, subsample=1.0 will be ignored. Current value: bagging_fraction=0.40444272096027417\n",
      "[LightGBM] [Warning] lambda_l2 is set=1.4683138292800155, reg_lambda=0.0 will be ignored. Current value: lambda_l2=1.4683138292800155\n",
      "[LightGBM] [Warning] lambda_l1 is set=5.826342335165952e-08, reg_alpha=0.0 will be ignored. Current value: lambda_l1=5.826342335165952e-08\n",
      "[LightGBM] [Warning] bagging_freq is set=2, subsample_freq=0 will be ignored. Current value: bagging_freq=2\n",
      "[LightGBM] [Warning] feature_fraction is set=0.46327637869162613, colsample_bytree=1.0 will be ignored. Current value: feature_fraction=0.46327637869162613\n",
      "[LightGBM] [Warning] bagging_fraction is set=0.40444272096027417, subsample=1.0 will be ignored. Current value: bagging_fraction=0.40444272096027417\n",
      "[LightGBM] [Warning] lambda_l2 is set=1.4683138292800155, reg_lambda=0.0 will be ignored. Current value: lambda_l2=1.4683138292800155\n",
      "[LightGBM] [Warning] lambda_l1 is set=5.826342335165952e-08, reg_alpha=0.0 will be ignored. Current value: lambda_l1=5.826342335165952e-08\n",
      "[LightGBM] [Warning] bagging_freq is set=2, subsample_freq=0 will be ignored. Current value: bagging_freq=2\n",
      "[LightGBM] [Warning] feature_fraction is set=0.46327637869162613, colsample_bytree=1.0 will be ignored. Current value: feature_fraction=0.46327637869162613\n",
      "[LightGBM] [Warning] bagging_fraction is set=0.40444272096027417, subsample=1.0 will be ignored. Current value: bagging_fraction=0.40444272096027417\n",
      "[LightGBM] [Warning] lambda_l2 is set=1.4683138292800155, reg_lambda=0.0 will be ignored. Current value: lambda_l2=1.4683138292800155\n",
      "[LightGBM] [Warning] lambda_l1 is set=5.826342335165952e-08, reg_alpha=0.0 will be ignored. Current value: lambda_l1=5.826342335165952e-08\n",
      "[LightGBM] [Warning] bagging_freq is set=2, subsample_freq=0 will be ignored. Current value: bagging_freq=2\n",
      "[LightGBM] [Warning] feature_fraction is set=0.46327637869162613, colsample_bytree=1.0 will be ignored. Current value: feature_fraction=0.46327637869162613\n"
     ]
    },
    {
     "name": "stderr",
     "output_type": "stream",
     "text": [
      "\u001b[32m[I 2023-03-29 02:53:51,493]\u001b[0m Trial 76 finished with value: 0.269675289879994 and parameters: {'lambda_l1': 5.826342335165952e-08, 'lambda_l2': 1.4683138292800155, 'num_leaves': 3, 'max_depth': 1, 'learning_rate': 0.16417200917431415, 'feature_fraction': 0.46327637869162613, 'bagging_fraction': 0.40444272096027417, 'bagging_freq': 2, 'min_child_samples': 51}. Best is trial 75 with value: 0.26955343905222023.\u001b[0m\n"
     ]
    },
    {
     "name": "stdout",
     "output_type": "stream",
     "text": [
      "[LightGBM] [Warning] bagging_fraction is set=0.40444272096027417, subsample=1.0 will be ignored. Current value: bagging_fraction=0.40444272096027417\n",
      "[LightGBM] [Warning] lambda_l2 is set=1.4683138292800155, reg_lambda=0.0 will be ignored. Current value: lambda_l2=1.4683138292800155\n",
      "[LightGBM] [Warning] lambda_l1 is set=5.826342335165952e-08, reg_alpha=0.0 will be ignored. Current value: lambda_l1=5.826342335165952e-08\n",
      "[LightGBM] [Warning] bagging_freq is set=2, subsample_freq=0 will be ignored. Current value: bagging_freq=2\n",
      "[LightGBM] [Warning] feature_fraction is set=0.46327637869162613, colsample_bytree=1.0 will be ignored. Current value: feature_fraction=0.46327637869162613\n",
      "[LightGBM] [Warning] bagging_fraction is set=0.40444272096027417, subsample=1.0 will be ignored. Current value: bagging_fraction=0.40444272096027417\n",
      "[LightGBM] [Warning] lambda_l2 is set=1.4683138292800155, reg_lambda=0.0 will be ignored. Current value: lambda_l2=1.4683138292800155\n",
      "[LightGBM] [Warning] lambda_l1 is set=5.826342335165952e-08, reg_alpha=0.0 will be ignored. Current value: lambda_l1=5.826342335165952e-08\n",
      "[LightGBM] [Warning] bagging_freq is set=2, subsample_freq=0 will be ignored. Current value: bagging_freq=2\n",
      "[LightGBM] [Warning] feature_fraction is set=0.46327637869162613, colsample_bytree=1.0 will be ignored. Current value: feature_fraction=0.46327637869162613\n",
      "[LightGBM] [Warning] bagging_fraction is set=0.4028707472933066, subsample=1.0 will be ignored. Current value: bagging_fraction=0.4028707472933066\n",
      "[LightGBM] [Warning] lambda_l2 is set=4.762090918519558, reg_lambda=0.0 will be ignored. Current value: lambda_l2=4.762090918519558\n",
      "[LightGBM] [Warning] lambda_l1 is set=6.673772572072975e-08, reg_alpha=0.0 will be ignored. Current value: lambda_l1=6.673772572072975e-08\n",
      "[LightGBM] [Warning] bagging_freq is set=6, subsample_freq=0 will be ignored. Current value: bagging_freq=6\n",
      "[LightGBM] [Warning] feature_fraction is set=0.4585842502290455, colsample_bytree=1.0 will be ignored. Current value: feature_fraction=0.4585842502290455\n",
      "[LightGBM] [Warning] bagging_fraction is set=0.4028707472933066, subsample=1.0 will be ignored. Current value: bagging_fraction=0.4028707472933066\n",
      "[LightGBM] [Warning] lambda_l2 is set=4.762090918519558, reg_lambda=0.0 will be ignored. Current value: lambda_l2=4.762090918519558\n",
      "[LightGBM] [Warning] lambda_l1 is set=6.673772572072975e-08, reg_alpha=0.0 will be ignored. Current value: lambda_l1=6.673772572072975e-08\n",
      "[LightGBM] [Warning] bagging_freq is set=6, subsample_freq=0 will be ignored. Current value: bagging_freq=6\n",
      "[LightGBM] [Warning] feature_fraction is set=0.4585842502290455, colsample_bytree=1.0 will be ignored. Current value: feature_fraction=0.4585842502290455\n",
      "[LightGBM] [Warning] bagging_fraction is set=0.4028707472933066, subsample=1.0 will be ignored. Current value: bagging_fraction=0.4028707472933066\n",
      "[LightGBM] [Warning] lambda_l2 is set=4.762090918519558, reg_lambda=0.0 will be ignored. Current value: lambda_l2=4.762090918519558\n",
      "[LightGBM] [Warning] lambda_l1 is set=6.673772572072975e-08, reg_alpha=0.0 will be ignored. Current value: lambda_l1=6.673772572072975e-08\n",
      "[LightGBM] [Warning] bagging_freq is set=6, subsample_freq=0 will be ignored. Current value: bagging_freq=6\n",
      "[LightGBM] [Warning] feature_fraction is set=0.4585842502290455, colsample_bytree=1.0 will be ignored. Current value: feature_fraction=0.4585842502290455\n"
     ]
    },
    {
     "name": "stderr",
     "output_type": "stream",
     "text": [
      "\u001b[32m[I 2023-03-29 02:53:52,014]\u001b[0m Trial 77 finished with value: 0.27178085785796313 and parameters: {'lambda_l1': 6.673772572072975e-08, 'lambda_l2': 4.762090918519558, 'num_leaves': 4, 'max_depth': 1, 'learning_rate': 0.2743829636093868, 'feature_fraction': 0.4585842502290455, 'bagging_fraction': 0.4028707472933066, 'bagging_freq': 6, 'min_child_samples': 52}. Best is trial 75 with value: 0.26955343905222023.\u001b[0m\n"
     ]
    },
    {
     "name": "stdout",
     "output_type": "stream",
     "text": [
      "[LightGBM] [Warning] bagging_fraction is set=0.4028707472933066, subsample=1.0 will be ignored. Current value: bagging_fraction=0.4028707472933066\n",
      "[LightGBM] [Warning] lambda_l2 is set=4.762090918519558, reg_lambda=0.0 will be ignored. Current value: lambda_l2=4.762090918519558\n",
      "[LightGBM] [Warning] lambda_l1 is set=6.673772572072975e-08, reg_alpha=0.0 will be ignored. Current value: lambda_l1=6.673772572072975e-08\n",
      "[LightGBM] [Warning] bagging_freq is set=6, subsample_freq=0 will be ignored. Current value: bagging_freq=6\n",
      "[LightGBM] [Warning] feature_fraction is set=0.4585842502290455, colsample_bytree=1.0 will be ignored. Current value: feature_fraction=0.4585842502290455\n",
      "[LightGBM] [Warning] bagging_fraction is set=0.4028707472933066, subsample=1.0 will be ignored. Current value: bagging_fraction=0.4028707472933066\n",
      "[LightGBM] [Warning] lambda_l2 is set=4.762090918519558, reg_lambda=0.0 will be ignored. Current value: lambda_l2=4.762090918519558\n",
      "[LightGBM] [Warning] lambda_l1 is set=6.673772572072975e-08, reg_alpha=0.0 will be ignored. Current value: lambda_l1=6.673772572072975e-08\n",
      "[LightGBM] [Warning] bagging_freq is set=6, subsample_freq=0 will be ignored. Current value: bagging_freq=6\n",
      "[LightGBM] [Warning] feature_fraction is set=0.4585842502290455, colsample_bytree=1.0 will be ignored. Current value: feature_fraction=0.4585842502290455\n",
      "[LightGBM] [Warning] bagging_fraction is set=0.4028707472933066, subsample=1.0 will be ignored. Current value: bagging_fraction=0.4028707472933066\n",
      "[LightGBM] [Warning] lambda_l2 is set=4.762090918519558, reg_lambda=0.0 will be ignored. Current value: lambda_l2=4.762090918519558\n",
      "[LightGBM] [Warning] lambda_l1 is set=6.673772572072975e-08, reg_alpha=0.0 will be ignored. Current value: lambda_l1=6.673772572072975e-08\n",
      "[LightGBM] [Warning] bagging_freq is set=6, subsample_freq=0 will be ignored. Current value: bagging_freq=6\n",
      "[LightGBM] [Warning] feature_fraction is set=0.4585842502290455, colsample_bytree=1.0 will be ignored. Current value: feature_fraction=0.4585842502290455\n",
      "[LightGBM] [Warning] bagging_fraction is set=0.4198893777862666, subsample=1.0 will be ignored. Current value: bagging_fraction=0.4198893777862666\n",
      "[LightGBM] [Warning] lambda_l2 is set=0.24904516161439524, reg_lambda=0.0 will be ignored. Current value: lambda_l2=0.24904516161439524\n",
      "[LightGBM] [Warning] lambda_l1 is set=4.673222984014145e-08, reg_alpha=0.0 will be ignored. Current value: lambda_l1=4.673222984014145e-08\n",
      "[LightGBM] [Warning] bagging_freq is set=3, subsample_freq=0 will be ignored. Current value: bagging_freq=3\n",
      "[LightGBM] [Warning] feature_fraction is set=0.48029737029730357, colsample_bytree=1.0 will be ignored. Current value: feature_fraction=0.48029737029730357\n",
      "[LightGBM] [Warning] bagging_fraction is set=0.4198893777862666, subsample=1.0 will be ignored. Current value: bagging_fraction=0.4198893777862666\n",
      "[LightGBM] [Warning] lambda_l2 is set=0.24904516161439524, reg_lambda=0.0 will be ignored. Current value: lambda_l2=0.24904516161439524\n",
      "[LightGBM] [Warning] lambda_l1 is set=4.673222984014145e-08, reg_alpha=0.0 will be ignored. Current value: lambda_l1=4.673222984014145e-08\n",
      "[LightGBM] [Warning] bagging_freq is set=3, subsample_freq=0 will be ignored. Current value: bagging_freq=3\n",
      "[LightGBM] [Warning] feature_fraction is set=0.48029737029730357, colsample_bytree=1.0 will be ignored. Current value: feature_fraction=0.48029737029730357\n",
      "[LightGBM] [Warning] bagging_fraction is set=0.4198893777862666, subsample=1.0 will be ignored. Current value: bagging_fraction=0.4198893777862666\n",
      "[LightGBM] [Warning] lambda_l2 is set=0.24904516161439524, reg_lambda=0.0 will be ignored. Current value: lambda_l2=0.24904516161439524\n",
      "[LightGBM] [Warning] lambda_l1 is set=4.673222984014145e-08, reg_alpha=0.0 will be ignored. Current value: lambda_l1=4.673222984014145e-08\n",
      "[LightGBM] [Warning] bagging_freq is set=3, subsample_freq=0 will be ignored. Current value: bagging_freq=3\n",
      "[LightGBM] [Warning] feature_fraction is set=0.48029737029730357, colsample_bytree=1.0 will be ignored. Current value: feature_fraction=0.48029737029730357\n",
      "[LightGBM] [Warning] bagging_fraction is set=0.4198893777862666, subsample=1.0 will be ignored. Current value: bagging_fraction=0.4198893777862666\n",
      "[LightGBM] [Warning] lambda_l2 is set=0.24904516161439524, reg_lambda=0.0 will be ignored. Current value: lambda_l2=0.24904516161439524\n",
      "[LightGBM] [Warning] lambda_l1 is set=4.673222984014145e-08, reg_alpha=0.0 will be ignored. Current value: lambda_l1=4.673222984014145e-08\n",
      "[LightGBM] [Warning] bagging_freq is set=3, subsample_freq=0 will be ignored. Current value: bagging_freq=3\n",
      "[LightGBM] [Warning] feature_fraction is set=0.48029737029730357, colsample_bytree=1.0 will be ignored. Current value: feature_fraction=0.48029737029730357\n",
      "[LightGBM] [Warning] bagging_fraction is set=0.4198893777862666, subsample=1.0 will be ignored. Current value: bagging_fraction=0.4198893777862666\n",
      "[LightGBM] [Warning] lambda_l2 is set=0.24904516161439524, reg_lambda=0.0 will be ignored. Current value: lambda_l2=0.24904516161439524\n",
      "[LightGBM] [Warning] lambda_l1 is set=4.673222984014145e-08, reg_alpha=0.0 will be ignored. Current value: lambda_l1=4.673222984014145e-08\n",
      "[LightGBM] [Warning] bagging_freq is set=3, subsample_freq=0 will be ignored. Current value: bagging_freq=3\n",
      "[LightGBM] [Warning] feature_fraction is set=0.48029737029730357, colsample_bytree=1.0 will be ignored. Current value: feature_fraction=0.48029737029730357\n",
      "[LightGBM] [Warning] bagging_fraction is set=0.4198893777862666, subsample=1.0 will be ignored. Current value: bagging_fraction=0.4198893777862666\n",
      "[LightGBM] [Warning] lambda_l2 is set=0.24904516161439524, reg_lambda=0.0 will be ignored. Current value: lambda_l2=0.24904516161439524\n",
      "[LightGBM] [Warning] lambda_l1 is set=4.673222984014145e-08, reg_alpha=0.0 will be ignored. Current value: lambda_l1=4.673222984014145e-08\n",
      "[LightGBM] [Warning] bagging_freq is set=3, subsample_freq=0 will be ignored. Current value: bagging_freq=3\n",
      "[LightGBM] [Warning] feature_fraction is set=0.48029737029730357, colsample_bytree=1.0 will be ignored. Current value: feature_fraction=0.48029737029730357\n"
     ]
    },
    {
     "name": "stderr",
     "output_type": "stream",
     "text": [
      "\u001b[32m[I 2023-03-29 02:53:52,609]\u001b[0m Trial 78 finished with value: 0.2694059767838501 and parameters: {'lambda_l1': 4.673222984014145e-08, 'lambda_l2': 0.24904516161439524, 'num_leaves': 36, 'max_depth': 1, 'learning_rate': 0.16914040633216382, 'feature_fraction': 0.48029737029730357, 'bagging_fraction': 0.4198893777862666, 'bagging_freq': 3, 'min_child_samples': 62}. Best is trial 78 with value: 0.2694059767838501.\u001b[0m\n"
     ]
    },
    {
     "name": "stdout",
     "output_type": "stream",
     "text": [
      "[LightGBM] [Warning] bagging_fraction is set=0.41692857360941143, subsample=1.0 will be ignored. Current value: bagging_fraction=0.41692857360941143\n",
      "[LightGBM] [Warning] lambda_l2 is set=0.2850866041387991, reg_lambda=0.0 will be ignored. Current value: lambda_l2=0.2850866041387991\n",
      "[LightGBM] [Warning] lambda_l1 is set=1.4055960793390993e-07, reg_alpha=0.0 will be ignored. Current value: lambda_l1=1.4055960793390993e-07\n",
      "[LightGBM] [Warning] bagging_freq is set=3, subsample_freq=0 will be ignored. Current value: bagging_freq=3\n",
      "[LightGBM] [Warning] feature_fraction is set=0.47546886326025795, colsample_bytree=1.0 will be ignored. Current value: feature_fraction=0.47546886326025795\n",
      "[LightGBM] [Warning] bagging_fraction is set=0.41692857360941143, subsample=1.0 will be ignored. Current value: bagging_fraction=0.41692857360941143\n",
      "[LightGBM] [Warning] lambda_l2 is set=0.2850866041387991, reg_lambda=0.0 will be ignored. Current value: lambda_l2=0.2850866041387991\n",
      "[LightGBM] [Warning] lambda_l1 is set=1.4055960793390993e-07, reg_alpha=0.0 will be ignored. Current value: lambda_l1=1.4055960793390993e-07\n",
      "[LightGBM] [Warning] bagging_freq is set=3, subsample_freq=0 will be ignored. Current value: bagging_freq=3\n",
      "[LightGBM] [Warning] feature_fraction is set=0.47546886326025795, colsample_bytree=1.0 will be ignored. Current value: feature_fraction=0.47546886326025795\n",
      "[LightGBM] [Warning] bagging_fraction is set=0.41692857360941143, subsample=1.0 will be ignored. Current value: bagging_fraction=0.41692857360941143\n",
      "[LightGBM] [Warning] lambda_l2 is set=0.2850866041387991, reg_lambda=0.0 will be ignored. Current value: lambda_l2=0.2850866041387991\n",
      "[LightGBM] [Warning] lambda_l1 is set=1.4055960793390993e-07, reg_alpha=0.0 will be ignored. Current value: lambda_l1=1.4055960793390993e-07\n",
      "[LightGBM] [Warning] bagging_freq is set=3, subsample_freq=0 will be ignored. Current value: bagging_freq=3\n",
      "[LightGBM] [Warning] feature_fraction is set=0.47546886326025795, colsample_bytree=1.0 will be ignored. Current value: feature_fraction=0.47546886326025795\n",
      "[LightGBM] [Warning] bagging_fraction is set=0.41692857360941143, subsample=1.0 will be ignored. Current value: bagging_fraction=0.41692857360941143\n",
      "[LightGBM] [Warning] lambda_l2 is set=0.2850866041387991, reg_lambda=0.0 will be ignored. Current value: lambda_l2=0.2850866041387991\n",
      "[LightGBM] [Warning] lambda_l1 is set=1.4055960793390993e-07, reg_alpha=0.0 will be ignored. Current value: lambda_l1=1.4055960793390993e-07\n",
      "[LightGBM] [Warning] bagging_freq is set=3, subsample_freq=0 will be ignored. Current value: bagging_freq=3\n",
      "[LightGBM] [Warning] feature_fraction is set=0.47546886326025795, colsample_bytree=1.0 will be ignored. Current value: feature_fraction=0.47546886326025795\n",
      "[LightGBM] [Warning] bagging_fraction is set=0.41692857360941143, subsample=1.0 will be ignored. Current value: bagging_fraction=0.41692857360941143\n",
      "[LightGBM] [Warning] lambda_l2 is set=0.2850866041387991, reg_lambda=0.0 will be ignored. Current value: lambda_l2=0.2850866041387991\n",
      "[LightGBM] [Warning] lambda_l1 is set=1.4055960793390993e-07, reg_alpha=0.0 will be ignored. Current value: lambda_l1=1.4055960793390993e-07\n",
      "[LightGBM] [Warning] bagging_freq is set=3, subsample_freq=0 will be ignored. Current value: bagging_freq=3\n",
      "[LightGBM] [Warning] feature_fraction is set=0.47546886326025795, colsample_bytree=1.0 will be ignored. Current value: feature_fraction=0.47546886326025795\n",
      "[LightGBM] [Warning] bagging_fraction is set=0.41692857360941143, subsample=1.0 will be ignored. Current value: bagging_fraction=0.41692857360941143\n",
      "[LightGBM] [Warning] lambda_l2 is set=0.2850866041387991, reg_lambda=0.0 will be ignored. Current value: lambda_l2=0.2850866041387991\n",
      "[LightGBM] [Warning] lambda_l1 is set=1.4055960793390993e-07, reg_alpha=0.0 will be ignored. Current value: lambda_l1=1.4055960793390993e-07\n",
      "[LightGBM] [Warning] bagging_freq is set=3, subsample_freq=0 will be ignored. Current value: bagging_freq=3\n",
      "[LightGBM] [Warning] feature_fraction is set=0.47546886326025795, colsample_bytree=1.0 will be ignored. Current value: feature_fraction=0.47546886326025795\n"
     ]
    },
    {
     "name": "stderr",
     "output_type": "stream",
     "text": [
      "\u001b[32m[I 2023-03-29 02:53:53,211]\u001b[0m Trial 79 finished with value: 0.26929791986508994 and parameters: {'lambda_l1': 1.4055960793390993e-07, 'lambda_l2': 0.2850866041387991, 'num_leaves': 28, 'max_depth': 1, 'learning_rate': 0.18842706545996876, 'feature_fraction': 0.47546886326025795, 'bagging_fraction': 0.41692857360941143, 'bagging_freq': 3, 'min_child_samples': 61}. Best is trial 79 with value: 0.26929791986508994.\u001b[0m\n"
     ]
    },
    {
     "name": "stdout",
     "output_type": "stream",
     "text": [
      "[LightGBM] [Warning] bagging_fraction is set=0.41447863843469174, subsample=1.0 will be ignored. Current value: bagging_fraction=0.41447863843469174\n",
      "[LightGBM] [Warning] lambda_l2 is set=0.22075886138725243, reg_lambda=0.0 will be ignored. Current value: lambda_l2=0.22075886138725243\n",
      "[LightGBM] [Warning] lambda_l1 is set=1.3500942520962487e-07, reg_alpha=0.0 will be ignored. Current value: lambda_l1=1.3500942520962487e-07\n",
      "[LightGBM] [Warning] bagging_freq is set=3, subsample_freq=0 will be ignored. Current value: bagging_freq=3\n",
      "[LightGBM] [Warning] feature_fraction is set=0.48404747905830436, colsample_bytree=1.0 will be ignored. Current value: feature_fraction=0.48404747905830436\n",
      "[LightGBM] [Warning] bagging_fraction is set=0.41447863843469174, subsample=1.0 will be ignored. Current value: bagging_fraction=0.41447863843469174\n",
      "[LightGBM] [Warning] lambda_l2 is set=0.22075886138725243, reg_lambda=0.0 will be ignored. Current value: lambda_l2=0.22075886138725243\n",
      "[LightGBM] [Warning] lambda_l1 is set=1.3500942520962487e-07, reg_alpha=0.0 will be ignored. Current value: lambda_l1=1.3500942520962487e-07\n",
      "[LightGBM] [Warning] bagging_freq is set=3, subsample_freq=0 will be ignored. Current value: bagging_freq=3\n",
      "[LightGBM] [Warning] feature_fraction is set=0.48404747905830436, colsample_bytree=1.0 will be ignored. Current value: feature_fraction=0.48404747905830436\n",
      "[LightGBM] [Warning] bagging_fraction is set=0.41447863843469174, subsample=1.0 will be ignored. Current value: bagging_fraction=0.41447863843469174\n",
      "[LightGBM] [Warning] lambda_l2 is set=0.22075886138725243, reg_lambda=0.0 will be ignored. Current value: lambda_l2=0.22075886138725243\n",
      "[LightGBM] [Warning] lambda_l1 is set=1.3500942520962487e-07, reg_alpha=0.0 will be ignored. Current value: lambda_l1=1.3500942520962487e-07\n",
      "[LightGBM] [Warning] bagging_freq is set=3, subsample_freq=0 will be ignored. Current value: bagging_freq=3\n",
      "[LightGBM] [Warning] feature_fraction is set=0.48404747905830436, colsample_bytree=1.0 will be ignored. Current value: feature_fraction=0.48404747905830436\n",
      "[LightGBM] [Warning] bagging_fraction is set=0.41447863843469174, subsample=1.0 will be ignored. Current value: bagging_fraction=0.41447863843469174\n",
      "[LightGBM] [Warning] lambda_l2 is set=0.22075886138725243, reg_lambda=0.0 will be ignored. Current value: lambda_l2=0.22075886138725243\n",
      "[LightGBM] [Warning] lambda_l1 is set=1.3500942520962487e-07, reg_alpha=0.0 will be ignored. Current value: lambda_l1=1.3500942520962487e-07\n",
      "[LightGBM] [Warning] bagging_freq is set=3, subsample_freq=0 will be ignored. Current value: bagging_freq=3\n",
      "[LightGBM] [Warning] feature_fraction is set=0.48404747905830436, colsample_bytree=1.0 will be ignored. Current value: feature_fraction=0.48404747905830436\n",
      "[LightGBM] [Warning] bagging_fraction is set=0.41447863843469174, subsample=1.0 will be ignored. Current value: bagging_fraction=0.41447863843469174\n",
      "[LightGBM] [Warning] lambda_l2 is set=0.22075886138725243, reg_lambda=0.0 will be ignored. Current value: lambda_l2=0.22075886138725243\n",
      "[LightGBM] [Warning] lambda_l1 is set=1.3500942520962487e-07, reg_alpha=0.0 will be ignored. Current value: lambda_l1=1.3500942520962487e-07\n",
      "[LightGBM] [Warning] bagging_freq is set=3, subsample_freq=0 will be ignored. Current value: bagging_freq=3\n",
      "[LightGBM] [Warning] feature_fraction is set=0.48404747905830436, colsample_bytree=1.0 will be ignored. Current value: feature_fraction=0.48404747905830436\n",
      "[LightGBM] [Warning] bagging_fraction is set=0.41447863843469174, subsample=1.0 will be ignored. Current value: bagging_fraction=0.41447863843469174\n",
      "[LightGBM] [Warning] lambda_l2 is set=0.22075886138725243, reg_lambda=0.0 will be ignored. Current value: lambda_l2=0.22075886138725243\n",
      "[LightGBM] [Warning] lambda_l1 is set=1.3500942520962487e-07, reg_alpha=0.0 will be ignored. Current value: lambda_l1=1.3500942520962487e-07\n",
      "[LightGBM] [Warning] bagging_freq is set=3, subsample_freq=0 will be ignored. Current value: bagging_freq=3\n",
      "[LightGBM] [Warning] feature_fraction is set=0.48404747905830436, colsample_bytree=1.0 will be ignored. Current value: feature_fraction=0.48404747905830436\n"
     ]
    },
    {
     "name": "stderr",
     "output_type": "stream",
     "text": [
      "\u001b[32m[I 2023-03-29 02:53:53,813]\u001b[0m Trial 80 finished with value: 0.27007673007422806 and parameters: {'lambda_l1': 1.3500942520962487e-07, 'lambda_l2': 0.22075886138725243, 'num_leaves': 35, 'max_depth': 1, 'learning_rate': 0.19830101476166745, 'feature_fraction': 0.48404747905830436, 'bagging_fraction': 0.41447863843469174, 'bagging_freq': 3, 'min_child_samples': 45}. Best is trial 79 with value: 0.26929791986508994.\u001b[0m\n"
     ]
    },
    {
     "name": "stdout",
     "output_type": "stream",
     "text": [
      "[LightGBM] [Warning] bagging_fraction is set=0.4162241592258094, subsample=1.0 will be ignored. Current value: bagging_fraction=0.4162241592258094\n",
      "[LightGBM] [Warning] lambda_l2 is set=0.27460225832637364, reg_lambda=0.0 will be ignored. Current value: lambda_l2=0.27460225832637364\n",
      "[LightGBM] [Warning] lambda_l1 is set=1.5434834038201865e-07, reg_alpha=0.0 will be ignored. Current value: lambda_l1=1.5434834038201865e-07\n",
      "[LightGBM] [Warning] bagging_freq is set=3, subsample_freq=0 will be ignored. Current value: bagging_freq=3\n",
      "[LightGBM] [Warning] feature_fraction is set=0.4818207542389388, colsample_bytree=1.0 will be ignored. Current value: feature_fraction=0.4818207542389388\n",
      "[LightGBM] [Warning] bagging_fraction is set=0.4162241592258094, subsample=1.0 will be ignored. Current value: bagging_fraction=0.4162241592258094\n",
      "[LightGBM] [Warning] lambda_l2 is set=0.27460225832637364, reg_lambda=0.0 will be ignored. Current value: lambda_l2=0.27460225832637364\n",
      "[LightGBM] [Warning] lambda_l1 is set=1.5434834038201865e-07, reg_alpha=0.0 will be ignored. Current value: lambda_l1=1.5434834038201865e-07\n",
      "[LightGBM] [Warning] bagging_freq is set=3, subsample_freq=0 will be ignored. Current value: bagging_freq=3\n",
      "[LightGBM] [Warning] feature_fraction is set=0.4818207542389388, colsample_bytree=1.0 will be ignored. Current value: feature_fraction=0.4818207542389388\n",
      "[LightGBM] [Warning] bagging_fraction is set=0.4162241592258094, subsample=1.0 will be ignored. Current value: bagging_fraction=0.4162241592258094\n",
      "[LightGBM] [Warning] lambda_l2 is set=0.27460225832637364, reg_lambda=0.0 will be ignored. Current value: lambda_l2=0.27460225832637364\n",
      "[LightGBM] [Warning] lambda_l1 is set=1.5434834038201865e-07, reg_alpha=0.0 will be ignored. Current value: lambda_l1=1.5434834038201865e-07\n",
      "[LightGBM] [Warning] bagging_freq is set=3, subsample_freq=0 will be ignored. Current value: bagging_freq=3\n",
      "[LightGBM] [Warning] feature_fraction is set=0.4818207542389388, colsample_bytree=1.0 will be ignored. Current value: feature_fraction=0.4818207542389388\n",
      "[LightGBM] [Warning] bagging_fraction is set=0.4162241592258094, subsample=1.0 will be ignored. Current value: bagging_fraction=0.4162241592258094\n",
      "[LightGBM] [Warning] lambda_l2 is set=0.27460225832637364, reg_lambda=0.0 will be ignored. Current value: lambda_l2=0.27460225832637364\n",
      "[LightGBM] [Warning] lambda_l1 is set=1.5434834038201865e-07, reg_alpha=0.0 will be ignored. Current value: lambda_l1=1.5434834038201865e-07\n",
      "[LightGBM] [Warning] bagging_freq is set=3, subsample_freq=0 will be ignored. Current value: bagging_freq=3\n",
      "[LightGBM] [Warning] feature_fraction is set=0.4818207542389388, colsample_bytree=1.0 will be ignored. Current value: feature_fraction=0.4818207542389388\n",
      "[LightGBM] [Warning] bagging_fraction is set=0.4162241592258094, subsample=1.0 will be ignored. Current value: bagging_fraction=0.4162241592258094\n",
      "[LightGBM] [Warning] lambda_l2 is set=0.27460225832637364, reg_lambda=0.0 will be ignored. Current value: lambda_l2=0.27460225832637364\n",
      "[LightGBM] [Warning] lambda_l1 is set=1.5434834038201865e-07, reg_alpha=0.0 will be ignored. Current value: lambda_l1=1.5434834038201865e-07\n",
      "[LightGBM] [Warning] bagging_freq is set=3, subsample_freq=0 will be ignored. Current value: bagging_freq=3\n",
      "[LightGBM] [Warning] feature_fraction is set=0.4818207542389388, colsample_bytree=1.0 will be ignored. Current value: feature_fraction=0.4818207542389388\n",
      "[LightGBM] [Warning] bagging_fraction is set=0.4162241592258094, subsample=1.0 will be ignored. Current value: bagging_fraction=0.4162241592258094\n",
      "[LightGBM] [Warning] lambda_l2 is set=0.27460225832637364, reg_lambda=0.0 will be ignored. Current value: lambda_l2=0.27460225832637364\n",
      "[LightGBM] [Warning] lambda_l1 is set=1.5434834038201865e-07, reg_alpha=0.0 will be ignored. Current value: lambda_l1=1.5434834038201865e-07\n",
      "[LightGBM] [Warning] bagging_freq is set=3, subsample_freq=0 will be ignored. Current value: bagging_freq=3\n",
      "[LightGBM] [Warning] feature_fraction is set=0.4818207542389388, colsample_bytree=1.0 will be ignored. Current value: feature_fraction=0.4818207542389388\n"
     ]
    },
    {
     "name": "stderr",
     "output_type": "stream",
     "text": [
      "\u001b[32m[I 2023-03-29 02:53:54,380]\u001b[0m Trial 81 finished with value: 0.2702975330473637 and parameters: {'lambda_l1': 1.5434834038201865e-07, 'lambda_l2': 0.27460225832637364, 'num_leaves': 30, 'max_depth': 1, 'learning_rate': 0.20097669255565298, 'feature_fraction': 0.4818207542389388, 'bagging_fraction': 0.4162241592258094, 'bagging_freq': 3, 'min_child_samples': 44}. Best is trial 79 with value: 0.26929791986508994.\u001b[0m\n"
     ]
    },
    {
     "name": "stdout",
     "output_type": "stream",
     "text": [
      "[LightGBM] [Warning] bagging_fraction is set=0.4032958820448563, subsample=1.0 will be ignored. Current value: bagging_fraction=0.4032958820448563\n",
      "[LightGBM] [Warning] lambda_l2 is set=0.17354318278305206, reg_lambda=0.0 will be ignored. Current value: lambda_l2=0.17354318278305206\n",
      "[LightGBM] [Warning] lambda_l1 is set=4.950588699531763e-08, reg_alpha=0.0 will be ignored. Current value: lambda_l1=4.950588699531763e-08\n",
      "[LightGBM] [Warning] bagging_freq is set=4, subsample_freq=0 will be ignored. Current value: bagging_freq=4\n",
      "[LightGBM] [Warning] feature_fraction is set=0.4755522987370796, colsample_bytree=1.0 will be ignored. Current value: feature_fraction=0.4755522987370796\n",
      "[LightGBM] [Warning] bagging_fraction is set=0.4032958820448563, subsample=1.0 will be ignored. Current value: bagging_fraction=0.4032958820448563\n",
      "[LightGBM] [Warning] lambda_l2 is set=0.17354318278305206, reg_lambda=0.0 will be ignored. Current value: lambda_l2=0.17354318278305206\n",
      "[LightGBM] [Warning] lambda_l1 is set=4.950588699531763e-08, reg_alpha=0.0 will be ignored. Current value: lambda_l1=4.950588699531763e-08\n",
      "[LightGBM] [Warning] bagging_freq is set=4, subsample_freq=0 will be ignored. Current value: bagging_freq=4\n",
      "[LightGBM] [Warning] feature_fraction is set=0.4755522987370796, colsample_bytree=1.0 will be ignored. Current value: feature_fraction=0.4755522987370796\n",
      "[LightGBM] [Warning] bagging_fraction is set=0.4032958820448563, subsample=1.0 will be ignored. Current value: bagging_fraction=0.4032958820448563\n",
      "[LightGBM] [Warning] lambda_l2 is set=0.17354318278305206, reg_lambda=0.0 will be ignored. Current value: lambda_l2=0.17354318278305206\n",
      "[LightGBM] [Warning] lambda_l1 is set=4.950588699531763e-08, reg_alpha=0.0 will be ignored. Current value: lambda_l1=4.950588699531763e-08\n",
      "[LightGBM] [Warning] bagging_freq is set=4, subsample_freq=0 will be ignored. Current value: bagging_freq=4\n",
      "[LightGBM] [Warning] feature_fraction is set=0.4755522987370796, colsample_bytree=1.0 will be ignored. Current value: feature_fraction=0.4755522987370796\n",
      "[LightGBM] [Warning] bagging_fraction is set=0.4032958820448563, subsample=1.0 will be ignored. Current value: bagging_fraction=0.4032958820448563\n",
      "[LightGBM] [Warning] lambda_l2 is set=0.17354318278305206, reg_lambda=0.0 will be ignored. Current value: lambda_l2=0.17354318278305206\n",
      "[LightGBM] [Warning] lambda_l1 is set=4.950588699531763e-08, reg_alpha=0.0 will be ignored. Current value: lambda_l1=4.950588699531763e-08\n",
      "[LightGBM] [Warning] bagging_freq is set=4, subsample_freq=0 will be ignored. Current value: bagging_freq=4\n",
      "[LightGBM] [Warning] feature_fraction is set=0.4755522987370796, colsample_bytree=1.0 will be ignored. Current value: feature_fraction=0.4755522987370796\n",
      "[LightGBM] [Warning] bagging_fraction is set=0.4032958820448563, subsample=1.0 will be ignored. Current value: bagging_fraction=0.4032958820448563\n",
      "[LightGBM] [Warning] lambda_l2 is set=0.17354318278305206, reg_lambda=0.0 will be ignored. Current value: lambda_l2=0.17354318278305206\n",
      "[LightGBM] [Warning] lambda_l1 is set=4.950588699531763e-08, reg_alpha=0.0 will be ignored. Current value: lambda_l1=4.950588699531763e-08\n",
      "[LightGBM] [Warning] bagging_freq is set=4, subsample_freq=0 will be ignored. Current value: bagging_freq=4\n",
      "[LightGBM] [Warning] feature_fraction is set=0.4755522987370796, colsample_bytree=1.0 will be ignored. Current value: feature_fraction=0.4755522987370796\n",
      "[LightGBM] [Warning] bagging_fraction is set=0.4032958820448563, subsample=1.0 will be ignored. Current value: bagging_fraction=0.4032958820448563\n",
      "[LightGBM] [Warning] lambda_l2 is set=0.17354318278305206, reg_lambda=0.0 will be ignored. Current value: lambda_l2=0.17354318278305206\n",
      "[LightGBM] [Warning] lambda_l1 is set=4.950588699531763e-08, reg_alpha=0.0 will be ignored. Current value: lambda_l1=4.950588699531763e-08\n",
      "[LightGBM] [Warning] bagging_freq is set=4, subsample_freq=0 will be ignored. Current value: bagging_freq=4\n",
      "[LightGBM] [Warning] feature_fraction is set=0.4755522987370796, colsample_bytree=1.0 will be ignored. Current value: feature_fraction=0.4755522987370796\n"
     ]
    },
    {
     "name": "stderr",
     "output_type": "stream",
     "text": [
      "\u001b[32m[I 2023-03-29 02:53:54,920]\u001b[0m Trial 82 finished with value: 0.269658786627527 and parameters: {'lambda_l1': 4.950588699531763e-08, 'lambda_l2': 0.17354318278305206, 'num_leaves': 14, 'max_depth': 1, 'learning_rate': 0.18475297944578006, 'feature_fraction': 0.4755522987370796, 'bagging_fraction': 0.4032958820448563, 'bagging_freq': 4, 'min_child_samples': 60}. Best is trial 79 with value: 0.26929791986508994.\u001b[0m\n"
     ]
    },
    {
     "name": "stdout",
     "output_type": "stream",
     "text": [
      "[LightGBM] [Warning] bagging_fraction is set=0.401374491786307, subsample=1.0 will be ignored. Current value: bagging_fraction=0.401374491786307\n",
      "[LightGBM] [Warning] lambda_l2 is set=0.16832733059644164, reg_lambda=0.0 will be ignored. Current value: lambda_l2=0.16832733059644164\n",
      "[LightGBM] [Warning] lambda_l1 is set=1.5196207313422793e-07, reg_alpha=0.0 will be ignored. Current value: lambda_l1=1.5196207313422793e-07\n",
      "[LightGBM] [Warning] bagging_freq is set=4, subsample_freq=0 will be ignored. Current value: bagging_freq=4\n",
      "[LightGBM] [Warning] feature_fraction is set=0.46997109233270956, colsample_bytree=1.0 will be ignored. Current value: feature_fraction=0.46997109233270956\n",
      "[LightGBM] [Warning] bagging_fraction is set=0.401374491786307, subsample=1.0 will be ignored. Current value: bagging_fraction=0.401374491786307\n",
      "[LightGBM] [Warning] lambda_l2 is set=0.16832733059644164, reg_lambda=0.0 will be ignored. Current value: lambda_l2=0.16832733059644164\n",
      "[LightGBM] [Warning] lambda_l1 is set=1.5196207313422793e-07, reg_alpha=0.0 will be ignored. Current value: lambda_l1=1.5196207313422793e-07\n",
      "[LightGBM] [Warning] bagging_freq is set=4, subsample_freq=0 will be ignored. Current value: bagging_freq=4\n",
      "[LightGBM] [Warning] feature_fraction is set=0.46997109233270956, colsample_bytree=1.0 will be ignored. Current value: feature_fraction=0.46997109233270956\n",
      "[LightGBM] [Warning] bagging_fraction is set=0.401374491786307, subsample=1.0 will be ignored. Current value: bagging_fraction=0.401374491786307\n",
      "[LightGBM] [Warning] lambda_l2 is set=0.16832733059644164, reg_lambda=0.0 will be ignored. Current value: lambda_l2=0.16832733059644164\n",
      "[LightGBM] [Warning] lambda_l1 is set=1.5196207313422793e-07, reg_alpha=0.0 will be ignored. Current value: lambda_l1=1.5196207313422793e-07\n",
      "[LightGBM] [Warning] bagging_freq is set=4, subsample_freq=0 will be ignored. Current value: bagging_freq=4\n",
      "[LightGBM] [Warning] feature_fraction is set=0.46997109233270956, colsample_bytree=1.0 will be ignored. Current value: feature_fraction=0.46997109233270956\n",
      "[LightGBM] [Warning] bagging_fraction is set=0.401374491786307, subsample=1.0 will be ignored. Current value: bagging_fraction=0.401374491786307\n",
      "[LightGBM] [Warning] lambda_l2 is set=0.16832733059644164, reg_lambda=0.0 will be ignored. Current value: lambda_l2=0.16832733059644164\n",
      "[LightGBM] [Warning] lambda_l1 is set=1.5196207313422793e-07, reg_alpha=0.0 will be ignored. Current value: lambda_l1=1.5196207313422793e-07\n",
      "[LightGBM] [Warning] bagging_freq is set=4, subsample_freq=0 will be ignored. Current value: bagging_freq=4\n",
      "[LightGBM] [Warning] feature_fraction is set=0.46997109233270956, colsample_bytree=1.0 will be ignored. Current value: feature_fraction=0.46997109233270956\n",
      "[LightGBM] [Warning] bagging_fraction is set=0.401374491786307, subsample=1.0 will be ignored. Current value: bagging_fraction=0.401374491786307\n",
      "[LightGBM] [Warning] lambda_l2 is set=0.16832733059644164, reg_lambda=0.0 will be ignored. Current value: lambda_l2=0.16832733059644164\n",
      "[LightGBM] [Warning] lambda_l1 is set=1.5196207313422793e-07, reg_alpha=0.0 will be ignored. Current value: lambda_l1=1.5196207313422793e-07\n",
      "[LightGBM] [Warning] bagging_freq is set=4, subsample_freq=0 will be ignored. Current value: bagging_freq=4\n",
      "[LightGBM] [Warning] feature_fraction is set=0.46997109233270956, colsample_bytree=1.0 will be ignored. Current value: feature_fraction=0.46997109233270956\n"
     ]
    },
    {
     "name": "stderr",
     "output_type": "stream",
     "text": [
      "\u001b[32m[I 2023-03-29 02:53:55,634]\u001b[0m Trial 83 finished with value: 0.2760727879385131 and parameters: {'lambda_l1': 1.5196207313422793e-07, 'lambda_l2': 0.16832733059644164, 'num_leaves': 13, 'max_depth': 3, 'learning_rate': 0.17625429500816067, 'feature_fraction': 0.46997109233270956, 'bagging_fraction': 0.401374491786307, 'bagging_freq': 4, 'min_child_samples': 40}. Best is trial 79 with value: 0.26929791986508994.\u001b[0m\n"
     ]
    },
    {
     "name": "stdout",
     "output_type": "stream",
     "text": [
      "[LightGBM] [Warning] bagging_fraction is set=0.401374491786307, subsample=1.0 will be ignored. Current value: bagging_fraction=0.401374491786307\n",
      "[LightGBM] [Warning] lambda_l2 is set=0.16832733059644164, reg_lambda=0.0 will be ignored. Current value: lambda_l2=0.16832733059644164\n",
      "[LightGBM] [Warning] lambda_l1 is set=1.5196207313422793e-07, reg_alpha=0.0 will be ignored. Current value: lambda_l1=1.5196207313422793e-07\n",
      "[LightGBM] [Warning] bagging_freq is set=4, subsample_freq=0 will be ignored. Current value: bagging_freq=4\n",
      "[LightGBM] [Warning] feature_fraction is set=0.46997109233270956, colsample_bytree=1.0 will be ignored. Current value: feature_fraction=0.46997109233270956\n",
      "[LightGBM] [Warning] bagging_fraction is set=0.44521893122795475, subsample=1.0 will be ignored. Current value: bagging_fraction=0.44521893122795475\n",
      "[LightGBM] [Warning] lambda_l2 is set=0.08577117294973366, reg_lambda=0.0 will be ignored. Current value: lambda_l2=0.08577117294973366\n",
      "[LightGBM] [Warning] lambda_l1 is set=5.173282913306435e-08, reg_alpha=0.0 will be ignored. Current value: lambda_l1=5.173282913306435e-08\n",
      "[LightGBM] [Warning] bagging_freq is set=5, subsample_freq=0 will be ignored. Current value: bagging_freq=5\n",
      "[LightGBM] [Warning] feature_fraction is set=0.5120354995878457, colsample_bytree=1.0 will be ignored. Current value: feature_fraction=0.5120354995878457\n",
      "[LightGBM] [Warning] bagging_fraction is set=0.44521893122795475, subsample=1.0 will be ignored. Current value: bagging_fraction=0.44521893122795475\n",
      "[LightGBM] [Warning] lambda_l2 is set=0.08577117294973366, reg_lambda=0.0 will be ignored. Current value: lambda_l2=0.08577117294973366\n",
      "[LightGBM] [Warning] lambda_l1 is set=5.173282913306435e-08, reg_alpha=0.0 will be ignored. Current value: lambda_l1=5.173282913306435e-08\n",
      "[LightGBM] [Warning] bagging_freq is set=5, subsample_freq=0 will be ignored. Current value: bagging_freq=5\n",
      "[LightGBM] [Warning] feature_fraction is set=0.5120354995878457, colsample_bytree=1.0 will be ignored. Current value: feature_fraction=0.5120354995878457\n",
      "[LightGBM] [Warning] bagging_fraction is set=0.44521893122795475, subsample=1.0 will be ignored. Current value: bagging_fraction=0.44521893122795475\n",
      "[LightGBM] [Warning] lambda_l2 is set=0.08577117294973366, reg_lambda=0.0 will be ignored. Current value: lambda_l2=0.08577117294973366\n",
      "[LightGBM] [Warning] lambda_l1 is set=5.173282913306435e-08, reg_alpha=0.0 will be ignored. Current value: lambda_l1=5.173282913306435e-08\n",
      "[LightGBM] [Warning] bagging_freq is set=5, subsample_freq=0 will be ignored. Current value: bagging_freq=5\n",
      "[LightGBM] [Warning] feature_fraction is set=0.5120354995878457, colsample_bytree=1.0 will be ignored. Current value: feature_fraction=0.5120354995878457\n",
      "[LightGBM] [Warning] bagging_fraction is set=0.44521893122795475, subsample=1.0 will be ignored. Current value: bagging_fraction=0.44521893122795475\n",
      "[LightGBM] [Warning] lambda_l2 is set=0.08577117294973366, reg_lambda=0.0 will be ignored. Current value: lambda_l2=0.08577117294973366\n",
      "[LightGBM] [Warning] lambda_l1 is set=5.173282913306435e-08, reg_alpha=0.0 will be ignored. Current value: lambda_l1=5.173282913306435e-08\n",
      "[LightGBM] [Warning] bagging_freq is set=5, subsample_freq=0 will be ignored. Current value: bagging_freq=5\n",
      "[LightGBM] [Warning] feature_fraction is set=0.5120354995878457, colsample_bytree=1.0 will be ignored. Current value: feature_fraction=0.5120354995878457\n",
      "[LightGBM] [Warning] bagging_fraction is set=0.44521893122795475, subsample=1.0 will be ignored. Current value: bagging_fraction=0.44521893122795475\n",
      "[LightGBM] [Warning] lambda_l2 is set=0.08577117294973366, reg_lambda=0.0 will be ignored. Current value: lambda_l2=0.08577117294973366\n",
      "[LightGBM] [Warning] lambda_l1 is set=5.173282913306435e-08, reg_alpha=0.0 will be ignored. Current value: lambda_l1=5.173282913306435e-08\n",
      "[LightGBM] [Warning] bagging_freq is set=5, subsample_freq=0 will be ignored. Current value: bagging_freq=5\n",
      "[LightGBM] [Warning] feature_fraction is set=0.5120354995878457, colsample_bytree=1.0 will be ignored. Current value: feature_fraction=0.5120354995878457\n",
      "[LightGBM] [Warning] bagging_fraction is set=0.44521893122795475, subsample=1.0 will be ignored. Current value: bagging_fraction=0.44521893122795475\n",
      "[LightGBM] [Warning] lambda_l2 is set=0.08577117294973366, reg_lambda=0.0 will be ignored. Current value: lambda_l2=0.08577117294973366\n",
      "[LightGBM] [Warning] lambda_l1 is set=5.173282913306435e-08, reg_alpha=0.0 will be ignored. Current value: lambda_l1=5.173282913306435e-08\n",
      "[LightGBM] [Warning] bagging_freq is set=5, subsample_freq=0 will be ignored. Current value: bagging_freq=5\n",
      "[LightGBM] [Warning] feature_fraction is set=0.5120354995878457, colsample_bytree=1.0 will be ignored. Current value: feature_fraction=0.5120354995878457\n"
     ]
    },
    {
     "name": "stderr",
     "output_type": "stream",
     "text": [
      "\u001b[32m[I 2023-03-29 02:53:56,427]\u001b[0m Trial 84 finished with value: 0.26949583335025895 and parameters: {'lambda_l1': 5.173282913306435e-08, 'lambda_l2': 0.08577117294973366, 'num_leaves': 35, 'max_depth': 1, 'learning_rate': 0.15879395018773212, 'feature_fraction': 0.5120354995878457, 'bagging_fraction': 0.44521893122795475, 'bagging_freq': 5, 'min_child_samples': 33}. Best is trial 79 with value: 0.26929791986508994.\u001b[0m\n"
     ]
    },
    {
     "name": "stdout",
     "output_type": "stream",
     "text": [
      "[LightGBM] [Warning] bagging_fraction is set=0.4401044361185927, subsample=1.0 will be ignored. Current value: bagging_fraction=0.4401044361185927\n",
      "[LightGBM] [Warning] lambda_l2 is set=0.07391525620223297, reg_lambda=0.0 will be ignored. Current value: lambda_l2=0.07391525620223297\n",
      "[LightGBM] [Warning] lambda_l1 is set=3.59675436467567e-07, reg_alpha=0.0 will be ignored. Current value: lambda_l1=3.59675436467567e-07\n",
      "[LightGBM] [Warning] bagging_freq is set=5, subsample_freq=0 will be ignored. Current value: bagging_freq=5\n",
      "[LightGBM] [Warning] feature_fraction is set=0.5164282207136548, colsample_bytree=1.0 will be ignored. Current value: feature_fraction=0.5164282207136548\n",
      "[LightGBM] [Warning] bagging_fraction is set=0.4401044361185927, subsample=1.0 will be ignored. Current value: bagging_fraction=0.4401044361185927\n",
      "[LightGBM] [Warning] lambda_l2 is set=0.07391525620223297, reg_lambda=0.0 will be ignored. Current value: lambda_l2=0.07391525620223297\n",
      "[LightGBM] [Warning] lambda_l1 is set=3.59675436467567e-07, reg_alpha=0.0 will be ignored. Current value: lambda_l1=3.59675436467567e-07\n",
      "[LightGBM] [Warning] bagging_freq is set=5, subsample_freq=0 will be ignored. Current value: bagging_freq=5\n",
      "[LightGBM] [Warning] feature_fraction is set=0.5164282207136548, colsample_bytree=1.0 will be ignored. Current value: feature_fraction=0.5164282207136548\n",
      "[LightGBM] [Warning] bagging_fraction is set=0.4401044361185927, subsample=1.0 will be ignored. Current value: bagging_fraction=0.4401044361185927\n",
      "[LightGBM] [Warning] lambda_l2 is set=0.07391525620223297, reg_lambda=0.0 will be ignored. Current value: lambda_l2=0.07391525620223297\n",
      "[LightGBM] [Warning] lambda_l1 is set=3.59675436467567e-07, reg_alpha=0.0 will be ignored. Current value: lambda_l1=3.59675436467567e-07\n",
      "[LightGBM] [Warning] bagging_freq is set=5, subsample_freq=0 will be ignored. Current value: bagging_freq=5\n",
      "[LightGBM] [Warning] feature_fraction is set=0.5164282207136548, colsample_bytree=1.0 will be ignored. Current value: feature_fraction=0.5164282207136548\n",
      "[LightGBM] [Warning] bagging_fraction is set=0.4401044361185927, subsample=1.0 will be ignored. Current value: bagging_fraction=0.4401044361185927\n",
      "[LightGBM] [Warning] lambda_l2 is set=0.07391525620223297, reg_lambda=0.0 will be ignored. Current value: lambda_l2=0.07391525620223297\n",
      "[LightGBM] [Warning] lambda_l1 is set=3.59675436467567e-07, reg_alpha=0.0 will be ignored. Current value: lambda_l1=3.59675436467567e-07\n",
      "[LightGBM] [Warning] bagging_freq is set=5, subsample_freq=0 will be ignored. Current value: bagging_freq=5\n",
      "[LightGBM] [Warning] feature_fraction is set=0.5164282207136548, colsample_bytree=1.0 will be ignored. Current value: feature_fraction=0.5164282207136548\n",
      "[LightGBM] [Warning] bagging_fraction is set=0.4401044361185927, subsample=1.0 will be ignored. Current value: bagging_fraction=0.4401044361185927\n",
      "[LightGBM] [Warning] lambda_l2 is set=0.07391525620223297, reg_lambda=0.0 will be ignored. Current value: lambda_l2=0.07391525620223297\n",
      "[LightGBM] [Warning] lambda_l1 is set=3.59675436467567e-07, reg_alpha=0.0 will be ignored. Current value: lambda_l1=3.59675436467567e-07\n",
      "[LightGBM] [Warning] bagging_freq is set=5, subsample_freq=0 will be ignored. Current value: bagging_freq=5\n",
      "[LightGBM] [Warning] feature_fraction is set=0.5164282207136548, colsample_bytree=1.0 will be ignored. Current value: feature_fraction=0.5164282207136548\n"
     ]
    },
    {
     "name": "stderr",
     "output_type": "stream",
     "text": [
      "\u001b[32m[I 2023-03-29 02:54:00,575]\u001b[0m Trial 85 finished with value: 0.28140989372903147 and parameters: {'lambda_l1': 3.59675436467567e-07, 'lambda_l2': 0.07391525620223297, 'num_leaves': 38, 'max_depth': 5, 'learning_rate': 0.14375633118443423, 'feature_fraction': 0.5164282207136548, 'bagging_fraction': 0.4401044361185927, 'bagging_freq': 5, 'min_child_samples': 31}. Best is trial 79 with value: 0.26929791986508994.\u001b[0m\n"
     ]
    },
    {
     "name": "stdout",
     "output_type": "stream",
     "text": [
      "[LightGBM] [Warning] bagging_fraction is set=0.4401044361185927, subsample=1.0 will be ignored. Current value: bagging_fraction=0.4401044361185927\n",
      "[LightGBM] [Warning] lambda_l2 is set=0.07391525620223297, reg_lambda=0.0 will be ignored. Current value: lambda_l2=0.07391525620223297\n",
      "[LightGBM] [Warning] lambda_l1 is set=3.59675436467567e-07, reg_alpha=0.0 will be ignored. Current value: lambda_l1=3.59675436467567e-07\n",
      "[LightGBM] [Warning] bagging_freq is set=5, subsample_freq=0 will be ignored. Current value: bagging_freq=5\n",
      "[LightGBM] [Warning] feature_fraction is set=0.5164282207136548, colsample_bytree=1.0 will be ignored. Current value: feature_fraction=0.5164282207136548\n",
      "[LightGBM] [Warning] bagging_fraction is set=0.4457487000991847, subsample=1.0 will be ignored. Current value: bagging_fraction=0.4457487000991847\n",
      "[LightGBM] [Warning] lambda_l2 is set=0.10794478484400531, reg_lambda=0.0 will be ignored. Current value: lambda_l2=0.10794478484400531\n",
      "[LightGBM] [Warning] lambda_l1 is set=4.099075560824932e-08, reg_alpha=0.0 will be ignored. Current value: lambda_l1=4.099075560824932e-08\n",
      "[LightGBM] [Warning] bagging_freq is set=4, subsample_freq=0 will be ignored. Current value: bagging_freq=4\n",
      "[LightGBM] [Warning] feature_fraction is set=0.4979997728406282, colsample_bytree=1.0 will be ignored. Current value: feature_fraction=0.4979997728406282\n",
      "[LightGBM] [Warning] bagging_fraction is set=0.4457487000991847, subsample=1.0 will be ignored. Current value: bagging_fraction=0.4457487000991847\n",
      "[LightGBM] [Warning] lambda_l2 is set=0.10794478484400531, reg_lambda=0.0 will be ignored. Current value: lambda_l2=0.10794478484400531\n",
      "[LightGBM] [Warning] lambda_l1 is set=4.099075560824932e-08, reg_alpha=0.0 will be ignored. Current value: lambda_l1=4.099075560824932e-08\n",
      "[LightGBM] [Warning] bagging_freq is set=4, subsample_freq=0 will be ignored. Current value: bagging_freq=4\n",
      "[LightGBM] [Warning] feature_fraction is set=0.4979997728406282, colsample_bytree=1.0 will be ignored. Current value: feature_fraction=0.4979997728406282\n",
      "[LightGBM] [Warning] bagging_fraction is set=0.4457487000991847, subsample=1.0 will be ignored. Current value: bagging_fraction=0.4457487000991847\n",
      "[LightGBM] [Warning] lambda_l2 is set=0.10794478484400531, reg_lambda=0.0 will be ignored. Current value: lambda_l2=0.10794478484400531\n",
      "[LightGBM] [Warning] lambda_l1 is set=4.099075560824932e-08, reg_alpha=0.0 will be ignored. Current value: lambda_l1=4.099075560824932e-08\n",
      "[LightGBM] [Warning] bagging_freq is set=4, subsample_freq=0 will be ignored. Current value: bagging_freq=4\n",
      "[LightGBM] [Warning] feature_fraction is set=0.4979997728406282, colsample_bytree=1.0 will be ignored. Current value: feature_fraction=0.4979997728406282\n",
      "[LightGBM] [Warning] bagging_fraction is set=0.4457487000991847, subsample=1.0 will be ignored. Current value: bagging_fraction=0.4457487000991847\n",
      "[LightGBM] [Warning] lambda_l2 is set=0.10794478484400531, reg_lambda=0.0 will be ignored. Current value: lambda_l2=0.10794478484400531\n",
      "[LightGBM] [Warning] lambda_l1 is set=4.099075560824932e-08, reg_alpha=0.0 will be ignored. Current value: lambda_l1=4.099075560824932e-08\n",
      "[LightGBM] [Warning] bagging_freq is set=4, subsample_freq=0 will be ignored. Current value: bagging_freq=4\n",
      "[LightGBM] [Warning] feature_fraction is set=0.4979997728406282, colsample_bytree=1.0 will be ignored. Current value: feature_fraction=0.4979997728406282\n"
     ]
    },
    {
     "name": "stderr",
     "output_type": "stream",
     "text": [
      "\u001b[32m[I 2023-03-29 02:54:01,387]\u001b[0m Trial 86 finished with value: 0.27223287573838595 and parameters: {'lambda_l1': 4.099075560824932e-08, 'lambda_l2': 0.10794478484400531, 'num_leaves': 24, 'max_depth': 3, 'learning_rate': 0.1246159145304213, 'feature_fraction': 0.4979997728406282, 'bagging_fraction': 0.4457487000991847, 'bagging_freq': 4, 'min_child_samples': 66}. Best is trial 79 with value: 0.26929791986508994.\u001b[0m\n"
     ]
    },
    {
     "name": "stdout",
     "output_type": "stream",
     "text": [
      "[LightGBM] [Warning] bagging_fraction is set=0.4457487000991847, subsample=1.0 will be ignored. Current value: bagging_fraction=0.4457487000991847\n",
      "[LightGBM] [Warning] lambda_l2 is set=0.10794478484400531, reg_lambda=0.0 will be ignored. Current value: lambda_l2=0.10794478484400531\n",
      "[LightGBM] [Warning] lambda_l1 is set=4.099075560824932e-08, reg_alpha=0.0 will be ignored. Current value: lambda_l1=4.099075560824932e-08\n",
      "[LightGBM] [Warning] bagging_freq is set=4, subsample_freq=0 will be ignored. Current value: bagging_freq=4\n",
      "[LightGBM] [Warning] feature_fraction is set=0.4979997728406282, colsample_bytree=1.0 will be ignored. Current value: feature_fraction=0.4979997728406282\n",
      "[LightGBM] [Warning] bagging_fraction is set=0.4457487000991847, subsample=1.0 will be ignored. Current value: bagging_fraction=0.4457487000991847\n",
      "[LightGBM] [Warning] lambda_l2 is set=0.10794478484400531, reg_lambda=0.0 will be ignored. Current value: lambda_l2=0.10794478484400531\n",
      "[LightGBM] [Warning] lambda_l1 is set=4.099075560824932e-08, reg_alpha=0.0 will be ignored. Current value: lambda_l1=4.099075560824932e-08\n",
      "[LightGBM] [Warning] bagging_freq is set=4, subsample_freq=0 will be ignored. Current value: bagging_freq=4\n",
      "[LightGBM] [Warning] feature_fraction is set=0.4979997728406282, colsample_bytree=1.0 will be ignored. Current value: feature_fraction=0.4979997728406282\n",
      "[LightGBM] [Warning] bagging_fraction is set=0.4795808706681238, subsample=1.0 will be ignored. Current value: bagging_fraction=0.4795808706681238\n",
      "[LightGBM] [Warning] lambda_l2 is set=0.20625651780440588, reg_lambda=0.0 will be ignored. Current value: lambda_l2=0.20625651780440588\n",
      "[LightGBM] [Warning] lambda_l1 is set=9.647498908925661e-08, reg_alpha=0.0 will be ignored. Current value: lambda_l1=9.647498908925661e-08\n",
      "[LightGBM] [Warning] bagging_freq is set=5, subsample_freq=0 will be ignored. Current value: bagging_freq=5\n",
      "[LightGBM] [Warning] feature_fraction is set=0.4831822352407531, colsample_bytree=1.0 will be ignored. Current value: feature_fraction=0.4831822352407531\n",
      "[LightGBM] [Warning] bagging_fraction is set=0.4795808706681238, subsample=1.0 will be ignored. Current value: bagging_fraction=0.4795808706681238\n",
      "[LightGBM] [Warning] lambda_l2 is set=0.20625651780440588, reg_lambda=0.0 will be ignored. Current value: lambda_l2=0.20625651780440588\n",
      "[LightGBM] [Warning] lambda_l1 is set=9.647498908925661e-08, reg_alpha=0.0 will be ignored. Current value: lambda_l1=9.647498908925661e-08\n",
      "[LightGBM] [Warning] bagging_freq is set=5, subsample_freq=0 will be ignored. Current value: bagging_freq=5\n",
      "[LightGBM] [Warning] feature_fraction is set=0.4831822352407531, colsample_bytree=1.0 will be ignored. Current value: feature_fraction=0.4831822352407531\n",
      "[LightGBM] [Warning] bagging_fraction is set=0.4795808706681238, subsample=1.0 will be ignored. Current value: bagging_fraction=0.4795808706681238\n",
      "[LightGBM] [Warning] lambda_l2 is set=0.20625651780440588, reg_lambda=0.0 will be ignored. Current value: lambda_l2=0.20625651780440588\n",
      "[LightGBM] [Warning] lambda_l1 is set=9.647498908925661e-08, reg_alpha=0.0 will be ignored. Current value: lambda_l1=9.647498908925661e-08\n",
      "[LightGBM] [Warning] bagging_freq is set=5, subsample_freq=0 will be ignored. Current value: bagging_freq=5\n",
      "[LightGBM] [Warning] feature_fraction is set=0.4831822352407531, colsample_bytree=1.0 will be ignored. Current value: feature_fraction=0.4831822352407531\n"
     ]
    },
    {
     "name": "stderr",
     "output_type": "stream",
     "text": [
      "\u001b[32m[I 2023-03-29 02:54:01,904]\u001b[0m Trial 87 finished with value: 0.269751061603778 and parameters: {'lambda_l1': 9.647498908925661e-08, 'lambda_l2': 0.20625651780440588, 'num_leaves': 36, 'max_depth': 1, 'learning_rate': 0.18581835087557524, 'feature_fraction': 0.4831822352407531, 'bagging_fraction': 0.4795808706681238, 'bagging_freq': 5, 'min_child_samples': 30}. Best is trial 79 with value: 0.26929791986508994.\u001b[0m\n"
     ]
    },
    {
     "name": "stdout",
     "output_type": "stream",
     "text": [
      "[LightGBM] [Warning] bagging_fraction is set=0.4795808706681238, subsample=1.0 will be ignored. Current value: bagging_fraction=0.4795808706681238\n",
      "[LightGBM] [Warning] lambda_l2 is set=0.20625651780440588, reg_lambda=0.0 will be ignored. Current value: lambda_l2=0.20625651780440588\n",
      "[LightGBM] [Warning] lambda_l1 is set=9.647498908925661e-08, reg_alpha=0.0 will be ignored. Current value: lambda_l1=9.647498908925661e-08\n",
      "[LightGBM] [Warning] bagging_freq is set=5, subsample_freq=0 will be ignored. Current value: bagging_freq=5\n",
      "[LightGBM] [Warning] feature_fraction is set=0.4831822352407531, colsample_bytree=1.0 will be ignored. Current value: feature_fraction=0.4831822352407531\n",
      "[LightGBM] [Warning] bagging_fraction is set=0.4795808706681238, subsample=1.0 will be ignored. Current value: bagging_fraction=0.4795808706681238\n",
      "[LightGBM] [Warning] lambda_l2 is set=0.20625651780440588, reg_lambda=0.0 will be ignored. Current value: lambda_l2=0.20625651780440588\n",
      "[LightGBM] [Warning] lambda_l1 is set=9.647498908925661e-08, reg_alpha=0.0 will be ignored. Current value: lambda_l1=9.647498908925661e-08\n",
      "[LightGBM] [Warning] bagging_freq is set=5, subsample_freq=0 will be ignored. Current value: bagging_freq=5\n",
      "[LightGBM] [Warning] feature_fraction is set=0.4831822352407531, colsample_bytree=1.0 will be ignored. Current value: feature_fraction=0.4831822352407531\n",
      "[LightGBM] [Warning] bagging_fraction is set=0.4795808706681238, subsample=1.0 will be ignored. Current value: bagging_fraction=0.4795808706681238\n",
      "[LightGBM] [Warning] lambda_l2 is set=0.20625651780440588, reg_lambda=0.0 will be ignored. Current value: lambda_l2=0.20625651780440588\n",
      "[LightGBM] [Warning] lambda_l1 is set=9.647498908925661e-08, reg_alpha=0.0 will be ignored. Current value: lambda_l1=9.647498908925661e-08\n",
      "[LightGBM] [Warning] bagging_freq is set=5, subsample_freq=0 will be ignored. Current value: bagging_freq=5\n",
      "[LightGBM] [Warning] feature_fraction is set=0.4831822352407531, colsample_bytree=1.0 will be ignored. Current value: feature_fraction=0.4831822352407531\n",
      "[LightGBM] [Warning] bagging_fraction is set=0.46995212193817976, subsample=1.0 will be ignored. Current value: bagging_fraction=0.46995212193817976\n",
      "[LightGBM] [Warning] lambda_l2 is set=0.0365426069778448, reg_lambda=0.0 will be ignored. Current value: lambda_l2=0.0365426069778448\n",
      "[LightGBM] [Warning] lambda_l1 is set=7.820551851175121e-08, reg_alpha=0.0 will be ignored. Current value: lambda_l1=7.820551851175121e-08\n",
      "[LightGBM] [Warning] bagging_freq is set=5, subsample_freq=0 will be ignored. Current value: bagging_freq=5\n",
      "[LightGBM] [Warning] feature_fraction is set=0.5152180197009022, colsample_bytree=1.0 will be ignored. Current value: feature_fraction=0.5152180197009022\n",
      "[LightGBM] [Warning] bagging_fraction is set=0.46995212193817976, subsample=1.0 will be ignored. Current value: bagging_fraction=0.46995212193817976\n",
      "[LightGBM] [Warning] lambda_l2 is set=0.0365426069778448, reg_lambda=0.0 will be ignored. Current value: lambda_l2=0.0365426069778448\n",
      "[LightGBM] [Warning] lambda_l1 is set=7.820551851175121e-08, reg_alpha=0.0 will be ignored. Current value: lambda_l1=7.820551851175121e-08\n",
      "[LightGBM] [Warning] bagging_freq is set=5, subsample_freq=0 will be ignored. Current value: bagging_freq=5\n",
      "[LightGBM] [Warning] feature_fraction is set=0.5152180197009022, colsample_bytree=1.0 will be ignored. Current value: feature_fraction=0.5152180197009022\n",
      "[LightGBM] [Warning] bagging_fraction is set=0.46995212193817976, subsample=1.0 will be ignored. Current value: bagging_fraction=0.46995212193817976\n",
      "[LightGBM] [Warning] lambda_l2 is set=0.0365426069778448, reg_lambda=0.0 will be ignored. Current value: lambda_l2=0.0365426069778448\n",
      "[LightGBM] [Warning] lambda_l1 is set=7.820551851175121e-08, reg_alpha=0.0 will be ignored. Current value: lambda_l1=7.820551851175121e-08\n",
      "[LightGBM] [Warning] bagging_freq is set=5, subsample_freq=0 will be ignored. Current value: bagging_freq=5\n",
      "[LightGBM] [Warning] feature_fraction is set=0.5152180197009022, colsample_bytree=1.0 will be ignored. Current value: feature_fraction=0.5152180197009022\n",
      "[LightGBM] [Warning] bagging_fraction is set=0.46995212193817976, subsample=1.0 will be ignored. Current value: bagging_fraction=0.46995212193817976\n",
      "[LightGBM] [Warning] lambda_l2 is set=0.0365426069778448, reg_lambda=0.0 will be ignored. Current value: lambda_l2=0.0365426069778448\n",
      "[LightGBM] [Warning] lambda_l1 is set=7.820551851175121e-08, reg_alpha=0.0 will be ignored. Current value: lambda_l1=7.820551851175121e-08\n",
      "[LightGBM] [Warning] bagging_freq is set=5, subsample_freq=0 will be ignored. Current value: bagging_freq=5\n",
      "[LightGBM] [Warning] feature_fraction is set=0.5152180197009022, colsample_bytree=1.0 will be ignored. Current value: feature_fraction=0.5152180197009022\n",
      "[LightGBM] [Warning] bagging_fraction is set=0.46995212193817976, subsample=1.0 will be ignored. Current value: bagging_fraction=0.46995212193817976\n",
      "[LightGBM] [Warning] lambda_l2 is set=0.0365426069778448, reg_lambda=0.0 will be ignored. Current value: lambda_l2=0.0365426069778448\n",
      "[LightGBM] [Warning] lambda_l1 is set=7.820551851175121e-08, reg_alpha=0.0 will be ignored. Current value: lambda_l1=7.820551851175121e-08\n",
      "[LightGBM] [Warning] bagging_freq is set=5, subsample_freq=0 will be ignored. Current value: bagging_freq=5\n",
      "[LightGBM] [Warning] feature_fraction is set=0.5152180197009022, colsample_bytree=1.0 will be ignored. Current value: feature_fraction=0.5152180197009022\n",
      "[LightGBM] [Warning] bagging_fraction is set=0.46995212193817976, subsample=1.0 will be ignored. Current value: bagging_fraction=0.46995212193817976\n",
      "[LightGBM] [Warning] lambda_l2 is set=0.0365426069778448, reg_lambda=0.0 will be ignored. Current value: lambda_l2=0.0365426069778448\n",
      "[LightGBM] [Warning] lambda_l1 is set=7.820551851175121e-08, reg_alpha=0.0 will be ignored. Current value: lambda_l1=7.820551851175121e-08\n",
      "[LightGBM] [Warning] bagging_freq is set=5, subsample_freq=0 will be ignored. Current value: bagging_freq=5\n",
      "[LightGBM] [Warning] feature_fraction is set=0.5152180197009022, colsample_bytree=1.0 will be ignored. Current value: feature_fraction=0.5152180197009022\n"
     ]
    },
    {
     "name": "stderr",
     "output_type": "stream",
     "text": [
      "\u001b[32m[I 2023-03-29 02:54:02,832]\u001b[0m Trial 88 finished with value: 0.27866456694263225 and parameters: {'lambda_l1': 7.820551851175121e-08, 'lambda_l2': 0.0365426069778448, 'num_leaves': 11, 'max_depth': 5, 'learning_rate': 0.1591524508533788, 'feature_fraction': 0.5152180197009022, 'bagging_fraction': 0.46995212193817976, 'bagging_freq': 5, 'min_child_samples': 33}. Best is trial 79 with value: 0.26929791986508994.\u001b[0m\n"
     ]
    },
    {
     "name": "stdout",
     "output_type": "stream",
     "text": [
      "[LightGBM] [Warning] bagging_fraction is set=0.47882212671511115, subsample=1.0 will be ignored. Current value: bagging_fraction=0.47882212671511115\n",
      "[LightGBM] [Warning] lambda_l2 is set=0.01927216554385225, reg_lambda=0.0 will be ignored. Current value: lambda_l2=0.01927216554385225\n",
      "[LightGBM] [Warning] lambda_l1 is set=2.474436670846465e-07, reg_alpha=0.0 will be ignored. Current value: lambda_l1=2.474436670846465e-07\n",
      "[LightGBM] [Warning] bagging_freq is set=5, subsample_freq=0 will be ignored. Current value: bagging_freq=5\n",
      "[LightGBM] [Warning] feature_fraction is set=0.46677235542329737, colsample_bytree=1.0 will be ignored. Current value: feature_fraction=0.46677235542329737\n",
      "[LightGBM] [Warning] bagging_fraction is set=0.47882212671511115, subsample=1.0 will be ignored. Current value: bagging_fraction=0.47882212671511115\n",
      "[LightGBM] [Warning] lambda_l2 is set=0.01927216554385225, reg_lambda=0.0 will be ignored. Current value: lambda_l2=0.01927216554385225\n",
      "[LightGBM] [Warning] lambda_l1 is set=2.474436670846465e-07, reg_alpha=0.0 will be ignored. Current value: lambda_l1=2.474436670846465e-07\n",
      "[LightGBM] [Warning] bagging_freq is set=5, subsample_freq=0 will be ignored. Current value: bagging_freq=5\n",
      "[LightGBM] [Warning] feature_fraction is set=0.46677235542329737, colsample_bytree=1.0 will be ignored. Current value: feature_fraction=0.46677235542329737\n",
      "[LightGBM] [Warning] bagging_fraction is set=0.47882212671511115, subsample=1.0 will be ignored. Current value: bagging_fraction=0.47882212671511115\n",
      "[LightGBM] [Warning] lambda_l2 is set=0.01927216554385225, reg_lambda=0.0 will be ignored. Current value: lambda_l2=0.01927216554385225\n",
      "[LightGBM] [Warning] lambda_l1 is set=2.474436670846465e-07, reg_alpha=0.0 will be ignored. Current value: lambda_l1=2.474436670846465e-07\n",
      "[LightGBM] [Warning] bagging_freq is set=5, subsample_freq=0 will be ignored. Current value: bagging_freq=5\n",
      "[LightGBM] [Warning] feature_fraction is set=0.46677235542329737, colsample_bytree=1.0 will be ignored. Current value: feature_fraction=0.46677235542329737\n",
      "[LightGBM] [Warning] bagging_fraction is set=0.47882212671511115, subsample=1.0 will be ignored. Current value: bagging_fraction=0.47882212671511115\n",
      "[LightGBM] [Warning] lambda_l2 is set=0.01927216554385225, reg_lambda=0.0 will be ignored. Current value: lambda_l2=0.01927216554385225\n",
      "[LightGBM] [Warning] lambda_l1 is set=2.474436670846465e-07, reg_alpha=0.0 will be ignored. Current value: lambda_l1=2.474436670846465e-07\n",
      "[LightGBM] [Warning] bagging_freq is set=5, subsample_freq=0 will be ignored. Current value: bagging_freq=5\n",
      "[LightGBM] [Warning] feature_fraction is set=0.46677235542329737, colsample_bytree=1.0 will be ignored. Current value: feature_fraction=0.46677235542329737\n",
      "[LightGBM] [Warning] bagging_fraction is set=0.47882212671511115, subsample=1.0 will be ignored. Current value: bagging_fraction=0.47882212671511115\n",
      "[LightGBM] [Warning] lambda_l2 is set=0.01927216554385225, reg_lambda=0.0 will be ignored. Current value: lambda_l2=0.01927216554385225\n",
      "[LightGBM] [Warning] lambda_l1 is set=2.474436670846465e-07, reg_alpha=0.0 will be ignored. Current value: lambda_l1=2.474436670846465e-07\n",
      "[LightGBM] [Warning] bagging_freq is set=5, subsample_freq=0 will be ignored. Current value: bagging_freq=5\n",
      "[LightGBM] [Warning] feature_fraction is set=0.46677235542329737, colsample_bytree=1.0 will be ignored. Current value: feature_fraction=0.46677235542329737\n"
     ]
    },
    {
     "name": "stderr",
     "output_type": "stream",
     "text": [
      "\u001b[32m[I 2023-03-29 02:54:03,527]\u001b[0m Trial 89 finished with value: 0.27255024599544236 and parameters: {'lambda_l1': 2.474436670846465e-07, 'lambda_l2': 0.01927216554385225, 'num_leaves': 42, 'max_depth': 2, 'learning_rate': 0.18552730265038345, 'feature_fraction': 0.46677235542329737, 'bagging_fraction': 0.47882212671511115, 'bagging_freq': 5, 'min_child_samples': 23}. Best is trial 79 with value: 0.26929791986508994.\u001b[0m\n"
     ]
    },
    {
     "name": "stdout",
     "output_type": "stream",
     "text": [
      "[LightGBM] [Warning] bagging_fraction is set=0.47882212671511115, subsample=1.0 will be ignored. Current value: bagging_fraction=0.47882212671511115\n",
      "[LightGBM] [Warning] lambda_l2 is set=0.01927216554385225, reg_lambda=0.0 will be ignored. Current value: lambda_l2=0.01927216554385225\n",
      "[LightGBM] [Warning] lambda_l1 is set=2.474436670846465e-07, reg_alpha=0.0 will be ignored. Current value: lambda_l1=2.474436670846465e-07\n",
      "[LightGBM] [Warning] bagging_freq is set=5, subsample_freq=0 will be ignored. Current value: bagging_freq=5\n",
      "[LightGBM] [Warning] feature_fraction is set=0.46677235542329737, colsample_bytree=1.0 will be ignored. Current value: feature_fraction=0.46677235542329737\n",
      "[LightGBM] [Warning] bagging_fraction is set=0.4396185707366271, subsample=1.0 will be ignored. Current value: bagging_fraction=0.4396185707366271\n",
      "[LightGBM] [Warning] lambda_l2 is set=0.4330940119620535, reg_lambda=0.0 will be ignored. Current value: lambda_l2=0.4330940119620535\n",
      "[LightGBM] [Warning] lambda_l1 is set=4.122101132458121e-08, reg_alpha=0.0 will be ignored. Current value: lambda_l1=4.122101132458121e-08\n",
      "[LightGBM] [Warning] bagging_freq is set=6, subsample_freq=0 will be ignored. Current value: bagging_freq=6\n",
      "[LightGBM] [Warning] feature_fraction is set=0.4887033249798415, colsample_bytree=1.0 will be ignored. Current value: feature_fraction=0.4887033249798415\n",
      "[LightGBM] [Warning] bagging_fraction is set=0.4396185707366271, subsample=1.0 will be ignored. Current value: bagging_fraction=0.4396185707366271\n",
      "[LightGBM] [Warning] lambda_l2 is set=0.4330940119620535, reg_lambda=0.0 will be ignored. Current value: lambda_l2=0.4330940119620535\n",
      "[LightGBM] [Warning] lambda_l1 is set=4.122101132458121e-08, reg_alpha=0.0 will be ignored. Current value: lambda_l1=4.122101132458121e-08\n",
      "[LightGBM] [Warning] bagging_freq is set=6, subsample_freq=0 will be ignored. Current value: bagging_freq=6\n",
      "[LightGBM] [Warning] feature_fraction is set=0.4887033249798415, colsample_bytree=1.0 will be ignored. Current value: feature_fraction=0.4887033249798415\n",
      "[LightGBM] [Warning] bagging_fraction is set=0.4396185707366271, subsample=1.0 will be ignored. Current value: bagging_fraction=0.4396185707366271\n",
      "[LightGBM] [Warning] lambda_l2 is set=0.4330940119620535, reg_lambda=0.0 will be ignored. Current value: lambda_l2=0.4330940119620535\n",
      "[LightGBM] [Warning] lambda_l1 is set=4.122101132458121e-08, reg_alpha=0.0 will be ignored. Current value: lambda_l1=4.122101132458121e-08\n",
      "[LightGBM] [Warning] bagging_freq is set=6, subsample_freq=0 will be ignored. Current value: bagging_freq=6\n",
      "[LightGBM] [Warning] feature_fraction is set=0.4887033249798415, colsample_bytree=1.0 will be ignored. Current value: feature_fraction=0.4887033249798415\n",
      "[LightGBM] [Warning] bagging_fraction is set=0.4396185707366271, subsample=1.0 will be ignored. Current value: bagging_fraction=0.4396185707366271\n",
      "[LightGBM] [Warning] lambda_l2 is set=0.4330940119620535, reg_lambda=0.0 will be ignored. Current value: lambda_l2=0.4330940119620535\n",
      "[LightGBM] [Warning] lambda_l1 is set=4.122101132458121e-08, reg_alpha=0.0 will be ignored. Current value: lambda_l1=4.122101132458121e-08\n",
      "[LightGBM] [Warning] bagging_freq is set=6, subsample_freq=0 will be ignored. Current value: bagging_freq=6\n",
      "[LightGBM] [Warning] feature_fraction is set=0.4887033249798415, colsample_bytree=1.0 will be ignored. Current value: feature_fraction=0.4887033249798415\n",
      "[LightGBM] [Warning] bagging_fraction is set=0.4396185707366271, subsample=1.0 will be ignored. Current value: bagging_fraction=0.4396185707366271\n",
      "[LightGBM] [Warning] lambda_l2 is set=0.4330940119620535, reg_lambda=0.0 will be ignored. Current value: lambda_l2=0.4330940119620535"
     ]
    },
    {
     "name": "stderr",
     "output_type": "stream",
     "text": [
      "\u001b[32m[I 2023-03-29 02:54:04,038]\u001b[0m Trial 90 finished with value: 0.26967017202996246 and parameters: {'lambda_l1': 4.122101132458121e-08, 'lambda_l2': 0.4330940119620535, 'num_leaves': 64, 'max_depth': 1, 'learning_rate': 0.1568775725798239, 'feature_fraction': 0.4887033249798415, 'bagging_fraction': 0.4396185707366271, 'bagging_freq': 6, 'min_child_samples': 18}. Best is trial 79 with value: 0.26929791986508994.\u001b[0m\n"
     ]
    },
    {
     "name": "stdout",
     "output_type": "stream",
     "text": [
      "\n",
      "[LightGBM] [Warning] lambda_l1 is set=4.122101132458121e-08, reg_alpha=0.0 will be ignored. Current value: lambda_l1=4.122101132458121e-08\n",
      "[LightGBM] [Warning] bagging_freq is set=6, subsample_freq=0 will be ignored. Current value: bagging_freq=6\n",
      "[LightGBM] [Warning] feature_fraction is set=0.4887033249798415, colsample_bytree=1.0 will be ignored. Current value: feature_fraction=0.4887033249798415\n",
      "[LightGBM] [Warning] bagging_fraction is set=0.4396185707366271, subsample=1.0 will be ignored. Current value: bagging_fraction=0.4396185707366271\n",
      "[LightGBM] [Warning] lambda_l2 is set=0.4330940119620535, reg_lambda=0.0 will be ignored. Current value: lambda_l2=0.4330940119620535\n",
      "[LightGBM] [Warning] lambda_l1 is set=4.122101132458121e-08, reg_alpha=0.0 will be ignored. Current value: lambda_l1=4.122101132458121e-08\n",
      "[LightGBM] [Warning] bagging_freq is set=6, subsample_freq=0 will be ignored. Current value: bagging_freq=6\n",
      "[LightGBM] [Warning] feature_fraction is set=0.4887033249798415, colsample_bytree=1.0 will be ignored. Current value: feature_fraction=0.4887033249798415\n",
      "[LightGBM] [Warning] bagging_fraction is set=0.44671737863712846, subsample=1.0 will be ignored. Current value: bagging_fraction=0.44671737863712846\n",
      "[LightGBM] [Warning] lambda_l2 is set=0.4090665707976562, reg_lambda=0.0 will be ignored. Current value: lambda_l2=0.4090665707976562\n",
      "[LightGBM] [Warning] lambda_l1 is set=4.397042341373226e-08, reg_alpha=0.0 will be ignored. Current value: lambda_l1=4.397042341373226e-08\n",
      "[LightGBM] [Warning] bagging_freq is set=6, subsample_freq=0 will be ignored. Current value: bagging_freq=6\n",
      "[LightGBM] [Warning] feature_fraction is set=0.4924337952775921, colsample_bytree=1.0 will be ignored. Current value: feature_fraction=0.4924337952775921\n",
      "[LightGBM] [Warning] bagging_fraction is set=0.44671737863712846, subsample=1.0 will be ignored. Current value: bagging_fraction=0.44671737863712846\n",
      "[LightGBM] [Warning] lambda_l2 is set=0.4090665707976562, reg_lambda=0.0 will be ignored. Current value: lambda_l2=0.4090665707976562\n",
      "[LightGBM] [Warning] lambda_l1 is set=4.397042341373226e-08, reg_alpha=0.0 will be ignored. Current value: lambda_l1=4.397042341373226e-08\n",
      "[LightGBM] [Warning] bagging_freq is set=6, subsample_freq=0 will be ignored. Current value: bagging_freq=6\n",
      "[LightGBM] [Warning] feature_fraction is set=0.4924337952775921, colsample_bytree=1.0 will be ignored. Current value: feature_fraction=0.4924337952775921\n",
      "[LightGBM] [Warning] bagging_fraction is set=0.44671737863712846, subsample=1.0 will be ignored. Current value: bagging_fraction=0.44671737863712846\n",
      "[LightGBM] [Warning] lambda_l2 is set=0.4090665707976562, reg_lambda=0.0 will be ignored. Current value: lambda_l2=0.4090665707976562\n",
      "[LightGBM] [Warning] lambda_l1 is set=4.397042341373226e-08, reg_alpha=0.0 will be ignored. Current value: lambda_l1=4.397042341373226e-08\n",
      "[LightGBM] [Warning] bagging_freq is set=6, subsample_freq=0 will be ignored. Current value: bagging_freq=6\n",
      "[LightGBM] [Warning] feature_fraction is set=0.4924337952775921, colsample_bytree=1.0 will be ignored. Current value: feature_fraction=0.4924337952775921\n"
     ]
    },
    {
     "name": "stderr",
     "output_type": "stream",
     "text": [
      "\u001b[32m[I 2023-03-29 02:54:04,578]\u001b[0m Trial 91 finished with value: 0.2696972709183797 and parameters: {'lambda_l1': 4.397042341373226e-08, 'lambda_l2': 0.4090665707976562, 'num_leaves': 21, 'max_depth': 1, 'learning_rate': 0.1578642210432588, 'feature_fraction': 0.4924337952775921, 'bagging_fraction': 0.44671737863712846, 'bagging_freq': 6, 'min_child_samples': 14}. Best is trial 79 with value: 0.26929791986508994.\u001b[0m\n"
     ]
    },
    {
     "name": "stdout",
     "output_type": "stream",
     "text": [
      "[LightGBM] [Warning] bagging_fraction is set=0.44671737863712846, subsample=1.0 will be ignored. Current value: bagging_fraction=0.44671737863712846\n",
      "[LightGBM] [Warning] lambda_l2 is set=0.4090665707976562, reg_lambda=0.0 will be ignored. Current value: lambda_l2=0.4090665707976562\n",
      "[LightGBM] [Warning] lambda_l1 is set=4.397042341373226e-08, reg_alpha=0.0 will be ignored. Current value: lambda_l1=4.397042341373226e-08\n",
      "[LightGBM] [Warning] bagging_freq is set=6, subsample_freq=0 will be ignored. Current value: bagging_freq=6\n",
      "[LightGBM] [Warning] feature_fraction is set=0.4924337952775921, colsample_bytree=1.0 will be ignored. Current value: feature_fraction=0.4924337952775921\n",
      "[LightGBM] [Warning] bagging_fraction is set=0.44671737863712846, subsample=1.0 will be ignored. Current value: bagging_fraction=0.44671737863712846\n",
      "[LightGBM] [Warning] lambda_l2 is set=0.4090665707976562, reg_lambda=0.0 will be ignored. Current value: lambda_l2=0.4090665707976562\n",
      "[LightGBM] [Warning] lambda_l1 is set=4.397042341373226e-08, reg_alpha=0.0 will be ignored. Current value: lambda_l1=4.397042341373226e-08\n",
      "[LightGBM] [Warning] bagging_freq is set=6, subsample_freq=0 will be ignored. Current value: bagging_freq=6\n",
      "[LightGBM] [Warning] feature_fraction is set=0.4924337952775921, colsample_bytree=1.0 will be ignored. Current value: feature_fraction=0.4924337952775921\n",
      "[LightGBM] [Warning] bagging_fraction is set=0.44671737863712846, subsample=1.0 will be ignored. Current value: bagging_fraction=0.44671737863712846\n",
      "[LightGBM] [Warning] lambda_l2 is set=0.4090665707976562, reg_lambda=0.0 will be ignored. Current value: lambda_l2=0.4090665707976562\n",
      "[LightGBM] [Warning] lambda_l1 is set=4.397042341373226e-08, reg_alpha=0.0 will be ignored. Current value: lambda_l1=4.397042341373226e-08\n",
      "[LightGBM] [Warning] bagging_freq is set=6, subsample_freq=0 will be ignored. Current value: bagging_freq=6\n",
      "[LightGBM] [Warning] feature_fraction is set=0.4924337952775921, colsample_bytree=1.0 will be ignored. Current value: feature_fraction=0.4924337952775921\n",
      "[LightGBM] [Warning] bagging_fraction is set=0.4407948869905452, subsample=1.0 will be ignored. Current value: bagging_fraction=0.4407948869905452\n",
      "[LightGBM] [Warning] lambda_l2 is set=0.05009480756433971, reg_lambda=0.0 will be ignored. Current value: lambda_l2=0.05009480756433971\n",
      "[LightGBM] [Warning] lambda_l1 is set=4.9766158290848146e-08, reg_alpha=0.0 will be ignored. Current value: lambda_l1=4.9766158290848146e-08\n",
      "[LightGBM] [Warning] bagging_freq is set=6, subsample_freq=0 will be ignored. Current value: bagging_freq=6\n",
      "[LightGBM] [Warning] feature_fraction is set=0.4607130188387406, colsample_bytree=1.0 will be ignored. Current value: feature_fraction=0.4607130188387406\n",
      "[LightGBM] [Warning] bagging_fraction is set=0.4407948869905452, subsample=1.0 will be ignored. Current value: bagging_fraction=0.4407948869905452\n",
      "[LightGBM] [Warning] lambda_l2 is set=0.05009480756433971, reg_lambda=0.0 will be ignored. Current value: lambda_l2=0.05009480756433971\n",
      "[LightGBM] [Warning] lambda_l1 is set=4.9766158290848146e-08, reg_alpha=0.0 will be ignored. Current value: lambda_l1=4.9766158290848146e-08\n",
      "[LightGBM] [Warning] bagging_freq is set=6, subsample_freq=0 will be ignored. Current value: bagging_freq=6\n",
      "[LightGBM] [Warning] feature_fraction is set=0.4607130188387406, colsample_bytree=1.0 will be ignored. Current value: feature_fraction=0.4607130188387406\n",
      "[LightGBM] [Warning] bagging_fraction is set=0.4407948869905452, subsample=1.0 will be ignored. Current value: bagging_fraction=0.4407948869905452\n",
      "[LightGBM] [Warning] lambda_l2 is set=0.05009480756433971, reg_lambda=0.0 will be ignored. Current value: lambda_l2=0.05009480756433971\n",
      "[LightGBM] [Warning] lambda_l1 is set=4.9766158290848146e-08, reg_alpha=0.0 will be ignored. Current value: lambda_l1=4.9766158290848146e-08\n",
      "[LightGBM] [Warning] bagging_freq is set=6, subsample_freq=0 will be ignored. Current value: bagging_freq=6\n",
      "[LightGBM] [Warning] feature_fraction is set=0.4607130188387406, colsample_bytree=1.0 will be ignored. Current value: feature_fraction=0.4607130188387406\n",
      "[LightGBM] [Warning] bagging_fraction is set=0.4407948869905452, subsample=1.0 will be ignored. Current value: bagging_fraction=0.4407948869905452\n",
      "[LightGBM] [Warning] lambda_l2 is set=0.05009480756433971, reg_lambda=0.0 will be ignored. Current value: lambda_l2=0.05009480756433971\n",
      "[LightGBM] [Warning] lambda_l1 is set=4.9766158290848146e-08, reg_alpha=0.0 will be ignored. Current value: lambda_l1=4.9766158290848146e-08\n",
      "[LightGBM] [Warning] bagging_freq is set=6, subsample_freq=0 will be ignored. Current value: bagging_freq=6\n",
      "[LightGBM] [Warning] feature_fraction is set=0.4607130188387406, colsample_bytree=1.0 will be ignored. Current value: feature_fraction=0.4607130188387406\n",
      "[LightGBM] [Warning] bagging_fraction is set=0.4407948869905452, subsample=1.0 will be ignored. Current value: bagging_fraction=0.4407948869905452\n",
      "[LightGBM] [Warning] lambda_l2 is set=0.05009480756433971, reg_lambda=0.0 will be ignored. Current value: lambda_l2=0.05009480756433971\n",
      "[LightGBM] [Warning] lambda_l1 is set=4.9766158290848146e-08, reg_alpha=0.0 will be ignored. Current value: lambda_l1=4.9766158290848146e-08\n",
      "[LightGBM] [Warning] bagging_freq is set=6, subsample_freq=0 will be ignored. Current value: bagging_freq=6\n",
      "[LightGBM] [Warning] feature_fraction is set=0.4607130188387406, colsample_bytree=1.0 will be ignored. Current value: feature_fraction=0.4607130188387406\n",
      "[LightGBM] [Warning] bagging_fraction is set=0.4407948869905452, subsample=1.0 will be ignored. Current value: bagging_fraction=0.4407948869905452\n",
      "[LightGBM] [Warning] lambda_l2 is set=0.05009480756433971, reg_lambda=0.0 will be ignored. Current value: lambda_l2=0.05009480756433971\n",
      "[LightGBM] [Warning] lambda_l1 is set=4.9766158290848146e-08, reg_alpha=0.0 will be ignored. Current value: lambda_l1=4.9766158290848146e-08\n",
      "[LightGBM] [Warning] bagging_freq is set=6, subsample_freq=0 will be ignored. Current value: bagging_freq=6\n",
      "[LightGBM] [Warning] feature_fraction is set=0.4607130188387406, colsample_bytree=1.0 will be ignored. Current value: feature_fraction=0.4607130188387406\n"
     ]
    },
    {
     "name": "stderr",
     "output_type": "stream",
     "text": [
      "\u001b[32m[I 2023-03-29 02:54:05,168]\u001b[0m Trial 92 finished with value: 0.26947929378425484 and parameters: {'lambda_l1': 4.9766158290848146e-08, 'lambda_l2': 0.05009480756433971, 'num_leaves': 22, 'max_depth': 1, 'learning_rate': 0.15703294312358543, 'feature_fraction': 0.4607130188387406, 'bagging_fraction': 0.4407948869905452, 'bagging_freq': 6, 'min_child_samples': 16}. Best is trial 79 with value: 0.26929791986508994.\u001b[0m\n"
     ]
    },
    {
     "name": "stdout",
     "output_type": "stream",
     "text": [
      "[LightGBM] [Warning] bagging_fraction is set=0.4331824956649906, subsample=1.0 will be ignored. Current value: bagging_fraction=0.4331824956649906\n",
      "[LightGBM] [Warning] lambda_l2 is set=0.05769887158401672, reg_lambda=0.0 will be ignored. Current value: lambda_l2=0.05769887158401672\n",
      "[LightGBM] [Warning] lambda_l1 is set=7.144270116685686e-07, reg_alpha=0.0 will be ignored. Current value: lambda_l1=7.144270116685686e-07\n",
      "[LightGBM] [Warning] bagging_freq is set=6, subsample_freq=0 will be ignored. Current value: bagging_freq=6\n",
      "[LightGBM] [Warning] feature_fraction is set=0.4823188145902408, colsample_bytree=1.0 will be ignored. Current value: feature_fraction=0.4823188145902408\n",
      "[LightGBM] [Warning] bagging_fraction is set=0.4331824956649906, subsample=1.0 will be ignored. Current value: bagging_fraction=0.4331824956649906\n",
      "[LightGBM] [Warning] lambda_l2 is set=0.05769887158401672, reg_lambda=0.0 will be ignored. Current value: lambda_l2=0.05769887158401672\n",
      "[LightGBM] [Warning] lambda_l1 is set=7.144270116685686e-07, reg_alpha=0.0 will be ignored. Current value: lambda_l1=7.144270116685686e-07\n",
      "[LightGBM] [Warning] bagging_freq is set=6, subsample_freq=0 will be ignored. Current value: bagging_freq=6\n",
      "[LightGBM] [Warning] feature_fraction is set=0.4823188145902408, colsample_bytree=1.0 will be ignored. Current value: feature_fraction=0.4823188145902408\n",
      "[LightGBM] [Warning] bagging_fraction is set=0.4331824956649906, subsample=1.0 will be ignored. Current value: bagging_fraction=0.4331824956649906\n",
      "[LightGBM] [Warning] lambda_l2 is set=0.05769887158401672, reg_lambda=0.0 will be ignored. Current value: lambda_l2=0.05769887158401672\n",
      "[LightGBM] [Warning] lambda_l1 is set=7.144270116685686e-07, reg_alpha=0.0 will be ignored. Current value: lambda_l1=7.144270116685686e-07\n",
      "[LightGBM] [Warning] bagging_freq is set=6, subsample_freq=0 will be ignored. Current value: bagging_freq=6\n",
      "[LightGBM] [Warning] feature_fraction is set=0.4823188145902408, colsample_bytree=1.0 will be ignored. Current value: feature_fraction=0.4823188145902408\n",
      "[LightGBM] [Warning] bagging_fraction is set=0.4331824956649906, subsample=1.0 will be ignored. Current value: bagging_fraction=0.4331824956649906\n",
      "[LightGBM] [Warning] lambda_l2 is set=0.05769887158401672, reg_lambda=0.0 will be ignored. Current value: lambda_l2=0.05769887158401672\n",
      "[LightGBM] [Warning] lambda_l1 is set=7.144270116685686e-07, reg_alpha=0.0 will be ignored. Current value: lambda_l1=7.144270116685686e-07\n",
      "[LightGBM] [Warning] bagging_freq is set=6, subsample_freq=0 will be ignored. Current value: bagging_freq=6\n",
      "[LightGBM] [Warning] feature_fraction is set=0.4823188145902408, colsample_bytree=1.0 will be ignored. Current value: feature_fraction=0.4823188145902408\n",
      "[LightGBM] [Warning] bagging_fraction is set=0.4331824956649906, subsample=1.0 will be ignored. Current value: bagging_fraction=0.4331824956649906\n",
      "[LightGBM] [Warning] lambda_l2 is set=0.05769887158401672, reg_lambda=0.0 will be ignored. Current value: lambda_l2=0.05769887158401672\n",
      "[LightGBM] [Warning] lambda_l1 is set=7.144270116685686e-07, reg_alpha=0.0 will be ignored. Current value: lambda_l1=7.144270116685686e-07\n",
      "[LightGBM] [Warning] bagging_freq is set=6, subsample_freq=0 will be ignored. Current value: bagging_freq=6\n",
      "[LightGBM] [Warning] feature_fraction is set=0.4823188145902408, colsample_bytree=1.0 will be ignored. Current value: feature_fraction=0.4823188145902408\n",
      "[LightGBM] [Warning] bagging_fraction is set=0.4331824956649906, subsample=1.0 will be ignored. Current value: bagging_fraction=0.4331824956649906\n",
      "[LightGBM] [Warning] lambda_l2 is set=0.05769887158401672, reg_lambda=0.0 will be ignored. Current value: lambda_l2=0.05769887158401672\n",
      "[LightGBM] [Warning] lambda_l1 is set=7.144270116685686e-07, reg_alpha=0.0 will be ignored. Current value: lambda_l1=7.144270116685686e-07\n",
      "[LightGBM] [Warning] bagging_freq is set=6, subsample_freq=0 will be ignored. Current value: bagging_freq=6\n",
      "[LightGBM] [Warning] feature_fraction is set=0.4823188145902408, colsample_bytree=1.0 will be ignored. Current value: feature_fraction=0.4823188145902408\n"
     ]
    },
    {
     "name": "stderr",
     "output_type": "stream",
     "text": [
      "\u001b[32m[I 2023-03-29 02:54:05,713]\u001b[0m Trial 93 finished with value: 0.26979479830197894 and parameters: {'lambda_l1': 7.144270116685686e-07, 'lambda_l2': 0.05769887158401672, 'num_leaves': 19, 'max_depth': 1, 'learning_rate': 0.15971793088473557, 'feature_fraction': 0.4823188145902408, 'bagging_fraction': 0.4331824956649906, 'bagging_freq': 6, 'min_child_samples': 6}. Best is trial 79 with value: 0.26929791986508994.\u001b[0m\n"
     ]
    },
    {
     "name": "stdout",
     "output_type": "stream",
     "text": [
      "[LightGBM] [Warning] bagging_fraction is set=0.4002607674081169, subsample=1.0 will be ignored. Current value: bagging_fraction=0.4002607674081169\n",
      "[LightGBM] [Warning] lambda_l2 is set=0.47062283936575533, reg_lambda=0.0 will be ignored. Current value: lambda_l2=0.47062283936575533\n",
      "[LightGBM] [Warning] lambda_l1 is set=9.570653740489804e-08, reg_alpha=0.0 will be ignored. Current value: lambda_l1=9.570653740489804e-08\n",
      "[LightGBM] [Warning] bagging_freq is set=7, subsample_freq=0 will be ignored. Current value: bagging_freq=7\n",
      "[LightGBM] [Warning] feature_fraction is set=0.4606617848339817, colsample_bytree=1.0 will be ignored. Current value: feature_fraction=0.4606617848339817\n",
      "[LightGBM] [Warning] bagging_fraction is set=0.4002607674081169, subsample=1.0 will be ignored. Current value: bagging_fraction=0.4002607674081169\n",
      "[LightGBM] [Warning] lambda_l2 is set=0.47062283936575533, reg_lambda=0.0 will be ignored. Current value: lambda_l2=0.47062283936575533\n",
      "[LightGBM] [Warning] lambda_l1 is set=9.570653740489804e-08, reg_alpha=0.0 will be ignored. Current value: lambda_l1=9.570653740489804e-08\n",
      "[LightGBM] [Warning] bagging_freq is set=7, subsample_freq=0 will be ignored. Current value: bagging_freq=7\n",
      "[LightGBM] [Warning] feature_fraction is set=0.4606617848339817, colsample_bytree=1.0 will be ignored. Current value: feature_fraction=0.4606617848339817\n",
      "[LightGBM] [Warning] bagging_fraction is set=0.4002607674081169, subsample=1.0 will be ignored. Current value: bagging_fraction=0.4002607674081169\n",
      "[LightGBM] [Warning] lambda_l2 is set=0.47062283936575533, reg_lambda=0.0 will be ignored. Current value: lambda_l2=0.47062283936575533\n",
      "[LightGBM] [Warning] lambda_l1 is set=9.570653740489804e-08, reg_alpha=0.0 will be ignored. Current value: lambda_l1=9.570653740489804e-08\n",
      "[LightGBM] [Warning] bagging_freq is set=7, subsample_freq=0 will be ignored. Current value: bagging_freq=7\n",
      "[LightGBM] [Warning] feature_fraction is set=0.4606617848339817, colsample_bytree=1.0 will be ignored. Current value: feature_fraction=0.4606617848339817\n",
      "[LightGBM] [Warning] bagging_fraction is set=0.4002607674081169, subsample=1.0 will be ignored. Current value: bagging_fraction=0.4002607674081169\n",
      "[LightGBM] [Warning] lambda_l2 is set=0.47062283936575533, reg_lambda=0.0 will be ignored. Current value: lambda_l2=0.47062283936575533\n",
      "[LightGBM] [Warning] lambda_l1 is set=9.570653740489804e-08, reg_alpha=0.0 will be ignored. Current value: lambda_l1=9.570653740489804e-08\n",
      "[LightGBM] [Warning] bagging_freq is set=7, subsample_freq=0 will be ignored. Current value: bagging_freq=7\n",
      "[LightGBM] [Warning] feature_fraction is set=0.4606617848339817, colsample_bytree=1.0 will be ignored. Current value: feature_fraction=0.4606617848339817\n",
      "[LightGBM] [Warning] bagging_fraction is set=0.4002607674081169, subsample=1.0 will be ignored. Current value: bagging_fraction=0.4002607674081169\n",
      "[LightGBM] [Warning] lambda_l2 is set=0.47062283936575533, reg_lambda=0.0 will be ignored. Current value: lambda_l2=0.47062283936575533\n",
      "[LightGBM] [Warning] lambda_l1 is set=9.570653740489804e-08, reg_alpha=0.0 will be ignored. Current value: lambda_l1=9.570653740489804e-08\n",
      "[LightGBM] [Warning] bagging_freq is set=7, subsample_freq=0 will be ignored. Current value: bagging_freq=7\n",
      "[LightGBM] [Warning] feature_fraction is set=0.4606617848339817, colsample_bytree=1.0 will be ignored. Current value: feature_fraction=0.4606617848339817\n",
      "[LightGBM] [Warning] bagging_fraction is set=0.4002607674081169, subsample=1.0 will be ignored. Current value: bagging_fraction=0.4002607674081169\n",
      "[LightGBM] [Warning] lambda_l2 is set=0.47062283936575533, reg_lambda=0.0 will be ignored. Current value: lambda_l2=0.47062283936575533\n",
      "[LightGBM] [Warning] lambda_l1 is set=9.570653740489804e-08, reg_alpha=0.0 will be ignored. Current value: lambda_l1=9.570653740489804e-08\n",
      "[LightGBM] [Warning] bagging_freq is set=7, subsample_freq=0 will be ignored. Current value: bagging_freq=7\n",
      "[LightGBM] [Warning] feature_fraction is set=0.4606617848339817, colsample_bytree=1.0 will be ignored. Current value: feature_fraction=0.4606617848339817\n"
     ]
    },
    {
     "name": "stderr",
     "output_type": "stream",
     "text": [
      "\u001b[32m[I 2023-03-29 02:54:06,295]\u001b[0m Trial 94 finished with value: 0.2701331868820086 and parameters: {'lambda_l1': 9.570653740489804e-08, 'lambda_l2': 0.47062283936575533, 'num_leaves': 59, 'max_depth': 1, 'learning_rate': 0.18551833456894856, 'feature_fraction': 0.4606617848339817, 'bagging_fraction': 0.4002607674081169, 'bagging_freq': 7, 'min_child_samples': 18}. Best is trial 79 with value: 0.26929791986508994.\u001b[0m\n"
     ]
    },
    {
     "name": "stdout",
     "output_type": "stream",
     "text": [
      "[LightGBM] [Warning] bagging_fraction is set=0.43185161147881374, subsample=1.0 will be ignored. Current value: bagging_fraction=0.43185161147881374\n",
      "[LightGBM] [Warning] lambda_l2 is set=0.15842649617479557, reg_lambda=0.0 will be ignored. Current value: lambda_l2=0.15842649617479557\n",
      "[LightGBM] [Warning] lambda_l1 is set=4.758258512120165e-08, reg_alpha=0.0 will be ignored. Current value: lambda_l1=4.758258512120165e-08\n",
      "[LightGBM] [Warning] bagging_freq is set=6, subsample_freq=0 will be ignored. Current value: bagging_freq=6\n",
      "[LightGBM] [Warning] feature_fraction is set=0.5331615313074685, colsample_bytree=1.0 will be ignored. Current value: feature_fraction=0.5331615313074685\n",
      "[LightGBM] [Warning] bagging_fraction is set=0.43185161147881374, subsample=1.0 will be ignored. Current value: bagging_fraction=0.43185161147881374\n",
      "[LightGBM] [Warning] lambda_l2 is set=0.15842649617479557, reg_lambda=0.0 will be ignored. Current value: lambda_l2=0.15842649617479557\n",
      "[LightGBM] [Warning] lambda_l1 is set=4.758258512120165e-08, reg_alpha=0.0 will be ignored. Current value: lambda_l1=4.758258512120165e-08\n",
      "[LightGBM] [Warning] bagging_freq is set=6, subsample_freq=0 will be ignored. Current value: bagging_freq=6\n",
      "[LightGBM] [Warning] feature_fraction is set=0.5331615313074685, colsample_bytree=1.0 will be ignored. Current value: feature_fraction=0.5331615313074685\n",
      "[LightGBM] [Warning] bagging_fraction is set=0.43185161147881374, subsample=1.0 will be ignored. Current value: bagging_fraction=0.43185161147881374\n",
      "[LightGBM] [Warning] lambda_l2 is set=0.15842649617479557, reg_lambda=0.0 will be ignored. Current value: lambda_l2=0.15842649617479557\n",
      "[LightGBM] [Warning] lambda_l1 is set=4.758258512120165e-08, reg_alpha=0.0 will be ignored. Current value: lambda_l1=4.758258512120165e-08\n",
      "[LightGBM] [Warning] bagging_freq is set=6, subsample_freq=0 will be ignored. Current value: bagging_freq=6\n",
      "[LightGBM] [Warning] feature_fraction is set=0.5331615313074685, colsample_bytree=1.0 will be ignored. Current value: feature_fraction=0.5331615313074685\n",
      "[LightGBM] [Warning] bagging_fraction is set=0.43185161147881374, subsample=1.0 will be ignored. Current value: bagging_fraction=0.43185161147881374\n",
      "[LightGBM] [Warning] lambda_l2 is set=0.15842649617479557, reg_lambda=0.0 will be ignored. Current value: lambda_l2=0.15842649617479557\n",
      "[LightGBM] [Warning] lambda_l1 is set=4.758258512120165e-08, reg_alpha=0.0 will be ignored. Current value: lambda_l1=4.758258512120165e-08\n",
      "[LightGBM] [Warning] bagging_freq is set=6, subsample_freq=0 will be ignored. Current value: bagging_freq=6\n",
      "[LightGBM] [Warning] feature_fraction is set=0.5331615313074685, colsample_bytree=1.0 will be ignored. Current value: feature_fraction=0.5331615313074685\n",
      "[LightGBM] [Warning] bagging_fraction is set=0.43185161147881374, subsample=1.0 will be ignored. Current value: bagging_fraction=0.43185161147881374\n",
      "[LightGBM] [Warning] lambda_l2 is set=0.15842649617479557, reg_lambda=0.0 will be ignored. Current value: lambda_l2=0.15842649617479557\n",
      "[LightGBM] [Warning] lambda_l1 is set=4.758258512120165e-08, reg_alpha=0.0 will be ignored. Current value: lambda_l1=4.758258512120165e-08\n",
      "[LightGBM] [Warning] bagging_freq is set=6, subsample_freq=0 will be ignored. Current value: bagging_freq=6\n",
      "[LightGBM] [Warning] feature_fraction is set=0.5331615313074685, colsample_bytree=1.0 will be ignored. Current value: feature_fraction=0.5331615313074685\n"
     ]
    },
    {
     "name": "stderr",
     "output_type": "stream",
     "text": [
      "\u001b[32m[I 2023-03-29 02:54:07,031]\u001b[0m Trial 95 finished with value: 0.27513326891511386 and parameters: {'lambda_l1': 4.758258512120165e-08, 'lambda_l2': 0.15842649617479557, 'num_leaves': 23, 'max_depth': 3, 'learning_rate': 0.14856515862726388, 'feature_fraction': 0.5331615313074685, 'bagging_fraction': 0.43185161147881374, 'bagging_freq': 6, 'min_child_samples': 10}. Best is trial 79 with value: 0.26929791986508994.\u001b[0m\n"
     ]
    },
    {
     "name": "stdout",
     "output_type": "stream",
     "text": [
      "[LightGBM] [Warning] bagging_fraction is set=0.43185161147881374, subsample=1.0 will be ignored. Current value: bagging_fraction=0.43185161147881374\n",
      "[LightGBM] [Warning] lambda_l2 is set=0.15842649617479557, reg_lambda=0.0 will be ignored. Current value: lambda_l2=0.15842649617479557\n",
      "[LightGBM] [Warning] lambda_l1 is set=4.758258512120165e-08, reg_alpha=0.0 will be ignored. Current value: lambda_l1=4.758258512120165e-08\n",
      "[LightGBM] [Warning] bagging_freq is set=6, subsample_freq=0 will be ignored. Current value: bagging_freq=6\n",
      "[LightGBM] [Warning] feature_fraction is set=0.5331615313074685, colsample_bytree=1.0 will be ignored. Current value: feature_fraction=0.5331615313074685\n",
      "[LightGBM] [Warning] bagging_fraction is set=0.47175250505760424, subsample=1.0 will be ignored. Current value: bagging_fraction=0.47175250505760424\n",
      "[LightGBM] [Warning] lambda_l2 is set=0.09392774521094563, reg_lambda=0.0 will be ignored. Current value: lambda_l2=0.09392774521094563\n",
      "[LightGBM] [Warning] lambda_l1 is set=2.1150421846547132e-07, reg_alpha=0.0 will be ignored. Current value: lambda_l1=2.1150421846547132e-07\n",
      "[LightGBM] [Warning] bagging_freq is set=6, subsample_freq=0 will be ignored. Current value: bagging_freq=6\n",
      "[LightGBM] [Warning] feature_fraction is set=0.507899792119938, colsample_bytree=1.0 will be ignored. Current value: feature_fraction=0.507899792119938\n",
      "[LightGBM] [Warning] bagging_fraction is set=0.47175250505760424, subsample=1.0 will be ignored. Current value: bagging_fraction=0.47175250505760424\n",
      "[LightGBM] [Warning] lambda_l2 is set=0.09392774521094563, reg_lambda=0.0 will be ignored. Current value: lambda_l2=0.09392774521094563\n",
      "[LightGBM] [Warning] lambda_l1 is set=2.1150421846547132e-07, reg_alpha=0.0 will be ignored. Current value: lambda_l1=2.1150421846547132e-07\n",
      "[LightGBM] [Warning] bagging_freq is set=6, subsample_freq=0 will be ignored. Current value: bagging_freq=6\n",
      "[LightGBM] [Warning] feature_fraction is set=0.507899792119938, colsample_bytree=1.0 will be ignored. Current value: feature_fraction=0.507899792119938\n",
      "[LightGBM] [Warning] bagging_fraction is set=0.47175250505760424, subsample=1.0 will be ignored. Current value: bagging_fraction=0.47175250505760424\n",
      "[LightGBM] [Warning] lambda_l2 is set=0.09392774521094563, reg_lambda=0.0 will be ignored. Current value: lambda_l2=0.09392774521094563\n",
      "[LightGBM] [Warning] lambda_l1 is set=2.1150421846547132e-07, reg_alpha=0.0 will be ignored. Current value: lambda_l1=2.1150421846547132e-07\n",
      "[LightGBM] [Warning] bagging_freq is set=6, subsample_freq=0 will be ignored. Current value: bagging_freq=6\n",
      "[LightGBM] [Warning] feature_fraction is set=0.507899792119938, colsample_bytree=1.0 will be ignored. Current value: feature_fraction=0.507899792119938\n",
      "[LightGBM] [Warning] bagging_fraction is set=0.47175250505760424, subsample=1.0 will be ignored. Current value: bagging_fraction=0.47175250505760424\n",
      "[LightGBM] [Warning] lambda_l2 is set=0.09392774521094563, reg_lambda=0.0 will be ignored. Current value: lambda_l2=0.09392774521094563\n",
      "[LightGBM] [Warning] lambda_l1 is set=2.1150421846547132e-07, reg_alpha=0.0 will be ignored. Current value: lambda_l1=2.1150421846547132e-07\n",
      "[LightGBM] [Warning] bagging_freq is set=6, subsample_freq=0 will be ignored. Current value: bagging_freq=6\n",
      "[LightGBM] [Warning] feature_fraction is set=0.507899792119938, colsample_bytree=1.0 will be ignored. Current value: feature_fraction=0.507899792119938\n",
      "[LightGBM] [Warning] bagging_fraction is set=0.47175250505760424, subsample=1.0 will be ignored. Current value: bagging_fraction=0.47175250505760424\n",
      "[LightGBM] [Warning] lambda_l2 is set=0.09392774521094563, reg_lambda=0.0 will be ignored. Current value: lambda_l2=0.09392774521094563\n",
      "[LightGBM] [Warning] lambda_l1 is set=2.1150421846547132e-07, reg_alpha=0.0 will be ignored. Current value: lambda_l1=2.1150421846547132e-07\n",
      "[LightGBM] [Warning] bagging_freq is set=6, subsample_freq=0 will be ignored. Current value: bagging_freq=6\n",
      "[LightGBM] [Warning] feature_fraction is set=0.507899792119938, colsample_bytree=1.0 will be ignored. Current value: feature_fraction=0.507899792119938\n"
     ]
    },
    {
     "name": "stderr",
     "output_type": "stream",
     "text": [
      "\u001b[32m[I 2023-03-29 02:54:07,585]\u001b[0m Trial 96 finished with value: 0.26967978106956497 and parameters: {'lambda_l1': 2.1150421846547132e-07, 'lambda_l2': 0.09392774521094563, 'num_leaves': 31, 'max_depth': 1, 'learning_rate': 0.22692789407757963, 'feature_fraction': 0.507899792119938, 'bagging_fraction': 0.47175250505760424, 'bagging_freq': 6, 'min_child_samples': 18}. Best is trial 79 with value: 0.26929791986508994.\u001b[0m\n"
     ]
    },
    {
     "name": "stdout",
     "output_type": "stream",
     "text": [
      "[LightGBM] [Warning] bagging_fraction is set=0.47175250505760424, subsample=1.0 will be ignored. Current value: bagging_fraction=0.47175250505760424\n",
      "[LightGBM] [Warning] lambda_l2 is set=0.09392774521094563, reg_lambda=0.0 will be ignored. Current value: lambda_l2=0.09392774521094563\n",
      "[LightGBM] [Warning] lambda_l1 is set=2.1150421846547132e-07, reg_alpha=0.0 will be ignored. Current value: lambda_l1=2.1150421846547132e-07\n",
      "[LightGBM] [Warning] bagging_freq is set=6, subsample_freq=0 will be ignored. Current value: bagging_freq=6\n",
      "[LightGBM] [Warning] feature_fraction is set=0.507899792119938, colsample_bytree=1.0 will be ignored. Current value: feature_fraction=0.507899792119938\n",
      "[LightGBM] [Warning] bagging_fraction is set=0.4671825092597053, subsample=1.0 will be ignored. Current value: bagging_fraction=0.4671825092597053\n",
      "[LightGBM] [Warning] lambda_l2 is set=0.08819606274029888, reg_lambda=0.0 will be ignored. Current value: lambda_l2=0.08819606274029888\n",
      "[LightGBM] [Warning] lambda_l1 is set=2.2849680078706632e-07, reg_alpha=0.0 will be ignored. Current value: lambda_l1=2.2849680078706632e-07\n",
      "[LightGBM] [Warning] bagging_freq is set=6, subsample_freq=0 will be ignored. Current value: bagging_freq=6\n",
      "[LightGBM] [Warning] feature_fraction is set=0.5095978428147642, colsample_bytree=1.0 will be ignored. Current value: feature_fraction=0.5095978428147642\n",
      "[LightGBM] [Warning] bagging_fraction is set=0.4671825092597053, subsample=1.0 will be ignored. Current value: bagging_fraction=0.4671825092597053\n",
      "[LightGBM] [Warning] lambda_l2 is set=0.08819606274029888, reg_lambda=0.0 will be ignored. Current value: lambda_l2=0.08819606274029888\n",
      "[LightGBM] [Warning] lambda_l1 is set=2.2849680078706632e-07, reg_alpha=0.0 will be ignored. Current value: lambda_l1=2.2849680078706632e-07\n",
      "[LightGBM] [Warning] bagging_freq is set=6, subsample_freq=0 will be ignored. Current value: bagging_freq=6\n",
      "[LightGBM] [Warning] feature_fraction is set=0.5095978428147642, colsample_bytree=1.0 will be ignored. Current value: feature_fraction=0.5095978428147642\n",
      "[LightGBM] [Warning] bagging_fraction is set=0.4671825092597053, subsample=1.0 will be ignored. Current value: bagging_fraction=0.4671825092597053\n",
      "[LightGBM] [Warning] lambda_l2 is set=0.08819606274029888, reg_lambda=0.0 will be ignored. Current value: lambda_l2=0.08819606274029888\n",
      "[LightGBM] [Warning] lambda_l1 is set=2.2849680078706632e-07, reg_alpha=0.0 will be ignored. Current value: lambda_l1=2.2849680078706632e-07\n",
      "[LightGBM] [Warning] bagging_freq is set=6, subsample_freq=0 will be ignored. Current value: bagging_freq=6\n",
      "[LightGBM] [Warning] feature_fraction is set=0.5095978428147642, colsample_bytree=1.0 will be ignored. Current value: feature_fraction=0.5095978428147642\n",
      "[LightGBM] [Warning] bagging_fraction is set=0.4671825092597053, subsample=1.0 will be ignored. Current value: bagging_fraction=0.4671825092597053\n",
      "[LightGBM] [Warning] lambda_l2 is set=0.08819606274029888, reg_lambda=0.0 will be ignored. Current value: lambda_l2=0.08819606274029888\n",
      "[LightGBM] [Warning] lambda_l1 is set=2.2849680078706632e-07, reg_alpha=0.0 will be ignored. Current value: lambda_l1=2.2849680078706632e-07\n",
      "[LightGBM] [Warning] bagging_freq is set=6, subsample_freq=0 will be ignored. Current value: bagging_freq=6\n",
      "[LightGBM] [Warning] feature_fraction is set=0.5095978428147642, colsample_bytree=1.0 will be ignored. Current value: feature_fraction=0.5095978428147642\n",
      "[LightGBM] [Warning] bagging_fraction is set=0.4671825092597053, subsample=1.0 will be ignored. Current value: bagging_fraction=0.4671825092597053\n",
      "[LightGBM] [Warning] lambda_l2 is set=0.08819606274029888, reg_lambda=0.0 will be ignored. Current value: lambda_l2=0.08819606274029888\n",
      "[LightGBM] [Warning] lambda_l1 is set=2.2849680078706632e-07, reg_alpha=0.0 will be ignored. Current value: lambda_l1=2.2849680078706632e-07\n",
      "[LightGBM] [Warning] bagging_freq is set=6, subsample_freq=0 will be ignored. Current value: bagging_freq=6\n",
      "[LightGBM] [Warning] feature_fraction is set=0.5095978428147642, colsample_bytree=1.0 will be ignored. Current value: feature_fraction=0.5095978428147642\n"
     ]
    },
    {
     "name": "stderr",
     "output_type": "stream",
     "text": [
      "\u001b[32m[I 2023-03-29 02:54:08,400]\u001b[0m Trial 97 finished with value: 0.2782707701561368 and parameters: {'lambda_l1': 2.2849680078706632e-07, 'lambda_l2': 0.08819606274029888, 'num_leaves': 62, 'max_depth': 3, 'learning_rate': 0.22633081433504013, 'feature_fraction': 0.5095978428147642, 'bagging_fraction': 0.4671825092597053, 'bagging_freq': 6, 'min_child_samples': 18}. Best is trial 79 with value: 0.26929791986508994.\u001b[0m\n"
     ]
    },
    {
     "name": "stdout",
     "output_type": "stream",
     "text": [
      "[LightGBM] [Warning] bagging_fraction is set=0.4671825092597053, subsample=1.0 will be ignored. Current value: bagging_fraction=0.4671825092597053\n",
      "[LightGBM] [Warning] lambda_l2 is set=0.08819606274029888, reg_lambda=0.0 will be ignored. Current value: lambda_l2=0.08819606274029888\n",
      "[LightGBM] [Warning] lambda_l1 is set=2.2849680078706632e-07, reg_alpha=0.0 will be ignored. Current value: lambda_l1=2.2849680078706632e-07\n",
      "[LightGBM] [Warning] bagging_freq is set=6, subsample_freq=0 will be ignored. Current value: bagging_freq=6\n",
      "[LightGBM] [Warning] feature_fraction is set=0.5095978428147642, colsample_bytree=1.0 will be ignored. Current value: feature_fraction=0.5095978428147642\n",
      "[LightGBM] [Warning] bagging_fraction is set=0.44319567392813053, subsample=1.0 will be ignored. Current value: bagging_fraction=0.44319567392813053\n",
      "[LightGBM] [Warning] lambda_l2 is set=0.43149596254806516, reg_lambda=0.0 will be ignored. Current value: lambda_l2=0.43149596254806516\n",
      "[LightGBM] [Warning] lambda_l1 is set=5.462527789896667e-07, reg_alpha=0.0 will be ignored. Current value: lambda_l1=5.462527789896667e-07\n",
      "[LightGBM] [Warning] bagging_freq is set=6, subsample_freq=0 will be ignored. Current value: bagging_freq=6\n",
      "[LightGBM] [Warning] feature_fraction is set=0.4963066627880164, colsample_bytree=1.0 will be ignored. Current value: feature_fraction=0.4963066627880164\n",
      "[LightGBM] [Warning] bagging_fraction is set=0.44319567392813053, subsample=1.0 will be ignored. Current value: bagging_fraction=0.44319567392813053\n",
      "[LightGBM] [Warning] lambda_l2 is set=0.43149596254806516, reg_lambda=0.0 will be ignored. Current value: lambda_l2=0.43149596254806516\n",
      "[LightGBM] [Warning] lambda_l1 is set=5.462527789896667e-07, reg_alpha=0.0 will be ignored. Current value: lambda_l1=5.462527789896667e-07\n",
      "[LightGBM] [Warning] bagging_freq is set=6, subsample_freq=0 will be ignored. Current value: bagging_freq=6\n",
      "[LightGBM] [Warning] feature_fraction is set=0.4963066627880164, colsample_bytree=1.0 will be ignored. Current value: feature_fraction=0.4963066627880164\n",
      "[LightGBM] [Warning] bagging_fraction is set=0.44319567392813053, subsample=1.0 will be ignored. Current value: bagging_fraction=0.44319567392813053\n",
      "[LightGBM] [Warning] lambda_l2 is set=0.43149596254806516, reg_lambda=0.0 will be ignored. Current value: lambda_l2=0.43149596254806516\n",
      "[LightGBM] [Warning] lambda_l1 is set=5.462527789896667e-07, reg_alpha=0.0 will be ignored. Current value: lambda_l1=5.462527789896667e-07\n",
      "[LightGBM] [Warning] bagging_freq is set=6, subsample_freq=0 will be ignored. Current value: bagging_freq=6\n",
      "[LightGBM] [Warning] feature_fraction is set=0.4963066627880164, colsample_bytree=1.0 will be ignored. Current value: feature_fraction=0.4963066627880164\n",
      "[LightGBM] [Warning] bagging_fraction is set=0.44319567392813053, subsample=1.0 will be ignored. Current value: bagging_fraction=0.44319567392813053\n",
      "[LightGBM] [Warning] lambda_l2 is set=0.43149596254806516, reg_lambda=0.0 will be ignored. Current value: lambda_l2=0.43149596254806516\n",
      "[LightGBM] [Warning] lambda_l1 is set=5.462527789896667e-07, reg_alpha=0.0 will be ignored. Current value: lambda_l1=5.462527789896667e-07\n",
      "[LightGBM] [Warning] bagging_freq is set=6, subsample_freq=0 will be ignored. Current value: bagging_freq=6\n",
      "[LightGBM] [Warning] feature_fraction is set=0.4963066627880164, colsample_bytree=1.0 will be ignored. Current value: feature_fraction=0.4963066627880164\n"
     ]
    },
    {
     "name": "stderr",
     "output_type": "stream",
     "text": [
      "\u001b[32m[I 2023-03-29 02:54:09,105]\u001b[0m Trial 98 finished with value: 0.27086071890049707 and parameters: {'lambda_l1': 5.462527789896667e-07, 'lambda_l2': 0.43149596254806516, 'num_leaves': 30, 'max_depth': 2, 'learning_rate': 0.1348630894966466, 'feature_fraction': 0.4963066627880164, 'bagging_fraction': 0.44319567392813053, 'bagging_freq': 6, 'min_child_samples': 13}. Best is trial 79 with value: 0.26929791986508994.\u001b[0m\n"
     ]
    },
    {
     "name": "stdout",
     "output_type": "stream",
     "text": [
      "[LightGBM] [Warning] bagging_fraction is set=0.44319567392813053, subsample=1.0 will be ignored. Current value: bagging_fraction=0.44319567392813053\n",
      "[LightGBM] [Warning] lambda_l2 is set=0.43149596254806516, reg_lambda=0.0 will be ignored. Current value: lambda_l2=0.43149596254806516\n",
      "[LightGBM] [Warning] lambda_l1 is set=5.462527789896667e-07, reg_alpha=0.0 will be ignored. Current value: lambda_l1=5.462527789896667e-07\n",
      "[LightGBM] [Warning] bagging_freq is set=6, subsample_freq=0 will be ignored. Current value: bagging_freq=6\n",
      "[LightGBM] [Warning] feature_fraction is set=0.4963066627880164, colsample_bytree=1.0 will be ignored. Current value: feature_fraction=0.4963066627880164\n",
      "[LightGBM] [Warning] bagging_fraction is set=0.44319567392813053, subsample=1.0 will be ignored. Current value: bagging_fraction=0.44319567392813053\n",
      "[LightGBM] [Warning] lambda_l2 is set=0.43149596254806516, reg_lambda=0.0 will be ignored. Current value: lambda_l2=0.43149596254806516\n",
      "[LightGBM] [Warning] lambda_l1 is set=5.462527789896667e-07, reg_alpha=0.0 will be ignored. Current value: lambda_l1=5.462527789896667e-07\n",
      "[LightGBM] [Warning] bagging_freq is set=6, subsample_freq=0 will be ignored. Current value: bagging_freq=6\n",
      "[LightGBM] [Warning] feature_fraction is set=0.4963066627880164, colsample_bytree=1.0 will be ignored. Current value: feature_fraction=0.4963066627880164\n",
      "[LightGBM] [Warning] bagging_fraction is set=0.4912289023459897, subsample=1.0 will be ignored. Current value: bagging_fraction=0.4912289023459897\n",
      "[LightGBM] [Warning] lambda_l2 is set=0.01249905780417955, reg_lambda=0.0 will be ignored. Current value: lambda_l2=0.01249905780417955\n",
      "[LightGBM] [Warning] lambda_l1 is set=6.288990295921116e-08, reg_alpha=0.0 will be ignored. Current value: lambda_l1=6.288990295921116e-08\n",
      "[LightGBM] [Warning] bagging_freq is set=6, subsample_freq=0 will be ignored. Current value: bagging_freq=6\n",
      "[LightGBM] [Warning] feature_fraction is set=0.5187522435417268, colsample_bytree=1.0 will be ignored. Current value: feature_fraction=0.5187522435417268\n",
      "[LightGBM] [Warning] bagging_fraction is set=0.4912289023459897, subsample=1.0 will be ignored. Current value: bagging_fraction=0.4912289023459897\n",
      "[LightGBM] [Warning] lambda_l2 is set=0.01249905780417955, reg_lambda=0.0 will be ignored. Current value: lambda_l2=0.01249905780417955\n",
      "[LightGBM] [Warning] lambda_l1 is set=6.288990295921116e-08, reg_alpha=0.0 will be ignored. Current value: lambda_l1=6.288990295921116e-08\n",
      "[LightGBM] [Warning] bagging_freq is set=6, subsample_freq=0 will be ignored. Current value: bagging_freq=6\n",
      "[LightGBM] [Warning] feature_fraction is set=0.5187522435417268, colsample_bytree=1.0 will be ignored. Current value: feature_fraction=0.5187522435417268\n",
      "[LightGBM] [Warning] bagging_fraction is set=0.4912289023459897, subsample=1.0 will be ignored. Current value: bagging_fraction=0.4912289023459897\n",
      "[LightGBM] [Warning] lambda_l2 is set=0.01249905780417955, reg_lambda=0.0 will be ignored. Current value: lambda_l2=0.01249905780417955\n",
      "[LightGBM] [Warning] lambda_l1 is set=6.288990295921116e-08, reg_alpha=0.0 will be ignored. Current value: lambda_l1=6.288990295921116e-08\n",
      "[LightGBM] [Warning] bagging_freq is set=6, subsample_freq=0 will be ignored. Current value: bagging_freq=6\n",
      "[LightGBM] [Warning] feature_fraction is set=0.5187522435417268, colsample_bytree=1.0 will be ignored. Current value: feature_fraction=0.5187522435417268\n",
      "[LightGBM] [Warning] bagging_fraction is set=0.4912289023459897, subsample=1.0 will be ignored. Current value: bagging_fraction=0.4912289023459897\n",
      "[LightGBM] [Warning] lambda_l2 is set=0.01249905780417955, reg_lambda=0.0 will be ignored. Current value: lambda_l2=0.01249905780417955\n",
      "[LightGBM] [Warning] lambda_l1 is set=6.288990295921116e-08, reg_alpha=0.0 will be ignored. Current value: lambda_l1=6.288990295921116e-08\n",
      "[LightGBM] [Warning] bagging_freq is set=6, subsample_freq=0 will be ignored. Current value: bagging_freq=6\n",
      "[LightGBM] [Warning] feature_fraction is set=0.5187522435417268, colsample_bytree=1.0 will be ignored. Current value: feature_fraction=0.5187522435417268\n",
      "[LightGBM] [Warning] bagging_fraction is set=0.4912289023459897, subsample=1.0 will be ignored. Current value: bagging_fraction=0.4912289023459897\n",
      "[LightGBM] [Warning] lambda_l2 is set=0.01249905780417955, reg_lambda=0.0 will be ignored. Current value: lambda_l2=0.01249905780417955\n",
      "[LightGBM] [Warning] lambda_l1 is set=6.288990295921116e-08, reg_alpha=0.0 will be ignored. Current value: lambda_l1=6.288990295921116e-08\n",
      "[LightGBM] [Warning] bagging_freq is set=6, subsample_freq=0 will be ignored. Current value: bagging_freq=6\n",
      "[LightGBM] [Warning] feature_fraction is set=0.5187522435417268, colsample_bytree=1.0 will be ignored. Current value: feature_fraction=0.5187522435417268\n",
      "[LightGBM] [Warning] bagging_fraction is set=0.4912289023459897, subsample=1.0 will be ignored. Current value: bagging_fraction=0.4912289023459897\n",
      "[LightGBM] [Warning] lambda_l2 is set=0.01249905780417955, reg_lambda=0.0 will be ignored. Current value: lambda_l2=0.01249905780417955\n",
      "[LightGBM] [Warning] lambda_l1 is set=6.288990295921116e-08, reg_alpha=0.0 will be ignored. Current value: lambda_l1=6.288990295921116e-08\n",
      "[LightGBM] [Warning] bagging_freq is set=6, subsample_freq=0 will be ignored. Current value: bagging_freq=6\n",
      "[LightGBM] [Warning] feature_fraction is set=0.5187522435417268, colsample_bytree=1.0 will be ignored. Current value: feature_fraction=0.5187522435417268\n"
     ]
    },
    {
     "name": "stderr",
     "output_type": "stream",
     "text": [
      "\u001b[32m[I 2023-03-29 02:54:09,706]\u001b[0m Trial 99 finished with value: 0.2712280266202237 and parameters: {'lambda_l1': 6.288990295921116e-08, 'lambda_l2': 0.01249905780417955, 'num_leaves': 49, 'max_depth': 1, 'learning_rate': 0.3064552513409587, 'feature_fraction': 0.5187522435417268, 'bagging_fraction': 0.4912289023459897, 'bagging_freq': 6, 'min_child_samples': 22}. Best is trial 79 with value: 0.26929791986508994.\u001b[0m\n"
     ]
    },
    {
     "name": "stdout",
     "output_type": "stream",
     "text": [
      "Number of finished trials:  100\n",
      "Best trial:\n",
      "  Value:  0.26929791986508994\n",
      "  Params: \n",
      "    lambda_l1: 1.4055960793390993e-07\n",
      "    lambda_l2: 0.2850866041387991\n",
      "    num_leaves: 28\n",
      "    max_depth: 1\n",
      "    learning_rate: 0.18842706545996876\n",
      "    feature_fraction: 0.47546886326025795\n",
      "    bagging_fraction: 0.41692857360941143\n",
      "    bagging_freq: 3\n",
      "    min_child_samples: 61\n"
     ]
    }
   ],
   "source": [
    "study = optuna.create_study(direction=\"minimize\")\n",
    "study.optimize(objective, n_trials=100)\n",
    "\n",
    "print(\"Number of finished trials: \", len(study.trials))\n",
    "print(\"Best trial:\")\n",
    "trial = study.best_trial\n",
    "\n",
    "print(\"  Value: \", trial.value)\n",
    "print(\"  Params: \")\n",
    "for key, value in trial.params.items():\n",
    "    print(\"    {}: {}\".format(key, value))"
   ]
  },
  {
   "cell_type": "code",
   "execution_count": null,
   "metadata": {
    "colab": {
     "base_uri": "https://localhost:8080/"
    },
    "executionInfo": {
     "elapsed": 389,
     "status": "ok",
     "timestamp": 1680058511405,
     "user": {
      "displayName": "황선경",
      "userId": "17888974404389374352"
     },
     "user_tz": -540
    },
    "id": "BEGdddZKNAO3",
    "outputId": "a42264e0-70bd-4532-e570-3fa9c4cee324"
   },
   "outputs": [
    {
     "name": "stdout",
     "output_type": "stream",
     "text": [
      "Best Score: 0.26929791986508994\n",
      "Best trial: {'lambda_l1': 1.4055960793390993e-07, 'lambda_l2': 0.2850866041387991, 'num_leaves': 28, 'max_depth': 1, 'learning_rate': 0.18842706545996876, 'feature_fraction': 0.47546886326025795, 'bagging_fraction': 0.41692857360941143, 'bagging_freq': 3, 'min_child_samples': 61}\n"
     ]
    }
   ],
   "source": [
    "print(\"Best Score:\", study.best_value)\n",
    "print(\"Best trial:\", study.best_trial.params)"
   ]
  },
  {
   "cell_type": "markdown",
   "metadata": {
    "id": "CytQ9v26GaQg"
   },
   "source": [
    "## Random Forest Regressor GridSearchCV"
   ]
  },
  {
   "cell_type": "code",
   "execution_count": null,
   "metadata": {
    "id": "IVbtzFG0HTdU"
   },
   "outputs": [],
   "source": [
    "from sklearn.model_selection import GridSearchCV\n",
    "\n",
    "rf_reg = RandomForestRegressor()\n",
    "param_grid = {\n",
    "    'n_estimators':[100, 200,300,500,1000],\n",
    "    'max_features':['auto', 'sqrt', 'log2'],\n",
    "    'max_depth':[5,10,20,50]\n",
    "}\n",
    "\n",
    "grid_search = GridSearchCV(rf_reg, param_grid, cv=5, scoring='neg_mean_squared_error')\n",
    "grid_search.fit(X_norm, y)\n",
    "\n",
    "results = pd.DataFrame(grid_search.cv_results_)\n",
    "best_estimator = grid_search.best_estimator_\n",
    "print(best_estimator)"
   ]
  },
  {
   "cell_type": "code",
   "execution_count": null,
   "metadata": {
    "colab": {
     "base_uri": "https://localhost:8080/",
     "height": 459
    },
    "executionInfo": {
     "elapsed": 71486,
     "status": "ok",
     "timestamp": 1679668764517,
     "user": {
      "displayName": "조민정",
      "userId": "09786996135651143212"
     },
     "user_tz": -540
    },
    "id": "pjkit5EhDJ8g",
    "outputId": "812843af-7d1e-4c9a-de3c-a2a296ef7fec"
   },
   "outputs": [
    {
     "name": "stdout",
     "output_type": "stream",
     "text": [
      "Model Report\n",
      "MSE: 0.2746503080641741\n",
      "RMSE: 0.5240708998448341\n"
     ]
    },
    {
     "data": {
      "text/plain": [
       "<Axes: title={'center': 'Feature Importance'}>"
      ]
     },
     "execution_count": 9,
     "metadata": {},
     "output_type": "execute_result"
    },
    {
     "data": {
      "image/png": "[encoded data removed]",
      "text/plain": [
       "<Figure size 432x288 with 1 Axes>"
      ]
     },
     "metadata": {
      "needs_background": "light"
     },
     "output_type": "display_data"
    }
   ],
   "source": [
    "from sklearn.ensemble import RandomForestRegressor\n",
    "model = RandomForestRegressor(bootstrap=True, max_depth=5, max_features=35, n_estimators=1000)\n",
    "train(model, X_norm, y)\n",
    "coef = pd.Series(model.feature_importances_, X_norm.columns).sort_values(ascending=False)\n",
    "coef.plot(kind='bar', title=\"Feature Importance\")"
   ]
  },
  {
   "cell_type": "markdown",
   "metadata": {
    "id": "OHs-1pq0Gghx"
   },
   "source": [
    "## ExtraTreeRegressor"
   ]
  },
  {
   "cell_type": "code",
   "execution_count": null,
   "metadata": {
    "colab": {
     "base_uri": "https://localhost:8080/",
     "height": 459
    },
    "executionInfo": {
     "elapsed": 36633,
     "status": "ok",
     "timestamp": 1679668860335,
     "user": {
      "displayName": "조민정",
      "userId": "09786996135651143212"
     },
     "user_tz": -540
    },
    "id": "fr7vB_T2DNG2",
    "outputId": "4f32d028-9878-4b56-a1b9-ce8f8f6e34e4"
   },
   "outputs": [
    {
     "name": "stdout",
     "output_type": "stream",
     "text": [
      "Model Report\n",
      "MSE: 0.2767243109732031\n",
      "RMSE: 0.5260459209738282\n"
     ]
    },
    {
     "data": {
      "text/plain": [
       "<Axes: title={'center': 'Feature Importance'}>"
      ]
     },
     "execution_count": 10,
     "metadata": {},
     "output_type": "execute_result"
    },
    {
     "data": {
      "image/png": "[encoded data removed]",
      "text/plain": [
       "<Figure size 432x288 with 1 Axes>"
      ]
     },
     "metadata": {
      "needs_background": "light"
     },
     "output_type": "display_data"
    }
   ],
   "source": [
    "from sklearn.ensemble import ExtraTreesRegressor\n",
    "model = ExtraTreesRegressor(bootstrap=True, max_depth=5, max_features=35, n_estimators=1000)\n",
    "train(model, X_norm, y)\n",
    "coef = pd.Series(model.feature_importances_, X_norm.columns).sort_values(ascending=False)\n",
    "coef.plot(kind='bar', title=\"Feature Importance\")"
   ]
  },
  {
   "cell_type": "markdown",
   "metadata": {
    "id": "O8QcEuzwGiqO"
   },
   "source": [
    "## Decision Tree Regressor"
   ]
  },
  {
   "cell_type": "code",
   "execution_count": null,
   "metadata": {
    "colab": {
     "base_uri": "https://localhost:8080/",
     "height": 459
    },
    "executionInfo": {
     "elapsed": 1674,
     "status": "ok",
     "timestamp": 1679668898131,
     "user": {
      "displayName": "조민정",
      "userId": "09786996135651143212"
     },
     "user_tz": -540
    },
    "id": "wrF8wg8iDg4B",
    "outputId": "65867457-1c10-4d32-da11-6da46a4cd8cd"
   },
   "outputs": [
    {
     "name": "stdout",
     "output_type": "stream",
     "text": [
      "Model Report\n",
      "MSE: 0.2911690150890533\n",
      "RMSE: 0.5396007923354573\n"
     ]
    },
    {
     "data": {
      "text/plain": [
       "<Axes: title={'center': 'Feature Importance'}>"
      ]
     },
     "execution_count": 12,
     "metadata": {},
     "output_type": "execute_result"
    },
    {
     "data": {
      "image/png": "[encoded data removed]",
      "text/plain": [
       "<Figure size 432x288 with 1 Axes>"
      ]
     },
     "metadata": {
      "needs_background": "light"
     },
     "output_type": "display_data"
    }
   ],
   "source": [
    "from sklearn.tree import DecisionTreeRegressor\n",
    "\n",
    "\n",
    "model =DecisionTreeRegressor(max_depth=5, max_features=35) \n",
    "train(model, X_norm, y)\n",
    "coef = pd.Series(model.feature_importances_, X_norm.columns).sort_values(ascending=False)\n",
    "coef.plot(kind='bar', title=\"Feature Importance\")"
   ]
  },
  {
   "cell_type": "markdown",
   "metadata": {
    "id": "8uYAtf9XGk_8"
   },
   "source": [
    "## Lasso"
   ]
  },
  {
   "cell_type": "code",
   "execution_count": null,
   "metadata": {
    "colab": {
     "base_uri": "https://localhost:8080/",
     "height": 459
    },
    "executionInfo": {
     "elapsed": 1928,
     "status": "ok",
     "timestamp": 1679668902456,
     "user": {
      "displayName": "조민정",
      "userId": "09786996135651143212"
     },
     "user_tz": -540
    },
    "id": "7uVMr9mLDRaf",
    "outputId": "def52f1f-b909-4508-d4e1-3e7f46bdb23e"
   },
   "outputs": [
    {
     "name": "stdout",
     "output_type": "stream",
     "text": [
      "Model Report\n",
      "MSE: 0.2674171383121631\n",
      "RMSE: 0.5171239100178633\n"
     ]
    },
    {
     "data": {
      "text/plain": [
       "<Axes: title={'center': 'Model Coefficients'}>"
      ]
     },
     "execution_count": 13,
     "metadata": {},
     "output_type": "execute_result"
    },
    {
     "data": {
      "image/png": "[encoded data removed]",
      "text/plain": [
       "<Figure size 432x288 with 1 Axes>"
      ]
     },
     "metadata": {
      "needs_background": "light"
     },
     "output_type": "display_data"
    }
   ],
   "source": [
    "from sklearn.linear_model import LinearRegression, Ridge, Lasso\n",
    "\n",
    "model = Lasso(alpha=0.001, tol=0.001)\n",
    "train(model, X_norm, y)\n",
    "coef = pd.Series(model.coef_, X_norm.columns).sort_values()\n",
    "coef.plot(kind='bar', title=\"Model Coefficients\")"
   ]
  },
  {
   "cell_type": "markdown",
   "metadata": {
    "id": "-Nm8ZDFbGm67"
   },
   "source": [
    "## Ridge"
   ]
  },
  {
   "cell_type": "code",
   "execution_count": null,
   "metadata": {
    "colab": {
     "base_uri": "https://localhost:8080/",
     "height": 459
    },
    "executionInfo": {
     "elapsed": 1821,
     "status": "ok",
     "timestamp": 1679668911518,
     "user": {
      "displayName": "조민정",
      "userId": "09786996135651143212"
     },
     "user_tz": -540
    },
    "id": "OtTifJK-DTqF",
    "outputId": "e73b38a7-3c6a-45cf-e729-284ac3c77837"
   },
   "outputs": [
    {
     "name": "stdout",
     "output_type": "stream",
     "text": [
      "Model Report\n",
      "MSE: 0.267813850009052\n",
      "RMSE: 0.5175073429518193\n"
     ]
    },
    {
     "data": {
      "text/plain": [
       "<Axes: title={'center': 'Model Coefficients'}>"
      ]
     },
     "execution_count": 14,
     "metadata": {},
     "output_type": "execute_result"
    },
    {
     "data": {
      "image/png": "[encoded data removed]",
      "text/plain": [
       "<Figure size 432x288 with 1 Axes>"
      ]
     },
     "metadata": {
      "needs_background": "light"
     },
     "output_type": "display_data"
    }
   ],
   "source": [
    "\n",
    "model = Ridge(alpha=10, max_iter=1000, solver='saga', fit_intercept=True, tol=0.001)\n",
    "\n",
    "train(model, X_norm, y)\n",
    "coef = pd.Series(model.coef_, X_norm.columns).sort_values()\n",
    "coef.plot(kind='bar', title=\"Model Coefficients\")"
   ]
  },
  {
   "cell_type": "markdown",
   "metadata": {
    "id": "3HT5K0C7Goci"
   },
   "source": [
    "## LinearRegression"
   ]
  },
  {
   "cell_type": "code",
   "execution_count": null,
   "metadata": {
    "colab": {
     "base_uri": "https://localhost:8080/",
     "height": 459
    },
    "executionInfo": {
     "elapsed": 433,
     "status": "ok",
     "timestamp": 1679668911947,
     "user": {
      "displayName": "조민정",
      "userId": "09786996135651143212"
     },
     "user_tz": -540
    },
    "id": "hIS3rrBeDW8H",
    "outputId": "ec87a634-3198-4c6b-bbc7-656e5c73fa1d"
   },
   "outputs": [
    {
     "name": "stdout",
     "output_type": "stream",
     "text": [
      "Model Report\n",
      "MSE: 0.2678768519450207\n",
      "RMSE: 0.5175682099443712\n"
     ]
    },
    {
     "data": {
      "text/plain": [
       "<Axes: title={'center': 'Model Coefficients'}>"
      ]
     },
     "execution_count": 15,
     "metadata": {},
     "output_type": "execute_result"
    },
    {
     "data": {
      "image/png": "[encoded data removed]",
      "text/plain": [
       "<Figure size 432x288 with 1 Axes>"
      ]
     },
     "metadata": {
      "needs_background": "light"
     },
     "output_type": "display_data"
    }
   ],
   "source": [
    "\n",
    "model = LinearRegression(fit_intercept=True)\n",
    "train(model, X_norm, y)\n",
    "coef = pd.Series(model.coef_, X_norm.columns).sort_values()\n",
    "coef.plot(kind='bar', title=\"Model Coefficients\")"
   ]
  },
  {
   "cell_type": "markdown",
   "metadata": {
    "id": "Vn0UFOIRGqV8"
   },
   "source": [
    "## SVR"
   ]
  },
  {
   "cell_type": "code",
   "execution_count": null,
   "metadata": {
    "colab": {
     "base_uri": "https://localhost:8080/",
     "height": 459
    },
    "executionInfo": {
     "elapsed": 14544,
     "status": "ok",
     "timestamp": 1679669256257,
     "user": {
      "displayName": "조민정",
      "userId": "09786996135651143212"
     },
     "user_tz": -540
    },
    "id": "8oh-vULHDZrO",
    "outputId": "f2f42ea2-c907-4f9e-bf46-c191a6188559"
   },
   "outputs": [
    {
     "name": "stdout",
     "output_type": "stream",
     "text": [
      "Model Report\n",
      "MSE: 0.27088285292865005\n",
      "RMSE: 0.520464074580225\n"
     ]
    },
    {
     "data": {
      "text/plain": [
       "<Axes: title={'center': 'Model Coefficients'}>"
      ]
     },
     "execution_count": 23,
     "metadata": {},
     "output_type": "execute_result"
    },
    {
     "data": {
      "image/png": "[encoded data removed]",
      "text/plain": [
       "<Figure size 432x288 with 1 Axes>"
      ]
     },
     "metadata": {
      "needs_background": "light"
     },
     "output_type": "display_data"
    }
   ],
   "source": [
    "from sklearn.svm import SVR\n",
    "model =SVR(C= 0.007, epsilon= 0.005, kernel= 'linear')\n",
    "train(model, X_norm, y)\n",
    "#coef = pd.Series(model.coef_, X_norm.columns).sort_values(ascending=False)\n",
    "\n",
    "coef= model.coef_\n",
    "#coef.plot(kind='bar', title=\"Feature Importance\")\n",
    "coef = pd.Series(coef[0], X_norm.columns).sort_values()\n",
    "coef.plot(kind='bar', title=\"Model Coefficients\")"
   ]
  },
  {
   "cell_type": "markdown",
   "metadata": {
    "id": "dC1iq3a_FwxD"
   },
   "source": []
  },
  {
   "cell_type": "code",
   "execution_count": null,
   "metadata": {
    "colab": {
     "base_uri": "https://localhost:8080/"
    },
    "executionInfo": {
     "elapsed": 413,
     "status": "ok",
     "timestamp": 1679669239186,
     "user": {
      "displayName": "조민정",
      "userId": "09786996135651143212"
     },
     "user_tz": -540
    },
    "id": "y7aGRZ9SEZXH",
    "outputId": "2274b915-16eb-46b3-c095-6b4c4ece5f33"
   },
   "outputs": [
    {
     "data": {
      "text/plain": [
       "array([-1.31176565e-03, -3.03345684e-03,  5.31172314e-01,  9.27515490e-02,\n",
       "       -1.08336169e-02, -3.51191960e-03, -2.46919295e-01,  2.88822362e-01,\n",
       "       -3.22815236e-01, -9.14506983e-03, -9.19301012e-01,  3.40421410e-01,\n",
       "        7.04197580e-02,  7.91841964e-03, -4.40650005e-03, -4.53002709e-01,\n",
       "        2.06083413e-01, -3.14923571e-02,  7.04197580e-02, -4.66298303e-01,\n",
       "        5.08459843e-01,  1.99883469e-01, -1.77536182e-01,  2.24511767e-01,\n",
       "       -7.93108421e-04,  2.43127002e-02, -1.84972485e-02,  7.65586958e-03,\n",
       "       -1.91115234e-02, -1.59396450e-02, -3.75666128e-03, -1.52842609e-02,\n",
       "        1.46848177e-02, -1.87087706e-02,  2.10000000e-02,  5.12033292e-04,\n",
       "        1.40000000e-02,  2.33544609e-03, -2.04096488e-02,  1.43483067e-01,\n",
       "       -9.14506983e-03])"
      ]
     },
     "execution_count": 22,
     "metadata": {},
     "output_type": "execute_result"
    }
   ],
   "source": [
    "coef= model.coef_[0]\n",
    "coef"
   ]
  },
  {
   "cell_type": "markdown",
   "metadata": {
    "id": "5PIqA0daGH2j"
   },
   "source": [
    "## Voting Regressor"
   ]
  },
  {
   "cell_type": "code",
   "execution_count": null,
   "metadata": {
    "colab": {
     "base_uri": "https://localhost:8080/"
    },
    "executionInfo": {
     "elapsed": 481,
     "status": "ok",
     "timestamp": 1679668863214,
     "user": {
      "displayName": "조민정",
      "userId": "09786996135651143212"
     },
     "user_tz": -540
    },
    "id": "z36N731QDE5g",
    "outputId": "4426b722-f4f5-4036-9e28-b9f972d0e056"
   },
   "outputs": [
    {
     "name": "stdout",
     "output_type": "stream",
     "text": [
      "Model Report\n",
      "MSE: 0.26746246757045516\n",
      "RMSE: 0.5171677363974431\n"
     ]
    }
   ],
   "source": [
    "from sklearn.svm import SVR\n",
    "from sklearn.ensemble import VotingRegressor\n",
    "from sklearn.linear_model import LinearRegression, Ridge, Lasso\n",
    "from sklearn.ensemble import RandomForestRegressor,ExtraTreesRegressor\n",
    "\n",
    "linear_reg =  LinearRegression(fit_intercept=True)\n",
    "lasso = Lasso(alpha=0.001, tol=1e-06, fit_intercept=True,max_iter = 1000)\n",
    "ridge = Ridge(alpha=1, max_iter=1000, solver='saga')\n",
    "\n",
    "ensemble = VotingRegressor(estimators=[('linear_reg', linear_reg),('lasso', lasso),('ridge',ridge)],n_jobs=1)\n",
    "weights = [0.2,0.7,0.1]\n",
    "ensemble.set_params( weights=weights)\n",
    "\n",
    "train(ensemble,X_norm,y)\n",
    "\n",
    "      "
   ]
  },
  {
   "cell_type": "code",
   "execution_count": null,
   "metadata": {
    "colab": {
     "base_uri": "https://localhost:8080/"
    },
    "executionInfo": {
     "elapsed": 106194,
     "status": "ok",
     "timestamp": 1679668691156,
     "user": {
      "displayName": "조민정",
      "userId": "09786996135651143212"
     },
     "user_tz": -540
    },
    "id": "7JlSjvSxDGmX",
    "outputId": "ed5fa4b6-0955-42a8-925a-f98014706bf9"
   },
   "outputs": [
    {
     "name": "stdout",
     "output_type": "stream",
     "text": [
      "Model Report\n",
      "MSE: 0.26457555650360753\n",
      "CV Score: 0.2701854583878931\n"
     ]
    }
   ],
   "source": [
    "from sklearn.svm import SVR\n",
    "from sklearn.ensemble import VotingRegressor\n",
    "from sklearn.linear_model import LinearRegression, Ridge, Lasso\n",
    "from sklearn.ensemble import RandomForestRegressor,ExtraTreesRegressor\n",
    "\n",
    "tree_reg = RandomForestRegressor(bootstrap=True, max_depth=5, max_features=35, n_estimators=1000)\n",
    "linear_reg = Lasso(alpha=0.001, tol=1e-06, fit_intercept=True,max_iter = 1000)\n",
    "extre_reg = ExtraTreesRegressor(bootstrap=True, max_depth=5, max_features=35, n_estimators=1000)\n",
    "ensemble = VotingRegressor(estimators=[('rf', tree_reg),('lasso', linear_reg),('et',extre_reg)])\n",
    "\n",
    "# Train the ensemble model on the sample data\n",
    "ensemble.fit(X_norm, y)\n",
    "pred = ensemble.predict(X_norm)\n",
    "cv_score = cross_val_score(ensemble, X_norm, y, scoring='neg_mean_squared_error', cv=5)\n",
    "cv_score = np.abs(np.mean(cv_score))\n",
    "    \n",
    "print(\"Model Report\")\n",
    "print(\"MSE:\",mean_squared_error(y,pred))\n",
    "    #print(\"confusion_matrix:\",confusion_matrix(y,pred))\n",
    "print(\"CV Score:\", cv_score)"
   ]
  }
 ],
 "metadata": {
  "colab": {
   "provenance": [
    {
     "file_id": "1tCard4DYa9lZYW_siEYS2vJl7zJC94WL",
     "timestamp": 1680056631693
    }
   ]
  },
  "kernelspec": {
   "display_name": "Python 3 (ipykernel)",
   "language": "python",
   "name": "python3"
  },
  "language_info": {
   "codemirror_mode": {
    "name": "ipython",
    "version": 3
   },
   "file_extension": ".py",
   "mimetype": "text/x-python",
   "name": "python",
   "nbconvert_exporter": "python",
   "pygments_lexer": "ipython3",
   "version": "3.11.3"
  }
 },
 "nbformat": 4,
 "nbformat_minor": 1
}
