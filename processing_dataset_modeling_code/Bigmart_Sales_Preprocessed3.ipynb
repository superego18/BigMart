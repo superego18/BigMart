{
 "cells": [
  {
   "cell_type": "markdown",
   "metadata": {
    "id": "hBry6RKra9t4"
   },
   "source": [
    "## Import modules"
   ]
  },
  {
   "cell_type": "code",
   "execution_count": 1,
   "metadata": {
    "executionInfo": {
     "elapsed": 1323,
     "status": "ok",
     "timestamp": 1679164352654,
     "user": {
      "displayName": "황선경",
      "userId": "17888974404389374352"
     },
     "user_tz": -540
    },
    "id": "7fduAg1ja9t4"
   },
   "outputs": [],
   "source": [
    "import pandas as pd\n",
    "import numpy as np\n",
    "import seaborn as sns\n",
    "import matplotlib.pyplot as plt\n",
    "import warnings\n",
    "%matplotlib inline\n",
    "warnings.filterwarnings('ignore')"
   ]
  },
  {
   "cell_type": "code",
   "execution_count": 2,
   "metadata": {
    "executionInfo": {
     "elapsed": 4,
     "status": "ok",
     "timestamp": 1679164356082,
     "user": {
      "displayName": "황선경",
      "userId": "17888974404389374352"
     },
     "user_tz": -540
    },
    "id": "n_RKGwYVqSFY"
   },
   "outputs": [],
   "source": [
    "pd.set_option('display.max_colwidth', 1000, 'display.max_rows', None, 'display.max_columns', None)"
   ]
  },
  {
   "cell_type": "markdown",
   "metadata": {
    "id": "Rfr5BTN4a9t5"
   },
   "source": [
    "## Loading the dataset"
   ]
  },
  {
   "cell_type": "code",
   "execution_count": 3,
   "metadata": {
    "colab": {
     "base_uri": "https://localhost:8080/"
    },
    "executionInfo": {
     "elapsed": 19389,
     "status": "ok",
     "timestamp": 1679164383119,
     "user": {
      "displayName": "황선경",
      "userId": "17888974404389374352"
     },
     "user_tz": -540
    },
    "id": "hE21dp6zqvOQ",
    "outputId": "6a53c918-a80a-44f6-ffba-c6df90965389"
   },
   "outputs": [
    {
     "name": "stdout",
     "output_type": "stream",
     "text": [
      "Mounted at /content/drive\n"
     ]
    }
   ],
   "source": [
    "from google.colab import drive\n",
    "drive.mount('/content/drive')"
   ]
  },
  {
   "cell_type": "code",
   "execution_count": 4,
   "metadata": {
    "colab": {
     "base_uri": "https://localhost:8080/",
     "height": 285
    },
    "executionInfo": {
     "elapsed": 958,
     "status": "ok",
     "timestamp": 1679164386184,
     "user": {
      "displayName": "황선경",
      "userId": "17888974404389374352"
     },
     "user_tz": -540
    },
    "id": "M_s3G169a9t5",
    "outputId": "8ece6189-e281-4573-dbd0-631055ad7777"
   },
   "outputs": [
    {
     "data": {
      "text/html": [
       "\n",
       "  <div id=\"df-22b878e7-d4f7-4ba8-9661-0563b2176ac1\">\n",
       "    <div class=\"colab-df-container\">\n",
       "      <div>\n",
       "<style scoped>\n",
       "    .dataframe tbody tr th:only-of-type {\n",
       "        vertical-align: middle;\n",
       "    }\n",
       "\n",
       "    .dataframe tbody tr th {\n",
       "        vertical-align: top;\n",
       "    }\n",
       "\n",
       "    .dataframe thead th {\n",
       "        text-align: right;\n",
       "    }\n",
       "</style>\n",
       "<table border=\"1\" class=\"dataframe\">\n",
       "  <thead>\n",
       "    <tr style=\"text-align: right;\">\n",
       "      <th></th>\n",
       "      <th>Unnamed: 0</th>\n",
       "      <th>Item_Identifier</th>\n",
       "      <th>Item_Weight</th>\n",
       "      <th>Item_Visibility</th>\n",
       "      <th>Item_MRP</th>\n",
       "      <th>Item_Outlet_Sales</th>\n",
       "      <th>Outlet_Years</th>\n",
       "      <th>Item_Fat_Content_0</th>\n",
       "      <th>Item_Fat_Content_1</th>\n",
       "      <th>Outlet_Size_0</th>\n",
       "      <th>Outlet_Size_1</th>\n",
       "      <th>Outlet_Location_Type_0</th>\n",
       "      <th>Outlet_Location_Type_1</th>\n",
       "      <th>Outlet_Type_0</th>\n",
       "      <th>Outlet_Type_1</th>\n",
       "      <th>Outlet_Type_2</th>\n",
       "      <th>New_Item_Type_0</th>\n",
       "      <th>New_Item_Type_1</th>\n",
       "      <th>Outlet_0</th>\n",
       "      <th>Outlet_1</th>\n",
       "      <th>Outlet_2</th>\n",
       "      <th>Outlet_3</th>\n",
       "      <th>Outlet_4</th>\n",
       "      <th>Outlet_5</th>\n",
       "      <th>Outlet_6</th>\n",
       "      <th>Outlet_7</th>\n",
       "      <th>Outlet_8</th>\n",
       "      <th>Item_Type_0</th>\n",
       "      <th>Item_Type_1</th>\n",
       "      <th>Item_Type_2</th>\n",
       "      <th>Item_Type_3</th>\n",
       "      <th>Item_Type_4</th>\n",
       "      <th>Item_Type_5</th>\n",
       "      <th>Item_Type_6</th>\n",
       "      <th>Item_Type_7</th>\n",
       "      <th>Item_Type_8</th>\n",
       "      <th>Item_Type_9</th>\n",
       "      <th>Item_Type_10</th>\n",
       "      <th>Item_Type_11</th>\n",
       "      <th>Item_Type_12</th>\n",
       "      <th>Item_Type_13</th>\n",
       "      <th>Item_Type_14</th>\n",
       "    </tr>\n",
       "  </thead>\n",
       "  <tbody>\n",
       "    <tr>\n",
       "      <th>0</th>\n",
       "      <td>0</td>\n",
       "      <td>FDA15</td>\n",
       "      <td>9.30</td>\n",
       "      <td>0.016047</td>\n",
       "      <td>249.8092</td>\n",
       "      <td>8.225808</td>\n",
       "      <td>14</td>\n",
       "      <td>1</td>\n",
       "      <td>0</td>\n",
       "      <td>0</td>\n",
       "      <td>1</td>\n",
       "      <td>1</td>\n",
       "      <td>0</td>\n",
       "      <td>0</td>\n",
       "      <td>1</td>\n",
       "      <td>0</td>\n",
       "      <td>0</td>\n",
       "      <td>1</td>\n",
       "      <td>0</td>\n",
       "      <td>0</td>\n",
       "      <td>0</td>\n",
       "      <td>0</td>\n",
       "      <td>0</td>\n",
       "      <td>0</td>\n",
       "      <td>0</td>\n",
       "      <td>0</td>\n",
       "      <td>0</td>\n",
       "      <td>0</td>\n",
       "      <td>0</td>\n",
       "      <td>0</td>\n",
       "      <td>0</td>\n",
       "      <td>1</td>\n",
       "      <td>0</td>\n",
       "      <td>0</td>\n",
       "      <td>0</td>\n",
       "      <td>0</td>\n",
       "      <td>0</td>\n",
       "      <td>0</td>\n",
       "      <td>0</td>\n",
       "      <td>0</td>\n",
       "      <td>0</td>\n",
       "      <td>0</td>\n",
       "    </tr>\n",
       "    <tr>\n",
       "      <th>1</th>\n",
       "      <td>1</td>\n",
       "      <td>DRC01</td>\n",
       "      <td>5.92</td>\n",
       "      <td>0.019278</td>\n",
       "      <td>48.2692</td>\n",
       "      <td>6.096776</td>\n",
       "      <td>4</td>\n",
       "      <td>0</td>\n",
       "      <td>0</td>\n",
       "      <td>0</td>\n",
       "      <td>1</td>\n",
       "      <td>0</td>\n",
       "      <td>0</td>\n",
       "      <td>0</td>\n",
       "      <td>0</td>\n",
       "      <td>1</td>\n",
       "      <td>1</td>\n",
       "      <td>0</td>\n",
       "      <td>0</td>\n",
       "      <td>0</td>\n",
       "      <td>0</td>\n",
       "      <td>1</td>\n",
       "      <td>0</td>\n",
       "      <td>0</td>\n",
       "      <td>0</td>\n",
       "      <td>0</td>\n",
       "      <td>0</td>\n",
       "      <td>0</td>\n",
       "      <td>0</td>\n",
       "      <td>0</td>\n",
       "      <td>0</td>\n",
       "      <td>0</td>\n",
       "      <td>0</td>\n",
       "      <td>0</td>\n",
       "      <td>0</td>\n",
       "      <td>0</td>\n",
       "      <td>0</td>\n",
       "      <td>0</td>\n",
       "      <td>0</td>\n",
       "      <td>0</td>\n",
       "      <td>0</td>\n",
       "      <td>1</td>\n",
       "    </tr>\n",
       "    <tr>\n",
       "      <th>2</th>\n",
       "      <td>2</td>\n",
       "      <td>FDN15</td>\n",
       "      <td>17.50</td>\n",
       "      <td>0.016760</td>\n",
       "      <td>141.6180</td>\n",
       "      <td>7.648868</td>\n",
       "      <td>14</td>\n",
       "      <td>1</td>\n",
       "      <td>0</td>\n",
       "      <td>0</td>\n",
       "      <td>1</td>\n",
       "      <td>1</td>\n",
       "      <td>0</td>\n",
       "      <td>0</td>\n",
       "      <td>1</td>\n",
       "      <td>0</td>\n",
       "      <td>0</td>\n",
       "      <td>1</td>\n",
       "      <td>0</td>\n",
       "      <td>0</td>\n",
       "      <td>0</td>\n",
       "      <td>0</td>\n",
       "      <td>0</td>\n",
       "      <td>0</td>\n",
       "      <td>0</td>\n",
       "      <td>0</td>\n",
       "      <td>0</td>\n",
       "      <td>0</td>\n",
       "      <td>0</td>\n",
       "      <td>0</td>\n",
       "      <td>0</td>\n",
       "      <td>0</td>\n",
       "      <td>0</td>\n",
       "      <td>0</td>\n",
       "      <td>0</td>\n",
       "      <td>0</td>\n",
       "      <td>0</td>\n",
       "      <td>1</td>\n",
       "      <td>0</td>\n",
       "      <td>0</td>\n",
       "      <td>0</td>\n",
       "      <td>0</td>\n",
       "    </tr>\n",
       "    <tr>\n",
       "      <th>3</th>\n",
       "      <td>3</td>\n",
       "      <td>FDX07</td>\n",
       "      <td>19.20</td>\n",
       "      <td>0.066132</td>\n",
       "      <td>182.0950</td>\n",
       "      <td>6.597664</td>\n",
       "      <td>15</td>\n",
       "      <td>0</td>\n",
       "      <td>0</td>\n",
       "      <td>0</td>\n",
       "      <td>0</td>\n",
       "      <td>0</td>\n",
       "      <td>0</td>\n",
       "      <td>1</td>\n",
       "      <td>0</td>\n",
       "      <td>0</td>\n",
       "      <td>0</td>\n",
       "      <td>1</td>\n",
       "      <td>1</td>\n",
       "      <td>0</td>\n",
       "      <td>0</td>\n",
       "      <td>0</td>\n",
       "      <td>0</td>\n",
       "      <td>0</td>\n",
       "      <td>0</td>\n",
       "      <td>0</td>\n",
       "      <td>0</td>\n",
       "      <td>0</td>\n",
       "      <td>0</td>\n",
       "      <td>0</td>\n",
       "      <td>0</td>\n",
       "      <td>0</td>\n",
       "      <td>0</td>\n",
       "      <td>1</td>\n",
       "      <td>0</td>\n",
       "      <td>0</td>\n",
       "      <td>0</td>\n",
       "      <td>0</td>\n",
       "      <td>0</td>\n",
       "      <td>0</td>\n",
       "      <td>0</td>\n",
       "      <td>0</td>\n",
       "    </tr>\n",
       "    <tr>\n",
       "      <th>4</th>\n",
       "      <td>4</td>\n",
       "      <td>NCD19</td>\n",
       "      <td>8.93</td>\n",
       "      <td>0.066132</td>\n",
       "      <td>53.8614</td>\n",
       "      <td>6.903451</td>\n",
       "      <td>26</td>\n",
       "      <td>0</td>\n",
       "      <td>1</td>\n",
       "      <td>1</td>\n",
       "      <td>0</td>\n",
       "      <td>0</td>\n",
       "      <td>0</td>\n",
       "      <td>0</td>\n",
       "      <td>1</td>\n",
       "      <td>0</td>\n",
       "      <td>0</td>\n",
       "      <td>0</td>\n",
       "      <td>0</td>\n",
       "      <td>1</td>\n",
       "      <td>0</td>\n",
       "      <td>0</td>\n",
       "      <td>0</td>\n",
       "      <td>0</td>\n",
       "      <td>0</td>\n",
       "      <td>0</td>\n",
       "      <td>0</td>\n",
       "      <td>0</td>\n",
       "      <td>0</td>\n",
       "      <td>0</td>\n",
       "      <td>0</td>\n",
       "      <td>0</td>\n",
       "      <td>0</td>\n",
       "      <td>0</td>\n",
       "      <td>0</td>\n",
       "      <td>0</td>\n",
       "      <td>1</td>\n",
       "      <td>0</td>\n",
       "      <td>0</td>\n",
       "      <td>0</td>\n",
       "      <td>0</td>\n",
       "      <td>0</td>\n",
       "    </tr>\n",
       "  </tbody>\n",
       "</table>\n",
       "</div>\n",
       "      <button class=\"colab-df-convert\" onclick=\"convertToInteractive('df-22b878e7-d4f7-4ba8-9661-0563b2176ac1')\"\n",
       "              title=\"Convert this dataframe to an interactive table.\"\n",
       "              style=\"display:none;\">\n",
       "        \n",
       "  <svg xmlns=\"http://www.w3.org/2000/svg\" height=\"24px\"viewBox=\"0 0 24 24\"\n",
       "       width=\"24px\">\n",
       "    <path d=\"M0 0h24v24H0V0z\" fill=\"none\"/>\n",
       "    <path d=\"M18.56 5.44l.94 2.06.94-2.06 2.06-.94-2.06-.94-.94-2.06-.94 2.06-2.06.94zm-11 1L8.5 8.5l.94-2.06 2.06-.94-2.06-.94L8.5 2.5l-.94 2.06-2.06.94zm10 10l.94 2.06.94-2.06 2.06-.94-2.06-.94-.94-2.06-.94 2.06-2.06.94z\"/><path d=\"M17.41 7.96l-1.37-1.37c-.4-.4-.92-.59-1.43-.59-.52 0-1.04.2-1.43.59L10.3 9.45l-7.72 7.72c-.78.78-.78 2.05 0 2.83L4 21.41c.39.39.9.59 1.41.59.51 0 1.02-.2 1.41-.59l7.78-7.78 2.81-2.81c.8-.78.8-2.07 0-2.86zM5.41 20L4 18.59l7.72-7.72 1.47 1.35L5.41 20z\"/>\n",
       "  </svg>\n",
       "      </button>\n",
       "      \n",
       "  <style>\n",
       "    .colab-df-container {\n",
       "      display:flex;\n",
       "      flex-wrap:wrap;\n",
       "      gap: 12px;\n",
       "    }\n",
       "\n",
       "    .colab-df-convert {\n",
       "      background-color: #E8F0FE;\n",
       "      border: none;\n",
       "      border-radius: 50%;\n",
       "      cursor: pointer;\n",
       "      display: none;\n",
       "      fill: #1967D2;\n",
       "      height: 32px;\n",
       "      padding: 0 0 0 0;\n",
       "      width: 32px;\n",
       "    }\n",
       "\n",
       "    .colab-df-convert:hover {\n",
       "      background-color: #E2EBFA;\n",
       "      box-shadow: 0px 1px 2px rgba(60, 64, 67, 0.3), 0px 1px 3px 1px rgba(60, 64, 67, 0.15);\n",
       "      fill: #174EA6;\n",
       "    }\n",
       "\n",
       "    [theme=dark] .colab-df-convert {\n",
       "      background-color: #3B4455;\n",
       "      fill: #D2E3FC;\n",
       "    }\n",
       "\n",
       "    [theme=dark] .colab-df-convert:hover {\n",
       "      background-color: #434B5C;\n",
       "      box-shadow: 0px 1px 3px 1px rgba(0, 0, 0, 0.15);\n",
       "      filter: drop-shadow(0px 1px 2px rgba(0, 0, 0, 0.3));\n",
       "      fill: #FFFFFF;\n",
       "    }\n",
       "  </style>\n",
       "\n",
       "      <script>\n",
       "        const buttonEl =\n",
       "          document.querySelector('#df-22b878e7-d4f7-4ba8-9661-0563b2176ac1 button.colab-df-convert');\n",
       "        buttonEl.style.display =\n",
       "          google.colab.kernel.accessAllowed ? 'block' : 'none';\n",
       "\n",
       "        async function convertToInteractive(key) {\n",
       "          const element = document.querySelector('#df-22b878e7-d4f7-4ba8-9661-0563b2176ac1');\n",
       "          const dataTable =\n",
       "            await google.colab.kernel.invokeFunction('convertToInteractive',\n",
       "                                                     [key], {});\n",
       "          if (!dataTable) return;\n",
       "\n",
       "          const docLinkHtml = 'Like what you see? Visit the ' +\n",
       "            '<a target=\"_blank\" href=https://colab.research.google.com/notebooks/data_table.ipynb>data table notebook</a>'\n",
       "            + ' to learn more about interactive tables.';\n",
       "          element.innerHTML = '';\n",
       "          dataTable['output_type'] = 'display_data';\n",
       "          await google.colab.output.renderOutput(dataTable, element);\n",
       "          const docLink = document.createElement('div');\n",
       "          docLink.innerHTML = docLinkHtml;\n",
       "          element.appendChild(docLink);\n",
       "        }\n",
       "      </script>\n",
       "    </div>\n",
       "  </div>\n",
       "  "
      ],
      "text/plain": [
       "   Unnamed: 0 Item_Identifier  Item_Weight  Item_Visibility  Item_MRP  \\\n",
       "0           0           FDA15         9.30         0.016047  249.8092   \n",
       "1           1           DRC01         5.92         0.019278   48.2692   \n",
       "2           2           FDN15        17.50         0.016760  141.6180   \n",
       "3           3           FDX07        19.20         0.066132  182.0950   \n",
       "4           4           NCD19         8.93         0.066132   53.8614   \n",
       "\n",
       "   Item_Outlet_Sales  Outlet_Years  Item_Fat_Content_0  Item_Fat_Content_1  \\\n",
       "0           8.225808            14                   1                   0   \n",
       "1           6.096776             4                   0                   0   \n",
       "2           7.648868            14                   1                   0   \n",
       "3           6.597664            15                   0                   0   \n",
       "4           6.903451            26                   0                   1   \n",
       "\n",
       "   Outlet_Size_0  Outlet_Size_1  Outlet_Location_Type_0  \\\n",
       "0              0              1                       1   \n",
       "1              0              1                       0   \n",
       "2              0              1                       1   \n",
       "3              0              0                       0   \n",
       "4              1              0                       0   \n",
       "\n",
       "   Outlet_Location_Type_1  Outlet_Type_0  Outlet_Type_1  Outlet_Type_2  \\\n",
       "0                       0              0              1              0   \n",
       "1                       0              0              0              1   \n",
       "2                       0              0              1              0   \n",
       "3                       0              1              0              0   \n",
       "4                       0              0              1              0   \n",
       "\n",
       "   New_Item_Type_0  New_Item_Type_1  Outlet_0  Outlet_1  Outlet_2  Outlet_3  \\\n",
       "0                0                1         0         0         0         0   \n",
       "1                1                0         0         0         0         1   \n",
       "2                0                1         0         0         0         0   \n",
       "3                0                1         1         0         0         0   \n",
       "4                0                0         0         1         0         0   \n",
       "\n",
       "   Outlet_4  Outlet_5  Outlet_6  Outlet_7  Outlet_8  Item_Type_0  Item_Type_1  \\\n",
       "0         0         0         0         0         0            0            0   \n",
       "1         0         0         0         0         0            0            0   \n",
       "2         0         0         0         0         0            0            0   \n",
       "3         0         0         0         0         0            0            0   \n",
       "4         0         0         0         0         0            0            0   \n",
       "\n",
       "   Item_Type_2  Item_Type_3  Item_Type_4  Item_Type_5  Item_Type_6  \\\n",
       "0            0            0            1            0            0   \n",
       "1            0            0            0            0            0   \n",
       "2            0            0            0            0            0   \n",
       "3            0            0            0            0            1   \n",
       "4            0            0            0            0            0   \n",
       "\n",
       "   Item_Type_7  Item_Type_8  Item_Type_9  Item_Type_10  Item_Type_11  \\\n",
       "0            0            0            0             0             0   \n",
       "1            0            0            0             0             0   \n",
       "2            0            0            0             1             0   \n",
       "3            0            0            0             0             0   \n",
       "4            0            0            1             0             0   \n",
       "\n",
       "   Item_Type_12  Item_Type_13  Item_Type_14  \n",
       "0             0             0             0  \n",
       "1             0             0             1  \n",
       "2             0             0             0  \n",
       "3             0             0             0  \n",
       "4             0             0             0  "
      ]
     },
     "execution_count": 4,
     "metadata": {},
     "output_type": "execute_result"
    }
   ],
   "source": [
    "df = pd.read_csv('drive/MyDrive/BigMart/Train_preprocessed3.csv')\n",
    "df.head()"
   ]
  },
  {
   "cell_type": "code",
   "execution_count": 5,
   "metadata": {
    "executionInfo": {
     "elapsed": 326,
     "status": "ok",
     "timestamp": 1679164400706,
     "user": {
      "displayName": "황선경",
      "userId": "17888974404389374352"
     },
     "user_tz": -540
    },
    "id": "zRWSjDLKyEL1"
   },
   "outputs": [],
   "source": [
    "df = df.drop(['Unnamed: 0'], axis=1)"
   ]
  },
  {
   "cell_type": "code",
   "execution_count": 6,
   "metadata": {
    "colab": {
     "base_uri": "https://localhost:8080/"
    },
    "executionInfo": {
     "elapsed": 16,
     "status": "ok",
     "timestamp": 1679164402869,
     "user": {
      "displayName": "황선경",
      "userId": "17888974404389374352"
     },
     "user_tz": -540
    },
    "id": "gbQFXfPJ2GZL",
    "outputId": "06e1a2de-81ef-430d-8091-daca7164a291"
   },
   "outputs": [
    {
     "data": {
      "text/plain": [
       "Index(['Item_Identifier', 'Item_Weight', 'Item_Visibility', 'Item_MRP',\n",
       "       'Item_Outlet_Sales', 'Outlet_Years', 'Item_Fat_Content_0',\n",
       "       'Item_Fat_Content_1', 'Outlet_Size_0', 'Outlet_Size_1',\n",
       "       'Outlet_Location_Type_0', 'Outlet_Location_Type_1', 'Outlet_Type_0',\n",
       "       'Outlet_Type_1', 'Outlet_Type_2', 'New_Item_Type_0', 'New_Item_Type_1',\n",
       "       'Outlet_0', 'Outlet_1', 'Outlet_2', 'Outlet_3', 'Outlet_4', 'Outlet_5',\n",
       "       'Outlet_6', 'Outlet_7', 'Outlet_8', 'Item_Type_0', 'Item_Type_1',\n",
       "       'Item_Type_2', 'Item_Type_3', 'Item_Type_4', 'Item_Type_5',\n",
       "       'Item_Type_6', 'Item_Type_7', 'Item_Type_8', 'Item_Type_9',\n",
       "       'Item_Type_10', 'Item_Type_11', 'Item_Type_12', 'Item_Type_13',\n",
       "       'Item_Type_14'],\n",
       "      dtype='object')"
      ]
     },
     "execution_count": 6,
     "metadata": {},
     "output_type": "execute_result"
    }
   ],
   "source": [
    "df.columns"
   ]
  },
  {
   "cell_type": "code",
   "execution_count": 7,
   "metadata": {
    "colab": {
     "base_uri": "https://localhost:8080/"
    },
    "executionInfo": {
     "elapsed": 7,
     "status": "ok",
     "timestamp": 1679164404544,
     "user": {
      "displayName": "황선경",
      "userId": "17888974404389374352"
     },
     "user_tz": -540
    },
    "id": "TEmP78r_2lF0",
    "outputId": "7b8990a2-625f-40c0-f13a-85346c48bbe7"
   },
   "outputs": [
    {
     "data": {
      "text/plain": [
       "(8523, 41)"
      ]
     },
     "execution_count": 7,
     "metadata": {},
     "output_type": "execute_result"
    }
   ],
   "source": [
    "df.shape"
   ]
  },
  {
   "cell_type": "code",
   "execution_count": 8,
   "metadata": {
    "colab": {
     "base_uri": "https://localhost:8080/",
     "height": 361
    },
    "executionInfo": {
     "elapsed": 9,
     "status": "ok",
     "timestamp": 1679164433012,
     "user": {
      "displayName": "황선경",
      "userId": "17888974404389374352"
     },
     "user_tz": -540
    },
    "id": "4OgXBNFva9t6",
    "outputId": "f4739bf0-7c52-4c33-c6b7-1c773d8869c0"
   },
   "outputs": [
    {
     "data": {
      "text/html": [
       "\n",
       "  <div id=\"df-d329e616-7498-4b5c-ba1c-13c28ada9e61\">\n",
       "    <div class=\"colab-df-container\">\n",
       "      <div>\n",
       "<style scoped>\n",
       "    .dataframe tbody tr th:only-of-type {\n",
       "        vertical-align: middle;\n",
       "    }\n",
       "\n",
       "    .dataframe tbody tr th {\n",
       "        vertical-align: top;\n",
       "    }\n",
       "\n",
       "    .dataframe thead th {\n",
       "        text-align: right;\n",
       "    }\n",
       "</style>\n",
       "<table border=\"1\" class=\"dataframe\">\n",
       "  <thead>\n",
       "    <tr style=\"text-align: right;\">\n",
       "      <th></th>\n",
       "      <th>Item_Weight</th>\n",
       "      <th>Item_Visibility</th>\n",
       "      <th>Item_MRP</th>\n",
       "      <th>Item_Outlet_Sales</th>\n",
       "      <th>Outlet_Years</th>\n",
       "      <th>Item_Fat_Content_0</th>\n",
       "      <th>Item_Fat_Content_1</th>\n",
       "      <th>Outlet_Size_0</th>\n",
       "      <th>Outlet_Size_1</th>\n",
       "      <th>Outlet_Location_Type_0</th>\n",
       "      <th>Outlet_Location_Type_1</th>\n",
       "      <th>Outlet_Type_0</th>\n",
       "      <th>Outlet_Type_1</th>\n",
       "      <th>Outlet_Type_2</th>\n",
       "      <th>New_Item_Type_0</th>\n",
       "      <th>New_Item_Type_1</th>\n",
       "      <th>Outlet_0</th>\n",
       "      <th>Outlet_1</th>\n",
       "      <th>Outlet_2</th>\n",
       "      <th>Outlet_3</th>\n",
       "      <th>Outlet_4</th>\n",
       "      <th>Outlet_5</th>\n",
       "      <th>Outlet_6</th>\n",
       "      <th>Outlet_7</th>\n",
       "      <th>Outlet_8</th>\n",
       "      <th>Item_Type_0</th>\n",
       "      <th>Item_Type_1</th>\n",
       "      <th>Item_Type_2</th>\n",
       "      <th>Item_Type_3</th>\n",
       "      <th>Item_Type_4</th>\n",
       "      <th>Item_Type_5</th>\n",
       "      <th>Item_Type_6</th>\n",
       "      <th>Item_Type_7</th>\n",
       "      <th>Item_Type_8</th>\n",
       "      <th>Item_Type_9</th>\n",
       "      <th>Item_Type_10</th>\n",
       "      <th>Item_Type_11</th>\n",
       "      <th>Item_Type_12</th>\n",
       "      <th>Item_Type_13</th>\n",
       "      <th>Item_Type_14</th>\n",
       "    </tr>\n",
       "  </thead>\n",
       "  <tbody>\n",
       "    <tr>\n",
       "      <th>count</th>\n",
       "      <td>8523.000000</td>\n",
       "      <td>8523.000000</td>\n",
       "      <td>8523.000000</td>\n",
       "      <td>8523.000000</td>\n",
       "      <td>8523.000000</td>\n",
       "      <td>8523.000000</td>\n",
       "      <td>8523.000000</td>\n",
       "      <td>8523.000000</td>\n",
       "      <td>8523.000000</td>\n",
       "      <td>8523.000000</td>\n",
       "      <td>8523.000000</td>\n",
       "      <td>8523.000000</td>\n",
       "      <td>8523.000000</td>\n",
       "      <td>8523.000000</td>\n",
       "      <td>8523.000000</td>\n",
       "      <td>8523.000000</td>\n",
       "      <td>8523.000000</td>\n",
       "      <td>8523.000000</td>\n",
       "      <td>8523.000000</td>\n",
       "      <td>8523.000000</td>\n",
       "      <td>8523.000000</td>\n",
       "      <td>8523.000000</td>\n",
       "      <td>8523.000000</td>\n",
       "      <td>8523.000000</td>\n",
       "      <td>8523.000000</td>\n",
       "      <td>8523.000000</td>\n",
       "      <td>8523.000000</td>\n",
       "      <td>8523.000000</td>\n",
       "      <td>8523.000000</td>\n",
       "      <td>8523.000000</td>\n",
       "      <td>8523.000000</td>\n",
       "      <td>8523.000000</td>\n",
       "      <td>8523.000000</td>\n",
       "      <td>8523.000000</td>\n",
       "      <td>8523.000000</td>\n",
       "      <td>8523.000000</td>\n",
       "      <td>8523.000000</td>\n",
       "      <td>8523.000000</td>\n",
       "      <td>8523.000000</td>\n",
       "      <td>8523.000000</td>\n",
       "    </tr>\n",
       "    <tr>\n",
       "      <th>mean</th>\n",
       "      <td>12.857645</td>\n",
       "      <td>0.070213</td>\n",
       "      <td>140.992782</td>\n",
       "      <td>7.297863</td>\n",
       "      <td>15.168133</td>\n",
       "      <td>0.459697</td>\n",
       "      <td>0.187610</td>\n",
       "      <td>0.109351</td>\n",
       "      <td>0.327702</td>\n",
       "      <td>0.280183</td>\n",
       "      <td>0.326763</td>\n",
       "      <td>0.127068</td>\n",
       "      <td>0.654347</td>\n",
       "      <td>0.108882</td>\n",
       "      <td>0.093746</td>\n",
       "      <td>0.718644</td>\n",
       "      <td>0.065118</td>\n",
       "      <td>0.109351</td>\n",
       "      <td>0.108647</td>\n",
       "      <td>0.108882</td>\n",
       "      <td>0.061950</td>\n",
       "      <td>0.109703</td>\n",
       "      <td>0.109117</td>\n",
       "      <td>0.108999</td>\n",
       "      <td>0.109117</td>\n",
       "      <td>0.076030</td>\n",
       "      <td>0.029450</td>\n",
       "      <td>0.012906</td>\n",
       "      <td>0.076147</td>\n",
       "      <td>0.080019</td>\n",
       "      <td>0.100434</td>\n",
       "      <td>0.144550</td>\n",
       "      <td>0.025109</td>\n",
       "      <td>0.061011</td>\n",
       "      <td>0.106770</td>\n",
       "      <td>0.049865</td>\n",
       "      <td>0.019829</td>\n",
       "      <td>0.007509</td>\n",
       "      <td>0.140795</td>\n",
       "      <td>0.052212</td>\n",
       "    </tr>\n",
       "    <tr>\n",
       "      <th>std</th>\n",
       "      <td>4.226124</td>\n",
       "      <td>0.048742</td>\n",
       "      <td>62.275067</td>\n",
       "      <td>1.015211</td>\n",
       "      <td>8.371760</td>\n",
       "      <td>0.498402</td>\n",
       "      <td>0.390423</td>\n",
       "      <td>0.312098</td>\n",
       "      <td>0.469403</td>\n",
       "      <td>0.449115</td>\n",
       "      <td>0.469057</td>\n",
       "      <td>0.333069</td>\n",
       "      <td>0.475609</td>\n",
       "      <td>0.311509</td>\n",
       "      <td>0.291493</td>\n",
       "      <td>0.449687</td>\n",
       "      <td>0.246748</td>\n",
       "      <td>0.312098</td>\n",
       "      <td>0.311214</td>\n",
       "      <td>0.311509</td>\n",
       "      <td>0.241079</td>\n",
       "      <td>0.312538</td>\n",
       "      <td>0.311804</td>\n",
       "      <td>0.311656</td>\n",
       "      <td>0.311804</td>\n",
       "      <td>0.265061</td>\n",
       "      <td>0.169073</td>\n",
       "      <td>0.112877</td>\n",
       "      <td>0.265249</td>\n",
       "      <td>0.271338</td>\n",
       "      <td>0.300596</td>\n",
       "      <td>0.351667</td>\n",
       "      <td>0.156464</td>\n",
       "      <td>0.239365</td>\n",
       "      <td>0.308839</td>\n",
       "      <td>0.217679</td>\n",
       "      <td>0.139420</td>\n",
       "      <td>0.086334</td>\n",
       "      <td>0.347831</td>\n",
       "      <td>0.222467</td>\n",
       "    </tr>\n",
       "    <tr>\n",
       "      <th>min</th>\n",
       "      <td>4.555000</td>\n",
       "      <td>0.003575</td>\n",
       "      <td>31.290000</td>\n",
       "      <td>3.534854</td>\n",
       "      <td>4.000000</td>\n",
       "      <td>0.000000</td>\n",
       "      <td>0.000000</td>\n",
       "      <td>0.000000</td>\n",
       "      <td>0.000000</td>\n",
       "      <td>0.000000</td>\n",
       "      <td>0.000000</td>\n",
       "      <td>0.000000</td>\n",
       "      <td>0.000000</td>\n",
       "      <td>0.000000</td>\n",
       "      <td>0.000000</td>\n",
       "      <td>0.000000</td>\n",
       "      <td>0.000000</td>\n",
       "      <td>0.000000</td>\n",
       "      <td>0.000000</td>\n",
       "      <td>0.000000</td>\n",
       "      <td>0.000000</td>\n",
       "      <td>0.000000</td>\n",
       "      <td>0.000000</td>\n",
       "      <td>0.000000</td>\n",
       "      <td>0.000000</td>\n",
       "      <td>0.000000</td>\n",
       "      <td>0.000000</td>\n",
       "      <td>0.000000</td>\n",
       "      <td>0.000000</td>\n",
       "      <td>0.000000</td>\n",
       "      <td>0.000000</td>\n",
       "      <td>0.000000</td>\n",
       "      <td>0.000000</td>\n",
       "      <td>0.000000</td>\n",
       "      <td>0.000000</td>\n",
       "      <td>0.000000</td>\n",
       "      <td>0.000000</td>\n",
       "      <td>0.000000</td>\n",
       "      <td>0.000000</td>\n",
       "      <td>0.000000</td>\n",
       "    </tr>\n",
       "    <tr>\n",
       "      <th>25%</th>\n",
       "      <td>9.310000</td>\n",
       "      <td>0.033085</td>\n",
       "      <td>93.826500</td>\n",
       "      <td>6.727728</td>\n",
       "      <td>9.000000</td>\n",
       "      <td>0.000000</td>\n",
       "      <td>0.000000</td>\n",
       "      <td>0.000000</td>\n",
       "      <td>0.000000</td>\n",
       "      <td>0.000000</td>\n",
       "      <td>0.000000</td>\n",
       "      <td>0.000000</td>\n",
       "      <td>0.000000</td>\n",
       "      <td>0.000000</td>\n",
       "      <td>0.000000</td>\n",
       "      <td>0.000000</td>\n",
       "      <td>0.000000</td>\n",
       "      <td>0.000000</td>\n",
       "      <td>0.000000</td>\n",
       "      <td>0.000000</td>\n",
       "      <td>0.000000</td>\n",
       "      <td>0.000000</td>\n",
       "      <td>0.000000</td>\n",
       "      <td>0.000000</td>\n",
       "      <td>0.000000</td>\n",
       "      <td>0.000000</td>\n",
       "      <td>0.000000</td>\n",
       "      <td>0.000000</td>\n",
       "      <td>0.000000</td>\n",
       "      <td>0.000000</td>\n",
       "      <td>0.000000</td>\n",
       "      <td>0.000000</td>\n",
       "      <td>0.000000</td>\n",
       "      <td>0.000000</td>\n",
       "      <td>0.000000</td>\n",
       "      <td>0.000000</td>\n",
       "      <td>0.000000</td>\n",
       "      <td>0.000000</td>\n",
       "      <td>0.000000</td>\n",
       "      <td>0.000000</td>\n",
       "    </tr>\n",
       "    <tr>\n",
       "      <th>50%</th>\n",
       "      <td>12.857645</td>\n",
       "      <td>0.062517</td>\n",
       "      <td>143.012800</td>\n",
       "      <td>7.492945</td>\n",
       "      <td>14.000000</td>\n",
       "      <td>0.000000</td>\n",
       "      <td>0.000000</td>\n",
       "      <td>0.000000</td>\n",
       "      <td>0.000000</td>\n",
       "      <td>0.000000</td>\n",
       "      <td>0.000000</td>\n",
       "      <td>0.000000</td>\n",
       "      <td>1.000000</td>\n",
       "      <td>0.000000</td>\n",
       "      <td>0.000000</td>\n",
       "      <td>1.000000</td>\n",
       "      <td>0.000000</td>\n",
       "      <td>0.000000</td>\n",
       "      <td>0.000000</td>\n",
       "      <td>0.000000</td>\n",
       "      <td>0.000000</td>\n",
       "      <td>0.000000</td>\n",
       "      <td>0.000000</td>\n",
       "      <td>0.000000</td>\n",
       "      <td>0.000000</td>\n",
       "      <td>0.000000</td>\n",
       "      <td>0.000000</td>\n",
       "      <td>0.000000</td>\n",
       "      <td>0.000000</td>\n",
       "      <td>0.000000</td>\n",
       "      <td>0.000000</td>\n",
       "      <td>0.000000</td>\n",
       "      <td>0.000000</td>\n",
       "      <td>0.000000</td>\n",
       "      <td>0.000000</td>\n",
       "      <td>0.000000</td>\n",
       "      <td>0.000000</td>\n",
       "      <td>0.000000</td>\n",
       "      <td>0.000000</td>\n",
       "      <td>0.000000</td>\n",
       "    </tr>\n",
       "    <tr>\n",
       "      <th>75%</th>\n",
       "      <td>16.000000</td>\n",
       "      <td>0.094585</td>\n",
       "      <td>185.643700</td>\n",
       "      <td>8.039898</td>\n",
       "      <td>26.000000</td>\n",
       "      <td>1.000000</td>\n",
       "      <td>0.000000</td>\n",
       "      <td>0.000000</td>\n",
       "      <td>1.000000</td>\n",
       "      <td>1.000000</td>\n",
       "      <td>1.000000</td>\n",
       "      <td>0.000000</td>\n",
       "      <td>1.000000</td>\n",
       "      <td>0.000000</td>\n",
       "      <td>0.000000</td>\n",
       "      <td>1.000000</td>\n",
       "      <td>0.000000</td>\n",
       "      <td>0.000000</td>\n",
       "      <td>0.000000</td>\n",
       "      <td>0.000000</td>\n",
       "      <td>0.000000</td>\n",
       "      <td>0.000000</td>\n",
       "      <td>0.000000</td>\n",
       "      <td>0.000000</td>\n",
       "      <td>0.000000</td>\n",
       "      <td>0.000000</td>\n",
       "      <td>0.000000</td>\n",
       "      <td>0.000000</td>\n",
       "      <td>0.000000</td>\n",
       "      <td>0.000000</td>\n",
       "      <td>0.000000</td>\n",
       "      <td>0.000000</td>\n",
       "      <td>0.000000</td>\n",
       "      <td>0.000000</td>\n",
       "      <td>0.000000</td>\n",
       "      <td>0.000000</td>\n",
       "      <td>0.000000</td>\n",
       "      <td>0.000000</td>\n",
       "      <td>0.000000</td>\n",
       "      <td>0.000000</td>\n",
       "    </tr>\n",
       "    <tr>\n",
       "      <th>max</th>\n",
       "      <td>21.350000</td>\n",
       "      <td>0.328391</td>\n",
       "      <td>266.888400</td>\n",
       "      <td>9.479448</td>\n",
       "      <td>28.000000</td>\n",
       "      <td>1.000000</td>\n",
       "      <td>1.000000</td>\n",
       "      <td>1.000000</td>\n",
       "      <td>1.000000</td>\n",
       "      <td>1.000000</td>\n",
       "      <td>1.000000</td>\n",
       "      <td>1.000000</td>\n",
       "      <td>1.000000</td>\n",
       "      <td>1.000000</td>\n",
       "      <td>1.000000</td>\n",
       "      <td>1.000000</td>\n",
       "      <td>1.000000</td>\n",
       "      <td>1.000000</td>\n",
       "      <td>1.000000</td>\n",
       "      <td>1.000000</td>\n",
       "      <td>1.000000</td>\n",
       "      <td>1.000000</td>\n",
       "      <td>1.000000</td>\n",
       "      <td>1.000000</td>\n",
       "      <td>1.000000</td>\n",
       "      <td>1.000000</td>\n",
       "      <td>1.000000</td>\n",
       "      <td>1.000000</td>\n",
       "      <td>1.000000</td>\n",
       "      <td>1.000000</td>\n",
       "      <td>1.000000</td>\n",
       "      <td>1.000000</td>\n",
       "      <td>1.000000</td>\n",
       "      <td>1.000000</td>\n",
       "      <td>1.000000</td>\n",
       "      <td>1.000000</td>\n",
       "      <td>1.000000</td>\n",
       "      <td>1.000000</td>\n",
       "      <td>1.000000</td>\n",
       "      <td>1.000000</td>\n",
       "    </tr>\n",
       "  </tbody>\n",
       "</table>\n",
       "</div>\n",
       "      <button class=\"colab-df-convert\" onclick=\"convertToInteractive('df-d329e616-7498-4b5c-ba1c-13c28ada9e61')\"\n",
       "              title=\"Convert this dataframe to an interactive table.\"\n",
       "              style=\"display:none;\">\n",
       "        \n",
       "  <svg xmlns=\"http://www.w3.org/2000/svg\" height=\"24px\"viewBox=\"0 0 24 24\"\n",
       "       width=\"24px\">\n",
       "    <path d=\"M0 0h24v24H0V0z\" fill=\"none\"/>\n",
       "    <path d=\"M18.56 5.44l.94 2.06.94-2.06 2.06-.94-2.06-.94-.94-2.06-.94 2.06-2.06.94zm-11 1L8.5 8.5l.94-2.06 2.06-.94-2.06-.94L8.5 2.5l-.94 2.06-2.06.94zm10 10l.94 2.06.94-2.06 2.06-.94-2.06-.94-.94-2.06-.94 2.06-2.06.94z\"/><path d=\"M17.41 7.96l-1.37-1.37c-.4-.4-.92-.59-1.43-.59-.52 0-1.04.2-1.43.59L10.3 9.45l-7.72 7.72c-.78.78-.78 2.05 0 2.83L4 21.41c.39.39.9.59 1.41.59.51 0 1.02-.2 1.41-.59l7.78-7.78 2.81-2.81c.8-.78.8-2.07 0-2.86zM5.41 20L4 18.59l7.72-7.72 1.47 1.35L5.41 20z\"/>\n",
       "  </svg>\n",
       "      </button>\n",
       "      \n",
       "  <style>\n",
       "    .colab-df-container {\n",
       "      display:flex;\n",
       "      flex-wrap:wrap;\n",
       "      gap: 12px;\n",
       "    }\n",
       "\n",
       "    .colab-df-convert {\n",
       "      background-color: #E8F0FE;\n",
       "      border: none;\n",
       "      border-radius: 50%;\n",
       "      cursor: pointer;\n",
       "      display: none;\n",
       "      fill: #1967D2;\n",
       "      height: 32px;\n",
       "      padding: 0 0 0 0;\n",
       "      width: 32px;\n",
       "    }\n",
       "\n",
       "    .colab-df-convert:hover {\n",
       "      background-color: #E2EBFA;\n",
       "      box-shadow: 0px 1px 2px rgba(60, 64, 67, 0.3), 0px 1px 3px 1px rgba(60, 64, 67, 0.15);\n",
       "      fill: #174EA6;\n",
       "    }\n",
       "\n",
       "    [theme=dark] .colab-df-convert {\n",
       "      background-color: #3B4455;\n",
       "      fill: #D2E3FC;\n",
       "    }\n",
       "\n",
       "    [theme=dark] .colab-df-convert:hover {\n",
       "      background-color: #434B5C;\n",
       "      box-shadow: 0px 1px 3px 1px rgba(0, 0, 0, 0.15);\n",
       "      filter: drop-shadow(0px 1px 2px rgba(0, 0, 0, 0.3));\n",
       "      fill: #FFFFFF;\n",
       "    }\n",
       "  </style>\n",
       "\n",
       "      <script>\n",
       "        const buttonEl =\n",
       "          document.querySelector('#df-d329e616-7498-4b5c-ba1c-13c28ada9e61 button.colab-df-convert');\n",
       "        buttonEl.style.display =\n",
       "          google.colab.kernel.accessAllowed ? 'block' : 'none';\n",
       "\n",
       "        async function convertToInteractive(key) {\n",
       "          const element = document.querySelector('#df-d329e616-7498-4b5c-ba1c-13c28ada9e61');\n",
       "          const dataTable =\n",
       "            await google.colab.kernel.invokeFunction('convertToInteractive',\n",
       "                                                     [key], {});\n",
       "          if (!dataTable) return;\n",
       "\n",
       "          const docLinkHtml = 'Like what you see? Visit the ' +\n",
       "            '<a target=\"_blank\" href=https://colab.research.google.com/notebooks/data_table.ipynb>data table notebook</a>'\n",
       "            + ' to learn more about interactive tables.';\n",
       "          element.innerHTML = '';\n",
       "          dataTable['output_type'] = 'display_data';\n",
       "          await google.colab.output.renderOutput(dataTable, element);\n",
       "          const docLink = document.createElement('div');\n",
       "          docLink.innerHTML = docLinkHtml;\n",
       "          element.appendChild(docLink);\n",
       "        }\n",
       "      </script>\n",
       "    </div>\n",
       "  </div>\n",
       "  "
      ],
      "text/plain": [
       "       Item_Weight  Item_Visibility     Item_MRP  Item_Outlet_Sales  \\\n",
       "count  8523.000000      8523.000000  8523.000000        8523.000000   \n",
       "mean     12.857645         0.070213   140.992782           7.297863   \n",
       "std       4.226124         0.048742    62.275067           1.015211   \n",
       "min       4.555000         0.003575    31.290000           3.534854   \n",
       "25%       9.310000         0.033085    93.826500           6.727728   \n",
       "50%      12.857645         0.062517   143.012800           7.492945   \n",
       "75%      16.000000         0.094585   185.643700           8.039898   \n",
       "max      21.350000         0.328391   266.888400           9.479448   \n",
       "\n",
       "       Outlet_Years  Item_Fat_Content_0  Item_Fat_Content_1  Outlet_Size_0  \\\n",
       "count   8523.000000         8523.000000         8523.000000    8523.000000   \n",
       "mean      15.168133            0.459697            0.187610       0.109351   \n",
       "std        8.371760            0.498402            0.390423       0.312098   \n",
       "min        4.000000            0.000000            0.000000       0.000000   \n",
       "25%        9.000000            0.000000            0.000000       0.000000   \n",
       "50%       14.000000            0.000000            0.000000       0.000000   \n",
       "75%       26.000000            1.000000            0.000000       0.000000   \n",
       "max       28.000000            1.000000            1.000000       1.000000   \n",
       "\n",
       "       Outlet_Size_1  Outlet_Location_Type_0  Outlet_Location_Type_1  \\\n",
       "count    8523.000000             8523.000000             8523.000000   \n",
       "mean        0.327702                0.280183                0.326763   \n",
       "std         0.469403                0.449115                0.469057   \n",
       "min         0.000000                0.000000                0.000000   \n",
       "25%         0.000000                0.000000                0.000000   \n",
       "50%         0.000000                0.000000                0.000000   \n",
       "75%         1.000000                1.000000                1.000000   \n",
       "max         1.000000                1.000000                1.000000   \n",
       "\n",
       "       Outlet_Type_0  Outlet_Type_1  Outlet_Type_2  New_Item_Type_0  \\\n",
       "count    8523.000000    8523.000000    8523.000000      8523.000000   \n",
       "mean        0.127068       0.654347       0.108882         0.093746   \n",
       "std         0.333069       0.475609       0.311509         0.291493   \n",
       "min         0.000000       0.000000       0.000000         0.000000   \n",
       "25%         0.000000       0.000000       0.000000         0.000000   \n",
       "50%         0.000000       1.000000       0.000000         0.000000   \n",
       "75%         0.000000       1.000000       0.000000         0.000000   \n",
       "max         1.000000       1.000000       1.000000         1.000000   \n",
       "\n",
       "       New_Item_Type_1     Outlet_0     Outlet_1     Outlet_2     Outlet_3  \\\n",
       "count      8523.000000  8523.000000  8523.000000  8523.000000  8523.000000   \n",
       "mean          0.718644     0.065118     0.109351     0.108647     0.108882   \n",
       "std           0.449687     0.246748     0.312098     0.311214     0.311509   \n",
       "min           0.000000     0.000000     0.000000     0.000000     0.000000   \n",
       "25%           0.000000     0.000000     0.000000     0.000000     0.000000   \n",
       "50%           1.000000     0.000000     0.000000     0.000000     0.000000   \n",
       "75%           1.000000     0.000000     0.000000     0.000000     0.000000   \n",
       "max           1.000000     1.000000     1.000000     1.000000     1.000000   \n",
       "\n",
       "          Outlet_4     Outlet_5     Outlet_6     Outlet_7     Outlet_8  \\\n",
       "count  8523.000000  8523.000000  8523.000000  8523.000000  8523.000000   \n",
       "mean      0.061950     0.109703     0.109117     0.108999     0.109117   \n",
       "std       0.241079     0.312538     0.311804     0.311656     0.311804   \n",
       "min       0.000000     0.000000     0.000000     0.000000     0.000000   \n",
       "25%       0.000000     0.000000     0.000000     0.000000     0.000000   \n",
       "50%       0.000000     0.000000     0.000000     0.000000     0.000000   \n",
       "75%       0.000000     0.000000     0.000000     0.000000     0.000000   \n",
       "max       1.000000     1.000000     1.000000     1.000000     1.000000   \n",
       "\n",
       "       Item_Type_0  Item_Type_1  Item_Type_2  Item_Type_3  Item_Type_4  \\\n",
       "count  8523.000000  8523.000000  8523.000000  8523.000000  8523.000000   \n",
       "mean      0.076030     0.029450     0.012906     0.076147     0.080019   \n",
       "std       0.265061     0.169073     0.112877     0.265249     0.271338   \n",
       "min       0.000000     0.000000     0.000000     0.000000     0.000000   \n",
       "25%       0.000000     0.000000     0.000000     0.000000     0.000000   \n",
       "50%       0.000000     0.000000     0.000000     0.000000     0.000000   \n",
       "75%       0.000000     0.000000     0.000000     0.000000     0.000000   \n",
       "max       1.000000     1.000000     1.000000     1.000000     1.000000   \n",
       "\n",
       "       Item_Type_5  Item_Type_6  Item_Type_7  Item_Type_8  Item_Type_9  \\\n",
       "count  8523.000000  8523.000000  8523.000000  8523.000000  8523.000000   \n",
       "mean      0.100434     0.144550     0.025109     0.061011     0.106770   \n",
       "std       0.300596     0.351667     0.156464     0.239365     0.308839   \n",
       "min       0.000000     0.000000     0.000000     0.000000     0.000000   \n",
       "25%       0.000000     0.000000     0.000000     0.000000     0.000000   \n",
       "50%       0.000000     0.000000     0.000000     0.000000     0.000000   \n",
       "75%       0.000000     0.000000     0.000000     0.000000     0.000000   \n",
       "max       1.000000     1.000000     1.000000     1.000000     1.000000   \n",
       "\n",
       "       Item_Type_10  Item_Type_11  Item_Type_12  Item_Type_13  Item_Type_14  \n",
       "count   8523.000000   8523.000000   8523.000000   8523.000000   8523.000000  \n",
       "mean       0.049865      0.019829      0.007509      0.140795      0.052212  \n",
       "std        0.217679      0.139420      0.086334      0.347831      0.222467  \n",
       "min        0.000000      0.000000      0.000000      0.000000      0.000000  \n",
       "25%        0.000000      0.000000      0.000000      0.000000      0.000000  \n",
       "50%        0.000000      0.000000      0.000000      0.000000      0.000000  \n",
       "75%        0.000000      0.000000      0.000000      0.000000      0.000000  \n",
       "max        1.000000      1.000000      1.000000      1.000000      1.000000  "
      ]
     },
     "execution_count": 8,
     "metadata": {},
     "output_type": "execute_result"
    }
   ],
   "source": [
    "# statistical info\n",
    "df.describe()"
   ]
  },
  {
   "cell_type": "code",
   "execution_count": 9,
   "metadata": {
    "colab": {
     "base_uri": "https://localhost:8080/"
    },
    "executionInfo": {
     "elapsed": 6,
     "status": "ok",
     "timestamp": 1679164434169,
     "user": {
      "displayName": "황선경",
      "userId": "17888974404389374352"
     },
     "user_tz": -540
    },
    "id": "-cjzFzrla9t6",
    "outputId": "e7f4a7bc-ecf3-45ae-c6e4-3dcd421014f5"
   },
   "outputs": [
    {
     "name": "stdout",
     "output_type": "stream",
     "text": [
      "<class 'pandas.core.frame.DataFrame'>\n",
      "RangeIndex: 8523 entries, 0 to 8522\n",
      "Data columns (total 41 columns):\n",
      " #   Column                  Non-Null Count  Dtype  \n",
      "---  ------                  --------------  -----  \n",
      " 0   Item_Identifier         8523 non-null   object \n",
      " 1   Item_Weight             8523 non-null   float64\n",
      " 2   Item_Visibility         8523 non-null   float64\n",
      " 3   Item_MRP                8523 non-null   float64\n",
      " 4   Item_Outlet_Sales       8523 non-null   float64\n",
      " 5   Outlet_Years            8523 non-null   int64  \n",
      " 6   Item_Fat_Content_0      8523 non-null   int64  \n",
      " 7   Item_Fat_Content_1      8523 non-null   int64  \n",
      " 8   Outlet_Size_0           8523 non-null   int64  \n",
      " 9   Outlet_Size_1           8523 non-null   int64  \n",
      " 10  Outlet_Location_Type_0  8523 non-null   int64  \n",
      " 11  Outlet_Location_Type_1  8523 non-null   int64  \n",
      " 12  Outlet_Type_0           8523 non-null   int64  \n",
      " 13  Outlet_Type_1           8523 non-null   int64  \n",
      " 14  Outlet_Type_2           8523 non-null   int64  \n",
      " 15  New_Item_Type_0         8523 non-null   int64  \n",
      " 16  New_Item_Type_1         8523 non-null   int64  \n",
      " 17  Outlet_0                8523 non-null   int64  \n",
      " 18  Outlet_1                8523 non-null   int64  \n",
      " 19  Outlet_2                8523 non-null   int64  \n",
      " 20  Outlet_3                8523 non-null   int64  \n",
      " 21  Outlet_4                8523 non-null   int64  \n",
      " 22  Outlet_5                8523 non-null   int64  \n",
      " 23  Outlet_6                8523 non-null   int64  \n",
      " 24  Outlet_7                8523 non-null   int64  \n",
      " 25  Outlet_8                8523 non-null   int64  \n",
      " 26  Item_Type_0             8523 non-null   int64  \n",
      " 27  Item_Type_1             8523 non-null   int64  \n",
      " 28  Item_Type_2             8523 non-null   int64  \n",
      " 29  Item_Type_3             8523 non-null   int64  \n",
      " 30  Item_Type_4             8523 non-null   int64  \n",
      " 31  Item_Type_5             8523 non-null   int64  \n",
      " 32  Item_Type_6             8523 non-null   int64  \n",
      " 33  Item_Type_7             8523 non-null   int64  \n",
      " 34  Item_Type_8             8523 non-null   int64  \n",
      " 35  Item_Type_9             8523 non-null   int64  \n",
      " 36  Item_Type_10            8523 non-null   int64  \n",
      " 37  Item_Type_11            8523 non-null   int64  \n",
      " 38  Item_Type_12            8523 non-null   int64  \n",
      " 39  Item_Type_13            8523 non-null   int64  \n",
      " 40  Item_Type_14            8523 non-null   int64  \n",
      "dtypes: float64(4), int64(36), object(1)\n",
      "memory usage: 2.7+ MB\n"
     ]
    }
   ],
   "source": [
    "# datatype of attributes\n",
    "df.info()"
   ]
  },
  {
   "cell_type": "code",
   "execution_count": 10,
   "metadata": {
    "colab": {
     "base_uri": "https://localhost:8080/"
    },
    "executionInfo": {
     "elapsed": 3,
     "status": "ok",
     "timestamp": 1679164434522,
     "user": {
      "displayName": "황선경",
      "userId": "17888974404389374352"
     },
     "user_tz": -540
    },
    "id": "GayJm1bna9t6",
    "outputId": "82983525-7dc9-4121-b2b8-306f1ed62eab"
   },
   "outputs": [
    {
     "data": {
      "text/plain": [
       "Item_Identifier           1559\n",
       "Item_Weight                417\n",
       "Item_Visibility           7880\n",
       "Item_MRP                  5938\n",
       "Item_Outlet_Sales         3493\n",
       "Outlet_Years                 9\n",
       "Item_Fat_Content_0           2\n",
       "Item_Fat_Content_1           2\n",
       "Outlet_Size_0                2\n",
       "Outlet_Size_1                2\n",
       "Outlet_Location_Type_0       2\n",
       "Outlet_Location_Type_1       2\n",
       "Outlet_Type_0                2\n",
       "Outlet_Type_1                2\n",
       "Outlet_Type_2                2\n",
       "New_Item_Type_0              2\n",
       "New_Item_Type_1              2\n",
       "Outlet_0                     2\n",
       "Outlet_1                     2\n",
       "Outlet_2                     2\n",
       "Outlet_3                     2\n",
       "Outlet_4                     2\n",
       "Outlet_5                     2\n",
       "Outlet_6                     2\n",
       "Outlet_7                     2\n",
       "Outlet_8                     2\n",
       "Item_Type_0                  2\n",
       "Item_Type_1                  2\n",
       "Item_Type_2                  2\n",
       "Item_Type_3                  2\n",
       "Item_Type_4                  2\n",
       "Item_Type_5                  2\n",
       "Item_Type_6                  2\n",
       "Item_Type_7                  2\n",
       "Item_Type_8                  2\n",
       "Item_Type_9                  2\n",
       "Item_Type_10                 2\n",
       "Item_Type_11                 2\n",
       "Item_Type_12                 2\n",
       "Item_Type_13                 2\n",
       "Item_Type_14                 2\n",
       "dtype: int64"
      ]
     },
     "execution_count": 10,
     "metadata": {},
     "output_type": "execute_result"
    }
   ],
   "source": [
    "# check unique values in dataset\n",
    "df.apply(lambda x: len(x.unique()))"
   ]
  },
  {
   "cell_type": "code",
   "execution_count": 11,
   "metadata": {
    "executionInfo": {
     "elapsed": 5,
     "status": "ok",
     "timestamp": 1679164435224,
     "user": {
      "displayName": "황선경",
      "userId": "17888974404389374352"
     },
     "user_tz": -540
    },
    "id": "k_YN7YLEnCrk"
   },
   "outputs": [],
   "source": [
    "## 타겟변수 로그변환 해제\n",
    "#df['Item_Outlet_Sales'] = np.expm1(df['Item_Outlet_Sales'])"
   ]
  },
  {
   "cell_type": "markdown",
   "metadata": {
    "id": "jtEeNOPea9t7"
   },
   "source": [
    "## Preprocessing the dataset"
   ]
  },
  {
   "cell_type": "code",
   "execution_count": 12,
   "metadata": {
    "executionInfo": {
     "elapsed": 8,
     "status": "ok",
     "timestamp": 1679164440672,
     "user": {
      "displayName": "황선경",
      "userId": "17888974404389374352"
     },
     "user_tz": -540
    },
    "id": "FzlPGdZca9uB"
   },
   "outputs": [],
   "source": [
    "X = df.drop(columns=['Item_Outlet_Sales'], axis=1)\n",
    "y = df['Item_Outlet_Sales']"
   ]
  },
  {
   "cell_type": "code",
   "execution_count": 13,
   "metadata": {
    "colab": {
     "base_uri": "https://localhost:8080/"
    },
    "executionInfo": {
     "elapsed": 4,
     "status": "ok",
     "timestamp": 1679164442676,
     "user": {
      "displayName": "황선경",
      "userId": "17888974404389374352"
     },
     "user_tz": -540
    },
    "id": "vzYtR94V50ck",
    "outputId": "86dc96ac-2105-4fac-ecbd-d0b7d7bfb395"
   },
   "outputs": [
    {
     "data": {
      "text/plain": [
       "Index(['Item_Identifier', 'Item_Weight', 'Item_Visibility', 'Item_MRP',\n",
       "       'Outlet_Years', 'Item_Fat_Content_0', 'Item_Fat_Content_1',\n",
       "       'Outlet_Size_0', 'Outlet_Size_1', 'Outlet_Location_Type_0',\n",
       "       'Outlet_Location_Type_1', 'Outlet_Type_0', 'Outlet_Type_1',\n",
       "       'Outlet_Type_2', 'New_Item_Type_0', 'New_Item_Type_1', 'Outlet_0',\n",
       "       'Outlet_1', 'Outlet_2', 'Outlet_3', 'Outlet_4', 'Outlet_5', 'Outlet_6',\n",
       "       'Outlet_7', 'Outlet_8', 'Item_Type_0', 'Item_Type_1', 'Item_Type_2',\n",
       "       'Item_Type_3', 'Item_Type_4', 'Item_Type_5', 'Item_Type_6',\n",
       "       'Item_Type_7', 'Item_Type_8', 'Item_Type_9', 'Item_Type_10',\n",
       "       'Item_Type_11', 'Item_Type_12', 'Item_Type_13', 'Item_Type_14'],\n",
       "      dtype='object')"
      ]
     },
     "execution_count": 13,
     "metadata": {},
     "output_type": "execute_result"
    }
   ],
   "source": [
    "X.columns"
   ]
  },
  {
   "cell_type": "code",
   "execution_count": 15,
   "metadata": {
    "colab": {
     "base_uri": "https://localhost:8080/",
     "height": 268
    },
    "executionInfo": {
     "elapsed": 18,
     "status": "ok",
     "timestamp": 1679164499776,
     "user": {
      "displayName": "황선경",
      "userId": "17888974404389374352"
     },
     "user_tz": -540
    },
    "id": "oE5jvAlo0_h7",
    "outputId": "c2d372ee-6c44-4cd9-d3e6-7f2e2cb3bb81"
   },
   "outputs": [
    {
     "data": {
      "text/html": [
       "\n",
       "  <div id=\"df-ef41ebde-85b4-43f3-ac8d-5d9287d44960\">\n",
       "    <div class=\"colab-df-container\">\n",
       "      <div>\n",
       "<style scoped>\n",
       "    .dataframe tbody tr th:only-of-type {\n",
       "        vertical-align: middle;\n",
       "    }\n",
       "\n",
       "    .dataframe tbody tr th {\n",
       "        vertical-align: top;\n",
       "    }\n",
       "\n",
       "    .dataframe thead th {\n",
       "        text-align: right;\n",
       "    }\n",
       "</style>\n",
       "<table border=\"1\" class=\"dataframe\">\n",
       "  <thead>\n",
       "    <tr style=\"text-align: right;\">\n",
       "      <th></th>\n",
       "      <th>Item_Weight</th>\n",
       "      <th>Item_Visibility</th>\n",
       "      <th>Item_MRP</th>\n",
       "      <th>Outlet_Years</th>\n",
       "      <th>Item_Fat_Content_0</th>\n",
       "      <th>Item_Fat_Content_1</th>\n",
       "      <th>Outlet_Size_0</th>\n",
       "      <th>Outlet_Size_1</th>\n",
       "      <th>Outlet_Location_Type_0</th>\n",
       "      <th>Outlet_Location_Type_1</th>\n",
       "      <th>Outlet_Type_0</th>\n",
       "      <th>Outlet_Type_1</th>\n",
       "      <th>Outlet_Type_2</th>\n",
       "      <th>New_Item_Type_0</th>\n",
       "      <th>New_Item_Type_1</th>\n",
       "      <th>Outlet_0</th>\n",
       "      <th>Outlet_1</th>\n",
       "      <th>Outlet_2</th>\n",
       "      <th>Outlet_3</th>\n",
       "      <th>Outlet_4</th>\n",
       "      <th>Outlet_5</th>\n",
       "      <th>Outlet_6</th>\n",
       "      <th>Outlet_7</th>\n",
       "      <th>Outlet_8</th>\n",
       "      <th>Item_Type_0</th>\n",
       "      <th>Item_Type_1</th>\n",
       "      <th>Item_Type_2</th>\n",
       "      <th>Item_Type_3</th>\n",
       "      <th>Item_Type_4</th>\n",
       "      <th>Item_Type_5</th>\n",
       "      <th>Item_Type_6</th>\n",
       "      <th>Item_Type_7</th>\n",
       "      <th>Item_Type_8</th>\n",
       "      <th>Item_Type_9</th>\n",
       "      <th>Item_Type_10</th>\n",
       "      <th>Item_Type_11</th>\n",
       "      <th>Item_Type_12</th>\n",
       "      <th>Item_Type_13</th>\n",
       "      <th>Item_Type_14</th>\n",
       "    </tr>\n",
       "  </thead>\n",
       "  <tbody>\n",
       "    <tr>\n",
       "      <th>0</th>\n",
       "      <td>-0.841872</td>\n",
       "      <td>-1.111358</td>\n",
       "      <td>1.747454</td>\n",
       "      <td>-0.139541</td>\n",
       "      <td>1</td>\n",
       "      <td>0</td>\n",
       "      <td>0</td>\n",
       "      <td>1</td>\n",
       "      <td>1</td>\n",
       "      <td>0</td>\n",
       "      <td>0</td>\n",
       "      <td>1</td>\n",
       "      <td>0</td>\n",
       "      <td>0</td>\n",
       "      <td>1</td>\n",
       "      <td>0</td>\n",
       "      <td>0</td>\n",
       "      <td>0</td>\n",
       "      <td>0</td>\n",
       "      <td>0</td>\n",
       "      <td>0</td>\n",
       "      <td>0</td>\n",
       "      <td>0</td>\n",
       "      <td>0</td>\n",
       "      <td>0</td>\n",
       "      <td>0</td>\n",
       "      <td>0</td>\n",
       "      <td>0</td>\n",
       "      <td>1</td>\n",
       "      <td>0</td>\n",
       "      <td>0</td>\n",
       "      <td>0</td>\n",
       "      <td>0</td>\n",
       "      <td>0</td>\n",
       "      <td>0</td>\n",
       "      <td>0</td>\n",
       "      <td>0</td>\n",
       "      <td>0</td>\n",
       "      <td>0</td>\n",
       "    </tr>\n",
       "    <tr>\n",
       "      <th>1</th>\n",
       "      <td>-1.641706</td>\n",
       "      <td>-1.045067</td>\n",
       "      <td>-1.489023</td>\n",
       "      <td>-1.334103</td>\n",
       "      <td>0</td>\n",
       "      <td>0</td>\n",
       "      <td>0</td>\n",
       "      <td>1</td>\n",
       "      <td>0</td>\n",
       "      <td>0</td>\n",
       "      <td>0</td>\n",
       "      <td>0</td>\n",
       "      <td>1</td>\n",
       "      <td>1</td>\n",
       "      <td>0</td>\n",
       "      <td>0</td>\n",
       "      <td>0</td>\n",
       "      <td>0</td>\n",
       "      <td>1</td>\n",
       "      <td>0</td>\n",
       "      <td>0</td>\n",
       "      <td>0</td>\n",
       "      <td>0</td>\n",
       "      <td>0</td>\n",
       "      <td>0</td>\n",
       "      <td>0</td>\n",
       "      <td>0</td>\n",
       "      <td>0</td>\n",
       "      <td>0</td>\n",
       "      <td>0</td>\n",
       "      <td>0</td>\n",
       "      <td>0</td>\n",
       "      <td>0</td>\n",
       "      <td>0</td>\n",
       "      <td>0</td>\n",
       "      <td>0</td>\n",
       "      <td>0</td>\n",
       "      <td>0</td>\n",
       "      <td>1</td>\n",
       "    </tr>\n",
       "    <tr>\n",
       "      <th>2</th>\n",
       "      <td>1.098554</td>\n",
       "      <td>-1.096733</td>\n",
       "      <td>0.010040</td>\n",
       "      <td>-0.139541</td>\n",
       "      <td>1</td>\n",
       "      <td>0</td>\n",
       "      <td>0</td>\n",
       "      <td>1</td>\n",
       "      <td>1</td>\n",
       "      <td>0</td>\n",
       "      <td>0</td>\n",
       "      <td>1</td>\n",
       "      <td>0</td>\n",
       "      <td>0</td>\n",
       "      <td>1</td>\n",
       "      <td>0</td>\n",
       "      <td>0</td>\n",
       "      <td>0</td>\n",
       "      <td>0</td>\n",
       "      <td>0</td>\n",
       "      <td>0</td>\n",
       "      <td>0</td>\n",
       "      <td>0</td>\n",
       "      <td>0</td>\n",
       "      <td>0</td>\n",
       "      <td>0</td>\n",
       "      <td>0</td>\n",
       "      <td>0</td>\n",
       "      <td>0</td>\n",
       "      <td>0</td>\n",
       "      <td>0</td>\n",
       "      <td>0</td>\n",
       "      <td>0</td>\n",
       "      <td>0</td>\n",
       "      <td>1</td>\n",
       "      <td>0</td>\n",
       "      <td>0</td>\n",
       "      <td>0</td>\n",
       "      <td>0</td>\n",
       "    </tr>\n",
       "    <tr>\n",
       "      <th>3</th>\n",
       "      <td>1.500838</td>\n",
       "      <td>-0.083740</td>\n",
       "      <td>0.660050</td>\n",
       "      <td>-0.020085</td>\n",
       "      <td>0</td>\n",
       "      <td>0</td>\n",
       "      <td>0</td>\n",
       "      <td>0</td>\n",
       "      <td>0</td>\n",
       "      <td>0</td>\n",
       "      <td>1</td>\n",
       "      <td>0</td>\n",
       "      <td>0</td>\n",
       "      <td>0</td>\n",
       "      <td>1</td>\n",
       "      <td>1</td>\n",
       "      <td>0</td>\n",
       "      <td>0</td>\n",
       "      <td>0</td>\n",
       "      <td>0</td>\n",
       "      <td>0</td>\n",
       "      <td>0</td>\n",
       "      <td>0</td>\n",
       "      <td>0</td>\n",
       "      <td>0</td>\n",
       "      <td>0</td>\n",
       "      <td>0</td>\n",
       "      <td>0</td>\n",
       "      <td>0</td>\n",
       "      <td>0</td>\n",
       "      <td>1</td>\n",
       "      <td>0</td>\n",
       "      <td>0</td>\n",
       "      <td>0</td>\n",
       "      <td>0</td>\n",
       "      <td>0</td>\n",
       "      <td>0</td>\n",
       "      <td>0</td>\n",
       "      <td>0</td>\n",
       "    </tr>\n",
       "    <tr>\n",
       "      <th>4</th>\n",
       "      <td>-0.929428</td>\n",
       "      <td>-0.083740</td>\n",
       "      <td>-1.399220</td>\n",
       "      <td>1.293934</td>\n",
       "      <td>0</td>\n",
       "      <td>1</td>\n",
       "      <td>1</td>\n",
       "      <td>0</td>\n",
       "      <td>0</td>\n",
       "      <td>0</td>\n",
       "      <td>0</td>\n",
       "      <td>1</td>\n",
       "      <td>0</td>\n",
       "      <td>0</td>\n",
       "      <td>0</td>\n",
       "      <td>0</td>\n",
       "      <td>1</td>\n",
       "      <td>0</td>\n",
       "      <td>0</td>\n",
       "      <td>0</td>\n",
       "      <td>0</td>\n",
       "      <td>0</td>\n",
       "      <td>0</td>\n",
       "      <td>0</td>\n",
       "      <td>0</td>\n",
       "      <td>0</td>\n",
       "      <td>0</td>\n",
       "      <td>0</td>\n",
       "      <td>0</td>\n",
       "      <td>0</td>\n",
       "      <td>0</td>\n",
       "      <td>0</td>\n",
       "      <td>0</td>\n",
       "      <td>1</td>\n",
       "      <td>0</td>\n",
       "      <td>0</td>\n",
       "      <td>0</td>\n",
       "      <td>0</td>\n",
       "      <td>0</td>\n",
       "    </tr>\n",
       "  </tbody>\n",
       "</table>\n",
       "</div>\n",
       "      <button class=\"colab-df-convert\" onclick=\"convertToInteractive('df-ef41ebde-85b4-43f3-ac8d-5d9287d44960')\"\n",
       "              title=\"Convert this dataframe to an interactive table.\"\n",
       "              style=\"display:none;\">\n",
       "        \n",
       "  <svg xmlns=\"http://www.w3.org/2000/svg\" height=\"24px\"viewBox=\"0 0 24 24\"\n",
       "       width=\"24px\">\n",
       "    <path d=\"M0 0h24v24H0V0z\" fill=\"none\"/>\n",
       "    <path d=\"M18.56 5.44l.94 2.06.94-2.06 2.06-.94-2.06-.94-.94-2.06-.94 2.06-2.06.94zm-11 1L8.5 8.5l.94-2.06 2.06-.94-2.06-.94L8.5 2.5l-.94 2.06-2.06.94zm10 10l.94 2.06.94-2.06 2.06-.94-2.06-.94-.94-2.06-.94 2.06-2.06.94z\"/><path d=\"M17.41 7.96l-1.37-1.37c-.4-.4-.92-.59-1.43-.59-.52 0-1.04.2-1.43.59L10.3 9.45l-7.72 7.72c-.78.78-.78 2.05 0 2.83L4 21.41c.39.39.9.59 1.41.59.51 0 1.02-.2 1.41-.59l7.78-7.78 2.81-2.81c.8-.78.8-2.07 0-2.86zM5.41 20L4 18.59l7.72-7.72 1.47 1.35L5.41 20z\"/>\n",
       "  </svg>\n",
       "      </button>\n",
       "      \n",
       "  <style>\n",
       "    .colab-df-container {\n",
       "      display:flex;\n",
       "      flex-wrap:wrap;\n",
       "      gap: 12px;\n",
       "    }\n",
       "\n",
       "    .colab-df-convert {\n",
       "      background-color: #E8F0FE;\n",
       "      border: none;\n",
       "      border-radius: 50%;\n",
       "      cursor: pointer;\n",
       "      display: none;\n",
       "      fill: #1967D2;\n",
       "      height: 32px;\n",
       "      padding: 0 0 0 0;\n",
       "      width: 32px;\n",
       "    }\n",
       "\n",
       "    .colab-df-convert:hover {\n",
       "      background-color: #E2EBFA;\n",
       "      box-shadow: 0px 1px 2px rgba(60, 64, 67, 0.3), 0px 1px 3px 1px rgba(60, 64, 67, 0.15);\n",
       "      fill: #174EA6;\n",
       "    }\n",
       "\n",
       "    [theme=dark] .colab-df-convert {\n",
       "      background-color: #3B4455;\n",
       "      fill: #D2E3FC;\n",
       "    }\n",
       "\n",
       "    [theme=dark] .colab-df-convert:hover {\n",
       "      background-color: #434B5C;\n",
       "      box-shadow: 0px 1px 3px 1px rgba(0, 0, 0, 0.15);\n",
       "      filter: drop-shadow(0px 1px 2px rgba(0, 0, 0, 0.3));\n",
       "      fill: #FFFFFF;\n",
       "    }\n",
       "  </style>\n",
       "\n",
       "      <script>\n",
       "        const buttonEl =\n",
       "          document.querySelector('#df-ef41ebde-85b4-43f3-ac8d-5d9287d44960 button.colab-df-convert');\n",
       "        buttonEl.style.display =\n",
       "          google.colab.kernel.accessAllowed ? 'block' : 'none';\n",
       "\n",
       "        async function convertToInteractive(key) {\n",
       "          const element = document.querySelector('#df-ef41ebde-85b4-43f3-ac8d-5d9287d44960');\n",
       "          const dataTable =\n",
       "            await google.colab.kernel.invokeFunction('convertToInteractive',\n",
       "                                                     [key], {});\n",
       "          if (!dataTable) return;\n",
       "\n",
       "          const docLinkHtml = 'Like what you see? Visit the ' +\n",
       "            '<a target=\"_blank\" href=https://colab.research.google.com/notebooks/data_table.ipynb>data table notebook</a>'\n",
       "            + ' to learn more about interactive tables.';\n",
       "          element.innerHTML = '';\n",
       "          dataTable['output_type'] = 'display_data';\n",
       "          await google.colab.output.renderOutput(dataTable, element);\n",
       "          const docLink = document.createElement('div');\n",
       "          docLink.innerHTML = docLinkHtml;\n",
       "          element.appendChild(docLink);\n",
       "        }\n",
       "      </script>\n",
       "    </div>\n",
       "  </div>\n",
       "  "
      ],
      "text/plain": [
       "   Item_Weight  Item_Visibility  Item_MRP  Outlet_Years  Item_Fat_Content_0  \\\n",
       "0    -0.841872        -1.111358  1.747454     -0.139541                   1   \n",
       "1    -1.641706        -1.045067 -1.489023     -1.334103                   0   \n",
       "2     1.098554        -1.096733  0.010040     -0.139541                   1   \n",
       "3     1.500838        -0.083740  0.660050     -0.020085                   0   \n",
       "4    -0.929428        -0.083740 -1.399220      1.293934                   0   \n",
       "\n",
       "   Item_Fat_Content_1  Outlet_Size_0  Outlet_Size_1  Outlet_Location_Type_0  \\\n",
       "0                   0              0              1                       1   \n",
       "1                   0              0              1                       0   \n",
       "2                   0              0              1                       1   \n",
       "3                   0              0              0                       0   \n",
       "4                   1              1              0                       0   \n",
       "\n",
       "   Outlet_Location_Type_1  Outlet_Type_0  Outlet_Type_1  Outlet_Type_2  \\\n",
       "0                       0              0              1              0   \n",
       "1                       0              0              0              1   \n",
       "2                       0              0              1              0   \n",
       "3                       0              1              0              0   \n",
       "4                       0              0              1              0   \n",
       "\n",
       "   New_Item_Type_0  New_Item_Type_1  Outlet_0  Outlet_1  Outlet_2  Outlet_3  \\\n",
       "0                0                1         0         0         0         0   \n",
       "1                1                0         0         0         0         1   \n",
       "2                0                1         0         0         0         0   \n",
       "3                0                1         1         0         0         0   \n",
       "4                0                0         0         1         0         0   \n",
       "\n",
       "   Outlet_4  Outlet_5  Outlet_6  Outlet_7  Outlet_8  Item_Type_0  Item_Type_1  \\\n",
       "0         0         0         0         0         0            0            0   \n",
       "1         0         0         0         0         0            0            0   \n",
       "2         0         0         0         0         0            0            0   \n",
       "3         0         0         0         0         0            0            0   \n",
       "4         0         0         0         0         0            0            0   \n",
       "\n",
       "   Item_Type_2  Item_Type_3  Item_Type_4  Item_Type_5  Item_Type_6  \\\n",
       "0            0            0            1            0            0   \n",
       "1            0            0            0            0            0   \n",
       "2            0            0            0            0            0   \n",
       "3            0            0            0            0            1   \n",
       "4            0            0            0            0            0   \n",
       "\n",
       "   Item_Type_7  Item_Type_8  Item_Type_9  Item_Type_10  Item_Type_11  \\\n",
       "0            0            0            0             0             0   \n",
       "1            0            0            0             0             0   \n",
       "2            0            0            0             1             0   \n",
       "3            0            0            0             0             0   \n",
       "4            0            0            1             0             0   \n",
       "\n",
       "   Item_Type_12  Item_Type_13  Item_Type_14  \n",
       "0             0             0             0  \n",
       "1             0             0             1  \n",
       "2             0             0             0  \n",
       "3             0             0             0  \n",
       "4             0             0             0  "
      ]
     },
     "execution_count": 15,
     "metadata": {},
     "output_type": "execute_result"
    }
   ],
   "source": [
    "from sklearn.preprocessing import StandardScaler\n",
    "\n",
    "cont_vars = ['Item_Weight', 'Item_Visibility', 'Item_MRP', 'Outlet_Years']\n",
    "cat_vars = ['Item_Fat_Content_0',\n",
    "       'Item_Fat_Content_1', 'Outlet_Size_0', 'Outlet_Size_1',\n",
    "       'Outlet_Location_Type_0', 'Outlet_Location_Type_1', 'Outlet_Type_0',\n",
    "       'Outlet_Type_1', 'Outlet_Type_2', 'New_Item_Type_0', 'New_Item_Type_1',\n",
    "       'Outlet_0', 'Outlet_1', 'Outlet_2', 'Outlet_3', 'Outlet_4', 'Outlet_5',\n",
    "       'Outlet_6', 'Outlet_7', 'Outlet_8','Item_Type_0', 'Item_Type_1',\n",
    "       'Item_Type_2', 'Item_Type_3', 'Item_Type_4', 'Item_Type_5',\n",
    "       'Item_Type_6', 'Item_Type_7', 'Item_Type_8', 'Item_Type_9',\n",
    "       'Item_Type_10', 'Item_Type_11', 'Item_Type_12', 'Item_Type_13',\n",
    "       'Item_Type_14']\n",
    "scaler = StandardScaler()\n",
    "df_cont = pd.DataFrame(scaler.fit_transform(X[cont_vars]), columns = cont_vars)\n",
    "X_norm = pd.concat([df_cont, X[cat_vars]], axis=1)\n",
    "\n",
    "X_norm.head()"
   ]
  },
  {
   "cell_type": "code",
   "execution_count": 16,
   "metadata": {
    "colab": {
     "base_uri": "https://localhost:8080/"
    },
    "executionInfo": {
     "elapsed": 14,
     "status": "ok",
     "timestamp": 1679164503001,
     "user": {
      "displayName": "황선경",
      "userId": "17888974404389374352"
     },
     "user_tz": -540
    },
    "id": "jn02JoDWoBWr",
    "outputId": "9004a132-6599-4fbd-9ebe-b57e657b33a5"
   },
   "outputs": [
    {
     "data": {
      "text/plain": [
       "(8523, 39)"
      ]
     },
     "execution_count": 16,
     "metadata": {},
     "output_type": "execute_result"
    }
   ],
   "source": [
    "X_norm.shape"
   ]
  },
  {
   "cell_type": "markdown",
   "metadata": {
    "id": "o6hXOXcBa9uB"
   },
   "source": [
    "## Model Training"
   ]
  },
  {
   "cell_type": "code",
   "execution_count": 17,
   "metadata": {
    "executionInfo": {
     "elapsed": 332,
     "status": "ok",
     "timestamp": 1679164522298,
     "user": {
      "displayName": "황선경",
      "userId": "17888974404389374352"
     },
     "user_tz": -540
    },
    "id": "kL_1lqJda9uB"
   },
   "outputs": [],
   "source": [
    "from sklearn.model_selection import cross_val_score\n",
    "from sklearn.metrics import mean_squared_error\n",
    "def train(model, X, y):\n",
    "    # train the model\n",
    "    model.fit(X, y)\n",
    "    \n",
    "    # predict the training set\n",
    "    pred = model.predict(X)\n",
    "    \n",
    "    # perform cross-validation\n",
    "    cv_score = cross_val_score(model, X, y, scoring='neg_mean_squared_error', cv=5)\n",
    "    cv_score = np.abs(np.mean(cv_score))\n",
    "    \n",
    "    print(\"Model Report\")\n",
    "    print(\"MSE:\",mean_squared_error(y,pred))\n",
    "    print(\"RMSE:\", np.sqrt(mean_squared_error(y,pred)))\n",
    "    print(\"CV Score:\", cv_score)"
   ]
  },
  {
   "cell_type": "code",
   "execution_count": 18,
   "metadata": {
    "colab": {
     "base_uri": "https://localhost:8080/",
     "height": 473
    },
    "executionInfo": {
     "elapsed": 2433,
     "status": "ok",
     "timestamp": 1679164528180,
     "user": {
      "displayName": "황선경",
      "userId": "17888974404389374352"
     },
     "user_tz": -540
    },
    "id": "3QS9l_55a9uB",
    "outputId": "28fea75e-691e-41f4-a831-2441323b0cf6"
   },
   "outputs": [
    {
     "name": "stdout",
     "output_type": "stream",
     "text": [
      "Model Report\n",
      "MSE: 0.28721190274159686\n",
      "RMSE: 0.5359215453231908\n",
      "CV Score: 0.2893772396643802\n"
     ]
    },
    {
     "data": {
      "text/plain": [
       "<Axes: title={'center': 'Model Coefficients'}>"
      ]
     },
     "execution_count": 18,
     "metadata": {},
     "output_type": "execute_result"
    },
    {
     "data": {
      "image/png": "[encoded data removed]",
      "text/plain": [
       "<Figure size 432x288 with 1 Axes>"
      ]
     },
     "metadata": {
      "needs_background": "light"
     },
     "output_type": "display_data"
    }
   ],
   "source": [
    "from sklearn.linear_model import LinearRegression, Ridge, Lasso\n",
    "model = LinearRegression()\n",
    "train(model, X_norm, y)\n",
    "coef = pd.Series(model.coef_, X_norm.columns).sort_values()\n",
    "coef.plot(kind='bar', title=\"Model Coefficients\")"
   ]
  },
  {
   "cell_type": "code",
   "execution_count": 19,
   "metadata": {
    "colab": {
     "base_uri": "https://localhost:8080/",
     "height": 473
    },
    "executionInfo": {
     "elapsed": 1031,
     "status": "ok",
     "timestamp": 1679164532279,
     "user": {
      "displayName": "황선경",
      "userId": "17888974404389374352"
     },
     "user_tz": -540
    },
    "id": "aDM4BXYya9uB",
    "outputId": "3706f2b3-c542-42c8-8da8-2d72828d157d"
   },
   "outputs": [
    {
     "name": "stdout",
     "output_type": "stream",
     "text": [
      "Model Report\n",
      "MSE: 0.28721216382777787\n",
      "RMSE: 0.5359217889093313\n",
      "CV Score: 0.2893593745510109\n"
     ]
    },
    {
     "data": {
      "text/plain": [
       "<Axes: title={'center': 'Model Coefficients'}>"
      ]
     },
     "execution_count": 19,
     "metadata": {},
     "output_type": "execute_result"
    },
    {
     "data": {
      "image/png": "[encoded data removed]",
      "text/plain": [
       "<Figure size 432x288 with 1 Axes>"
      ]
     },
     "metadata": {
      "needs_background": "light"
     },
     "output_type": "display_data"
    }
   ],
   "source": [
    "model = Ridge()\n",
    "train(model, X_norm, y)\n",
    "coef = pd.Series(model.coef_, X_norm.columns).sort_values()\n",
    "coef.plot(kind='bar', title=\"Model Coefficients\")"
   ]
  },
  {
   "cell_type": "code",
   "execution_count": 20,
   "metadata": {
    "colab": {
     "base_uri": "https://localhost:8080/",
     "height": 473
    },
    "executionInfo": {
     "elapsed": 595,
     "status": "ok",
     "timestamp": 1679164535263,
     "user": {
      "displayName": "황선경",
      "userId": "17888974404389374352"
     },
     "user_tz": -540
    },
    "id": "ndZfQggKa9uF",
    "outputId": "c4a91661-cd09-493b-a862-88ec2810e704"
   },
   "outputs": [
    {
     "name": "stdout",
     "output_type": "stream",
     "text": [
      "Model Report\n",
      "MSE: 1.0305333080087593\n",
      "RMSE: 1.015151864505385\n",
      "CV Score: 1.030781898345697\n"
     ]
    },
    {
     "data": {
      "text/plain": [
       "<Axes: title={'center': 'Model Coefficients'}>"
      ]
     },
     "execution_count": 20,
     "metadata": {},
     "output_type": "execute_result"
    },
    {
     "data": {
      "image/png": "[encoded data removed]",
      "text/plain": [
       "<Figure size 432x288 with 1 Axes>"
      ]
     },
     "metadata": {
      "needs_background": "light"
     },
     "output_type": "display_data"
    }
   ],
   "source": [
    "model = Lasso()\n",
    "train(model, X_norm, y)\n",
    "coef = pd.Series(model.coef_, X_norm.columns).sort_values()\n",
    "coef.plot(kind='bar', title=\"Model Coefficients\")"
   ]
  },
  {
   "cell_type": "code",
   "execution_count": 21,
   "metadata": {
    "colab": {
     "base_uri": "https://localhost:8080/",
     "height": 473
    },
    "executionInfo": {
     "elapsed": 945,
     "status": "ok",
     "timestamp": 1679164538115,
     "user": {
      "displayName": "황선경",
      "userId": "17888974404389374352"
     },
     "user_tz": -540
    },
    "id": "8WqwfUg1a9uF",
    "outputId": "7186beeb-e2ad-45e0-d92a-047afcc64010"
   },
   "outputs": [
    {
     "name": "stdout",
     "output_type": "stream",
     "text": [
      "Model Report\n",
      "MSE: 2.7767015319289398e-34\n",
      "RMSE: 1.6663437616317167e-17\n",
      "CV Score: 0.5690374819007761\n"
     ]
    },
    {
     "data": {
      "text/plain": [
       "<Axes: title={'center': 'Feature Importance'}>"
      ]
     },
     "execution_count": 21,
     "metadata": {},
     "output_type": "execute_result"
    },
    {
     "data": {
      "image/png": "[encoded data removed]",
      "text/plain": [
       "<Figure size 432x288 with 1 Axes>"
      ]
     },
     "metadata": {
      "needs_background": "light"
     },
     "output_type": "display_data"
    }
   ],
   "source": [
    "from sklearn.tree import DecisionTreeRegressor\n",
    "model = DecisionTreeRegressor()\n",
    "train(model, X_norm, y)\n",
    "coef = pd.Series(model.feature_importances_, X_norm.columns).sort_values(ascending=False)\n",
    "coef.plot(kind='bar', title=\"Feature Importance\")"
   ]
  },
  {
   "cell_type": "code",
   "execution_count": 22,
   "metadata": {
    "colab": {
     "base_uri": "https://localhost:8080/",
     "height": 473
    },
    "executionInfo": {
     "elapsed": 46281,
     "status": "ok",
     "timestamp": 1679164588004,
     "user": {
      "displayName": "황선경",
      "userId": "17888974404389374352"
     },
     "user_tz": -540
    },
    "id": "zZm6gM0_a9uF",
    "outputId": "45832da7-cf4f-4eb2-9358-bc037c0b2ba5"
   },
   "outputs": [
    {
     "name": "stdout",
     "output_type": "stream",
     "text": [
      "Model Report\n",
      "MSE: 0.041460983692356235\n",
      "RMSE: 0.20361970359559076\n",
      "CV Score: 0.30696861724941354\n"
     ]
    },
    {
     "data": {
      "text/plain": [
       "<Axes: title={'center': 'Feature Importance'}>"
      ]
     },
     "execution_count": 22,
     "metadata": {},
     "output_type": "execute_result"
    },
    {
     "data": {
      "image/png": "[encoded data removed]",
      "text/plain": [
       "<Figure size 432x288 with 1 Axes>"
      ]
     },
     "metadata": {
      "needs_background": "light"
     },
     "output_type": "display_data"
    }
   ],
   "source": [
    "from sklearn.ensemble import RandomForestRegressor\n",
    "model = RandomForestRegressor(max_depth=70, n_estimators=200)\n",
    "train(model, X_norm, y)\n",
    "coef = pd.Series(model.feature_importances_, X_norm.columns).sort_values(ascending=False)\n",
    "coef.plot(kind='bar', title=\"Feature Importance\")"
   ]
  },
  {
   "cell_type": "code",
   "execution_count": 23,
   "metadata": {
    "colab": {
     "base_uri": "https://localhost:8080/"
    },
    "executionInfo": {
     "elapsed": 490,
     "status": "ok",
     "timestamp": 1679164594235,
     "user": {
      "displayName": "황선경",
      "userId": "17888974404389374352"
     },
     "user_tz": -540
    },
    "id": "reaiQmr_srMV",
    "outputId": "67313ae4-1444-4bd5-d659-fa0c82e2c4a9"
   },
   "outputs": [
    {
     "name": "stdout",
     "output_type": "stream",
     "text": [
      "Average :  36.33\n",
      "Max :  43\n"
     ]
    }
   ],
   "source": [
    "max_depths = []\n",
    "for i in range(100):\n",
    "  max_depth = model.estimators_[i].tree_.max_depth\n",
    "  max_depths.append(max_depth)\n",
    "\n",
    "print('Average : ', np.mean(max_depths))\n",
    "print('Max : ', max(max_depths))"
   ]
  },
  {
   "cell_type": "code",
   "execution_count": 24,
   "metadata": {
    "colab": {
     "base_uri": "https://localhost:8080/",
     "height": 473
    },
    "executionInfo": {
     "elapsed": 18545,
     "status": "ok",
     "timestamp": 1679164613203,
     "user": {
      "displayName": "황선경",
      "userId": "17888974404389374352"
     },
     "user_tz": -540
    },
    "id": "nu5e3fcFa9uG",
    "outputId": "3622c09b-419a-451f-91bd-642a744e9264"
   },
   "outputs": [
    {
     "name": "stdout",
     "output_type": "stream",
     "text": [
      "Model Report\n",
      "MSE: 1.043898164227153e-28\n",
      "RMSE: 1.0217133473862192e-14\n",
      "CV Score: 0.3393804578989455\n"
     ]
    },
    {
     "data": {
      "text/plain": [
       "<Axes: title={'center': 'Feature Importance'}>"
      ]
     },
     "execution_count": 24,
     "metadata": {},
     "output_type": "execute_result"
    },
    {
     "data": {
      "image/png": "[encoded data removed]",
      "text/plain": [
       "<Figure size 432x288 with 1 Axes>"
      ]
     },
     "metadata": {
      "needs_background": "light"
     },
     "output_type": "display_data"
    }
   ],
   "source": [
    "from sklearn.ensemble import ExtraTreesRegressor\n",
    "model = ExtraTreesRegressor()\n",
    "train(model, X_norm, y)\n",
    "coef = pd.Series(model.feature_importances_, X_norm.columns).sort_values(ascending=False)\n",
    "coef.plot(kind='bar', title=\"Feature Importance\")"
   ]
  },
  {
   "cell_type": "code",
   "execution_count": null,
   "metadata": {
    "id": "7i7vrcODa9uG"
   },
   "outputs": [],
   "source": []
  },
  {
   "cell_type": "markdown",
   "metadata": {
    "id": "9bpRRVvgrOo_"
   },
   "source": [
    "# GridSearchCV - RandomForestRegressor"
   ]
  },
  {
   "cell_type": "code",
   "execution_count": null,
   "metadata": {
    "id": "pAfvdd7Ta9uG"
   },
   "outputs": [],
   "source": [
    "from sklearn.model_selection import GridSearchCV"
   ]
  },
  {
   "cell_type": "code",
   "execution_count": null,
   "metadata": {
    "colab": {
     "base_uri": "https://localhost:8080/"
    },
    "executionInfo": {
     "elapsed": 495,
     "status": "ok",
     "timestamp": 1679142466793,
     "user": {
      "displayName": "황선경",
      "userId": "17888974404389374352"
     },
     "user_tz": -540
    },
    "id": "BxHcJly6a9uG",
    "outputId": "27ebbc5e-0a29-4d87-e501-e5830abe3a61"
   },
   "outputs": [
    {
     "data": {
      "text/plain": [
       "{'bootstrap': True,\n",
       " 'ccp_alpha': 0.0,\n",
       " 'criterion': 'squared_error',\n",
       " 'max_depth': None,\n",
       " 'max_features': 1.0,\n",
       " 'max_leaf_nodes': None,\n",
       " 'max_samples': None,\n",
       " 'min_impurity_decrease': 0.0,\n",
       " 'min_samples_leaf': 1,\n",
       " 'min_samples_split': 2,\n",
       " 'min_weight_fraction_leaf': 0.0,\n",
       " 'n_estimators': 100,\n",
       " 'n_jobs': None,\n",
       " 'oob_score': False,\n",
       " 'random_state': None,\n",
       " 'verbose': 0,\n",
       " 'warm_start': False}"
      ]
     },
     "execution_count": 97,
     "metadata": {},
     "output_type": "execute_result"
    }
   ],
   "source": [
    "rf_reg = RandomForestRegressor()\n",
    "rf_reg.get_params()"
   ]
  },
  {
   "cell_type": "code",
   "execution_count": null,
   "metadata": {
    "id": "ikE1i0tQa9uG"
   },
   "outputs": [],
   "source": [
    "param_grid = {\n",
    "    'n_estimators':[100, 150, 200],\n",
    "    #'rf_reg__max_features':['auto', 'sqrt', 'log2'],\n",
    "    'max_depth':[40,50,60]\n",
    "}"
   ]
  },
  {
   "cell_type": "code",
   "execution_count": null,
   "metadata": {
    "colab": {
     "base_uri": "https://localhost:8080/",
     "height": 115
    },
    "executionInfo": {
     "elapsed": 295980,
     "status": "ok",
     "timestamp": 1679145447358,
     "user": {
      "displayName": "황선경",
      "userId": "17888974404389374352"
     },
     "user_tz": -540
    },
    "id": "luiVY7gIsiVG",
    "outputId": "f50d2aa1-51da-468c-a3b6-aa78da9d6523"
   },
   "outputs": [
    {
     "data": {
      "text/html": [
       "<style>#sk-container-id-3 {color: black;background-color: white;}#sk-container-id-3 pre{padding: 0;}#sk-container-id-3 div.sk-toggleable {background-color: white;}#sk-container-id-3 label.sk-toggleable__label {cursor: pointer;display: block;width: 100%;margin-bottom: 0;padding: 0.3em;box-sizing: border-box;text-align: center;}#sk-container-id-3 label.sk-toggleable__label-arrow:before {content: \"▸\";float: left;margin-right: 0.25em;color: #696969;}#sk-container-id-3 label.sk-toggleable__label-arrow:hover:before {color: black;}#sk-container-id-3 div.sk-estimator:hover label.sk-toggleable__label-arrow:before {color: black;}#sk-container-id-3 div.sk-toggleable__content {max-height: 0;max-width: 0;overflow: hidden;text-align: left;background-color: #f0f8ff;}#sk-container-id-3 div.sk-toggleable__content pre {margin: 0.2em;color: black;border-radius: 0.25em;background-color: #f0f8ff;}#sk-container-id-3 input.sk-toggleable__control:checked~div.sk-toggleable__content {max-height: 200px;max-width: 100%;overflow: auto;}#sk-container-id-3 input.sk-toggleable__control:checked~label.sk-toggleable__label-arrow:before {content: \"▾\";}#sk-container-id-3 div.sk-estimator input.sk-toggleable__control:checked~label.sk-toggleable__label {background-color: #d4ebff;}#sk-container-id-3 div.sk-label input.sk-toggleable__control:checked~label.sk-toggleable__label {background-color: #d4ebff;}#sk-container-id-3 input.sk-hidden--visually {border: 0;clip: rect(1px 1px 1px 1px);clip: rect(1px, 1px, 1px, 1px);height: 1px;margin: -1px;overflow: hidden;padding: 0;position: absolute;width: 1px;}#sk-container-id-3 div.sk-estimator {font-family: monospace;background-color: #f0f8ff;border: 1px dotted black;border-radius: 0.25em;box-sizing: border-box;margin-bottom: 0.5em;}#sk-container-id-3 div.sk-estimator:hover {background-color: #d4ebff;}#sk-container-id-3 div.sk-parallel-item::after {content: \"\";width: 100%;border-bottom: 1px solid gray;flex-grow: 1;}#sk-container-id-3 div.sk-label:hover label.sk-toggleable__label {background-color: #d4ebff;}#sk-container-id-3 div.sk-serial::before {content: \"\";position: absolute;border-left: 1px solid gray;box-sizing: border-box;top: 0;bottom: 0;left: 50%;z-index: 0;}#sk-container-id-3 div.sk-serial {display: flex;flex-direction: column;align-items: center;background-color: white;padding-right: 0.2em;padding-left: 0.2em;position: relative;}#sk-container-id-3 div.sk-item {position: relative;z-index: 1;}#sk-container-id-3 div.sk-parallel {display: flex;align-items: stretch;justify-content: center;background-color: white;position: relative;}#sk-container-id-3 div.sk-item::before, #sk-container-id-3 div.sk-parallel-item::before {content: \"\";position: absolute;border-left: 1px solid gray;box-sizing: border-box;top: 0;bottom: 0;left: 50%;z-index: -1;}#sk-container-id-3 div.sk-parallel-item {display: flex;flex-direction: column;z-index: 1;position: relative;background-color: white;}#sk-container-id-3 div.sk-parallel-item:first-child::after {align-self: flex-end;width: 50%;}#sk-container-id-3 div.sk-parallel-item:last-child::after {align-self: flex-start;width: 50%;}#sk-container-id-3 div.sk-parallel-item:only-child::after {width: 0;}#sk-container-id-3 div.sk-dashed-wrapped {border: 1px dashed gray;margin: 0 0.4em 0.5em 0.4em;box-sizing: border-box;padding-bottom: 0.4em;background-color: white;}#sk-container-id-3 div.sk-label label {font-family: monospace;font-weight: bold;display: inline-block;line-height: 1.2em;}#sk-container-id-3 div.sk-label-container {text-align: center;}#sk-container-id-3 div.sk-container {/* jupyter's `normalize.less` sets `[hidden] { display: none; }` but bootstrap.min.css set `[hidden] { display: none !important; }` so we also need the `!important` here to be able to override the default hidden behavior on the sphinx rendered scikit-learn.org. See: https://github.com/scikit-learn/scikit-learn/issues/21755 */display: inline-block !important;position: relative;}#sk-container-id-3 div.sk-text-repr-fallback {display: none;}</style><div id=\"sk-container-id-3\" class=\"sk-top-container\"><div class=\"sk-text-repr-fallback\"><pre>GridSearchCV(cv=5, estimator=RandomForestRegressor(),\n",
       "             param_grid={&#x27;max_depth&#x27;: [40, 50, 60],\n",
       "                         &#x27;n_estimators&#x27;: [100, 150, 200]},\n",
       "             scoring=&#x27;neg_mean_squared_error&#x27;)</pre><b>In a Jupyter environment, please rerun this cell to show the HTML representation or trust the notebook. <br />On GitHub, the HTML representation is unable to render, please try loading this page with nbviewer.org.</b></div><div class=\"sk-container\" hidden><div class=\"sk-item sk-dashed-wrapped\"><div class=\"sk-label-container\"><div class=\"sk-label sk-toggleable\"><input class=\"sk-toggleable__control sk-hidden--visually\" id=\"sk-estimator-id-7\" type=\"checkbox\" ><label for=\"sk-estimator-id-7\" class=\"sk-toggleable__label sk-toggleable__label-arrow\">GridSearchCV</label><div class=\"sk-toggleable__content\"><pre>GridSearchCV(cv=5, estimator=RandomForestRegressor(),\n",
       "             param_grid={&#x27;max_depth&#x27;: [40, 50, 60],\n",
       "                         &#x27;n_estimators&#x27;: [100, 150, 200]},\n",
       "             scoring=&#x27;neg_mean_squared_error&#x27;)</pre></div></div></div><div class=\"sk-parallel\"><div class=\"sk-parallel-item\"><div class=\"sk-item\"><div class=\"sk-label-container\"><div class=\"sk-label sk-toggleable\"><input class=\"sk-toggleable__control sk-hidden--visually\" id=\"sk-estimator-id-8\" type=\"checkbox\" ><label for=\"sk-estimator-id-8\" class=\"sk-toggleable__label sk-toggleable__label-arrow\">estimator: RandomForestRegressor</label><div class=\"sk-toggleable__content\"><pre>RandomForestRegressor()</pre></div></div></div><div class=\"sk-serial\"><div class=\"sk-item\"><div class=\"sk-estimator sk-toggleable\"><input class=\"sk-toggleable__control sk-hidden--visually\" id=\"sk-estimator-id-9\" type=\"checkbox\" ><label for=\"sk-estimator-id-9\" class=\"sk-toggleable__label sk-toggleable__label-arrow\">RandomForestRegressor</label><div class=\"sk-toggleable__content\"><pre>RandomForestRegressor()</pre></div></div></div></div></div></div></div></div></div></div>"
      ],
      "text/plain": [
       "GridSearchCV(cv=5, estimator=RandomForestRegressor(),\n",
       "             param_grid={'max_depth': [40, 50, 60],\n",
       "                         'n_estimators': [100, 150, 200]},\n",
       "             scoring='neg_mean_squared_error')"
      ]
     },
     "execution_count": 133,
     "metadata": {},
     "output_type": "execute_result"
    }
   ],
   "source": [
    "grid_search = GridSearchCV(rf_reg, param_grid, cv=5, scoring='neg_mean_squared_error')\n",
    "# scoring=scoring\n",
    "\n",
    "# Fit the grid search object to the data\n",
    "grid_search.fit(X_norm, y)"
   ]
  },
  {
   "cell_type": "code",
   "execution_count": null,
   "metadata": {
    "id": "jAC_T9X7xShI"
   },
   "outputs": [],
   "source": [
    "model_name = 'RandomForestRegressor'"
   ]
  },
  {
   "cell_type": "code",
   "execution_count": null,
   "metadata": {
    "colab": {
     "base_uri": "https://localhost:8080/",
     "height": 851
    },
    "executionInfo": {
     "elapsed": 19,
     "status": "ok",
     "timestamp": 1679145584139,
     "user": {
      "displayName": "황선경",
      "userId": "17888974404389374352"
     },
     "user_tz": -540
    },
    "id": "7j6__AY6vdb_",
    "outputId": "7722e7f7-b1d2-4b9a-a872-ffb441ee4d77"
   },
   "outputs": [
    {
     "data": {
      "text/html": [
       "\n",
       "  <div id=\"df-74f731fe-f653-4c4a-a101-3526878c856d\">\n",
       "    <div class=\"colab-df-container\">\n",
       "      <div>\n",
       "<style scoped>\n",
       "    .dataframe tbody tr th:only-of-type {\n",
       "        vertical-align: middle;\n",
       "    }\n",
       "\n",
       "    .dataframe tbody tr th {\n",
       "        vertical-align: top;\n",
       "    }\n",
       "\n",
       "    .dataframe thead th {\n",
       "        text-align: right;\n",
       "    }\n",
       "</style>\n",
       "<table border=\"1\" class=\"dataframe\">\n",
       "  <thead>\n",
       "    <tr style=\"text-align: right;\">\n",
       "      <th></th>\n",
       "      <th>mean_fit_time</th>\n",
       "      <th>std_fit_time</th>\n",
       "      <th>mean_score_time</th>\n",
       "      <th>std_score_time</th>\n",
       "      <th>param_max_depth</th>\n",
       "      <th>param_n_estimators</th>\n",
       "      <th>params</th>\n",
       "      <th>split0_test_score</th>\n",
       "      <th>split1_test_score</th>\n",
       "      <th>split2_test_score</th>\n",
       "      <th>split3_test_score</th>\n",
       "      <th>split4_test_score</th>\n",
       "      <th>mean_test_score</th>\n",
       "      <th>std_test_score</th>\n",
       "      <th>rank_test_score</th>\n",
       "    </tr>\n",
       "  </thead>\n",
       "  <tbody>\n",
       "    <tr>\n",
       "      <th>0</th>\n",
       "      <td>4.162827</td>\n",
       "      <td>0.345324</td>\n",
       "      <td>0.054423</td>\n",
       "      <td>0.002723</td>\n",
       "      <td>40</td>\n",
       "      <td>100</td>\n",
       "      <td>{'max_depth': 40, 'n_estimators': 100}</td>\n",
       "      <td>-0.314246</td>\n",
       "      <td>-0.309066</td>\n",
       "      <td>-0.302230</td>\n",
       "      <td>-0.315046</td>\n",
       "      <td>-0.298153</td>\n",
       "      <td>-0.307748</td>\n",
       "      <td>0.006629</td>\n",
       "      <td>7</td>\n",
       "    </tr>\n",
       "    <tr>\n",
       "      <th>1</th>\n",
       "      <td>6.747074</td>\n",
       "      <td>0.878720</td>\n",
       "      <td>0.103024</td>\n",
       "      <td>0.043788</td>\n",
       "      <td>40</td>\n",
       "      <td>150</td>\n",
       "      <td>{'max_depth': 40, 'n_estimators': 150}</td>\n",
       "      <td>-0.313533</td>\n",
       "      <td>-0.310455</td>\n",
       "      <td>-0.300191</td>\n",
       "      <td>-0.314877</td>\n",
       "      <td>-0.295670</td>\n",
       "      <td>-0.306945</td>\n",
       "      <td>0.007634</td>\n",
       "      <td>3</td>\n",
       "    </tr>\n",
       "    <tr>\n",
       "      <th>2</th>\n",
       "      <td>8.296183</td>\n",
       "      <td>0.277091</td>\n",
       "      <td>0.101024</td>\n",
       "      <td>0.002432</td>\n",
       "      <td>40</td>\n",
       "      <td>200</td>\n",
       "      <td>{'max_depth': 40, 'n_estimators': 200}</td>\n",
       "      <td>-0.311067</td>\n",
       "      <td>-0.311271</td>\n",
       "      <td>-0.301036</td>\n",
       "      <td>-0.314598</td>\n",
       "      <td>-0.296637</td>\n",
       "      <td>-0.306922</td>\n",
       "      <td>0.006862</td>\n",
       "      <td>2</td>\n",
       "    </tr>\n",
       "    <tr>\n",
       "      <th>3</th>\n",
       "      <td>4.164578</td>\n",
       "      <td>0.338613</td>\n",
       "      <td>0.052331</td>\n",
       "      <td>0.001936</td>\n",
       "      <td>50</td>\n",
       "      <td>100</td>\n",
       "      <td>{'max_depth': 50, 'n_estimators': 100}</td>\n",
       "      <td>-0.315763</td>\n",
       "      <td>-0.312828</td>\n",
       "      <td>-0.303123</td>\n",
       "      <td>-0.314199</td>\n",
       "      <td>-0.297429</td>\n",
       "      <td>-0.308668</td>\n",
       "      <td>0.007146</td>\n",
       "      <td>9</td>\n",
       "    </tr>\n",
       "    <tr>\n",
       "      <th>4</th>\n",
       "      <td>6.115156</td>\n",
       "      <td>0.081383</td>\n",
       "      <td>0.085149</td>\n",
       "      <td>0.007019</td>\n",
       "      <td>50</td>\n",
       "      <td>150</td>\n",
       "      <td>{'max_depth': 50, 'n_estimators': 150}</td>\n",
       "      <td>-0.314761</td>\n",
       "      <td>-0.311592</td>\n",
       "      <td>-0.298255</td>\n",
       "      <td>-0.314028</td>\n",
       "      <td>-0.296722</td>\n",
       "      <td>-0.307072</td>\n",
       "      <td>0.007910</td>\n",
       "      <td>4</td>\n",
       "    </tr>\n",
       "    <tr>\n",
       "      <th>5</th>\n",
       "      <td>8.349357</td>\n",
       "      <td>0.294774</td>\n",
       "      <td>0.103041</td>\n",
       "      <td>0.008672</td>\n",
       "      <td>50</td>\n",
       "      <td>200</td>\n",
       "      <td>{'max_depth': 50, 'n_estimators': 200}</td>\n",
       "      <td>-0.313928</td>\n",
       "      <td>-0.312135</td>\n",
       "      <td>-0.299541</td>\n",
       "      <td>-0.311906</td>\n",
       "      <td>-0.297057</td>\n",
       "      <td>-0.306913</td>\n",
       "      <td>0.007112</td>\n",
       "      <td>1</td>\n",
       "    </tr>\n",
       "    <tr>\n",
       "      <th>6</th>\n",
       "      <td>3.987000</td>\n",
       "      <td>0.280125</td>\n",
       "      <td>0.052162</td>\n",
       "      <td>0.001004</td>\n",
       "      <td>60</td>\n",
       "      <td>100</td>\n",
       "      <td>{'max_depth': 60, 'n_estimators': 100}</td>\n",
       "      <td>-0.316425</td>\n",
       "      <td>-0.313091</td>\n",
       "      <td>-0.301564</td>\n",
       "      <td>-0.313701</td>\n",
       "      <td>-0.296646</td>\n",
       "      <td>-0.308286</td>\n",
       "      <td>0.007737</td>\n",
       "      <td>8</td>\n",
       "    </tr>\n",
       "    <tr>\n",
       "      <th>7</th>\n",
       "      <td>6.223615</td>\n",
       "      <td>0.371359</td>\n",
       "      <td>0.078388</td>\n",
       "      <td>0.002158</td>\n",
       "      <td>60</td>\n",
       "      <td>150</td>\n",
       "      <td>{'max_depth': 60, 'n_estimators': 150}</td>\n",
       "      <td>-0.314303</td>\n",
       "      <td>-0.312354</td>\n",
       "      <td>-0.300032</td>\n",
       "      <td>-0.313864</td>\n",
       "      <td>-0.297340</td>\n",
       "      <td>-0.307579</td>\n",
       "      <td>0.007339</td>\n",
       "      <td>6</td>\n",
       "    </tr>\n",
       "    <tr>\n",
       "      <th>8</th>\n",
       "      <td>8.144933</td>\n",
       "      <td>0.289278</td>\n",
       "      <td>0.109588</td>\n",
       "      <td>0.010663</td>\n",
       "      <td>60</td>\n",
       "      <td>200</td>\n",
       "      <td>{'max_depth': 60, 'n_estimators': 200}</td>\n",
       "      <td>-0.314506</td>\n",
       "      <td>-0.311160</td>\n",
       "      <td>-0.302377</td>\n",
       "      <td>-0.312685</td>\n",
       "      <td>-0.296873</td>\n",
       "      <td>-0.307520</td>\n",
       "      <td>0.006761</td>\n",
       "      <td>5</td>\n",
       "    </tr>\n",
       "  </tbody>\n",
       "</table>\n",
       "</div>\n",
       "      <button class=\"colab-df-convert\" onclick=\"convertToInteractive('df-74f731fe-f653-4c4a-a101-3526878c856d')\"\n",
       "              title=\"Convert this dataframe to an interactive table.\"\n",
       "              style=\"display:none;\">\n",
       "        \n",
       "  <svg xmlns=\"http://www.w3.org/2000/svg\" height=\"24px\"viewBox=\"0 0 24 24\"\n",
       "       width=\"24px\">\n",
       "    <path d=\"M0 0h24v24H0V0z\" fill=\"none\"/>\n",
       "    <path d=\"M18.56 5.44l.94 2.06.94-2.06 2.06-.94-2.06-.94-.94-2.06-.94 2.06-2.06.94zm-11 1L8.5 8.5l.94-2.06 2.06-.94-2.06-.94L8.5 2.5l-.94 2.06-2.06.94zm10 10l.94 2.06.94-2.06 2.06-.94-2.06-.94-.94-2.06-.94 2.06-2.06.94z\"/><path d=\"M17.41 7.96l-1.37-1.37c-.4-.4-.92-.59-1.43-.59-.52 0-1.04.2-1.43.59L10.3 9.45l-7.72 7.72c-.78.78-.78 2.05 0 2.83L4 21.41c.39.39.9.59 1.41.59.51 0 1.02-.2 1.41-.59l7.78-7.78 2.81-2.81c.8-.78.8-2.07 0-2.86zM5.41 20L4 18.59l7.72-7.72 1.47 1.35L5.41 20z\"/>\n",
       "  </svg>\n",
       "      </button>\n",
       "      \n",
       "  <style>\n",
       "    .colab-df-container {\n",
       "      display:flex;\n",
       "      flex-wrap:wrap;\n",
       "      gap: 12px;\n",
       "    }\n",
       "\n",
       "    .colab-df-convert {\n",
       "      background-color: #E8F0FE;\n",
       "      border: none;\n",
       "      border-radius: 50%;\n",
       "      cursor: pointer;\n",
       "      display: none;\n",
       "      fill: #1967D2;\n",
       "      height: 32px;\n",
       "      padding: 0 0 0 0;\n",
       "      width: 32px;\n",
       "    }\n",
       "\n",
       "    .colab-df-convert:hover {\n",
       "      background-color: #E2EBFA;\n",
       "      box-shadow: 0px 1px 2px rgba(60, 64, 67, 0.3), 0px 1px 3px 1px rgba(60, 64, 67, 0.15);\n",
       "      fill: #174EA6;\n",
       "    }\n",
       "\n",
       "    [theme=dark] .colab-df-convert {\n",
       "      background-color: #3B4455;\n",
       "      fill: #D2E3FC;\n",
       "    }\n",
       "\n",
       "    [theme=dark] .colab-df-convert:hover {\n",
       "      background-color: #434B5C;\n",
       "      box-shadow: 0px 1px 3px 1px rgba(0, 0, 0, 0.15);\n",
       "      filter: drop-shadow(0px 1px 2px rgba(0, 0, 0, 0.3));\n",
       "      fill: #FFFFFF;\n",
       "    }\n",
       "  </style>\n",
       "\n",
       "      <script>\n",
       "        const buttonEl =\n",
       "          document.querySelector('#df-74f731fe-f653-4c4a-a101-3526878c856d button.colab-df-convert');\n",
       "        buttonEl.style.display =\n",
       "          google.colab.kernel.accessAllowed ? 'block' : 'none';\n",
       "\n",
       "        async function convertToInteractive(key) {\n",
       "          const element = document.querySelector('#df-74f731fe-f653-4c4a-a101-3526878c856d');\n",
       "          const dataTable =\n",
       "            await google.colab.kernel.invokeFunction('convertToInteractive',\n",
       "                                                     [key], {});\n",
       "          if (!dataTable) return;\n",
       "\n",
       "          const docLinkHtml = 'Like what you see? Visit the ' +\n",
       "            '<a target=\"_blank\" href=https://colab.research.google.com/notebooks/data_table.ipynb>data table notebook</a>'\n",
       "            + ' to learn more about interactive tables.';\n",
       "          element.innerHTML = '';\n",
       "          dataTable['output_type'] = 'display_data';\n",
       "          await google.colab.output.renderOutput(dataTable, element);\n",
       "          const docLink = document.createElement('div');\n",
       "          docLink.innerHTML = docLinkHtml;\n",
       "          element.appendChild(docLink);\n",
       "        }\n",
       "      </script>\n",
       "    </div>\n",
       "  </div>\n",
       "  "
      ],
      "text/plain": [
       "   mean_fit_time  std_fit_time  mean_score_time  std_score_time  \\\n",
       "0       4.162827      0.345324         0.054423        0.002723   \n",
       "1       6.747074      0.878720         0.103024        0.043788   \n",
       "2       8.296183      0.277091         0.101024        0.002432   \n",
       "3       4.164578      0.338613         0.052331        0.001936   \n",
       "4       6.115156      0.081383         0.085149        0.007019   \n",
       "5       8.349357      0.294774         0.103041        0.008672   \n",
       "6       3.987000      0.280125         0.052162        0.001004   \n",
       "7       6.223615      0.371359         0.078388        0.002158   \n",
       "8       8.144933      0.289278         0.109588        0.010663   \n",
       "\n",
       "  param_max_depth param_n_estimators                                  params  \\\n",
       "0              40                100  {'max_depth': 40, 'n_estimators': 100}   \n",
       "1              40                150  {'max_depth': 40, 'n_estimators': 150}   \n",
       "2              40                200  {'max_depth': 40, 'n_estimators': 200}   \n",
       "3              50                100  {'max_depth': 50, 'n_estimators': 100}   \n",
       "4              50                150  {'max_depth': 50, 'n_estimators': 150}   \n",
       "5              50                200  {'max_depth': 50, 'n_estimators': 200}   \n",
       "6              60                100  {'max_depth': 60, 'n_estimators': 100}   \n",
       "7              60                150  {'max_depth': 60, 'n_estimators': 150}   \n",
       "8              60                200  {'max_depth': 60, 'n_estimators': 200}   \n",
       "\n",
       "   split0_test_score  split1_test_score  split2_test_score  split3_test_score  \\\n",
       "0          -0.314246          -0.309066          -0.302230          -0.315046   \n",
       "1          -0.313533          -0.310455          -0.300191          -0.314877   \n",
       "2          -0.311067          -0.311271          -0.301036          -0.314598   \n",
       "3          -0.315763          -0.312828          -0.303123          -0.314199   \n",
       "4          -0.314761          -0.311592          -0.298255          -0.314028   \n",
       "5          -0.313928          -0.312135          -0.299541          -0.311906   \n",
       "6          -0.316425          -0.313091          -0.301564          -0.313701   \n",
       "7          -0.314303          -0.312354          -0.300032          -0.313864   \n",
       "8          -0.314506          -0.311160          -0.302377          -0.312685   \n",
       "\n",
       "   split4_test_score  mean_test_score  std_test_score  rank_test_score  \n",
       "0          -0.298153        -0.307748        0.006629                7  \n",
       "1          -0.295670        -0.306945        0.007634                3  \n",
       "2          -0.296637        -0.306922        0.006862                2  \n",
       "3          -0.297429        -0.308668        0.007146                9  \n",
       "4          -0.296722        -0.307072        0.007910                4  \n",
       "5          -0.297057        -0.306913        0.007112                1  \n",
       "6          -0.296646        -0.308286        0.007737                8  \n",
       "7          -0.297340        -0.307579        0.007339                6  \n",
       "8          -0.296873        -0.307520        0.006761                5  "
      ]
     },
     "execution_count": 135,
     "metadata": {},
     "output_type": "execute_result"
    }
   ],
   "source": [
    "results = pd.DataFrame(grid_search.cv_results_)\n",
    "results"
   ]
  },
  {
   "cell_type": "code",
   "execution_count": null,
   "metadata": {
    "colab": {
     "base_uri": "https://localhost:8080/"
    },
    "executionInfo": {
     "elapsed": 13,
     "status": "ok",
     "timestamp": 1679145584140,
     "user": {
      "displayName": "황선경",
      "userId": "17888974404389374352"
     },
     "user_tz": -540
    },
    "id": "P47mZ3nLwhWi",
    "outputId": "38af0d85-faeb-4a0a-cb41-eb4ab6165257"
   },
   "outputs": [
    {
     "name": "stdout",
     "output_type": "stream",
     "text": [
      "RandomForestRegressor(max_depth=50, n_estimators=200)\n"
     ]
    }
   ],
   "source": [
    "# Get the best estimator from the grid search\n",
    "best_estimator = grid_search.best_estimator_\n",
    "print(best_estimator)"
   ]
  },
  {
   "cell_type": "code",
   "execution_count": null,
   "metadata": {
    "id": "8bHqqWpix5oe"
   },
   "outputs": [],
   "source": []
  }
 ],
 "metadata": {
  "colab": {
   "provenance": [
    {
     "file_id": "1RDg99crf0EJjw5zPZEZpsB8ufwtSDHbf",
     "timestamp": 1679140027418
    },
    {
     "file_id": "1KhHPgHjAOX66JtMGW6YdOlDyfnMyjLqL",
     "timestamp": 1679129459366
    }
   ]
  },
  "kernelspec": {
   "display_name": "Python 3 (ipykernel)",
   "language": "python",
   "name": "python3"
  },
  "language_info": {
   "codemirror_mode": {
    "name": "ipython",
    "version": 3
   },
   "file_extension": ".py",
   "mimetype": "text/x-python",
   "name": "python",
   "nbconvert_exporter": "python",
   "pygments_lexer": "ipython3",
   "version": "3.11.3"
  }
 },
 "nbformat": 4,
 "nbformat_minor": 1
}
